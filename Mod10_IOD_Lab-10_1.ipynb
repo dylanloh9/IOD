{
 "cells": [
  {
   "cell_type": "markdown",
   "metadata": {
    "colab_type": "text",
    "id": "gn3SG1yo1KdV"
   },
   "source": [
    "<div>\n",
    "<img src=https://www.institutedata.com/wp-content/uploads/2019/10/iod_h_tp_primary_c.svg width=\"300\">\n",
    "</div>"
   ]
  },
  {
   "cell_type": "markdown",
   "metadata": {
    "colab_type": "text",
    "id": "g-SD7a9X1KdY"
   },
   "source": [
    "# Lab 10.1: NN with Keras\n",
    "INSTRUCTIONS:\n",
    "- Read the guides and hints, then create the necessary analysis and code to find an answer and conclusion for the task below.\n",
    "- **NOTE**: This is a Regression problem. Consider the appropriate:\n",
    "    - Activation function\n",
    "    - Loss/Cost Function\n",
    "    - Metrics"
   ]
  },
  {
   "cell_type": "markdown",
   "metadata": {
    "colab_type": "text",
    "id": "ENgfRnvL1Kdc"
   },
   "source": [
    "### Import libraries"
   ]
  },
  {
   "cell_type": "code",
   "execution_count": 38,
   "metadata": {
    "colab": {},
    "colab_type": "code",
    "id": "Z9H465X-1Kde"
   },
   "outputs": [],
   "source": [
    "## Import libraries\n",
    "import numpy as np\n",
    "import pandas as pd\n",
    "\n",
    "%matplotlib inline\n",
    "import matplotlib.pyplot as plt\n",
    "\n",
    "from sklearn.datasets import load_digits\n",
    "from sklearn.datasets import load_diabetes\n",
    "from sklearn.metrics import confusion_matrix\n",
    "from sklearn.model_selection import train_test_split\n",
    "\n",
    "# import keras\n",
    "# conda install -c conda-forge keras\n",
    "from keras.models import Sequential\n",
    "from keras.layers import Dense\n",
    "#from keras.utils import to_categorical\n",
    "from tensorflow.keras.utils import to_categorical"
   ]
  },
  {
   "cell_type": "markdown",
   "metadata": {
    "colab_type": "text",
    "id": "5FHh910J1Kdm"
   },
   "source": [
    "### Load data\n",
    "Load the Diabetes dataset from **SciKit-Learn**."
   ]
  },
  {
   "cell_type": "code",
   "execution_count": 39,
   "metadata": {
    "colab": {},
    "colab_type": "code",
    "id": "MWu8SlQF1Kdo"
   },
   "outputs": [],
   "source": [
    "# insert code here\n",
    "from sklearn import datasets\n",
    "diabetes = datasets.load_diabetes()"
   ]
  },
  {
   "cell_type": "code",
   "execution_count": 40,
   "metadata": {},
   "outputs": [
    {
     "data": {
      "text/plain": [
       "['age', 'sex', 'bmi', 'bp', 's1', 's2', 's3', 's4', 's5', 's6']"
      ]
     },
     "execution_count": 40,
     "metadata": {},
     "output_type": "execute_result"
    }
   ],
   "source": [
    "diabetes.feature_names"
   ]
  },
  {
   "cell_type": "code",
   "execution_count": 57,
   "metadata": {},
   "outputs": [
    {
     "data": {
      "text/html": [
       "<div>\n",
       "<style scoped>\n",
       "    .dataframe tbody tr th:only-of-type {\n",
       "        vertical-align: middle;\n",
       "    }\n",
       "\n",
       "    .dataframe tbody tr th {\n",
       "        vertical-align: top;\n",
       "    }\n",
       "\n",
       "    .dataframe thead th {\n",
       "        text-align: right;\n",
       "    }\n",
       "</style>\n",
       "<table border=\"1\" class=\"dataframe\">\n",
       "  <thead>\n",
       "    <tr style=\"text-align: right;\">\n",
       "      <th></th>\n",
       "      <th>age</th>\n",
       "      <th>sex</th>\n",
       "      <th>bmi</th>\n",
       "      <th>bp</th>\n",
       "      <th>s1</th>\n",
       "      <th>s2</th>\n",
       "      <th>s3</th>\n",
       "      <th>s4</th>\n",
       "      <th>s5</th>\n",
       "      <th>s6</th>\n",
       "    </tr>\n",
       "  </thead>\n",
       "  <tbody>\n",
       "    <tr>\n",
       "      <th>0</th>\n",
       "      <td>0.038076</td>\n",
       "      <td>0.050680</td>\n",
       "      <td>0.061696</td>\n",
       "      <td>0.021872</td>\n",
       "      <td>-0.044223</td>\n",
       "      <td>-0.034821</td>\n",
       "      <td>-0.043401</td>\n",
       "      <td>-0.002592</td>\n",
       "      <td>0.019908</td>\n",
       "      <td>-0.017646</td>\n",
       "    </tr>\n",
       "    <tr>\n",
       "      <th>1</th>\n",
       "      <td>-0.001882</td>\n",
       "      <td>-0.044642</td>\n",
       "      <td>-0.051474</td>\n",
       "      <td>-0.026328</td>\n",
       "      <td>-0.008449</td>\n",
       "      <td>-0.019163</td>\n",
       "      <td>0.074412</td>\n",
       "      <td>-0.039493</td>\n",
       "      <td>-0.068330</td>\n",
       "      <td>-0.092204</td>\n",
       "    </tr>\n",
       "    <tr>\n",
       "      <th>2</th>\n",
       "      <td>0.085299</td>\n",
       "      <td>0.050680</td>\n",
       "      <td>0.044451</td>\n",
       "      <td>-0.005671</td>\n",
       "      <td>-0.045599</td>\n",
       "      <td>-0.034194</td>\n",
       "      <td>-0.032356</td>\n",
       "      <td>-0.002592</td>\n",
       "      <td>0.002864</td>\n",
       "      <td>-0.025930</td>\n",
       "    </tr>\n",
       "    <tr>\n",
       "      <th>3</th>\n",
       "      <td>-0.089063</td>\n",
       "      <td>-0.044642</td>\n",
       "      <td>-0.011595</td>\n",
       "      <td>-0.036656</td>\n",
       "      <td>0.012191</td>\n",
       "      <td>0.024991</td>\n",
       "      <td>-0.036038</td>\n",
       "      <td>0.034309</td>\n",
       "      <td>0.022692</td>\n",
       "      <td>-0.009362</td>\n",
       "    </tr>\n",
       "    <tr>\n",
       "      <th>4</th>\n",
       "      <td>0.005383</td>\n",
       "      <td>-0.044642</td>\n",
       "      <td>-0.036385</td>\n",
       "      <td>0.021872</td>\n",
       "      <td>0.003935</td>\n",
       "      <td>0.015596</td>\n",
       "      <td>0.008142</td>\n",
       "      <td>-0.002592</td>\n",
       "      <td>-0.031991</td>\n",
       "      <td>-0.046641</td>\n",
       "    </tr>\n",
       "    <tr>\n",
       "      <th>...</th>\n",
       "      <td>...</td>\n",
       "      <td>...</td>\n",
       "      <td>...</td>\n",
       "      <td>...</td>\n",
       "      <td>...</td>\n",
       "      <td>...</td>\n",
       "      <td>...</td>\n",
       "      <td>...</td>\n",
       "      <td>...</td>\n",
       "      <td>...</td>\n",
       "    </tr>\n",
       "    <tr>\n",
       "      <th>437</th>\n",
       "      <td>0.041708</td>\n",
       "      <td>0.050680</td>\n",
       "      <td>0.019662</td>\n",
       "      <td>0.059744</td>\n",
       "      <td>-0.005697</td>\n",
       "      <td>-0.002566</td>\n",
       "      <td>-0.028674</td>\n",
       "      <td>-0.002592</td>\n",
       "      <td>0.031193</td>\n",
       "      <td>0.007207</td>\n",
       "    </tr>\n",
       "    <tr>\n",
       "      <th>438</th>\n",
       "      <td>-0.005515</td>\n",
       "      <td>0.050680</td>\n",
       "      <td>-0.015906</td>\n",
       "      <td>-0.067642</td>\n",
       "      <td>0.049341</td>\n",
       "      <td>0.079165</td>\n",
       "      <td>-0.028674</td>\n",
       "      <td>0.034309</td>\n",
       "      <td>-0.018118</td>\n",
       "      <td>0.044485</td>\n",
       "    </tr>\n",
       "    <tr>\n",
       "      <th>439</th>\n",
       "      <td>0.041708</td>\n",
       "      <td>0.050680</td>\n",
       "      <td>-0.015906</td>\n",
       "      <td>0.017282</td>\n",
       "      <td>-0.037344</td>\n",
       "      <td>-0.013840</td>\n",
       "      <td>-0.024993</td>\n",
       "      <td>-0.011080</td>\n",
       "      <td>-0.046879</td>\n",
       "      <td>0.015491</td>\n",
       "    </tr>\n",
       "    <tr>\n",
       "      <th>440</th>\n",
       "      <td>-0.045472</td>\n",
       "      <td>-0.044642</td>\n",
       "      <td>0.039062</td>\n",
       "      <td>0.001215</td>\n",
       "      <td>0.016318</td>\n",
       "      <td>0.015283</td>\n",
       "      <td>-0.028674</td>\n",
       "      <td>0.026560</td>\n",
       "      <td>0.044528</td>\n",
       "      <td>-0.025930</td>\n",
       "    </tr>\n",
       "    <tr>\n",
       "      <th>441</th>\n",
       "      <td>-0.045472</td>\n",
       "      <td>-0.044642</td>\n",
       "      <td>-0.073030</td>\n",
       "      <td>-0.081414</td>\n",
       "      <td>0.083740</td>\n",
       "      <td>0.027809</td>\n",
       "      <td>0.173816</td>\n",
       "      <td>-0.039493</td>\n",
       "      <td>-0.004220</td>\n",
       "      <td>0.003064</td>\n",
       "    </tr>\n",
       "  </tbody>\n",
       "</table>\n",
       "<p>442 rows × 10 columns</p>\n",
       "</div>"
      ],
      "text/plain": [
       "          age       sex       bmi        bp        s1        s2        s3  \\\n",
       "0    0.038076  0.050680  0.061696  0.021872 -0.044223 -0.034821 -0.043401   \n",
       "1   -0.001882 -0.044642 -0.051474 -0.026328 -0.008449 -0.019163  0.074412   \n",
       "2    0.085299  0.050680  0.044451 -0.005671 -0.045599 -0.034194 -0.032356   \n",
       "3   -0.089063 -0.044642 -0.011595 -0.036656  0.012191  0.024991 -0.036038   \n",
       "4    0.005383 -0.044642 -0.036385  0.021872  0.003935  0.015596  0.008142   \n",
       "..        ...       ...       ...       ...       ...       ...       ...   \n",
       "437  0.041708  0.050680  0.019662  0.059744 -0.005697 -0.002566 -0.028674   \n",
       "438 -0.005515  0.050680 -0.015906 -0.067642  0.049341  0.079165 -0.028674   \n",
       "439  0.041708  0.050680 -0.015906  0.017282 -0.037344 -0.013840 -0.024993   \n",
       "440 -0.045472 -0.044642  0.039062  0.001215  0.016318  0.015283 -0.028674   \n",
       "441 -0.045472 -0.044642 -0.073030 -0.081414  0.083740  0.027809  0.173816   \n",
       "\n",
       "           s4        s5        s6  \n",
       "0   -0.002592  0.019908 -0.017646  \n",
       "1   -0.039493 -0.068330 -0.092204  \n",
       "2   -0.002592  0.002864 -0.025930  \n",
       "3    0.034309  0.022692 -0.009362  \n",
       "4   -0.002592 -0.031991 -0.046641  \n",
       "..        ...       ...       ...  \n",
       "437 -0.002592  0.031193  0.007207  \n",
       "438  0.034309 -0.018118  0.044485  \n",
       "439 -0.011080 -0.046879  0.015491  \n",
       "440  0.026560  0.044528 -0.025930  \n",
       "441 -0.039493 -0.004220  0.003064  \n",
       "\n",
       "[442 rows x 10 columns]"
      ]
     },
     "execution_count": 57,
     "metadata": {},
     "output_type": "execute_result"
    }
   ],
   "source": [
    "X = pd.DataFrame(diabetes['data'], columns=diabetes['feature_names'])\n",
    "X"
   ]
  },
  {
   "cell_type": "code",
   "execution_count": 58,
   "metadata": {},
   "outputs": [
    {
     "data": {
      "text/html": [
       "<div>\n",
       "<style scoped>\n",
       "    .dataframe tbody tr th:only-of-type {\n",
       "        vertical-align: middle;\n",
       "    }\n",
       "\n",
       "    .dataframe tbody tr th {\n",
       "        vertical-align: top;\n",
       "    }\n",
       "\n",
       "    .dataframe thead th {\n",
       "        text-align: right;\n",
       "    }\n",
       "</style>\n",
       "<table border=\"1\" class=\"dataframe\">\n",
       "  <thead>\n",
       "    <tr style=\"text-align: right;\">\n",
       "      <th></th>\n",
       "      <th>target</th>\n",
       "    </tr>\n",
       "  </thead>\n",
       "  <tbody>\n",
       "    <tr>\n",
       "      <th>0</th>\n",
       "      <td>151.0</td>\n",
       "    </tr>\n",
       "    <tr>\n",
       "      <th>1</th>\n",
       "      <td>75.0</td>\n",
       "    </tr>\n",
       "    <tr>\n",
       "      <th>2</th>\n",
       "      <td>141.0</td>\n",
       "    </tr>\n",
       "    <tr>\n",
       "      <th>3</th>\n",
       "      <td>206.0</td>\n",
       "    </tr>\n",
       "    <tr>\n",
       "      <th>4</th>\n",
       "      <td>135.0</td>\n",
       "    </tr>\n",
       "    <tr>\n",
       "      <th>...</th>\n",
       "      <td>...</td>\n",
       "    </tr>\n",
       "    <tr>\n",
       "      <th>437</th>\n",
       "      <td>178.0</td>\n",
       "    </tr>\n",
       "    <tr>\n",
       "      <th>438</th>\n",
       "      <td>104.0</td>\n",
       "    </tr>\n",
       "    <tr>\n",
       "      <th>439</th>\n",
       "      <td>132.0</td>\n",
       "    </tr>\n",
       "    <tr>\n",
       "      <th>440</th>\n",
       "      <td>220.0</td>\n",
       "    </tr>\n",
       "    <tr>\n",
       "      <th>441</th>\n",
       "      <td>57.0</td>\n",
       "    </tr>\n",
       "  </tbody>\n",
       "</table>\n",
       "<p>442 rows × 1 columns</p>\n",
       "</div>"
      ],
      "text/plain": [
       "     target\n",
       "0     151.0\n",
       "1      75.0\n",
       "2     141.0\n",
       "3     206.0\n",
       "4     135.0\n",
       "..      ...\n",
       "437   178.0\n",
       "438   104.0\n",
       "439   132.0\n",
       "440   220.0\n",
       "441    57.0\n",
       "\n",
       "[442 rows x 1 columns]"
      ]
     },
     "execution_count": 58,
     "metadata": {},
     "output_type": "execute_result"
    }
   ],
   "source": [
    "y = pd.DataFrame(diabetes['target'], columns=['target'])\n",
    "y"
   ]
  },
  {
   "cell_type": "markdown",
   "metadata": {
    "colab_type": "text",
    "id": "xR_yLpR01Kdr"
   },
   "source": [
    "### Prepare input data"
   ]
  },
  {
   "cell_type": "code",
   "execution_count": 43,
   "metadata": {
    "colab": {},
    "colab_type": "code",
    "id": "Sp2mf2bB1Kds"
   },
   "outputs": [],
   "source": [
    "# insert code here"
   ]
  },
  {
   "cell_type": "markdown",
   "metadata": {
    "colab_type": "text",
    "id": "j1Vsh6cm1Kdv"
   },
   "source": [
    "### Split the data (training/test)"
   ]
  },
  {
   "cell_type": "code",
   "execution_count": 59,
   "metadata": {
    "colab": {},
    "colab_type": "code",
    "id": "O341llJz1Kdw"
   },
   "outputs": [],
   "source": [
    "# insert code here\n",
    "X_train, X_test, y_train, y_test = train_test_split(X, y, test_size = 0.3, random_state = 1)"
   ]
  },
  {
   "cell_type": "markdown",
   "metadata": {
    "colab_type": "text",
    "id": "o4dJViJD1Kd0"
   },
   "source": [
    "### Create the model's architecture"
   ]
  },
  {
   "cell_type": "code",
   "execution_count": 60,
   "metadata": {},
   "outputs": [],
   "source": [
    "from keras.engine.sequential import Sequential\n",
    "model = Sequential()"
   ]
  },
  {
   "cell_type": "code",
   "execution_count": 61,
   "metadata": {},
   "outputs": [],
   "source": [
    "# Add the first hidden layer\n",
    "model.add(Dense(100, activation = 'relu', input_shape = (X.shape[1], )))\n",
    "# Add the second hidden layer\n",
    "model.add(Dense(50, activation = 'relu'))\n",
    "# Add the output layer\n",
    "model.add(Dense(1, activation = 'linear'))"
   ]
  },
  {
   "cell_type": "code",
   "execution_count": 62,
   "metadata": {},
   "outputs": [
    {
     "name": "stdout",
     "output_type": "stream",
     "text": [
      "Model: \"sequential_3\"\n",
      "_________________________________________________________________\n",
      " Layer (type)                Output Shape              Param #   \n",
      "=================================================================\n",
      " dense_9 (Dense)             (None, 100)               1100      \n",
      "                                                                 \n",
      " dense_10 (Dense)            (None, 50)                5050      \n",
      "                                                                 \n",
      " dense_11 (Dense)            (None, 1)                 51        \n",
      "                                                                 \n",
      "=================================================================\n",
      "Total params: 6,201\n",
      "Trainable params: 6,201\n",
      "Non-trainable params: 0\n",
      "_________________________________________________________________\n",
      "None\n"
     ]
    }
   ],
   "source": [
    "print(model.summary())"
   ]
  },
  {
   "cell_type": "markdown",
   "metadata": {
    "colab_type": "text",
    "id": "5hQTS42V1Kd4"
   },
   "source": [
    "### Compile the model"
   ]
  },
  {
   "cell_type": "code",
   "execution_count": 63,
   "metadata": {
    "colab": {},
    "colab_type": "code",
    "id": "BvLsoanF1Kd5"
   },
   "outputs": [],
   "source": [
    "# insert code here\n",
    "model.compile(\n",
    "    optimizer = 'adam',\n",
    "    loss = 'mse',\n",
    "    metrics = ['mse'])"
   ]
  },
  {
   "cell_type": "markdown",
   "metadata": {
    "colab_type": "text",
    "id": "6KPQbnEj1Kd7"
   },
   "source": [
    "### Fit the training data"
   ]
  },
  {
   "cell_type": "code",
   "execution_count": 64,
   "metadata": {
    "colab": {},
    "colab_type": "code",
    "id": "-oiuHjEj1Kd8"
   },
   "outputs": [
    {
     "name": "stdout",
     "output_type": "stream",
     "text": [
      "Epoch 1/100\n",
      "12/12 [==============================] - 0s 9ms/step - loss: 29506.1152 - mse: 29506.1152 - val_loss: 31468.2305 - val_mse: 31468.2305\n",
      "Epoch 2/100\n",
      "12/12 [==============================] - 0s 4ms/step - loss: 29427.0215 - mse: 29427.0215 - val_loss: 31360.4297 - val_mse: 31360.4297\n",
      "Epoch 3/100\n",
      "12/12 [==============================] - 0s 4ms/step - loss: 29291.0996 - mse: 29291.0996 - val_loss: 31172.9160 - val_mse: 31172.9160\n",
      "Epoch 4/100\n",
      "12/12 [==============================] - 0s 3ms/step - loss: 29058.1133 - mse: 29058.1152 - val_loss: 30859.7754 - val_mse: 30859.7754\n",
      "Epoch 5/100\n",
      "12/12 [==============================] - 0s 4ms/step - loss: 28691.9688 - mse: 28691.9688 - val_loss: 30368.1211 - val_mse: 30368.1211\n",
      "Epoch 6/100\n",
      "12/12 [==============================] - 0s 3ms/step - loss: 28117.4414 - mse: 28117.4414 - val_loss: 29654.4902 - val_mse: 29654.4902\n",
      "Epoch 7/100\n",
      "12/12 [==============================] - 0s 4ms/step - loss: 27317.4688 - mse: 27317.4688 - val_loss: 28659.0508 - val_mse: 28659.0508\n",
      "Epoch 8/100\n",
      "12/12 [==============================] - 0s 4ms/step - loss: 26233.0352 - mse: 26233.0352 - val_loss: 27333.9004 - val_mse: 27333.9004\n",
      "Epoch 9/100\n",
      "12/12 [==============================] - 0s 3ms/step - loss: 24823.9980 - mse: 24823.9980 - val_loss: 25688.6211 - val_mse: 25688.6211\n",
      "Epoch 10/100\n",
      "12/12 [==============================] - 0s 4ms/step - loss: 23044.5156 - mse: 23044.5156 - val_loss: 23714.2480 - val_mse: 23714.2480\n",
      "Epoch 11/100\n",
      "12/12 [==============================] - 0s 3ms/step - loss: 21014.7168 - mse: 21014.7188 - val_loss: 21360.9414 - val_mse: 21360.9414\n",
      "Epoch 12/100\n",
      "12/12 [==============================] - 0s 3ms/step - loss: 18687.9082 - mse: 18687.9082 - val_loss: 18762.9609 - val_mse: 18762.9590\n",
      "Epoch 13/100\n",
      "12/12 [==============================] - 0s 4ms/step - loss: 16176.3379 - mse: 16176.3379 - val_loss: 16041.6504 - val_mse: 16041.6504\n",
      "Epoch 14/100\n",
      "12/12 [==============================] - 0s 4ms/step - loss: 13621.1709 - mse: 13621.1709 - val_loss: 13356.3320 - val_mse: 13356.3320\n",
      "Epoch 15/100\n",
      "12/12 [==============================] - 0s 4ms/step - loss: 11107.5576 - mse: 11107.5576 - val_loss: 10871.8535 - val_mse: 10871.8535\n",
      "Epoch 16/100\n",
      "12/12 [==============================] - 0s 3ms/step - loss: 9000.3379 - mse: 9000.3379 - val_loss: 8630.8662 - val_mse: 8630.8652\n",
      "Epoch 17/100\n",
      "12/12 [==============================] - 0s 4ms/step - loss: 7147.3828 - mse: 7147.3828 - val_loss: 6903.0737 - val_mse: 6903.0747\n",
      "Epoch 18/100\n",
      "12/12 [==============================] - 0s 4ms/step - loss: 5836.1694 - mse: 5836.1694 - val_loss: 5626.3271 - val_mse: 5626.3271\n",
      "Epoch 19/100\n",
      "12/12 [==============================] - 0s 3ms/step - loss: 4965.8057 - mse: 4965.8057 - val_loss: 4841.0552 - val_mse: 4841.0552\n",
      "Epoch 20/100\n",
      "12/12 [==============================] - 0s 3ms/step - loss: 4487.0918 - mse: 4487.0918 - val_loss: 4389.9390 - val_mse: 4389.9390\n",
      "Epoch 21/100\n",
      "12/12 [==============================] - 0s 3ms/step - loss: 4249.5742 - mse: 4249.5742 - val_loss: 4124.1040 - val_mse: 4124.1040\n",
      "Epoch 22/100\n",
      "12/12 [==============================] - 0s 3ms/step - loss: 4131.8940 - mse: 4131.8940 - val_loss: 3976.8521 - val_mse: 3976.8521\n",
      "Epoch 23/100\n",
      "12/12 [==============================] - 0s 3ms/step - loss: 4061.1768 - mse: 4061.1768 - val_loss: 3892.4607 - val_mse: 3892.4604\n",
      "Epoch 24/100\n",
      "12/12 [==============================] - 0s 3ms/step - loss: 4001.2969 - mse: 4001.2969 - val_loss: 3829.9270 - val_mse: 3829.9270\n",
      "Epoch 25/100\n",
      "12/12 [==============================] - 0s 4ms/step - loss: 3955.6028 - mse: 3955.6028 - val_loss: 3769.0933 - val_mse: 3769.0933\n",
      "Epoch 26/100\n",
      "12/12 [==============================] - 0s 3ms/step - loss: 3900.8853 - mse: 3900.8853 - val_loss: 3749.7292 - val_mse: 3749.7292\n",
      "Epoch 27/100\n",
      "12/12 [==============================] - 0s 3ms/step - loss: 3855.0906 - mse: 3855.0906 - val_loss: 3710.0337 - val_mse: 3710.0337\n",
      "Epoch 28/100\n",
      "12/12 [==============================] - 0s 3ms/step - loss: 3815.7542 - mse: 3815.7542 - val_loss: 3681.1611 - val_mse: 3681.1611\n",
      "Epoch 29/100\n",
      "12/12 [==============================] - 0s 4ms/step - loss: 3773.6472 - mse: 3773.6472 - val_loss: 3638.9270 - val_mse: 3638.9270\n",
      "Epoch 30/100\n",
      "12/12 [==============================] - 0s 3ms/step - loss: 3738.3164 - mse: 3738.3164 - val_loss: 3580.4014 - val_mse: 3580.4014\n",
      "Epoch 31/100\n",
      "12/12 [==============================] - 0s 3ms/step - loss: 3701.5259 - mse: 3701.5259 - val_loss: 3534.9202 - val_mse: 3534.9202\n",
      "Epoch 32/100\n",
      "12/12 [==============================] - 0s 3ms/step - loss: 3669.3416 - mse: 3669.3416 - val_loss: 3534.5618 - val_mse: 3534.5618\n",
      "Epoch 33/100\n",
      "12/12 [==============================] - 0s 4ms/step - loss: 3629.3042 - mse: 3629.3042 - val_loss: 3492.4292 - val_mse: 3492.4292\n",
      "Epoch 34/100\n",
      "12/12 [==============================] - 0s 3ms/step - loss: 3599.4680 - mse: 3599.4680 - val_loss: 3447.4436 - val_mse: 3447.4436\n",
      "Epoch 35/100\n",
      "12/12 [==============================] - 0s 3ms/step - loss: 3573.4324 - mse: 3573.4324 - val_loss: 3416.1267 - val_mse: 3416.1267\n",
      "Epoch 36/100\n",
      "12/12 [==============================] - 0s 3ms/step - loss: 3540.0481 - mse: 3540.0481 - val_loss: 3410.0017 - val_mse: 3410.0017\n",
      "Epoch 37/100\n",
      "12/12 [==============================] - 0s 3ms/step - loss: 3512.0776 - mse: 3512.0776 - val_loss: 3395.6255 - val_mse: 3395.6255\n",
      "Epoch 38/100\n",
      "12/12 [==============================] - 0s 3ms/step - loss: 3481.9961 - mse: 3481.9961 - val_loss: 3362.4368 - val_mse: 3362.4368\n",
      "Epoch 39/100\n",
      "12/12 [==============================] - 0s 4ms/step - loss: 3461.4978 - mse: 3461.4978 - val_loss: 3323.4521 - val_mse: 3323.4521\n",
      "Epoch 40/100\n",
      "12/12 [==============================] - 0s 3ms/step - loss: 3445.3069 - mse: 3445.3069 - val_loss: 3295.3491 - val_mse: 3295.3491\n",
      "Epoch 41/100\n",
      "12/12 [==============================] - 0s 3ms/step - loss: 3412.3206 - mse: 3412.3206 - val_loss: 3311.8206 - val_mse: 3311.8206\n",
      "Epoch 42/100\n",
      "12/12 [==============================] - 0s 4ms/step - loss: 3388.4114 - mse: 3388.4114 - val_loss: 3300.6597 - val_mse: 3300.6597\n",
      "Epoch 43/100\n",
      "12/12 [==============================] - 0s 4ms/step - loss: 3370.5601 - mse: 3370.5601 - val_loss: 3292.4863 - val_mse: 3292.4863\n",
      "Epoch 44/100\n",
      "12/12 [==============================] - 0s 3ms/step - loss: 3356.1709 - mse: 3356.1709 - val_loss: 3254.1936 - val_mse: 3254.1936\n",
      "Epoch 45/100\n",
      "12/12 [==============================] - 0s 4ms/step - loss: 3330.0449 - mse: 3330.0449 - val_loss: 3246.0374 - val_mse: 3246.0374\n",
      "Epoch 46/100\n",
      "12/12 [==============================] - 0s 3ms/step - loss: 3311.7031 - mse: 3311.7031 - val_loss: 3227.7449 - val_mse: 3227.7449\n",
      "Epoch 47/100\n",
      "12/12 [==============================] - 0s 3ms/step - loss: 3298.4849 - mse: 3298.4849 - val_loss: 3190.6179 - val_mse: 3190.6179\n",
      "Epoch 48/100\n",
      "12/12 [==============================] - 0s 3ms/step - loss: 3285.9294 - mse: 3285.9294 - val_loss: 3203.2351 - val_mse: 3203.2351\n",
      "Epoch 49/100\n",
      "12/12 [==============================] - 0s 3ms/step - loss: 3262.8896 - mse: 3262.8896 - val_loss: 3167.2351 - val_mse: 3167.2351\n",
      "Epoch 50/100\n",
      "12/12 [==============================] - 0s 3ms/step - loss: 3245.5376 - mse: 3245.5376 - val_loss: 3162.0542 - val_mse: 3162.0542\n",
      "Epoch 51/100\n",
      "12/12 [==============================] - 0s 3ms/step - loss: 3229.1008 - mse: 3229.1008 - val_loss: 3163.4280 - val_mse: 3163.4280\n",
      "Epoch 52/100\n",
      "12/12 [==============================] - 0s 3ms/step - loss: 3218.7246 - mse: 3218.7244 - val_loss: 3170.5452 - val_mse: 3170.5452\n",
      "Epoch 53/100\n",
      "12/12 [==============================] - 0s 3ms/step - loss: 3203.0898 - mse: 3203.0898 - val_loss: 3146.6938 - val_mse: 3146.6938\n",
      "Epoch 54/100\n",
      "12/12 [==============================] - 0s 3ms/step - loss: 3191.4451 - mse: 3191.4451 - val_loss: 3153.0620 - val_mse: 3153.0620\n",
      "Epoch 55/100\n",
      "12/12 [==============================] - 0s 3ms/step - loss: 3181.6682 - mse: 3181.6682 - val_loss: 3129.8611 - val_mse: 3129.8611\n",
      "Epoch 56/100\n",
      "12/12 [==============================] - 0s 4ms/step - loss: 3167.1282 - mse: 3167.1282 - val_loss: 3119.1118 - val_mse: 3119.1121\n",
      "Epoch 57/100\n"
     ]
    },
    {
     "name": "stdout",
     "output_type": "stream",
     "text": [
      "12/12 [==============================] - 0s 4ms/step - loss: 3153.1143 - mse: 3153.1143 - val_loss: 3126.6223 - val_mse: 3126.6223\n",
      "Epoch 58/100\n",
      "12/12 [==============================] - 0s 4ms/step - loss: 3143.4224 - mse: 3143.4224 - val_loss: 3108.6758 - val_mse: 3108.6758\n",
      "Epoch 59/100\n",
      "12/12 [==============================] - 0s 3ms/step - loss: 3135.4241 - mse: 3135.4241 - val_loss: 3094.4644 - val_mse: 3094.4644\n",
      "Epoch 60/100\n",
      "12/12 [==============================] - 0s 3ms/step - loss: 3124.1780 - mse: 3124.1780 - val_loss: 3102.1135 - val_mse: 3102.1135\n",
      "Epoch 61/100\n",
      "12/12 [==============================] - 0s 3ms/step - loss: 3114.3398 - mse: 3114.3398 - val_loss: 3081.9194 - val_mse: 3081.9194\n",
      "Epoch 62/100\n",
      "12/12 [==============================] - 0s 4ms/step - loss: 3105.1729 - mse: 3105.1729 - val_loss: 3080.0449 - val_mse: 3080.0449\n",
      "Epoch 63/100\n",
      "12/12 [==============================] - 0s 4ms/step - loss: 3099.9546 - mse: 3099.9546 - val_loss: 3088.6326 - val_mse: 3088.6328\n",
      "Epoch 64/100\n",
      "12/12 [==============================] - 0s 3ms/step - loss: 3088.9199 - mse: 3088.9199 - val_loss: 3055.3762 - val_mse: 3055.3762\n",
      "Epoch 65/100\n",
      "12/12 [==============================] - 0s 3ms/step - loss: 3078.6958 - mse: 3078.6958 - val_loss: 3033.4648 - val_mse: 3033.4648\n",
      "Epoch 66/100\n",
      "12/12 [==============================] - 0s 3ms/step - loss: 3075.8591 - mse: 3075.8591 - val_loss: 3032.3293 - val_mse: 3032.3293\n",
      "Epoch 67/100\n",
      "12/12 [==============================] - 0s 3ms/step - loss: 3063.4707 - mse: 3063.4707 - val_loss: 3044.2617 - val_mse: 3044.2617\n",
      "Epoch 68/100\n",
      "12/12 [==============================] - 0s 4ms/step - loss: 3062.1570 - mse: 3062.1570 - val_loss: 3075.8066 - val_mse: 3075.8066\n",
      "Epoch 69/100\n",
      "12/12 [==============================] - 0s 3ms/step - loss: 3052.5835 - mse: 3052.5835 - val_loss: 3056.2859 - val_mse: 3056.2859\n",
      "Epoch 70/100\n",
      "12/12 [==============================] - 0s 4ms/step - loss: 3048.2278 - mse: 3048.2278 - val_loss: 3018.8748 - val_mse: 3018.8748\n",
      "Epoch 71/100\n",
      "12/12 [==============================] - 0s 3ms/step - loss: 3040.6270 - mse: 3040.6270 - val_loss: 3050.5442 - val_mse: 3050.5442\n",
      "Epoch 72/100\n",
      "12/12 [==============================] - 0s 3ms/step - loss: 3035.4451 - mse: 3035.4451 - val_loss: 3036.3462 - val_mse: 3036.3462\n",
      "Epoch 73/100\n",
      "12/12 [==============================] - 0s 3ms/step - loss: 3031.0498 - mse: 3031.0498 - val_loss: 3056.7693 - val_mse: 3056.7695\n",
      "Epoch 74/100\n",
      "12/12 [==============================] - 0s 3ms/step - loss: 3035.4558 - mse: 3035.4558 - val_loss: 3001.6370 - val_mse: 3001.6370\n",
      "Epoch 75/100\n",
      "12/12 [==============================] - 0s 3ms/step - loss: 3019.2922 - mse: 3019.2922 - val_loss: 3026.1389 - val_mse: 3026.1389\n",
      "Epoch 76/100\n",
      "12/12 [==============================] - 0s 4ms/step - loss: 3016.0398 - mse: 3016.0398 - val_loss: 3041.1880 - val_mse: 3041.1880\n",
      "Epoch 77/100\n",
      "12/12 [==============================] - 0s 4ms/step - loss: 3004.9666 - mse: 3004.9666 - val_loss: 3026.0330 - val_mse: 3026.0327\n",
      "Epoch 78/100\n",
      "12/12 [==============================] - 0s 3ms/step - loss: 3005.3618 - mse: 3005.3618 - val_loss: 3003.3962 - val_mse: 3003.3962\n",
      "Epoch 79/100\n",
      "12/12 [==============================] - 0s 4ms/step - loss: 3000.4255 - mse: 3000.4255 - val_loss: 3021.4045 - val_mse: 3021.4045\n",
      "Epoch 80/100\n",
      "12/12 [==============================] - 0s 3ms/step - loss: 2995.2734 - mse: 2995.2734 - val_loss: 3036.3052 - val_mse: 3036.3052\n",
      "Epoch 81/100\n",
      "12/12 [==============================] - 0s 4ms/step - loss: 2991.5269 - mse: 2991.5269 - val_loss: 3032.2139 - val_mse: 3032.2139\n",
      "Epoch 82/100\n",
      "12/12 [==============================] - 0s 4ms/step - loss: 2995.6477 - mse: 2995.6477 - val_loss: 3020.9563 - val_mse: 3020.9563\n",
      "Epoch 83/100\n",
      "12/12 [==============================] - 0s 3ms/step - loss: 2983.2830 - mse: 2983.2830 - val_loss: 3025.5276 - val_mse: 3025.5276\n",
      "Epoch 84/100\n",
      "12/12 [==============================] - 0s 4ms/step - loss: 2978.3948 - mse: 2978.3948 - val_loss: 3030.0308 - val_mse: 3030.0308\n",
      "Epoch 85/100\n",
      "12/12 [==============================] - 0s 3ms/step - loss: 2977.0251 - mse: 2977.0251 - val_loss: 3024.4937 - val_mse: 3024.4937\n",
      "Epoch 86/100\n",
      "12/12 [==============================] - 0s 4ms/step - loss: 2973.9280 - mse: 2973.9280 - val_loss: 3034.8689 - val_mse: 3034.8687\n",
      "Epoch 87/100\n",
      "12/12 [==============================] - 0s 4ms/step - loss: 2972.2917 - mse: 2972.2917 - val_loss: 3038.7263 - val_mse: 3038.7263\n",
      "Epoch 88/100\n",
      "12/12 [==============================] - 0s 3ms/step - loss: 2967.9050 - mse: 2967.9050 - val_loss: 3004.2461 - val_mse: 3004.2461\n",
      "Epoch 89/100\n",
      "12/12 [==============================] - 0s 4ms/step - loss: 2964.6504 - mse: 2964.6504 - val_loss: 3004.2424 - val_mse: 3004.2424\n",
      "Epoch 90/100\n",
      "12/12 [==============================] - 0s 3ms/step - loss: 2963.1753 - mse: 2963.1748 - val_loss: 3030.5762 - val_mse: 3030.5762\n",
      "Epoch 91/100\n",
      "12/12 [==============================] - 0s 3ms/step - loss: 2958.7717 - mse: 2958.7717 - val_loss: 3023.2104 - val_mse: 3023.2104\n",
      "Epoch 92/100\n",
      "12/12 [==============================] - 0s 3ms/step - loss: 2959.3472 - mse: 2959.3472 - val_loss: 3000.5723 - val_mse: 3000.5723\n",
      "Epoch 93/100\n",
      "12/12 [==============================] - 0s 3ms/step - loss: 2973.5051 - mse: 2973.5051 - val_loss: 3055.2471 - val_mse: 3055.2471\n",
      "Epoch 94/100\n",
      "12/12 [==============================] - 0s 3ms/step - loss: 2951.3821 - mse: 2951.3821 - val_loss: 3010.0564 - val_mse: 3010.0564\n",
      "Epoch 95/100\n",
      "12/12 [==============================] - 0s 4ms/step - loss: 2949.2268 - mse: 2949.2268 - val_loss: 3002.9709 - val_mse: 3002.9709\n",
      "Epoch 96/100\n",
      "12/12 [==============================] - 0s 3ms/step - loss: 2948.3835 - mse: 2948.3835 - val_loss: 2991.0132 - val_mse: 2991.0132\n",
      "Epoch 97/100\n",
      "12/12 [==============================] - 0s 4ms/step - loss: 2969.1772 - mse: 2969.1772 - val_loss: 3048.7505 - val_mse: 3048.7505\n",
      "Epoch 98/100\n",
      "12/12 [==============================] - 0s 4ms/step - loss: 2953.1116 - mse: 2953.1111 - val_loss: 2980.0642 - val_mse: 2980.0642\n",
      "Epoch 99/100\n",
      "12/12 [==============================] - 0s 3ms/step - loss: 2941.8674 - mse: 2941.8674 - val_loss: 2990.0327 - val_mse: 2990.0327\n",
      "Epoch 100/100\n",
      "12/12 [==============================] - 0s 3ms/step - loss: 2939.9592 - mse: 2939.9592 - val_loss: 3025.7461 - val_mse: 3025.7461\n",
      "Wall time: 4.48 s\n"
     ]
    }
   ],
   "source": [
    "%%time\n",
    "# insert code here\n",
    "fitted_model = model.fit(\n",
    "    X_train.to_numpy(),\n",
    "    y_train.to_numpy(),\n",
    "    validation_split = 0.25,\n",
    "    batch_size = 20,\n",
    "    epochs = 100,\n",
    "    verbose = 1)"
   ]
  },
  {
   "cell_type": "markdown",
   "metadata": {
    "colab_type": "text",
    "id": "CR-kCu3c1Kd-"
   },
   "source": [
    "### Create predictions"
   ]
  },
  {
   "cell_type": "code",
   "execution_count": 65,
   "metadata": {
    "colab": {},
    "colab_type": "code",
    "id": "wkywKqPg1Kd-"
   },
   "outputs": [],
   "source": [
    "# insert code here\n",
    "predictions = model.predict(X_test)\n"
   ]
  },
  {
   "cell_type": "code",
   "execution_count": 66,
   "metadata": {},
   "outputs": [
    {
     "data": {
      "text/plain": [
       "array([[100.92258 ],\n",
       "       [ 94.16466 ],\n",
       "       [179.1024  ],\n",
       "       [ 61.135662],\n",
       "       [175.00056 ],\n",
       "       [191.9864  ],\n",
       "       [221.59525 ],\n",
       "       [133.73317 ],\n",
       "       [159.76378 ],\n",
       "       [126.55774 ],\n",
       "       [193.14925 ],\n",
       "       [188.01097 ],\n",
       "       [ 94.97064 ],\n",
       "       [ 68.82202 ],\n",
       "       [225.62097 ],\n",
       "       [203.06831 ],\n",
       "       [179.23268 ],\n",
       "       [ 91.15123 ],\n",
       "       [128.76079 ],\n",
       "       [163.88112 ],\n",
       "       [195.36452 ],\n",
       "       [ 89.77971 ],\n",
       "       [137.03897 ],\n",
       "       [ 93.73338 ],\n",
       "       [ 83.76987 ],\n",
       "       [200.11127 ],\n",
       "       [ 92.42101 ],\n",
       "       [163.19116 ],\n",
       "       [131.32726 ],\n",
       "       [184.87851 ],\n",
       "       [157.33766 ],\n",
       "       [126.92186 ],\n",
       "       [170.34862 ],\n",
       "       [ 91.30972 ],\n",
       "       [149.67545 ],\n",
       "       [186.44937 ],\n",
       "       [ 95.42868 ],\n",
       "       [232.9124  ],\n",
       "       [167.72795 ],\n",
       "       [181.08672 ],\n",
       "       [156.17717 ],\n",
       "       [179.80359 ],\n",
       "       [123.36905 ],\n",
       "       [125.75117 ],\n",
       "       [130.75536 ],\n",
       "       [204.12517 ],\n",
       "       [131.55794 ],\n",
       "       [129.25533 ],\n",
       "       [182.2581  ],\n",
       "       [197.7629  ],\n",
       "       [ 70.28148 ],\n",
       "       [161.24435 ],\n",
       "       [111.20758 ],\n",
       "       [137.58723 ],\n",
       "       [187.89024 ],\n",
       "       [124.58298 ],\n",
       "       [157.84033 ],\n",
       "       [100.623505],\n",
       "       [ 63.689976],\n",
       "       [ 86.17121 ],\n",
       "       [ 95.50612 ],\n",
       "       [183.48167 ],\n",
       "       [164.49794 ],\n",
       "       [ 99.65001 ],\n",
       "       [268.17078 ],\n",
       "       [ 74.8981  ],\n",
       "       [ 81.63869 ],\n",
       "       [152.06546 ],\n",
       "       [177.91495 ],\n",
       "       [ 55.900085],\n",
       "       [150.28035 ],\n",
       "       [ 91.24361 ],\n",
       "       [ 86.60376 ],\n",
       "       [143.13304 ],\n",
       "       [153.46065 ],\n",
       "       [ 84.669754],\n",
       "       [121.52594 ],\n",
       "       [ 86.833   ],\n",
       "       [228.74437 ],\n",
       "       [182.68198 ],\n",
       "       [ 94.70296 ],\n",
       "       [112.93342 ],\n",
       "       [138.61436 ],\n",
       "       [154.67827 ],\n",
       "       [106.475105],\n",
       "       [113.76906 ],\n",
       "       [ 95.47972 ],\n",
       "       [ 59.016666],\n",
       "       [247.73512 ],\n",
       "       [101.63652 ],\n",
       "       [152.60231 ],\n",
       "       [166.11763 ],\n",
       "       [124.742615],\n",
       "       [ 65.41098 ],\n",
       "       [ 71.74102 ],\n",
       "       [166.14716 ],\n",
       "       [113.05376 ],\n",
       "       [118.47247 ],\n",
       "       [182.74515 ],\n",
       "       [176.89497 ],\n",
       "       [135.26447 ],\n",
       "       [ 61.47788 ],\n",
       "       [105.52075 ],\n",
       "       [171.58778 ],\n",
       "       [218.85226 ],\n",
       "       [117.50564 ],\n",
       "       [240.22011 ],\n",
       "       [243.0138  ],\n",
       "       [120.85944 ],\n",
       "       [ 48.23361 ],\n",
       "       [147.05103 ],\n",
       "       [221.00162 ],\n",
       "       [199.93486 ],\n",
       "       [ 65.03492 ],\n",
       "       [172.26924 ],\n",
       "       [133.03233 ],\n",
       "       [110.145004],\n",
       "       [ 69.46353 ],\n",
       "       [181.41098 ],\n",
       "       [144.18855 ],\n",
       "       [ 58.414032],\n",
       "       [269.78577 ],\n",
       "       [220.17822 ],\n",
       "       [152.87114 ],\n",
       "       [150.73138 ],\n",
       "       [165.93747 ],\n",
       "       [110.702065],\n",
       "       [170.85942 ],\n",
       "       [175.47186 ],\n",
       "       [124.340004],\n",
       "       [119.4171  ],\n",
       "       [175.99031 ],\n",
       "       [115.77137 ]], dtype=float32)"
      ]
     },
     "execution_count": 66,
     "metadata": {},
     "output_type": "execute_result"
    }
   ],
   "source": [
    "predictions"
   ]
  },
  {
   "cell_type": "code",
   "execution_count": 67,
   "metadata": {},
   "outputs": [
    {
     "data": {
      "text/plain": [
       "133"
      ]
     },
     "execution_count": 67,
     "metadata": {},
     "output_type": "execute_result"
    }
   ],
   "source": [
    "len(predictions)"
   ]
  },
  {
   "cell_type": "markdown",
   "metadata": {
    "colab_type": "text",
    "id": "-unEmrGo1KeA"
   },
   "source": [
    "### Evaluate the model"
   ]
  },
  {
   "cell_type": "code",
   "execution_count": 68,
   "metadata": {
    "colab": {},
    "colab_type": "code",
    "id": "QCIVpVrG1KeB"
   },
   "outputs": [
    {
     "name": "stdout",
     "output_type": "stream",
     "text": [
      "1/1 [==============================] - 0s 59ms/step - loss: 2896.1748 - mse: 2896.1748\n",
      "\n",
      "Test loss: 53.816120, Test RMSE: 53.816120\n"
     ]
    }
   ],
   "source": [
    "# insert code here\n",
    "score = model.evaluate(X_test, y_test, batch_size = 315)\n",
    "print('\\nTest loss: %.6f, Test RMSE: %.6f' % tuple(np.sqrt(score)))"
   ]
  },
  {
   "cell_type": "markdown",
   "metadata": {
    "colab_type": "text",
    "id": "sSlqjs7e1KeD"
   },
   "source": [
    "### Visualisation of cost"
   ]
  },
  {
   "cell_type": "code",
   "execution_count": 69,
   "metadata": {
    "colab": {},
    "colab_type": "code",
    "id": "1F6hYpNh1KeE",
    "scrolled": true
   },
   "outputs": [
    {
     "data": {
      "image/png": "[encoded data removed]",
      "text/plain": [
       "<Figure size 1296x432 with 2 Axes>"
      ]
     },
     "metadata": {
      "needs_background": "light"
     },
     "output_type": "display_data"
    }
   ],
   "source": [
    "# insert code here\n",
    "fig, ax = plt.subplots(1, 2, figsize = (18, 6))\n",
    "fig.subplots_adjust(left = 0.02, right = 0.98, wspace = 0.2)\n",
    "\n",
    "plt.rcParams.update({'font.size': 18})\n",
    "\n",
    "# Plot training & validation accuracy values\n",
    "ax[0].plot(fitted_model.history['mse'], label = 'Training')\n",
    "ax[0].plot(fitted_model.history['val_mse'], label = 'Validation')\n",
    "ax[0].set_title('Model MSE')\n",
    "ax[0].set_ylabel('MSE')\n",
    "ax[0].set_xlabel('Epoch')\n",
    "ax[0].legend()\n",
    "\n",
    "# Plot training & validation loss values\n",
    "ax[1].plot(fitted_model.history['loss'], label = 'Training')\n",
    "ax[1].plot(fitted_model.history['val_loss'], label = 'Validation')\n",
    "ax[1].set_title('Model loss')\n",
    "ax[1].set_ylabel('Loss')\n",
    "ax[1].set_xlabel('Epoch')\n",
    "ax[1].legend()\n",
    "\n",
    "plt.show()"
   ]
  },
  {
   "cell_type": "code",
   "execution_count": null,
   "metadata": {},
   "outputs": [],
   "source": []
  },
  {
   "cell_type": "markdown",
   "metadata": {
    "colab_type": "text",
    "id": "RERADKgNFq9T"
   },
   "source": [
    "© 2020 Institute of Data"
   ]
  }
 ],
 "metadata": {
  "colab": {
   "collapsed_sections": [],
   "name": "DSIA Lab-10_1.ipynb",
   "provenance": []
  },
  "kernelspec": {
   "display_name": "Python 3 (ipykernel)",
   "language": "python",
   "name": "python3"
  },
  "language_info": {
   "codemirror_mode": {
    "name": "ipython",
    "version": 3
   },
   "file_extension": ".py",
   "mimetype": "text/x-python",
   "name": "python",
   "nbconvert_exporter": "python",
   "pygments_lexer": "ipython3",
   "version": "3.9.7"
  },
  "toc": {
   "base_numbering": 1,
   "nav_menu": {},
   "number_sections": true,
   "sideBar": true,
   "skip_h1_title": false,
   "title_cell": "Table of Contents",
   "title_sidebar": "Contents",
   "toc_cell": false,
   "toc_position": {},
   "toc_section_display": true,
   "toc_window_display": true
  }
 },
 "nbformat": 4,
 "nbformat_minor": 1
}
