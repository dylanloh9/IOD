{
 "cells": [
  {
   "cell_type": "markdown",
   "metadata": {
    "colab_type": "text",
    "id": "fneIB8BIGtiY"
   },
   "source": [
    "<div>\n",
    "<img src=https://www.institutedata.com/wp-content/uploads/2019/10/iod_h_tp_primary_c.svg width=\"300\">\n",
    "</div>"
   ]
  },
  {
   "cell_type": "markdown",
   "metadata": {
    "colab_type": "text",
    "id": "rdipUchUGtih"
   },
   "source": [
    "# Lab 2.2.1 *Querying the International Space Station*"
   ]
  },
  {
   "cell_type": "markdown",
   "metadata": {
    "colab_type": "text",
    "id": "b2RLpeJNGtil"
   },
   "source": [
    "# The OpenNotify API"
   ]
  },
  {
   "cell_type": "markdown",
   "metadata": {
    "colab_type": "text",
    "id": "rrunXmMNGtip"
   },
   "source": [
    "The [OpenNotify API](http://open-notify.org/Open-Notify-API/ISS-Location-Now/) exposes a few attributes of the International Space Station (ISS) via a simple, authentication-free interface. The simplicity of this API precludes any need for a dedicated Python library. However, as with many APIs, it accepts requests according to HTTP standards and returns responses in JSON format, so the Python libraries request and json will make managing the I/O simpler still."
   ]
  },
  {
   "cell_type": "code",
   "execution_count": 1,
   "metadata": {
    "colab": {},
    "colab_type": "code",
    "id": "xz4PaIIjGtis"
   },
   "outputs": [],
   "source": [
    "import requests\n",
    "import json\n",
    "from datetime import datetime, date, time"
   ]
  },
  {
   "cell_type": "markdown",
   "metadata": {
    "colab_type": "text",
    "id": "tE2vsQo3Gti0"
   },
   "source": [
    "## Check ISS location\n",
    "\n",
    "This request fetches the latest position of the international space station:"
   ]
  },
  {
   "cell_type": "code",
   "execution_count": 2,
   "metadata": {
    "colab": {},
    "colab_type": "code",
    "id": "bXBJ6YSPGti3"
   },
   "outputs": [],
   "source": [
    "r = requests.get(\"http://api.open-notify.org/iss-now.json\")"
   ]
  },
  {
   "cell_type": "markdown",
   "metadata": {},
   "source": [
    "http://api.open-notify.org/iss-now.json\n",
    "\n",
    "```json\n",
    "{\n",
    "  \"message\": \"success\", \n",
    "  \"timestamp\": UNIX_TIME_STAMP, \n",
    "  \"iss_position\": {\n",
    "    \"latitude\": CURRENT_LATITUDE, \n",
    "    \"longitude\": CURRENT_LONGITUDE\n",
    "  }\n",
    "}\n",
    "```"
   ]
  },
  {
   "cell_type": "markdown",
   "metadata": {
    "colab_type": "text",
    "id": "wTbnWjPGGti-"
   },
   "source": [
    "### Status code of the response"
   ]
  },
  {
   "cell_type": "code",
   "execution_count": 3,
   "metadata": {
    "ExecuteTime": {
     "end_time": "2020-11-18T09:34:12.567710Z",
     "start_time": "2020-11-18T09:34:12.565184Z"
    },
    "colab": {},
    "colab_type": "code",
    "id": "_I6hU3-AGtjA"
   },
   "outputs": [
    {
     "data": {
      "text/plain": [
       "200"
      ]
     },
     "execution_count": 3,
     "metadata": {},
     "output_type": "execute_result"
    }
   ],
   "source": [
    "# Answer\n",
    "r.status_code"
   ]
  },
  {
   "cell_type": "code",
   "execution_count": 4,
   "metadata": {},
   "outputs": [
    {
     "data": {
      "text/plain": [
       "'{\"timestamp\": 1636879036, \"message\": \"success\", \"iss_position\": {\"longitude\": \"118.8446\", \"latitude\": \"-21.6664\"}}'"
      ]
     },
     "execution_count": 4,
     "metadata": {},
     "output_type": "execute_result"
    }
   ],
   "source": [
    "r.text"
   ]
  },
  {
   "cell_type": "markdown",
   "metadata": {},
   "source": [
    "### Location of the ISS"
   ]
  },
  {
   "cell_type": "code",
   "execution_count": 5,
   "metadata": {
    "ExecuteTime": {
     "end_time": "2020-11-18T09:34:12.567710Z",
     "start_time": "2020-11-18T09:34:12.565184Z"
    },
    "colab": {},
    "colab_type": "code",
    "id": "_I6hU3-AGtjA"
   },
   "outputs": [
    {
     "data": {
      "text/plain": [
       "{'timestamp': 1636879036,\n",
       " 'message': 'success',\n",
       " 'iss_position': {'longitude': '118.8446', 'latitude': '-21.6664'}}"
      ]
     },
     "execution_count": 5,
     "metadata": {},
     "output_type": "execute_result"
    }
   ],
   "source": [
    "# Answer\n",
    "r.json()"
   ]
  },
  {
   "cell_type": "markdown",
   "metadata": {
    "colab_type": "text",
    "id": "eiziNer-GtjF"
   },
   "source": [
    "## Check when ISS will be overhead at your location\n",
    "\n",
    "We can also request the current position of the ISS and the next few times at which it will be over a certain location. The latitude and longitude of Sydney are (-33.87, 151.21). Create a dict named `parameters` whose elements are key:value pairs named `lat` and `lon`, containing those figures:"
   ]
  },
  {
   "cell_type": "markdown",
   "metadata": {},
   "source": [
    "http://api.open-notify.org/iss-pass.json?lat=LAT&lon=LON\n",
    "\n",
    "```json\n",
    "{\n",
    "  \"message\": \"success\",\n",
    "  \"request\": {\n",
    "    \"latitude\": LATITUE,\n",
    "    \"longitude\": LONGITUDE, \n",
    "    \"altitude\": ALTITUDE,\n",
    "    \"passes\": NUMBER_OF_PASSES,\n",
    "    \"datetime\": REQUEST_TIMESTAMP\n",
    "  },\n",
    "  \"response\": [\n",
    "    {\"risetime\": TIMESTAMP, \"duration\": DURATION},\n",
    "    ...\n",
    "  ]\n",
    "}\n",
    "```"
   ]
  },
  {
   "cell_type": "code",
   "execution_count": 6,
   "metadata": {
    "colab": {},
    "colab_type": "code",
    "id": "2XZ-ygFkGtjH"
   },
   "outputs": [
    {
     "data": {
      "text/plain": [
       "-33.87"
      ]
     },
     "execution_count": 6,
     "metadata": {},
     "output_type": "execute_result"
    }
   ],
   "source": [
    "parameters = { 'lat':-33.87, 'lon':51.21 }\n",
    "parameters['lat']"
   ]
  },
  {
   "cell_type": "markdown",
   "metadata": {
    "colab_type": "text",
    "id": "oxRvNtSYGtjK"
   },
   "source": [
    "The API request we want starts like the last one, but the last part of the endpoint is \"iss-pass.json\", and it takes a second argument -- namely, the `parameters` value created above. Compose and execute the API request:"
   ]
  },
  {
   "cell_type": "code",
   "execution_count": 22,
   "metadata": {
    "colab": {},
    "colab_type": "code",
    "id": "ZJMngO5IGtjL"
   },
   "outputs": [
    {
     "data": {
      "text/plain": [
       "{'message': 'success',\n",
       " 'request': {'altitude': 100,\n",
       "  'datetime': 1636879390,\n",
       "  'latitude': -33.87,\n",
       "  'longitude': 51.21,\n",
       "  'passes': 5},\n",
       " 'response': [{'duration': 493, 'risetime': 1636883737},\n",
       "  {'duration': 652, 'risetime': 1636889515},\n",
       "  {'duration': 582, 'risetime': 1636895346},\n",
       "  {'duration': 489, 'risetime': 1636943861},\n",
       "  {'duration': 660, 'risetime': 1636949559}]}"
      ]
     },
     "execution_count": 22,
     "metadata": {},
     "output_type": "execute_result"
    }
   ],
   "source": [
    "url = \"http://api.open-notify.org/iss-pass.json?\" + \"lat=\" + str(parameters['lat']) + \"&lon=\" + str(parameters['lon'])\n",
    "r = requests.get(url)\n",
    "r.json()"
   ]
  },
  {
   "cell_type": "markdown",
   "metadata": {
    "colab_type": "text",
    "id": "aEl3pwmHGtjN"
   },
   "source": [
    "### Response header"
   ]
  },
  {
   "cell_type": "code",
   "execution_count": 23,
   "metadata": {},
   "outputs": [
    {
     "data": {
      "text/plain": [
       "{'Server': 'nginx/1.10.3', 'Date': 'Sun, 14 Nov 2021 08:43:11 GMT', 'Content-Type': 'application/json', 'Content-Length': '520', 'Connection': 'keep-alive', 'Via': '1.1 vegur'}"
      ]
     },
     "execution_count": 23,
     "metadata": {},
     "output_type": "execute_result"
    }
   ],
   "source": [
    "r.headers"
   ]
  },
  {
   "cell_type": "code",
   "execution_count": 24,
   "metadata": {},
   "outputs": [
    {
     "data": {
      "text/plain": [
       "'nginx/1.10.3'"
      ]
     },
     "execution_count": 24,
     "metadata": {},
     "output_type": "execute_result"
    }
   ],
   "source": [
    "r.headers['Server']"
   ]
  },
  {
   "cell_type": "markdown",
   "metadata": {
    "colab_type": "text",
    "id": "W6tqlzySGtjR"
   },
   "source": [
    "### Content of the response\n",
    "\n",
    "Print the content of the response (the data that the server returned):"
   ]
  },
  {
   "cell_type": "code",
   "execution_count": 25,
   "metadata": {
    "colab": {},
    "colab_type": "code",
    "id": "HbxepzDZGtjS"
   },
   "outputs": [
    {
     "data": {
      "text/plain": [
       "b'{\\n  \"message\": \"success\", \\n  \"request\": {\\n    \"altitude\": 100, \\n    \"datetime\": 1636879390, \\n    \"latitude\": -33.87, \\n    \"longitude\": 51.21, \\n    \"passes\": 5\\n  }, \\n  \"response\": [\\n    {\\n      \"duration\": 493, \\n      \"risetime\": 1636883737\\n    }, \\n    {\\n      \"duration\": 652, \\n      \"risetime\": 1636889515\\n    }, \\n    {\\n      \"duration\": 582, \\n      \"risetime\": 1636895346\\n    }, \\n    {\\n      \"duration\": 489, \\n      \"risetime\": 1636943861\\n    }, \\n    {\\n      \"duration\": 660, \\n      \"risetime\": 1636949559\\n    }\\n  ]\\n}\\n'"
      ]
     },
     "execution_count": 25,
     "metadata": {},
     "output_type": "execute_result"
    }
   ],
   "source": [
    "r.content"
   ]
  },
  {
   "cell_type": "markdown",
   "metadata": {
    "colab_type": "text",
    "id": "N7tHPQzDGtjU"
   },
   "source": [
    "Note that this is a Python byte string:"
   ]
  },
  {
   "cell_type": "code",
   "execution_count": 26,
   "metadata": {
    "colab": {},
    "colab_type": "code",
    "id": "k8AMo0yWGtjV"
   },
   "outputs": [
    {
     "data": {
      "text/plain": [
       "'{\\n  \"message\": \"success\", \\n  \"request\": {\\n    \"altitude\": 100, \\n    \"datetime\": 1636879390, \\n    \"latitude\": -33.87, \\n    \"longitude\": 51.21, \\n    \"passes\": 5\\n  }, \\n  \"response\": [\\n    {\\n      \"duration\": 493, \\n      \"risetime\": 1636883737\\n    }, \\n    {\\n      \"duration\": 652, \\n      \"risetime\": 1636889515\\n    }, \\n    {\\n      \"duration\": 582, \\n      \"risetime\": 1636895346\\n    }, \\n    {\\n      \"duration\": 489, \\n      \"risetime\": 1636943861\\n    }, \\n    {\\n      \"duration\": 660, \\n      \"risetime\": 1636949559\\n    }\\n  ]\\n}\\n'"
      ]
     },
     "execution_count": 26,
     "metadata": {},
     "output_type": "execute_result"
    }
   ],
   "source": [
    "r.text"
   ]
  },
  {
   "cell_type": "code",
   "execution_count": 27,
   "metadata": {},
   "outputs": [
    {
     "data": {
      "text/plain": [
       "{'message': 'success',\n",
       " 'request': {'altitude': 100,\n",
       "  'datetime': 1636879390,\n",
       "  'latitude': -33.87,\n",
       "  'longitude': 51.21,\n",
       "  'passes': 5},\n",
       " 'response': [{'duration': 493, 'risetime': 1636883737},\n",
       "  {'duration': 652, 'risetime': 1636889515},\n",
       "  {'duration': 582, 'risetime': 1636895346},\n",
       "  {'duration': 489, 'risetime': 1636943861},\n",
       "  {'duration': 660, 'risetime': 1636949559}]}"
      ]
     },
     "execution_count": 27,
     "metadata": {},
     "output_type": "execute_result"
    }
   ],
   "source": [
    "r.json()"
   ]
  },
  {
   "cell_type": "markdown",
   "metadata": {
    "colab_type": "text",
    "id": "5tvv9ht_GtjX"
   },
   "source": [
    "Print just the \"content-type\" value from the header:"
   ]
  },
  {
   "cell_type": "code",
   "execution_count": 28,
   "metadata": {
    "colab": {},
    "colab_type": "code",
    "id": "nxWxxLI7GtjX"
   },
   "outputs": [
    {
     "data": {
      "text/plain": [
       "'application/json'"
      ]
     },
     "execution_count": 28,
     "metadata": {},
     "output_type": "execute_result"
    }
   ],
   "source": [
    "r.headers['content-type']"
   ]
  },
  {
   "cell_type": "markdown",
   "metadata": {
    "colab_type": "text",
    "id": "7lPlgn_hGtjZ"
   },
   "source": [
    "### Decode JSON byte string\n",
    "\n",
    "JSON was designed to be easy for computers to read, not for people. The `requests` library can decode the JSON byte string:"
   ]
  },
  {
   "cell_type": "code",
   "execution_count": 29,
   "metadata": {
    "colab": {},
    "colab_type": "code",
    "id": "nGVtgDaqGtja"
   },
   "outputs": [
    {
     "data": {
      "text/plain": [
       "{'message': 'success',\n",
       " 'request': {'altitude': 100,\n",
       "  'datetime': 1636879390,\n",
       "  'latitude': -33.87,\n",
       "  'longitude': 51.21,\n",
       "  'passes': 5},\n",
       " 'response': [{'duration': 493, 'risetime': 1636883737},\n",
       "  {'duration': 652, 'risetime': 1636889515},\n",
       "  {'duration': 582, 'risetime': 1636895346},\n",
       "  {'duration': 489, 'risetime': 1636943861},\n",
       "  {'duration': 660, 'risetime': 1636949559}]}"
      ]
     },
     "execution_count": 29,
     "metadata": {},
     "output_type": "execute_result"
    }
   ],
   "source": [
    "r.json()     # Json Message"
   ]
  },
  {
   "cell_type": "markdown",
   "metadata": {
    "colab_type": "text",
    "id": "l9GOdNK5Gtjc"
   },
   "source": [
    "What kind of object did this give us?"
   ]
  },
  {
   "cell_type": "code",
   "execution_count": 133,
   "metadata": {
    "colab": {},
    "colab_type": "code",
    "id": "JBS4nRmSGtjd"
   },
   "outputs": [],
   "source": [
    "r.json()['response']     # Extracted 'response' from Json\n",
    "jlist = r.json()['response']     # Convert Json to List"
   ]
  },
  {
   "cell_type": "markdown",
   "metadata": {
    "colab_type": "text",
    "id": "2ZYJabXQGtjg"
   },
   "source": [
    "Python dicts are easier to work with, but the data we want is still buried in that data structure, so we have to dig it out. First, extract the `response` value to a separate dict:"
   ]
  },
  {
   "cell_type": "code",
   "execution_count": 129,
   "metadata": {
    "colab": {},
    "colab_type": "code",
    "id": "0u8LZg4dGtjh"
   },
   "outputs": [
    {
     "data": {
      "text/plain": [
       "[1636883737, 1636889515, 1636895346, 1636943861, 1636949559]"
      ]
     },
     "execution_count": 129,
     "metadata": {},
     "output_type": "execute_result"
    }
   ],
   "source": [
    "# r.json()['response'] is a list. \n",
    "# Get Range l\n",
    "l = len(r.json()['response'])\n",
    "srisetime = [ \n",
    "                r.json()['response'][i]['risetime'] for i in range(l) \n",
    "            ]\n",
    "srisetime"
   ]
  },
  {
   "cell_type": "markdown",
   "metadata": {
    "colab_type": "text",
    "id": "hMHzLrfoGtjj"
   },
   "source": [
    "Now extract the `risetime` strings into an array called `srisetimes`:"
   ]
  },
  {
   "cell_type": "markdown",
   "metadata": {
    "colab_type": "text",
    "id": "RItuBRt-Gtjl"
   },
   "source": [
    "```\n",
    "datetime.fromtimestamp(str)\n",
    "```\n",
    "\n",
    "Convert these to an array of Python `datetime` values called `risetimes`:"
   ]
  },
  {
   "cell_type": "markdown",
   "metadata": {
    "colab_type": "text",
    "id": "l1EmKOFqGtjn"
   },
   "source": [
    "Finally, print these in a format that people understand:\n",
    "\n",
    "\n",
    "\n",
    "```\n",
    "str.strftime('%d/%m/%y %I:%M')\n",
    "\n",
    "27/03/19 10:59\n",
    "27/03/19 12:35\n",
    "27/03/19 02:11\n",
    "28/03/19 03:42\n",
    "28/03/19 05:13\n",
    "```\n",
    "\n"
   ]
  },
  {
   "cell_type": "code",
   "execution_count": 138,
   "metadata": {},
   "outputs": [
    {
     "name": "stdout",
     "output_type": "stream",
     "text": [
      "14/11/21 05:55\n",
      "14/11/21 07:31\n",
      "14/11/21 09:09\n",
      "15/11/21 10:37\n",
      "15/11/21 12:12\n"
     ]
    },
    {
     "data": {
      "text/plain": [
       "[None, None, None, None, None]"
      ]
     },
     "execution_count": 138,
     "metadata": {},
     "output_type": "execute_result"
    }
   ],
   "source": [
    "[print(datetime.fromtimestamp(i).strftime('%d/%m/%y %I:%M')) for i in srisetime]"
   ]
  },
  {
   "cell_type": "code",
   "execution_count": 134,
   "metadata": {
    "colab": {},
    "colab_type": "code",
    "id": "AkBE76VqGtjo"
   },
   "outputs": [
    {
     "ename": "NameError",
     "evalue": "name 'risetime' is not defined",
     "output_type": "error",
     "traceback": [
      "\u001b[1;31m---------------------------------------------------------------------------\u001b[0m",
      "\u001b[1;31mNameError\u001b[0m                                 Traceback (most recent call last)",
      "\u001b[1;32m<ipython-input-134-8603ad67d555>\u001b[0m in \u001b[0;36m<module>\u001b[1;34m\u001b[0m\n\u001b[1;32m----> 1\u001b[1;33m \u001b[0munix_risetimes\u001b[0m \u001b[1;33m=\u001b[0m \u001b[1;33m[\u001b[0m\u001b[0mjlist\u001b[0m\u001b[1;33m[\u001b[0m\u001b[1;34m\"risetime\"\u001b[0m\u001b[1;33m]\u001b[0m \u001b[1;32mfor\u001b[0m \u001b[0mr\u001b[0m \u001b[1;32min\u001b[0m \u001b[0mrisetime\u001b[0m\u001b[1;33m]\u001b[0m\u001b[1;33m\u001b[0m\u001b[1;33m\u001b[0m\u001b[0m\n\u001b[0m\u001b[0;32m      2\u001b[0m \u001b[0munix_risetimes\u001b[0m\u001b[1;33m\u001b[0m\u001b[1;33m\u001b[0m\u001b[0m\n",
      "\u001b[1;31mNameError\u001b[0m: name 'risetime' is not defined"
     ]
    }
   ],
   "source": [
    "unix_risetimes = [jlist[\"risetime\"] for r in risetime]\n",
    "unix_risetimes"
   ]
  },
  {
   "cell_type": "markdown",
   "metadata": {
    "colab_type": "text",
    "id": "iNm6GjX3Gtjq"
   },
   "source": [
    "## Check who is onboard the ISS"
   ]
  },
  {
   "cell_type": "code",
   "execution_count": 139,
   "metadata": {
    "colab": {},
    "colab_type": "code",
    "id": "12yXs_OgGtjs"
   },
   "outputs": [],
   "source": [
    "response = requests.get(\"http://api.open-notify.org/astros.json\")"
   ]
  },
  {
   "cell_type": "code",
   "execution_count": 160,
   "metadata": {},
   "outputs": [
    {
     "data": {
      "text/plain": [
       "<Response [200]>"
      ]
     },
     "execution_count": 160,
     "metadata": {},
     "output_type": "execute_result"
    }
   ],
   "source": [
    "response"
   ]
  },
  {
   "cell_type": "markdown",
   "metadata": {
    "colab_type": "text",
    "id": "0Np4S0aAGtj0"
   },
   "source": [
    "Referring to the methods used above, extract the number of astronauts and their names:"
   ]
  },
  {
   "cell_type": "code",
   "execution_count": 154,
   "metadata": {
    "colab": {},
    "colab_type": "code",
    "id": "Oqx5L19_Gtj1"
   },
   "outputs": [],
   "source": [
    "myjson = response.json()     # This is Dict of 3 key:value pair"
   ]
  },
  {
   "cell_type": "code",
   "execution_count": 155,
   "metadata": {},
   "outputs": [
    {
     "data": {
      "text/plain": [
       "[{'name': 'Mark Vande Hei', 'craft': 'ISS'},\n",
       " {'name': 'Pyotr Dubrov', 'craft': 'ISS'},\n",
       " {'name': 'Anton Shkaplerov', 'craft': 'ISS'},\n",
       " {'name': 'Zhai Zhigang', 'craft': 'Shenzhou 13'},\n",
       " {'name': 'Wang Yaping', 'craft': 'Shenzhou 13'},\n",
       " {'name': 'Ye Guangfu', 'craft': 'Shenzhou 13'},\n",
       " {'name': 'Raja Chari', 'craft': 'ISS'},\n",
       " {'name': 'Tom Marshburn', 'craft': 'ISS'},\n",
       " {'name': 'Kayla Barron', 'craft': 'ISS'},\n",
       " {'name': 'Matthias Maurer', 'craft': 'ISS'}]"
      ]
     },
     "execution_count": 155,
     "metadata": {},
     "output_type": "execute_result"
    }
   ],
   "source": [
    "myjson['people']     # Returns the Value of 'people', which is "
   ]
  },
  {
   "cell_type": "code",
   "execution_count": 159,
   "metadata": {},
   "outputs": [
    {
     "data": {
      "text/plain": [
       "10"
      ]
     },
     "execution_count": 159,
     "metadata": {},
     "output_type": "execute_result"
    }
   ],
   "source": [
    "no_of_astronauts = len(myjson['people'])\n",
    "no_of_astronauts"
   ]
  },
  {
   "cell_type": "code",
   "execution_count": 158,
   "metadata": {},
   "outputs": [
    {
     "data": {
      "text/plain": [
       "['Mark Vande Hei',\n",
       " 'Pyotr Dubrov',\n",
       " 'Anton Shkaplerov',\n",
       " 'Zhai Zhigang',\n",
       " 'Wang Yaping',\n",
       " 'Ye Guangfu',\n",
       " 'Raja Chari',\n",
       " 'Tom Marshburn',\n",
       " 'Kayla Barron',\n",
       " 'Matthias Maurer']"
      ]
     },
     "execution_count": 158,
     "metadata": {},
     "output_type": "execute_result"
    }
   ],
   "source": [
    "myname = [\n",
    "            myjson['people'][i]['name'] for i in range(no_of_astronauts)\n",
    "        ]\n",
    "myname"
   ]
  },
  {
   "cell_type": "markdown",
   "metadata": {
    "colab_type": "text",
    "id": "A4-DBw_bGtj2"
   },
   "source": [
    "# HOMEWORK\n"
   ]
  },
  {
   "cell_type": "markdown",
   "metadata": {
    "colab_type": "text",
    "id": "c134mC6WGtj3"
   },
   "source": [
    "1. Write a simple handler for the response status code (refer to lab resources slide for HTTP response codes). As this Jupyter Notebook is an interactive device, the handler does not need to manage subsequent code execution (i.e. by branching or aborting execution), although it should return something that could be used to do so if deployed in a Python program."
   ]
  },
  {
   "cell_type": "code",
   "execution_count": 202,
   "metadata": {
    "colab": {},
    "colab_type": "code",
    "id": "FZM2NAWuGtj4"
   },
   "outputs": [],
   "source": [
    "#ANSWER:\n",
    "def handleResponse(response, verbose = False):\n",
    "    '''\n",
    "    Returns Boolean Value, Status Code, \n",
    "    '''\n",
    "    status = response.status_code\n",
    "    if status == 200:\n",
    "        return verbose, status     # if Status Code is 200 return false, and status code\n",
    "    else:\n",
    "        return verbose, status      # Otherwise Return True and Status Code"
   ]
  },
  {
   "cell_type": "code",
   "execution_count": 180,
   "metadata": {},
   "outputs": [
    {
     "data": {
      "text/plain": [
       "(False, 200)"
      ]
     },
     "execution_count": 180,
     "metadata": {},
     "output_type": "execute_result"
    }
   ],
   "source": [
    "response = requests.get(\"http://api.open-notify.org/astros.json\")\n",
    "handleResponse(response)"
   ]
  },
  {
   "cell_type": "code",
   "execution_count": 181,
   "metadata": {},
   "outputs": [],
   "source": [
    "if handleResponse(response)[0]:\n",
    "    print('Hello')"
   ]
  },
  {
   "cell_type": "markdown",
   "metadata": {
    "colab_type": "text",
    "id": "9aPstlTIGtj5"
   },
   "source": [
    "2. Test your response handler on some correct and incorrect API calls."
   ]
  },
  {
   "cell_type": "code",
   "execution_count": 206,
   "metadata": {
    "colab": {},
    "colab_type": "code",
    "id": "GYT1LAb8Gtj6"
   },
   "outputs": [],
   "source": [
    "response = requests.get(\"http://api.open-notify.org/astros.json\")     # Request without error\n",
    "if handleResponse(response)[0]:\n",
    "    print('API call failed. Resolve issue before continuing!')"
   ]
  },
  {
   "cell_type": "code",
   "execution_count": 204,
   "metadata": {},
   "outputs": [],
   "source": [
    "response = requests.get(\"http://api.open-notify.org/iss-pass.json\")     # Request with error\n",
    "if handleResponse(response)[0]:\n",
    "    print('API call failed. Resolve issue before continuing!')"
   ]
  },
  {
   "cell_type": "code",
   "execution_count": 205,
   "metadata": {},
   "outputs": [
    {
     "name": "stdout",
     "output_type": "stream",
     "text": [
      "API call failed. Resolve issue before continuing!\n"
     ]
    }
   ],
   "source": [
    "response = requests.get(\"http://api.open-notify.org/astros.json\")     # Request without error\n",
    "if handleResponse(response, True)[0]:\n",
    "    print('API call failed. Resolve issue before continuing!')"
   ]
  }
 ],
 "metadata": {
  "colab": {
   "collapsed_sections": [],
   "name": "IOD_Lab 2.2.1.ipynb",
   "provenance": [
    {
     "file_id": "1RknypYS3TD4wPumGiPV69EWtkq-3UBwF",
     "timestamp": 1553136072736
    }
   ]
  },
  "kernelspec": {
   "display_name": "Python 3",
   "language": "python",
   "name": "python3"
  },
  "language_info": {
   "codemirror_mode": {
    "name": "ipython",
    "version": 3
   },
   "file_extension": ".py",
   "mimetype": "text/x-python",
   "name": "python",
   "nbconvert_exporter": "python",
   "pygments_lexer": "ipython3",
   "version": "3.8.8"
  },
  "toc": {
   "base_numbering": 1,
   "nav_menu": {},
   "number_sections": true,
   "sideBar": true,
   "skip_h1_title": false,
   "title_cell": "Table of Contents",
   "title_sidebar": "Contents",
   "toc_cell": false,
   "toc_position": {},
   "toc_section_display": true,
   "toc_window_display": true
  }
 },
 "nbformat": 4,
 "nbformat_minor": 1
}
