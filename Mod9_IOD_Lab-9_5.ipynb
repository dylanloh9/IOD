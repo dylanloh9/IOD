{
 "cells": [
  {
   "cell_type": "markdown",
   "metadata": {
    "colab_type": "text",
    "id": "XXUiceLiLNOv"
   },
   "source": [
    "<div>\n",
    "<img src=https://www.institutedata.com/wp-content/uploads/2019/10/iod_h_tp_primary_c.svg width=\"300\">\n",
    "</div>"
   ]
  },
  {
   "cell_type": "markdown",
   "metadata": {
    "colab_type": "text",
    "id": "SmJwFqq5LNOx"
   },
   "source": [
    "# Demo 9.5: Working with Text\n",
    "- Using [NLTK](http://www.nltk.org) (Natural Language Toolkit)\n",
    "- Using [spaCy](https://spacy.io)\n",
    "\n",
    "INSTRUCTIONS:\n",
    "- Run the cells\n",
    "- Observe and understand the results\n",
    "- Answer the questions"
   ]
  },
  {
   "cell_type": "markdown",
   "metadata": {
    "colab_type": "text",
    "id": "I83eiiJqLNO0"
   },
   "source": [
    "## Import libraries"
   ]
  },
  {
   "cell_type": "code",
   "execution_count": 1,
   "metadata": {
    "ExecuteTime": {
     "end_time": "2020-10-07T06:27:02.954027Z",
     "start_time": "2020-10-07T06:27:01.413950Z"
    },
    "colab": {},
    "colab_type": "code",
    "id": "-ecJn_1MLNO4"
   },
   "outputs": [],
   "source": [
    "## Import Libraries\n",
    "import matplotlib.pyplot as plt\n",
    "%matplotlib inline\n",
    "from collections import Counter\n",
    "\n",
    "import regex as re\n",
    "\n",
    "# conda install -c conda-forge spacy\n",
    "# python -m spacy download en_core_web_sm\n",
    "import spacy     #pip install spacy"
   ]
  },
  {
   "cell_type": "markdown",
   "metadata": {
    "colab_type": "text",
    "id": "OsSgzr8MLNO9"
   },
   "source": [
    "## Load data"
   ]
  },
  {
   "cell_type": "code",
   "execution_count": 2,
   "metadata": {
    "ExecuteTime": {
     "end_time": "2020-10-07T06:27:02.961095Z",
     "start_time": "2020-10-07T06:27:02.957131Z"
    },
    "colab": {},
    "colab_type": "code",
    "id": "HvyU9ZbtLNPA"
   },
   "outputs": [],
   "source": [
    "## Loading the data\n",
    "\n",
    "input_file = '../DATA/ncc-1701-D.txt'\n",
    "\n",
    "with open(input_file, 'r') as f:\n",
    "    text = f.read()"
   ]
  },
  {
   "cell_type": "code",
   "execution_count": 3,
   "metadata": {},
   "outputs": [
    {
     "name": "stdout",
     "output_type": "stream",
     "text": [
      "USS Enterprise (NCC-1701-D)\n",
      "\n",
      "\"For five hundred years, every ship that has borne the name of the Enterprise has become a legend. This one is no different.\"\n",
      "\n",
      "The USS Enterprise (NCC-1701-D) was a 24th century United Federation of Planets Galaxy Class starship operated by Starfleet, and the fifth Federation ship to bear the name Enterprise. During her career, the Enterprise served as the Federation flagship. The Enterprise was destroyed during the Battle of Veridian III in 2371.\n",
      "\n",
      "==History==\n",
      "===Construction and launch===\n",
      "The Enterprise was built at Utopia Planitia Fleet Yards orbiting Mars in the Solar system. The construction was a massive undertaking, involving thousands of people across disciplines. Construction was supervised by Commander Orfil Quinteros. Dr. Leah Brahms was responsible for much of the Enterprise's warp propulsion system design. Some of the Enterprise's components were derived from technology originally developed on the USS Pegasus.\n",
      "\n",
      "One of the ship's nacelle tube was the site of a multiple murder-suicide while she was still under construction at Utopia Planitia. A member of the construction team, Walter Pierce, became jealous of a former lover's new relationship. He killed the two officers, Marla Finn and William Hodges, then disposed of their bodies in the plasma stream. Pierce committed suicide in the same manner, leaving a telepathic imprint in a bulkhead that was not discovered until 2370.\n",
      "\n",
      "On stardate 40759.5, in the year 2363, the Enterprise was launched from Mars. On stardate 41025.5, the Enterprise was commissioned.\n",
      "\n",
      "These stardates weren't mentioned in dialog; they were from the Enterprise dedication plaque.\n",
      "\n",
      "Final systems completion and shakedown was conducted at Earth Station McKinley. Captain Jean-Luc Picard took command of the ship on stardate 41148 at the order of Rear Admiral Norah Satie.\n",
      "\n",
      "===Legacy===\n",
      "Commander Riker was upset over the loss of the Enterprise. Having hoped he would one day command the ship, he was disappointed that he never got that opportunity. However, Picard expressed doubt that the Enterprise-D would be the last vessel to carry the name.\n",
      "\n",
      "The Enterprise was so dear to Worf that, shortly after being reassigned to Deep Space 9 in 2372, he briefly considered resigning from Starfleet. Station commander Captain Benjamin Sisko expressed regret on the loss of the Enterprise and offered his condolences over the destruction of the ship to Worf, saying the Enterprise \"was a good ship.\"\n",
      "\n",
      "Captain Picard's belief that the Enterprise-D would not be the final ship to bear the name was borne out with the christening of the Class Sovereign USS Enterprise NCC-1701-E, later the same year. In that instance, the legacy of the Enterprise continued with Picard reprising his role as CO and selecting most of the former crew from the Enterprise-D, with the notable exception of Worf due to his most recent assignment to DS9 (though he temporarily joined the Enterprise-E crew on several of their more notable missions).\n"
     ]
    }
   ],
   "source": [
    "print(text)"
   ]
  },
  {
   "cell_type": "markdown",
   "metadata": {
    "colab_type": "text",
    "id": "KF9gBdpALNPE"
   },
   "source": [
    "## Inspect the data"
   ]
  },
  {
   "cell_type": "code",
   "execution_count": 4,
   "metadata": {
    "ExecuteTime": {
     "end_time": "2020-10-07T06:27:02.968659Z",
     "start_time": "2020-10-07T06:27:02.964905Z"
    },
    "colab": {},
    "colab_type": "code",
    "id": "-JImxUzrLNPG",
    "outputId": "13ce31ea-531e-4abd-8f21-c726df89bb21",
    "scrolled": true
   },
   "outputs": [
    {
     "name": "stdout",
     "output_type": "stream",
     "text": [
      "USS Enterprise (NCC-1701-D)\n",
      "\n",
      "\"For five hundred years, every ship that has borne the name of the Enterprise has become a legend. This one is no different.\"\n",
      "\n",
      "The USS Enterprise (NCC-1701-D) was a 24th century United Federation of Planets Galaxy Class starship operated by Starfleet, and the fifth Federation ship to bear the name Enterprise. During her career, the Enterprise served as the Federation flagship. The Enterprise was destroyed during the Battle of Veridian III in 2371.\n",
      "\n",
      "==History==\n",
      "===Construction and launch===\n",
      "The Enterprise was built at Utopia Planitia Fleet Yards orbiting Mars in the Solar system. The construction was a massive undertaking, involving thousands of people across disciplines. Construction was supervised by Commander Orfil Quinteros. Dr. Leah Brahms was responsible for much of the Enterprise's warp propulsion system design. Some of the Enterprise's components were derived from technology originally developed on the USS Pegasus.\n",
      "\n",
      "One of the ship's nacelle tube was\n"
     ]
    }
   ],
   "source": [
    "print(text[:1000])"
   ]
  },
  {
   "cell_type": "markdown",
   "metadata": {
    "colab_type": "text",
    "id": "H5ePf_5bLNPK"
   },
   "source": [
    "## Work the data\n",
    "- if necessary or desired\n",
    "    - remove text or content, e.g. quotes (\") or metadata (===)\n",
    "    - add content or markers, e.g. (#FLAG, --NAME--)\n",
    "    - remove or convert special symbols, e.g. \"é\" to \"e\"\n",
    "    - remove or convert emoticons"
   ]
  },
  {
   "cell_type": "code",
   "execution_count": 5,
   "metadata": {
    "ExecuteTime": {
     "end_time": "2020-10-07T06:27:02.974518Z",
     "start_time": "2020-10-07T06:27:02.972444Z"
    },
    "colab": {},
    "colab_type": "code",
    "id": "BRq7VfoOLNPM"
   },
   "outputs": [
    {
     "data": {
      "text/plain": [
       "'USS Enterprise (NCC-1701-D)\\n\\n\"For five hundred years, every ship that has borne the name of the Enterprise has become a legend. This one is no different.\"\\n\\nThe USS Enterprise (NCC-1701-D) was a 24th century United Federation of Planets Galaxy Class starship operated by Starfleet, and the fifth Federation ship to bear the name Enterprise. During her career, the Enterprise served as the Federation flagship. The Enterprise was destroyed during the Battle of Veridian III in 2371.\\n\\n History \\n =Construction and launch =\\nThe Enterprise was built at Utopia Planitia Fleet Yards orbiting Mars in the Solar system. The construction was a massive undertaking, involving thousands of people across disciplines. Construction was supervised by Commander Orfil Quinteros. Dr. Leah Brahms was responsible for much of the Enterprise\\'s warp propulsion system design. Some of the Enterprise\\'s components were derived from technology originally developed on the USS Pegasus.\\n\\nOne of the ship\\'s nacelle tube was the site of a multiple murder-suicide while she was still under construction at Utopia Planitia. A member of the construction team, Walter Pierce, became jealous of a former lover\\'s new relationship. He killed the two officers, Marla Finn and William Hodges, then disposed of their bodies in the plasma stream. Pierce committed suicide in the same manner, leaving a telepathic imprint in a bulkhead that was not discovered until 2370.\\n\\nOn stardate 40759.5, in the year 2363, the Enterprise was launched from Mars. On stardate 41025.5, the Enterprise was commissioned.\\n\\nThese stardates weren\\'t mentioned in dialog; they were from the Enterprise dedication plaque.\\n\\nFinal systems completion and shakedown was conducted at Earth Station McKinley. Captain Jean-Luc Picard took command of the ship on stardate 41148 at the order of Rear Admiral Norah Satie.\\n\\n =Legacy =\\nCommander Riker was upset over the loss of the Enterprise. Having hoped he would one day command the ship, he was disappointed that he never got that opportunity. However, Picard expressed doubt that the Enterprise-D would be the last vessel to carry the name.\\n\\nThe Enterprise was so dear to Worf that, shortly after being reassigned to Deep Space 9 in 2372, he briefly considered resigning from Starfleet. Station commander Captain Benjamin Sisko expressed regret on the loss of the Enterprise and offered his condolences over the destruction of the ship to Worf, saying the Enterprise \"was a good ship.\"\\n\\nCaptain Picard\\'s belief that the Enterprise-D would not be the final ship to bear the name was borne out with the christening of the Class Sovereign USS Enterprise NCC-1701-E, later the same year. In that instance, the legacy of the Enterprise continued with Picard reprising his role as CO and selecting most of the former crew from the Enterprise-D, with the notable exception of Worf due to his most recent assignment to DS9 (though he temporarily joined the Enterprise-E crew on several of their more notable missions).'"
      ]
     },
     "execution_count": 5,
     "metadata": {},
     "output_type": "execute_result"
    }
   ],
   "source": [
    "# ANSWER\n",
    "# text - https://myprogrammingtutorial.com/remove-special-characters-from-string-python/\n",
    "\n",
    "\n",
    "#define special characters list\n",
    "special_characters = ['==']\n",
    "text = text.replace('==',' ')\n",
    "text = text.replace('é','e')\n",
    "\n",
    "text"
   ]
  },
  {
   "cell_type": "code",
   "execution_count": 6,
   "metadata": {},
   "outputs": [
    {
     "name": "stdout",
     "output_type": "stream",
     "text": [
      "USS Enterprise (NCC-1701-D)\n",
      "\n",
      "\"For five hundred years, every ship that has borne the name of the Enterprise has become a legend. This one is no different.\"\n",
      "\n",
      "The USS Enterprise (NCC-1701-D) was a 24th century United Federation of Planets Galaxy Class starship operated by Starfleet, and the fifth Federation ship to bear the name Enterprise. During her career, the Enterprise served as the Federation flagship. The Enterprise was destroyed during the Battle of Veridian III in 2371.\n",
      "\n",
      " History \n",
      " =Construction and launch =\n",
      "The Enterprise was built at Utopia Planitia Fleet Yards orbiting Mars in the Solar system. The construction was a massive undertaking, involving thousands of people across disciplines. Construction was supervised by Commander Orfil Quinteros. Dr. Leah Brahms was responsible for much of the Enterprise's warp propulsion system design. Some of the Enterprise's components were derived from technology originally developed on the USS Pegasus.\n",
      "\n",
      "One of the ship's nacelle tube was the site of a multiple murder-suicide while she was still under construction at Utopia Planitia. A member of the construction team, Walter Pierce, became jealous of a former lover's new relationship. He killed the two officers, Marla Finn and William Hodges, then disposed of their bodies in the plasma stream. Pierce committed suicide in the same manner, leaving a telepathic imprint in a bulkhead that was not discovered until 2370.\n",
      "\n",
      "On stardate 40759.5, in the year 2363, the Enterprise was launched from Mars. On stardate 41025.5, the Enterprise was commissioned.\n",
      "\n",
      "These stardates weren't mentioned in dialog; they were from the Enterprise dedication plaque.\n",
      "\n",
      "Final systems completion and shakedown was conducted at Earth Station McKinley. Captain Jean-Luc Picard took command of the ship on stardate 41148 at the order of Rear Admiral Norah Satie.\n",
      "\n",
      " =Legacy =\n",
      "Commander Riker was upset over the loss of the Enterprise. Having hoped he would one day command the ship, he was disappointed that he never got that opportunity. However, Picard expressed doubt that the Enterprise-D would be the last vessel to carry the name.\n",
      "\n",
      "The Enterprise was so dear to Worf that, shortly after being reassigned to Deep Space 9 in 2372, he briefly considered resigning from Starfleet. Station commander Captain Benjamin Sisko expressed regret on the loss of the Enterprise and offered his condolences over the destruction of the ship to Worf, saying the Enterprise \"was a good ship.\"\n",
      "\n",
      "Captain Picard's belief that the Enterprise-D would not be the final ship to bear the name was borne out with the christening of the Class Sovereign USS Enterprise NCC-1701-E, later the same year. In that instance, the legacy of the Enterprise continued with Picard reprising his role as CO and selecting most of the former crew from the Enterprise-D, with the notable exception of Worf due to his most recent assignment to DS9 (though he temporarily joined the Enterprise-E crew on several of their more notable missions).\n"
     ]
    }
   ],
   "source": [
    "print(text)"
   ]
  },
  {
   "cell_type": "markdown",
   "metadata": {
    "colab_type": "text",
    "id": "xMG9Yim0LNPP"
   },
   "source": [
    "## Helper method"
   ]
  },
  {
   "cell_type": "code",
   "execution_count": 7,
   "metadata": {
    "ExecuteTime": {
     "end_time": "2020-10-07T06:27:02.983629Z",
     "start_time": "2020-10-07T06:27:02.977556Z"
    },
    "colab": {},
    "colab_type": "code",
    "id": "3oIPRH3gLNPQ"
   },
   "outputs": [],
   "source": [
    "# create a bar chart of the frequency of the words in the text\n",
    "def plot_words(tokens, top = 30):\n",
    "    tokens_counter = Counter(tokens)\n",
    "    tok = [t for (t, _) in tokens_counter.most_common()]\n",
    "    val = [v for (_, v) in tokens_counter.most_common()]\n",
    "\n",
    "    plt.figure(figsize = (16, 6))\n",
    "    plt.bar(tok[:top], val[:top])\n",
    "    plt.title('Number of terms: %d' % len(tokens_counter))\n",
    "    plt.xticks(rotation = 90)\n",
    "\n",
    "    plt.show()"
   ]
  },
  {
   "cell_type": "markdown",
   "metadata": {
    "colab_type": "text",
    "id": "U1FsFC6yLNPS"
   },
   "source": [
    "## spaCy model invocation and text processing\n",
    "spaCy does the processing of the text as part of the reading of the data."
   ]
  },
  {
   "cell_type": "code",
   "execution_count": 8,
   "metadata": {
    "ExecuteTime": {
     "end_time": "2020-10-07T06:27:03.512678Z",
     "start_time": "2020-10-07T06:27:02.985594Z"
    },
    "colab": {},
    "colab_type": "code",
    "id": "JgM48u-dLNPU"
   },
   "outputs": [],
   "source": [
    "# https://spacy.io/usage/spacy-101\n",
    "# https://course.spacy.io/en/\n",
    "\n",
    "# load spaCy and the English model\n",
    "nlp = spacy.load(\"en_core_web_sm\")\n",
    "\n",
    "# process the text\n",
    "doc = nlp(text)"
   ]
  },
  {
   "cell_type": "markdown",
   "metadata": {
    "colab_type": "text",
    "id": "z8--KeYzLNPW"
   },
   "source": [
    "## Tokenise"
   ]
  },
  {
   "cell_type": "code",
   "execution_count": 9,
   "metadata": {
    "ExecuteTime": {
     "end_time": "2020-10-07T06:27:03.520458Z",
     "start_time": "2020-10-07T06:27:03.514874Z"
    },
    "colab": {},
    "colab_type": "code",
    "id": "-7lVWo5DLNPe",
    "outputId": "b679dc9c-f19f-4ad2-fdbd-9b6755c17bae"
   },
   "outputs": [
    {
     "name": "stdout",
     "output_type": "stream",
     "text": [
      " 1| 'USS'\n",
      " 2| 'Enterprise'\n",
      " 3| '('\n",
      " 4| 'NCC-1701'\n",
      " 5| '-'\n",
      " 6| 'D'\n",
      " 7| ')'\n",
      " 8| '\\n\\n'\n",
      " 9| '\"'\n",
      "10| 'For'\n",
      "11| 'five'\n",
      "12| 'hundred'\n",
      "13| 'years'\n",
      "14| ','\n",
      "15| 'every'\n",
      "16| 'ship'\n",
      "17| 'that'\n",
      "18| 'has'\n",
      "19| 'borne'\n",
      "20| 'the'\n",
      "21| 'name'\n",
      "22| 'of'\n",
      "23| 'the'\n",
      "24| 'Enterprise'\n",
      "25| 'has'\n",
      "26| 'become'\n",
      "27| 'a'\n",
      "28| 'legend'\n",
      "29| '.'\n"
     ]
    }
   ],
   "source": [
    "# only show the results\n",
    "# spaCy has done it already\n",
    "for i, t in enumerate(doc):\n",
    "    print('%2d| %r' % (i+1, t.text))\n",
    "    if t.text == '.':\n",
    "        break"
   ]
  },
  {
   "cell_type": "code",
   "execution_count": 10,
   "metadata": {
    "ExecuteTime": {
     "end_time": "2020-10-07T06:27:03.529986Z",
     "start_time": "2020-10-07T06:27:03.527209Z"
    },
    "colab": {},
    "colab_type": "code",
    "id": "Gcg4Hkx4LNPh",
    "scrolled": false
   },
   "outputs": [
    {
     "data": {
      "text/plain": [
       "."
      ]
     },
     "execution_count": 10,
     "metadata": {},
     "output_type": "execute_result"
    }
   ],
   "source": [
    "# ANSWER - Visualise the tokenised words\n",
    "#plotwords\n",
    "t"
   ]
  },
  {
   "cell_type": "markdown",
   "metadata": {
    "colab_type": "text",
    "id": "iAtMzEZTLNPj"
   },
   "source": [
    "### Stop Words"
   ]
  },
  {
   "cell_type": "code",
   "execution_count": 11,
   "metadata": {
    "ExecuteTime": {
     "end_time": "2020-10-07T06:27:03.540660Z",
     "start_time": "2020-10-07T06:27:03.534759Z"
    },
    "colab": {},
    "colab_type": "code",
    "id": "zOzudmrILNPq",
    "outputId": "1e58fcfc-674d-42f1-e82a-63f7d61a837a"
   },
   "outputs": [
    {
     "name": "stdout",
     "output_type": "stream",
     "text": [
      "i | with stop words without\n",
      "--| --------------- ------------\n",
      " 1| 'USS'           'USS'\n",
      " 2| 'Enterprise'    'Enterprise'\n",
      " 3| '('             '('\n",
      " 4| 'NCC-1701'      'NCC-1701'\n",
      " 5| '-'             '-'\n",
      " 6| 'D'             'D'\n",
      " 7| ')'             ')'\n",
      " 8| '\\n\\n'          '\\n\\n'\n",
      " 9| '\"'             '\"'\n",
      "10| 'For'           ''\n",
      "11| 'five'          ''\n",
      "12| 'hundred'       ''\n",
      "13| 'years'         'years'\n",
      "14| ','             ','\n",
      "15| 'every'         ''\n",
      "16| 'ship'          'ship'\n",
      "17| 'that'          ''\n",
      "18| 'has'           ''\n",
      "19| 'borne'         'borne'\n",
      "20| 'the'           ''\n",
      "21| 'name'          ''\n",
      "22| 'of'            ''\n",
      "23| 'the'           ''\n",
      "24| 'Enterprise'    'Enterprise'\n",
      "25| 'has'           ''\n",
      "26| 'become'        ''\n",
      "27| 'a'             ''\n",
      "28| 'legend'        'legend'\n",
      "29| '.'             '.'\n"
     ]
    }
   ],
   "source": [
    "## spaCy\n",
    "print('i | with stop words without')\n",
    "print('--| --------------- ------------')\n",
    "\n",
    "# for all the tokens\n",
    "for i, t in enumerate(doc):\n",
    "    print('%2d| %-15r %r' % (i+1, t.text, ('' if t.is_stop else t.text)))\n",
    "\n",
    "    # break after the first sentence\n",
    "    if t.text == '.':\n",
    "        break"
   ]
  },
  {
   "cell_type": "code",
   "execution_count": 12,
   "metadata": {
    "ExecuteTime": {
     "end_time": "2020-10-07T06:27:03.899378Z",
     "start_time": "2020-10-07T06:27:03.543763Z"
    },
    "colab": {},
    "colab_type": "code",
    "id": "B2LoqLmULNPs",
    "outputId": "63f83744-f889-462f-f166-d8add6a03f7e"
   },
   "outputs": [
    {
     "data": {
      "image/png": "[encoded data removed]",
      "text/plain": [
       "<Figure size 1152x432 with 1 Axes>"
      ]
     },
     "metadata": {
      "needs_background": "light"
     },
     "output_type": "display_data"
    }
   ],
   "source": [
    "plot_words(['%r' % t.text for t in doc if not (t.is_stop | t.is_punct)])"
   ]
  },
  {
   "cell_type": "markdown",
   "metadata": {
    "colab_type": "text",
    "id": "9uqME12uLNPu"
   },
   "source": [
    "### Check Part of Speech"
   ]
  },
  {
   "cell_type": "code",
   "execution_count": 13,
   "metadata": {
    "ExecuteTime": {
     "end_time": "2020-10-07T06:27:03.906982Z",
     "start_time": "2020-10-07T06:27:03.901455Z"
    },
    "colab": {},
    "colab_type": "code",
    "id": "vD-BrcLALNPz",
    "outputId": "a26b4e4f-095a-4086-a8fe-841cbbfb5b05"
   },
   "outputs": [
    {
     "name": "stdout",
     "output_type": "stream",
     "text": [
      " 1|'USS'        : PROPN NNP\n",
      " 2|'Enterprise' : PROPN NNP\n",
      " 3|'('          : PUNCT -LRB-\n",
      " 4|'NCC-1701'   : PROPN NNP\n",
      " 5|'-'          : PUNCT HYPH\n",
      " 6|'D'          : NOUN  NN\n",
      " 7|')'          : PUNCT -RRB-\n",
      " 8|'\\n\\n'       : SPACE _SP\n",
      " 9|'\"'          : PUNCT ''\n",
      "10|'For'        : ADP   IN\n",
      "11|'five'       : NUM   CD\n",
      "12|'hundred'    : NUM   CD\n",
      "13|'years'      : NOUN  NNS\n",
      "14|','          : PUNCT ,\n",
      "15|'every'      : DET   DT\n",
      "16|'ship'       : NOUN  NN\n",
      "17|'that'       : PRON  WDT\n",
      "18|'has'        : AUX   VBZ\n",
      "19|'borne'      : VERB  VBN\n",
      "20|'the'        : DET   DT\n",
      "21|'name'       : NOUN  NN\n",
      "22|'of'         : ADP   IN\n",
      "23|'the'        : DET   DT\n",
      "24|'Enterprise' : NOUN  NN\n",
      "25|'has'        : AUX   VBZ\n",
      "26|'become'     : VERB  VBN\n",
      "27|'a'          : DET   DT\n",
      "28|'legend'     : NOUN  NN\n",
      "29|'.'          : PUNCT .\n"
     ]
    }
   ],
   "source": [
    "## spaCy\n",
    "for i, t in enumerate(doc):\n",
    "    print('%2d|%-12r : %-5s %s' % (i+1, t.text, t.pos_, t.tag_))\n",
    "    if t.text == '.':\n",
    "        break"
   ]
  },
  {
   "cell_type": "markdown",
   "metadata": {},
   "source": [
    "### Lemmatisation"
   ]
  },
  {
   "cell_type": "code",
   "execution_count": 14,
   "metadata": {
    "ExecuteTime": {
     "end_time": "2020-10-07T06:27:03.914723Z",
     "start_time": "2020-10-07T06:27:03.909364Z"
    },
    "colab": {},
    "colab_type": "code",
    "id": "448zp9_vLNQC",
    "outputId": "561168c1-3a42-449d-9be3-dd22182459c3"
   },
   "outputs": [
    {
     "name": "stdout",
     "output_type": "stream",
     "text": [
      "i | Token        Lemma\n",
      "--| ------------ ------------\n",
      " 1| 'USS'        'USS'\n",
      " 2| 'Enterprise' 'Enterprise'\n",
      " 3| '('          '('\n",
      " 4| 'NCC-1701'   'NCC-1701'\n",
      " 5| '-'          '-'\n",
      " 6| 'D'          'd'\n",
      " 7| ')'          ')'\n",
      " 8| '\\n\\n'       '\\n\\n'\n",
      " 9| '\"'          '\"'\n",
      "10| 'For'        'for'\n",
      "11| 'five'       'five'\n",
      "12| 'hundred'    'hundred'\n",
      "13| 'years'      'year'\n",
      "14| ','          ','\n",
      "15| 'every'      'every'\n",
      "16| 'ship'       'ship'\n",
      "17| 'that'       'that'\n",
      "18| 'has'        'have'\n",
      "19| 'borne'      'bear'\n",
      "20| 'the'        'the'\n",
      "21| 'name'       'name'\n",
      "22| 'of'         'of'\n",
      "23| 'the'        'the'\n",
      "24| 'Enterprise' 'enterprise'\n",
      "25| 'has'        'have'\n",
      "26| 'become'     'become'\n",
      "27| 'a'          'a'\n",
      "28| 'legend'     'legend'\n",
      "29| '.'          '.'\n"
     ]
    }
   ],
   "source": [
    "## spaCy\n",
    "print('i | Token        Lemma')\n",
    "print('--| ------------ ------------')\n",
    "for i, t in enumerate(doc):\n",
    "    print('%2d| %-12r %r' % (i+1, t.text, t.lemma_))\n",
    "    if t.text == '.':\n",
    "        break"
   ]
  },
  {
   "cell_type": "code",
   "execution_count": 15,
   "metadata": {
    "ExecuteTime": {
     "end_time": "2020-10-07T06:27:04.252720Z",
     "start_time": "2020-10-07T06:27:03.917101Z"
    },
    "colab": {},
    "colab_type": "code",
    "id": "i-7pqVMxLNQD",
    "outputId": "6deff35e-0d28-4351-bbab-7600618eb817"
   },
   "outputs": [
    {
     "data": {
      "image/png": "[encoded data removed]",
      "text/plain": [
       "<Figure size 1152x432 with 1 Axes>"
      ]
     },
     "metadata": {
      "needs_background": "light"
     },
     "output_type": "display_data"
    }
   ],
   "source": [
    "plot_words(['%r' % t.lemma_ for t in doc if not (t.is_stop | t.is_punct)])"
   ]
  },
  {
   "cell_type": "markdown",
   "metadata": {
    "colab_type": "text",
    "id": "RHUdgHM7LNQF"
   },
   "source": [
    "### Entity Recognition"
   ]
  },
  {
   "cell_type": "code",
   "execution_count": 16,
   "metadata": {
    "ExecuteTime": {
     "end_time": "2020-10-07T06:27:04.308642Z",
     "start_time": "2020-10-07T06:27:04.255170Z"
    },
    "colab": {},
    "colab_type": "code",
    "id": "yyOrZ42oLNQH",
    "outputId": "dfcee498-0002-4064-98ca-fa11668978d5",
    "scrolled": false
   },
   "outputs": [
    {
     "name": "stdout",
     "output_type": "stream",
     "text": [
      " 0: USS Enterprise (NCC-1701-D)\"For five hundred years, every ship that has borne the name of the Enterprise has become a legend.\n",
      "--------------------------------------------------------------------------------\n",
      "DATE       : five hundred years\n",
      "ORG        : Enterprise\n",
      "================================================================================\n",
      " 1: This one is no different.\"\n",
      "================================================================================\n",
      " 2: The USS Enterprise (NCC-1701-D) was a 24th century United Federation of Planets Galaxy Class starship operated by Starfleet, and the fifth Federation ship to bear the name Enterprise.\n",
      "--------------------------------------------------------------------------------\n",
      "WORK_OF_ART: The USS Enterprise\n",
      "DATE       : a 24th century\n",
      "ORG        : United Federation of Planets Galaxy\n",
      "GPE        : Starfleet\n",
      "ORDINAL    : fifth\n",
      "ORG        : Enterprise\n",
      "================================================================================\n",
      " 3: During her career, the Enterprise served as the Federation flagship.\n",
      "--------------------------------------------------------------------------------\n",
      "ORG        : Enterprise\n",
      "================================================================================\n",
      " 4: The Enterprise was destroyed during the Battle of Veridian III in 2371.\n",
      "--------------------------------------------------------------------------------\n",
      "ORG        : Enterprise\n",
      "DATE       : 2371\n",
      "================================================================================\n",
      " 5:  \n",
      "================================================================================\n",
      " 6: History  =Construction and launch =\n",
      "--------------------------------------------------------------------------------\n",
      "PERSON     : History  =Construction\n",
      "================================================================================\n",
      " 7: \n",
      "================================================================================\n",
      " 8: The Enterprise was built at Utopia Planitia Fleet Yards orbiting Mars in the Solar system.\n",
      "--------------------------------------------------------------------------------\n",
      "ORG        : Utopia Planitia Fleet Yards\n",
      "LOC        : Mars\n",
      "ORG        : Solar\n",
      "================================================================================\n",
      " 9: The construction was a massive undertaking, involving thousands of people across disciplines.\n",
      "--------------------------------------------------------------------------------\n",
      "CARDINAL   : thousands\n",
      "================================================================================\n",
      "10: Construction was supervised by Commander Orfil Quinteros.\n",
      "--------------------------------------------------------------------------------\n",
      "PERSON     : Orfil Quinteros\n",
      "================================================================================\n",
      "11: Dr. Leah Brahms was responsible for much of the Enterprise's warp propulsion system design.\n",
      "--------------------------------------------------------------------------------\n",
      "PERSON     : Leah Brahms\n",
      "ORG        : Enterprise\n",
      "================================================================================\n",
      "12: Some of the Enterprise's components were derived from technology originally developed on the USS Pegasus.\n",
      "--------------------------------------------------------------------------------\n",
      "ORG        : Enterprise\n",
      "PRODUCT    : the USS Pegasus\n",
      "================================================================================\n",
      "13: One of the ship's nacelle tube was the site of a multiple murder-suicide while she was still under construction at Utopia Planitia.\n",
      "--------------------------------------------------------------------------------\n",
      "CARDINAL   : One\n",
      "ORG        : Utopia Planitia\n",
      "================================================================================\n",
      "14: A member of the construction team, Walter Pierce, became jealous of a former lover's new relationship.\n",
      "--------------------------------------------------------------------------------\n",
      "PERSON     : Walter Pierce\n",
      "================================================================================\n",
      "15: He killed the two officers, Marla Finn and William Hodges, then disposed of their bodies in the plasma stream.\n",
      "--------------------------------------------------------------------------------\n",
      "CARDINAL   : two\n",
      "PERSON     : Marla Finn\n",
      "PERSON     : William Hodges\n",
      "================================================================================\n",
      "16: Pierce committed suicide in the same manner, leaving a telepathic imprint in a bulkhead that was not discovered until 2370.\n",
      "--------------------------------------------------------------------------------\n",
      "DATE       : 2370\n",
      "================================================================================\n",
      "17: On stardate 40759.5, in the year 2363, the Enterprise was launched from Mars.\n",
      "--------------------------------------------------------------------------------\n",
      "CARDINAL   : 40759.5\n",
      "DATE       : the year 2363\n",
      "ORG        : Enterprise\n",
      "LOC        : Mars\n",
      "================================================================================\n",
      "18: On stardate 41025.5, the Enterprise was commissioned.\n",
      "--------------------------------------------------------------------------------\n",
      "CARDINAL   : 41025.5\n",
      "ORG        : Enterprise\n",
      "================================================================================\n",
      "19: These stardates weren't mentioned in dialog; they were from the Enterprise dedication plaque.\n",
      "--------------------------------------------------------------------------------\n",
      "ORG        : Enterprise\n",
      "================================================================================\n",
      "20: Final systems completion and shakedown was conducted at Earth Station McKinley.\n",
      "--------------------------------------------------------------------------------\n",
      "LOC        : Earth Station McKinley\n",
      "================================================================================\n",
      "21: Captain Jean-Luc Picard took command of the ship on stardate 41148 at the order of Rear Admiral Norah Satie.\n",
      "--------------------------------------------------------------------------------\n",
      "PERSON     : Jean-Luc Picard\n",
      "CARDINAL   : 41148\n",
      "ORG        : Rear\n",
      "PERSON     : Norah Satie\n",
      "================================================================================\n",
      "22:  =\n",
      "================================================================================\n",
      "23: Legacy =Commander Riker was upset over the loss of the Enterprise.\n",
      "--------------------------------------------------------------------------------\n",
      "PERSON     : Riker\n",
      "ORG        : Enterprise\n",
      "================================================================================\n",
      "24: Having hoped he would one day command the ship, he was disappointed that he never got that opportunity.\n",
      "================================================================================\n",
      "25: However, Picard expressed doubt that the Enterprise-D would be the last vessel to carry the name.\n",
      "--------------------------------------------------------------------------------\n",
      "PERSON     : Picard\n",
      "================================================================================\n",
      "26: The Enterprise was so dear to Worf that, shortly after being reassigned to Deep Space 9 in 2372, he briefly considered resigning from Starfleet.\n",
      "--------------------------------------------------------------------------------\n",
      "ORG        : Enterprise\n",
      "PERSON     : Worf\n",
      "PERSON     : Deep Space\n",
      "DATE       : 2372\n",
      "GPE        : Starfleet\n",
      "================================================================================\n",
      "27: Station commander Captain Benjamin Sisko expressed regret on the loss of the Enterprise and offered his condolences over the destruction of the ship to Worf, saying the Enterprise \"was a good ship.\n",
      "--------------------------------------------------------------------------------\n",
      "PERSON     : Benjamin Sisko\n",
      "ORG        : Enterprise\n",
      "PERSON     : Worf\n",
      "================================================================================\n",
      "28: \"Captain Picard's belief that the Enterprise-D would not be the final ship to bear the name was borne out with the christening of the Class Sovereign USS Enterprise NCC-1701-E, later the same year.\n",
      "--------------------------------------------------------------------------------\n",
      "PERSON     : Picard\n",
      "DATE       : later the same year\n",
      "================================================================================\n",
      "29: In that instance, the legacy of the Enterprise continued with Picard reprising his role as CO and selecting most of the former crew from the Enterprise-D, with the notable exception of Worf due to his most recent assignment to DS9 (though he temporarily joined the Enterprise-E crew on several of their more notable missions).\n",
      "--------------------------------------------------------------------------------\n",
      "ORG        : Enterprise\n",
      "PERSON     : Picard\n",
      "PERSON     : Worf\n",
      "ORG        : Enterprise\n",
      "================================================================================\n"
     ]
    }
   ],
   "source": [
    "## spaCy\n",
    "for i, s in enumerate(doc.sents):\n",
    "    print('%2d: %s' % (i, re.sub(r'\\n+', '', s.text)))\n",
    "    if s.as_doc().ents:\n",
    "        print('-'*80)\n",
    "        for e in s.as_doc().ents:\n",
    "            print('%-11s: %s' % (e.label_, re.sub(r'\\n+', '', e.text)))\n",
    "    print('='*80)"
   ]
  },
  {
   "cell_type": "markdown",
   "metadata": {},
   "source": [
    "## Extra: Using NLTK for NLP"
   ]
  },
  {
   "cell_type": "code",
   "execution_count": 17,
   "metadata": {
    "ExecuteTime": {
     "end_time": "2020-10-07T06:42:08.014090Z",
     "start_time": "2020-10-07T06:42:06.293808Z"
    }
   },
   "outputs": [
    {
     "name": "stderr",
     "output_type": "stream",
     "text": [
      "[nltk_data] Downloading package words to\n",
      "[nltk_data]     C:\\Users\\dylan\\AppData\\Roaming\\nltk_data...\n",
      "[nltk_data]   Package words is already up-to-date!\n",
      "[nltk_data] Downloading package maxent_ne_chunker to\n",
      "[nltk_data]     C:\\Users\\dylan\\AppData\\Roaming\\nltk_data...\n",
      "[nltk_data]   Package maxent_ne_chunker is already up-to-date!\n",
      "[nltk_data] Downloading package punkt to\n",
      "[nltk_data]     C:\\Users\\dylan\\AppData\\Roaming\\nltk_data...\n",
      "[nltk_data]   Package punkt is already up-to-date!\n",
      "[nltk_data] Downloading package averaged_perceptron_tagger to\n",
      "[nltk_data]     C:\\Users\\dylan\\AppData\\Roaming\\nltk_data...\n",
      "[nltk_data]   Package averaged_perceptron_tagger is already up-to-\n",
      "[nltk_data]       date!\n",
      "[nltk_data] Downloading package omw-1.4 to\n",
      "[nltk_data]     C:\\Users\\dylan\\AppData\\Roaming\\nltk_data...\n",
      "[nltk_data]   Package omw-1.4 is already up-to-date!\n",
      "[nltk_data] Downloading package wordnet to\n",
      "[nltk_data]     C:\\Users\\dylan\\AppData\\Roaming\\nltk_data...\n",
      "[nltk_data]   Package wordnet is already up-to-date!\n",
      "[nltk_data] Downloading package stopwords to\n",
      "[nltk_data]     C:\\Users\\dylan\\AppData\\Roaming\\nltk_data...\n",
      "[nltk_data]   Package stopwords is already up-to-date!\n"
     ]
    },
    {
     "data": {
      "text/plain": [
       "True"
      ]
     },
     "execution_count": 17,
     "metadata": {},
     "output_type": "execute_result"
    }
   ],
   "source": [
    "# conda install -c anaconda nltk\n",
    "import nltk     # pip install nltk\n",
    "\n",
    "nltk.download('words')\n",
    "nltk.download('maxent_ne_chunker')\n",
    "nltk.download('punkt')\n",
    "nltk.download('averaged_perceptron_tagger')\n",
    "nltk.download('omw-1.4')\n",
    "nltk.download('wordnet')\n",
    "nltk.download('stopwords')"
   ]
  },
  {
   "cell_type": "markdown",
   "metadata": {},
   "source": [
    "In a Python interpreter, execute the following commands:\n",
    "\n",
    "- import nltk\n",
    "- nltk.download()\n",
    "\n",
    "At the NLTK Downloader GUI, install the following:\n",
    "\n",
    "- averaged_perceptron_tagger\n",
    "- ACE Named Entity Chunker (Maximum entropy)\n",
    "- Punkt Tokenizer Models\n",
    "- Stopwords Corpus\n",
    "- WordNet\n",
    "- Word Lists"
   ]
  },
  {
   "cell_type": "markdown",
   "metadata": {},
   "source": [
    "### Tokenise"
   ]
  },
  {
   "cell_type": "code",
   "execution_count": 18,
   "metadata": {
    "ExecuteTime": {
     "end_time": "2020-10-07T06:27:04.615658Z",
     "start_time": "2020-10-07T06:27:04.311241Z"
    },
    "colab": {},
    "colab_type": "code",
    "id": "pML63M9KLNPX",
    "outputId": "29a6c627-0eee-4ece-bb34-47eacbbb53ff",
    "scrolled": true
   },
   "outputs": [
    {
     "name": "stdout",
     "output_type": "stream",
     "text": [
      " 1| 'USS'\n",
      " 2| 'Enterprise'\n",
      " 3| '('\n",
      " 4| 'NCC-1701-D'\n",
      " 5| ')'\n",
      " 6| \"''\"\n",
      " 7| 'For'\n",
      " 8| 'five'\n",
      " 9| 'hundred'\n",
      "10| 'years'\n",
      "11| ','\n",
      "12| 'every'\n",
      "13| 'ship'\n",
      "14| 'that'\n",
      "15| 'has'\n",
      "16| 'borne'\n",
      "17| 'the'\n",
      "18| 'name'\n",
      "19| 'of'\n",
      "20| 'the'\n",
      "21| 'Enterprise'\n",
      "22| 'has'\n",
      "23| 'become'\n",
      "24| 'a'\n",
      "25| 'legend'\n"
     ]
    }
   ],
   "source": [
    "# use nltk to find tokens\n",
    "tokens = nltk.word_tokenize(text)\n",
    "\n",
    "for i, t in enumerate(tokens[:25]):\n",
    "    print('%2d| %r' % (i+1, t))"
   ]
  },
  {
   "cell_type": "code",
   "execution_count": 19,
   "metadata": {},
   "outputs": [
    {
     "data": {
      "text/plain": [
       "['USS',\n",
       " 'Enterprise',\n",
       " '(',\n",
       " 'NCC-1701-D',\n",
       " ')',\n",
       " \"''\",\n",
       " 'For',\n",
       " 'five',\n",
       " 'hundred',\n",
       " 'years',\n",
       " ',',\n",
       " 'every',\n",
       " 'ship',\n",
       " 'that',\n",
       " 'has',\n",
       " 'borne',\n",
       " 'the',\n",
       " 'name',\n",
       " 'of',\n",
       " 'the',\n",
       " 'Enterprise',\n",
       " 'has',\n",
       " 'become',\n",
       " 'a',\n",
       " 'legend',\n",
       " '.',\n",
       " 'This',\n",
       " 'one',\n",
       " 'is',\n",
       " 'no',\n",
       " 'different',\n",
       " '.',\n",
       " \"''\",\n",
       " 'The',\n",
       " 'USS',\n",
       " 'Enterprise',\n",
       " '(',\n",
       " 'NCC-1701-D',\n",
       " ')',\n",
       " 'was',\n",
       " 'a',\n",
       " '24th',\n",
       " 'century',\n",
       " 'United',\n",
       " 'Federation',\n",
       " 'of',\n",
       " 'Planets',\n",
       " 'Galaxy',\n",
       " 'Class',\n",
       " 'starship',\n",
       " 'operated',\n",
       " 'by',\n",
       " 'Starfleet',\n",
       " ',',\n",
       " 'and',\n",
       " 'the',\n",
       " 'fifth',\n",
       " 'Federation',\n",
       " 'ship',\n",
       " 'to',\n",
       " 'bear',\n",
       " 'the',\n",
       " 'name',\n",
       " 'Enterprise',\n",
       " '.',\n",
       " 'During',\n",
       " 'her',\n",
       " 'career',\n",
       " ',',\n",
       " 'the',\n",
       " 'Enterprise',\n",
       " 'served',\n",
       " 'as',\n",
       " 'the',\n",
       " 'Federation',\n",
       " 'flagship',\n",
       " '.',\n",
       " 'The',\n",
       " 'Enterprise',\n",
       " 'was',\n",
       " 'destroyed',\n",
       " 'during',\n",
       " 'the',\n",
       " 'Battle',\n",
       " 'of',\n",
       " 'Veridian',\n",
       " 'III',\n",
       " 'in',\n",
       " '2371',\n",
       " '.',\n",
       " 'History',\n",
       " '=Construction',\n",
       " 'and',\n",
       " 'launch',\n",
       " '=',\n",
       " 'The',\n",
       " 'Enterprise',\n",
       " 'was',\n",
       " 'built',\n",
       " 'at',\n",
       " 'Utopia',\n",
       " 'Planitia',\n",
       " 'Fleet',\n",
       " 'Yards',\n",
       " 'orbiting',\n",
       " 'Mars',\n",
       " 'in',\n",
       " 'the',\n",
       " 'Solar',\n",
       " 'system',\n",
       " '.',\n",
       " 'The',\n",
       " 'construction',\n",
       " 'was',\n",
       " 'a',\n",
       " 'massive',\n",
       " 'undertaking',\n",
       " ',',\n",
       " 'involving',\n",
       " 'thousands',\n",
       " 'of',\n",
       " 'people',\n",
       " 'across',\n",
       " 'disciplines',\n",
       " '.',\n",
       " 'Construction',\n",
       " 'was',\n",
       " 'supervised',\n",
       " 'by',\n",
       " 'Commander',\n",
       " 'Orfil',\n",
       " 'Quinteros',\n",
       " '.',\n",
       " 'Dr.',\n",
       " 'Leah',\n",
       " 'Brahms',\n",
       " 'was',\n",
       " 'responsible',\n",
       " 'for',\n",
       " 'much',\n",
       " 'of',\n",
       " 'the',\n",
       " 'Enterprise',\n",
       " \"'s\",\n",
       " 'warp',\n",
       " 'propulsion',\n",
       " 'system',\n",
       " 'design',\n",
       " '.',\n",
       " 'Some',\n",
       " 'of',\n",
       " 'the',\n",
       " 'Enterprise',\n",
       " \"'s\",\n",
       " 'components',\n",
       " 'were',\n",
       " 'derived',\n",
       " 'from',\n",
       " 'technology',\n",
       " 'originally',\n",
       " 'developed',\n",
       " 'on',\n",
       " 'the',\n",
       " 'USS',\n",
       " 'Pegasus',\n",
       " '.',\n",
       " 'One',\n",
       " 'of',\n",
       " 'the',\n",
       " 'ship',\n",
       " \"'s\",\n",
       " 'nacelle',\n",
       " 'tube',\n",
       " 'was',\n",
       " 'the',\n",
       " 'site',\n",
       " 'of',\n",
       " 'a',\n",
       " 'multiple',\n",
       " 'murder-suicide',\n",
       " 'while',\n",
       " 'she',\n",
       " 'was',\n",
       " 'still',\n",
       " 'under',\n",
       " 'construction',\n",
       " 'at',\n",
       " 'Utopia',\n",
       " 'Planitia',\n",
       " '.',\n",
       " 'A',\n",
       " 'member',\n",
       " 'of',\n",
       " 'the',\n",
       " 'construction',\n",
       " 'team',\n",
       " ',',\n",
       " 'Walter',\n",
       " 'Pierce',\n",
       " ',',\n",
       " 'became',\n",
       " 'jealous',\n",
       " 'of',\n",
       " 'a',\n",
       " 'former',\n",
       " 'lover',\n",
       " \"'s\",\n",
       " 'new',\n",
       " 'relationship',\n",
       " '.',\n",
       " 'He',\n",
       " 'killed',\n",
       " 'the',\n",
       " 'two',\n",
       " 'officers',\n",
       " ',',\n",
       " 'Marla',\n",
       " 'Finn',\n",
       " 'and',\n",
       " 'William',\n",
       " 'Hodges',\n",
       " ',',\n",
       " 'then',\n",
       " 'disposed',\n",
       " 'of',\n",
       " 'their',\n",
       " 'bodies',\n",
       " 'in',\n",
       " 'the',\n",
       " 'plasma',\n",
       " 'stream',\n",
       " '.',\n",
       " 'Pierce',\n",
       " 'committed',\n",
       " 'suicide',\n",
       " 'in',\n",
       " 'the',\n",
       " 'same',\n",
       " 'manner',\n",
       " ',',\n",
       " 'leaving',\n",
       " 'a',\n",
       " 'telepathic',\n",
       " 'imprint',\n",
       " 'in',\n",
       " 'a',\n",
       " 'bulkhead',\n",
       " 'that',\n",
       " 'was',\n",
       " 'not',\n",
       " 'discovered',\n",
       " 'until',\n",
       " '2370',\n",
       " '.',\n",
       " 'On',\n",
       " 'stardate',\n",
       " '40759.5',\n",
       " ',',\n",
       " 'in',\n",
       " 'the',\n",
       " 'year',\n",
       " '2363',\n",
       " ',',\n",
       " 'the',\n",
       " 'Enterprise',\n",
       " 'was',\n",
       " 'launched',\n",
       " 'from',\n",
       " 'Mars',\n",
       " '.',\n",
       " 'On',\n",
       " 'stardate',\n",
       " '41025.5',\n",
       " ',',\n",
       " 'the',\n",
       " 'Enterprise',\n",
       " 'was',\n",
       " 'commissioned',\n",
       " '.',\n",
       " 'These',\n",
       " 'stardates',\n",
       " 'were',\n",
       " \"n't\",\n",
       " 'mentioned',\n",
       " 'in',\n",
       " 'dialog',\n",
       " ';',\n",
       " 'they',\n",
       " 'were',\n",
       " 'from',\n",
       " 'the',\n",
       " 'Enterprise',\n",
       " 'dedication',\n",
       " 'plaque',\n",
       " '.',\n",
       " 'Final',\n",
       " 'systems',\n",
       " 'completion',\n",
       " 'and',\n",
       " 'shakedown',\n",
       " 'was',\n",
       " 'conducted',\n",
       " 'at',\n",
       " 'Earth',\n",
       " 'Station',\n",
       " 'McKinley',\n",
       " '.',\n",
       " 'Captain',\n",
       " 'Jean-Luc',\n",
       " 'Picard',\n",
       " 'took',\n",
       " 'command',\n",
       " 'of',\n",
       " 'the',\n",
       " 'ship',\n",
       " 'on',\n",
       " 'stardate',\n",
       " '41148',\n",
       " 'at',\n",
       " 'the',\n",
       " 'order',\n",
       " 'of',\n",
       " 'Rear',\n",
       " 'Admiral',\n",
       " 'Norah',\n",
       " 'Satie',\n",
       " '.',\n",
       " '=Legacy',\n",
       " '=',\n",
       " 'Commander',\n",
       " 'Riker',\n",
       " 'was',\n",
       " 'upset',\n",
       " 'over',\n",
       " 'the',\n",
       " 'loss',\n",
       " 'of',\n",
       " 'the',\n",
       " 'Enterprise',\n",
       " '.',\n",
       " 'Having',\n",
       " 'hoped',\n",
       " 'he',\n",
       " 'would',\n",
       " 'one',\n",
       " 'day',\n",
       " 'command',\n",
       " 'the',\n",
       " 'ship',\n",
       " ',',\n",
       " 'he',\n",
       " 'was',\n",
       " 'disappointed',\n",
       " 'that',\n",
       " 'he',\n",
       " 'never',\n",
       " 'got',\n",
       " 'that',\n",
       " 'opportunity',\n",
       " '.',\n",
       " 'However',\n",
       " ',',\n",
       " 'Picard',\n",
       " 'expressed',\n",
       " 'doubt',\n",
       " 'that',\n",
       " 'the',\n",
       " 'Enterprise-D',\n",
       " 'would',\n",
       " 'be',\n",
       " 'the',\n",
       " 'last',\n",
       " 'vessel',\n",
       " 'to',\n",
       " 'carry',\n",
       " 'the',\n",
       " 'name',\n",
       " '.',\n",
       " 'The',\n",
       " 'Enterprise',\n",
       " 'was',\n",
       " 'so',\n",
       " 'dear',\n",
       " 'to',\n",
       " 'Worf',\n",
       " 'that',\n",
       " ',',\n",
       " 'shortly',\n",
       " 'after',\n",
       " 'being',\n",
       " 'reassigned',\n",
       " 'to',\n",
       " 'Deep',\n",
       " 'Space',\n",
       " '9',\n",
       " 'in',\n",
       " '2372',\n",
       " ',',\n",
       " 'he',\n",
       " 'briefly',\n",
       " 'considered',\n",
       " 'resigning',\n",
       " 'from',\n",
       " 'Starfleet',\n",
       " '.',\n",
       " 'Station',\n",
       " 'commander',\n",
       " 'Captain',\n",
       " 'Benjamin',\n",
       " 'Sisko',\n",
       " 'expressed',\n",
       " 'regret',\n",
       " 'on',\n",
       " 'the',\n",
       " 'loss',\n",
       " 'of',\n",
       " 'the',\n",
       " 'Enterprise',\n",
       " 'and',\n",
       " 'offered',\n",
       " 'his',\n",
       " 'condolences',\n",
       " 'over',\n",
       " 'the',\n",
       " 'destruction',\n",
       " 'of',\n",
       " 'the',\n",
       " 'ship',\n",
       " 'to',\n",
       " 'Worf',\n",
       " ',',\n",
       " 'saying',\n",
       " 'the',\n",
       " 'Enterprise',\n",
       " '``',\n",
       " 'was',\n",
       " 'a',\n",
       " 'good',\n",
       " 'ship',\n",
       " '.',\n",
       " \"''\",\n",
       " 'Captain',\n",
       " 'Picard',\n",
       " \"'s\",\n",
       " 'belief',\n",
       " 'that',\n",
       " 'the',\n",
       " 'Enterprise-D',\n",
       " 'would',\n",
       " 'not',\n",
       " 'be',\n",
       " 'the',\n",
       " 'final',\n",
       " 'ship',\n",
       " 'to',\n",
       " 'bear',\n",
       " 'the',\n",
       " 'name',\n",
       " 'was',\n",
       " 'borne',\n",
       " 'out',\n",
       " 'with',\n",
       " 'the',\n",
       " 'christening',\n",
       " 'of',\n",
       " 'the',\n",
       " 'Class',\n",
       " 'Sovereign',\n",
       " 'USS',\n",
       " 'Enterprise',\n",
       " 'NCC-1701-E',\n",
       " ',',\n",
       " 'later',\n",
       " 'the',\n",
       " 'same',\n",
       " 'year',\n",
       " '.',\n",
       " 'In',\n",
       " 'that',\n",
       " 'instance',\n",
       " ',',\n",
       " 'the',\n",
       " 'legacy',\n",
       " 'of',\n",
       " 'the',\n",
       " 'Enterprise',\n",
       " 'continued',\n",
       " 'with',\n",
       " 'Picard',\n",
       " 'reprising',\n",
       " 'his',\n",
       " 'role',\n",
       " 'as',\n",
       " 'CO',\n",
       " 'and',\n",
       " 'selecting',\n",
       " 'most',\n",
       " 'of',\n",
       " 'the',\n",
       " 'former',\n",
       " 'crew',\n",
       " 'from',\n",
       " 'the',\n",
       " 'Enterprise-D',\n",
       " ',',\n",
       " 'with',\n",
       " 'the',\n",
       " 'notable',\n",
       " 'exception',\n",
       " 'of',\n",
       " 'Worf',\n",
       " 'due',\n",
       " 'to',\n",
       " 'his',\n",
       " 'most',\n",
       " 'recent',\n",
       " 'assignment',\n",
       " 'to',\n",
       " 'DS9',\n",
       " '(',\n",
       " 'though',\n",
       " 'he',\n",
       " 'temporarily',\n",
       " 'joined',\n",
       " 'the',\n",
       " 'Enterprise-E',\n",
       " 'crew',\n",
       " 'on',\n",
       " 'several',\n",
       " 'of',\n",
       " 'their',\n",
       " 'more',\n",
       " 'notable',\n",
       " 'missions',\n",
       " ')',\n",
       " '.']"
      ]
     },
     "execution_count": 19,
     "metadata": {},
     "output_type": "execute_result"
    }
   ],
   "source": [
    "tokens"
   ]
  },
  {
   "cell_type": "code",
   "execution_count": 20,
   "metadata": {
    "ExecuteTime": {
     "end_time": "2020-10-07T06:27:04.618540Z",
     "start_time": "2020-10-07T06:27:01.440Z"
    },
    "colab": {},
    "colab_type": "code",
    "id": "G5C3ituYLNPZ",
    "outputId": "db39aade-f506-4b45-ed1e-56327c19e4f7"
   },
   "outputs": [
    {
     "data": {
      "image/png": "[encoded data removed]",
      "text/plain": [
       "<Figure size 1152x432 with 1 Axes>"
      ]
     },
     "metadata": {
      "needs_background": "light"
     },
     "output_type": "display_data"
    }
   ],
   "source": [
    "plot_words(tokens)"
   ]
  },
  {
   "cell_type": "markdown",
   "metadata": {},
   "source": [
    "### Stop words"
   ]
  },
  {
   "cell_type": "code",
   "execution_count": 37,
   "metadata": {
    "ExecuteTime": {
     "end_time": "2020-10-07T06:27:04.620114Z",
     "start_time": "2020-10-07T06:27:01.441Z"
    },
    "colab": {},
    "colab_type": "code",
    "id": "BnY2rFzuLNPj",
    "outputId": "f64087cd-8e4b-4df5-fb2d-7b04851bde34",
    "scrolled": true
   },
   "outputs": [
    {
     "name": "stdout",
     "output_type": "stream",
     "text": [
      "a, about, above, after, again, against, ain, all, am, an, and, any, are, aren, aren't, as, at, be, because, been, before, being, below, between, both, but, by, can, couldn, couldn't, d, did, didn, didn't, do, does, doesn, doesn't, doing, don, don't, down, during, each, few, for, from, further, had, hadn, hadn't, has, hasn, hasn't, have, haven, haven't, having, he, her, here, hers, herself, him, himself, his, how, i, if, in, into, is, isn, isn't, it, it's, its, itself, just, ll, m, ma, me, mightn, mightn't, more, most, mustn, mustn't, my, myself, needn, needn't, no, nor, not, now, o, of, off, on, once, only, or, other, our, ours, ourselves, out, over, own, re, s, same, shan, shan't, she, she's, should, should've, shouldn, shouldn't, so, some, such, t, than, that, that'll, the, their, theirs, them, themselves, then, there, these, they, this, those, through, to, too, under, until, up, ve, very, was, wasn, wasn't, we, were, weren, weren't, what, when, where, which, while, who, whom, why, will, with, won, won't, wouldn, wouldn't, y, you, you'd, you'll, you're, you've, your, yours, yourself, yourselves\n"
     ]
    }
   ],
   "source": [
    "stopWords = nltk.corpus.stopwords.words('english')\n",
    "\n",
    "stopWords.sort()\n",
    "print(', '.join(stopWords))\n"
   ]
  },
  {
   "cell_type": "code",
   "execution_count": 39,
   "metadata": {
    "ExecuteTime": {
     "end_time": "2020-10-07T06:27:04.621900Z",
     "start_time": "2020-10-07T06:27:01.443Z"
    },
    "colab": {},
    "colab_type": "code",
    "id": "dksPJF7YcI1o"
   },
   "outputs": [],
   "source": [
    "# ANSWER - create a list of tokens withOUT the stop words\n",
    "# NOTE: see the `.lower()` method applied to token\n",
    "# tokens_no_stop = '.' # create a list of tokens withOUT the stop words \n",
    "tokens_no_stop = [word for word in tokens if word not in stopWords]\n",
    "\n",
    "#tokens\n",
    "#stopWords \n",
    "\n",
    "tokens_no_stop = []\n",
    "\n",
    "for i in tokens:\n",
    "    if i not in stopWords:\n",
    "        tokens_no_stop.append(i)\n",
    "        "
   ]
  },
  {
   "cell_type": "code",
   "execution_count": 40,
   "metadata": {},
   "outputs": [],
   "source": [
    "# tokens_no_stop = [i for i in tokens if i not in stopWords]"
   ]
  },
  {
   "cell_type": "code",
   "execution_count": 41,
   "metadata": {},
   "outputs": [
    {
     "name": "stdout",
     "output_type": "stream",
     "text": [
      "i | with stop words without\n",
      "--| --------------- ------------\n"
     ]
    }
   ],
   "source": [
    "## NLTK\n",
    "i = 0\n",
    "j = 0\n",
    "\n",
    "print('i | with stop words without')\n",
    "print('--| --------------- ------------')"
   ]
  },
  {
   "cell_type": "code",
   "execution_count": 42,
   "metadata": {},
   "outputs": [
    {
     "data": {
      "text/plain": [
       "'('"
      ]
     },
     "execution_count": 42,
     "metadata": {},
     "output_type": "execute_result"
    }
   ],
   "source": [
    "tokens_no_stop[2]"
   ]
  },
  {
   "cell_type": "code",
   "execution_count": 43,
   "metadata": {},
   "outputs": [
    {
     "name": "stdout",
     "output_type": "stream",
     "text": [
      " 1| 'USS'           'USS'\n",
      " 2| 'Enterprise'    'Enterprise'\n",
      " 3| '('             '('\n",
      " 4| 'NCC-1701-D'    'NCC-1701-D'\n",
      " 5| ')'             ')'\n",
      " 6| \"''\"            \"''\"\n",
      " 7| 'For'           'For'\n",
      " 8| 'five'          'five'\n",
      " 9| 'hundred'       'hundred'\n",
      "10| 'years'         'years'\n",
      "11| ','             ','\n",
      "12| 'every'         'every'\n",
      "13| 'ship'          'ship'\n",
      "14| 'that'         \n",
      "15| 'has'          \n",
      "16| 'borne'         'borne'\n",
      "17| 'the'          \n",
      "18| 'name'          'name'\n",
      "19| 'of'           \n",
      "20| 'the'          \n",
      "21| 'Enterprise'    'Enterprise'\n",
      "22| 'has'          \n",
      "23| 'become'        'become'\n",
      "24| 'a'            \n",
      "25| 'legend'        'legend'\n",
      "26| '.'             '.'\n"
     ]
    }
   ],
   "source": [
    "# for all the tokens\n",
    "while i < len(tokens):\n",
    "    # same word\n",
    "    if tokens[i] == tokens_no_stop[j]:\n",
    "        print('%2d| %-15r %r' % (i+1, tokens[i], tokens_no_stop[j]))\n",
    "        j += 1\n",
    "    # not the same word\n",
    "    else:\n",
    "        print('%2d| %-15r' % (i+1, tokens[i]))\n",
    "\n",
    "    # next word\n",
    "    i += 1\n",
    "    # break after the first sentence\n",
    "    if tokens[i-1] == '.':\n",
    "        break"
   ]
  },
  {
   "cell_type": "code",
   "execution_count": null,
   "metadata": {
    "ExecuteTime": {
     "end_time": "2020-10-07T06:27:04.623626Z",
     "start_time": "2020-10-07T06:27:01.444Z"
    },
    "colab": {},
    "colab_type": "code",
    "id": "a82KBILRLNPm",
    "outputId": "b33cef88-79ab-4e06-9c0e-9f2a4a588306"
   },
   "outputs": [],
   "source": [
    "\n",
    "\n"
   ]
  },
  {
   "cell_type": "code",
   "execution_count": null,
   "metadata": {},
   "outputs": [],
   "source": []
  },
  {
   "cell_type": "code",
   "execution_count": 27,
   "metadata": {
    "ExecuteTime": {
     "end_time": "2020-10-07T06:27:04.625071Z",
     "start_time": "2020-10-07T06:27:01.445Z"
    },
    "colab": {},
    "colab_type": "code",
    "id": "uPtOoiwuLNPo"
   },
   "outputs": [],
   "source": [
    "# ANSWER - Create plot of words without stopword"
   ]
  },
  {
   "cell_type": "markdown",
   "metadata": {},
   "source": [
    "### Check Part of Speech"
   ]
  },
  {
   "cell_type": "code",
   "execution_count": 28,
   "metadata": {
    "ExecuteTime": {
     "end_time": "2020-10-07T06:27:04.626712Z",
     "start_time": "2020-10-07T06:27:01.447Z"
    },
    "colab": {},
    "colab_type": "code",
    "id": "KRupju0sLNPv"
   },
   "outputs": [],
   "source": [
    "# define PoS\n",
    "pos_list = {\n",
    "    'CC':   'coordinating conjunction',\n",
    "    'CD':   'cardinal digit',\n",
    "    'DT':   'determiner',\n",
    "    'EX':   'existential there (like: \"there is\" ... think of it like \"there exists\")',\n",
    "    'FW':   'foreign word',\n",
    "    'IN':   'preposition/subordinating conjunction',\n",
    "    'JJ':   'adjective \"big\"',\n",
    "    'JJR':  'adjective, comparative \"bigger\"',\n",
    "    'JJS':  'adjective, superlative \"biggest\"',\n",
    "    'LS':   'list marker 1)',\n",
    "    'MD':   'modal could, will',\n",
    "    'NN':   'noun, singular \"desk\"',\n",
    "    'NNS':  'noun plural \"desks\"',\n",
    "    'NNP':  'proper noun, singular \"Harrison\"',\n",
    "    'NNPS': 'proper noun, plural \"Americans\"',\n",
    "    'PDT':  'predeterminer \"all the kids\"',\n",
    "    'POS':  'possessive ending parent\"s',\n",
    "    'PRP':  'personal pronoun I, he, she',\n",
    "    'PRP$': 'possessive pronoun my, his, hers',\n",
    "    'RB':   'adverb very, silently,',\n",
    "    'RBR':  'adverb, comparative better',\n",
    "    'RBS':  'adverb, superlative best',\n",
    "    'RP':   'particle give up',\n",
    "    'TO':   'to go \"to\" the store.',\n",
    "    'UH':   'interjection errrrrrrrm',\n",
    "    'VB':   'verb, base form take',\n",
    "    'VBD':  'verb, past tense took',\n",
    "    'VBG':  'verb, gerund/present participle taking',\n",
    "    'VBN':  'verb, past participle taken',\n",
    "    'VBP':  'verb, sing. present, non-3d take',\n",
    "    'VBZ':  'verb, 3rd person sing. present takes',\n",
    "    'WDT':  'wh-determiner which',\n",
    "    'WP':   'wh-pronoun who, what',\n",
    "    'WP$':  'possessive wh-pronoun whose',\n",
    "    'WRB':  'wh-abverb where, when',\n",
    "}"
   ]
  },
  {
   "cell_type": "code",
   "execution_count": 29,
   "metadata": {
    "ExecuteTime": {
     "end_time": "2020-10-07T06:27:04.628228Z",
     "start_time": "2020-10-07T06:27:01.448Z"
    },
    "colab": {},
    "colab_type": "code",
    "id": "asqUoCHgLNPx",
    "outputId": "6e3cab17-f736-49f3-ce62-8e759d72ac35",
    "scrolled": false
   },
   "outputs": [
    {
     "name": "stdout",
     "output_type": "stream",
     "text": [
      " 1|'USS'        : NNP  proper noun, singular \"Harrison\"\n",
      " 2|'Enterprise' : NNP  proper noun, singular \"Harrison\"\n",
      " 3|'('          : (    -\n",
      " 4|'NCC-1701-D' : NNP  proper noun, singular \"Harrison\"\n",
      " 5|')'          : )    -\n",
      " 6|\"''\"         : ''   -\n",
      " 7|'For'        : IN   preposition/subordinating conjunction\n",
      " 8|'five'       : CD   cardinal digit\n",
      " 9|'hundred'    : CD   cardinal digit\n",
      "10|'years'      : NNS  noun plural \"desks\"\n",
      "11|','          : ,    -\n",
      "12|'every'      : DT   determiner\n",
      "13|'ship'       : NN   noun, singular \"desk\"\n",
      "14|'that'       : WDT  wh-determiner which\n",
      "15|'has'        : VBZ  verb, 3rd person sing. present takes\n",
      "16|'borne'      : VBN  verb, past participle taken\n",
      "17|'the'        : DT   determiner\n",
      "18|'name'       : NN   noun, singular \"desk\"\n",
      "19|'of'         : IN   preposition/subordinating conjunction\n",
      "20|'the'        : DT   determiner\n",
      "21|'Enterprise' : NNP  proper noun, singular \"Harrison\"\n",
      "22|'has'        : VBZ  verb, 3rd person sing. present takes\n",
      "23|'become'     : VBN  verb, past participle taken\n",
      "24|'a'          : DT   determiner\n",
      "25|'legend'     : NN   noun, singular \"desk\"\n"
     ]
    }
   ],
   "source": [
    "## nltk\n",
    "tagged = nltk.pos_tag(tokens)\n",
    "\n",
    "for i, t in enumerate(tagged[:25]):\n",
    "    print('%2d|%-12r : %-4s %s' % (i+1, t[0], t[1], (pos_list[t[1]] if t[1] in pos_list else '-')))"
   ]
  },
  {
   "cell_type": "markdown",
   "metadata": {
    "colab_type": "text",
    "id": "_n9qMgyULNP1"
   },
   "source": [
    "### Stemming"
   ]
  },
  {
   "cell_type": "code",
   "execution_count": 30,
   "metadata": {
    "ExecuteTime": {
     "end_time": "2020-10-07T06:27:04.629787Z",
     "start_time": "2020-10-07T06:27:01.450Z"
    },
    "colab": {},
    "colab_type": "code",
    "id": "pL1vRUzxLNP2"
   },
   "outputs": [],
   "source": [
    "## nltk\n",
    "ps = nltk.porter.PorterStemmer()\n",
    "stemmed = ' '.join([ps.stem(word) for word in text.split()])"
   ]
  },
  {
   "cell_type": "markdown",
   "metadata": {
    "colab_type": "text",
    "id": "2d9a6QazLNP4"
   },
   "source": [
    "### Lemmatisation"
   ]
  },
  {
   "cell_type": "code",
   "execution_count": 31,
   "metadata": {
    "ExecuteTime": {
     "end_time": "2020-10-07T06:27:04.631193Z",
     "start_time": "2020-10-07T06:27:01.452Z"
    },
    "colab": {},
    "colab_type": "code",
    "id": "OAbriUsXLNP7",
    "scrolled": true
   },
   "outputs": [],
   "source": [
    "## nltk\n",
    "wl = nltk.stem.WordNetLemmatizer()\n",
    "lemma = ' '.join([wl.lemmatize(word) for word in text.split()])"
   ]
  },
  {
   "cell_type": "code",
   "execution_count": 32,
   "metadata": {
    "ExecuteTime": {
     "end_time": "2020-10-07T06:27:04.632590Z",
     "start_time": "2020-10-07T06:27:01.453Z"
    },
    "colab": {},
    "colab_type": "code",
    "id": "yVIqX7HBLNP9",
    "outputId": "26f47e5f-7927-4ceb-e7aa-148b1a0d6798"
   },
   "outputs": [
    {
     "name": "stdout",
     "output_type": "stream",
     "text": [
      "i | Stem           Lemma\n",
      "--| -------------- ------------\n",
      " 1| 'uss'          'USS'       \n",
      " 2| 'enterpris'    'Enterprise'\n",
      " 3| '(ncc-1701-d)'   '(NCC-1701-D)'\n",
      " 4| '\"for'         '\"For'      \n",
      " 5| 'five'         'five'      \n",
      " 6| 'hundr'        'hundred'   \n",
      " 7| 'years,'       'years,'    \n",
      " 8| 'everi'        'every'     \n",
      " 9| 'ship'         'ship'      \n",
      "10| 'that'         'that'      \n",
      "11| 'ha'           'ha'        \n",
      "12| 'born'         'borne'     \n",
      "13| 'the'          'the'       \n",
      "14| 'name'         'name'      \n",
      "15| 'of'           'of'        \n",
      "16| 'the'          'the'       \n",
      "17| 'enterpris'    'Enterprise'\n",
      "18| 'ha'           'ha'        \n",
      "19| 'becom'        'become'    \n",
      "20| 'a'            'a'         \n",
      "21| 'legend.'      'legend.'   \n"
     ]
    }
   ],
   "source": [
    "## nltk\n",
    "dot = stemmed.find('.') + 1\n",
    "sl = stemmed[:dot].split()\n",
    "dot = lemma.find('.') + 1\n",
    "ll = lemma[:dot].split()\n",
    "\n",
    "print('i | Stem           Lemma')\n",
    "print('--| -------------- ------------')\n",
    "for i, p in enumerate(zip(sl, ll)):\n",
    "    print('%2d| %-12r   %-12r' % (i+1, p[0], p[1]))"
   ]
  },
  {
   "cell_type": "code",
   "execution_count": 33,
   "metadata": {
    "ExecuteTime": {
     "end_time": "2020-10-07T06:27:04.634005Z",
     "start_time": "2020-10-07T06:27:01.455Z"
    },
    "colab": {},
    "colab_type": "code",
    "id": "eG4yOgwVLNP-",
    "outputId": "70476f16-7ac6-4c40-e39f-7a6547c11fec"
   },
   "outputs": [
    {
     "data": {
      "image/png": "[encoded data removed]",
      "text/plain": [
       "<Figure size 1152x432 with 1 Axes>"
      ]
     },
     "metadata": {
      "needs_background": "light"
     },
     "output_type": "display_data"
    }
   ],
   "source": [
    "plot_words(stemmed.split())"
   ]
  },
  {
   "cell_type": "code",
   "execution_count": 34,
   "metadata": {
    "ExecuteTime": {
     "end_time": "2020-10-07T06:27:04.635904Z",
     "start_time": "2020-10-07T06:27:01.457Z"
    },
    "colab": {},
    "colab_type": "code",
    "id": "uEJR57TYLNQA",
    "outputId": "e96f9bb4-cdfc-432c-b0af-bcdb3a6c2c6c",
    "scrolled": true
   },
   "outputs": [
    {
     "data": {
      "image/png": "[encoded data removed]",
      "text/plain": [
       "<Figure size 1152x432 with 1 Axes>"
      ]
     },
     "metadata": {
      "needs_background": "light"
     },
     "output_type": "display_data"
    }
   ],
   "source": [
    "plot_words(lemma.split())"
   ]
  },
  {
   "cell_type": "markdown",
   "metadata": {},
   "source": [
    "### Entity recognition"
   ]
  },
  {
   "cell_type": "code",
   "execution_count": 44,
   "metadata": {
    "ExecuteTime": {
     "end_time": "2020-10-07T06:27:04.637228Z",
     "start_time": "2020-10-07T06:27:01.459Z"
    },
    "colab": {},
    "colab_type": "code",
    "id": "sw6fYdgXLNQG",
    "outputId": "a83ea9db-825d-4031-8112-f022b71f565b"
   },
   "outputs": [
    {
     "name": "stdout",
     "output_type": "stream",
     "text": [
      "ORGANIZATION: USS Enterprise\n",
      "ORGANIZATION: Enterprise\n",
      "ORGANIZATION: USS Enterprise\n",
      "PERSON      : United Federation\n",
      "ORGANIZATION: Planets Galaxy\n",
      "PERSON      : Starfleet\n",
      "ORGANIZATION: Enterprise\n",
      "ORGANIZATION: Federation\n",
      "ORGANIZATION: Battle\n",
      "GPE         : Veridian\n",
      "PERSON      : History\n",
      "ORGANIZATION: Utopia Planitia Fleet\n",
      "PERSON      : Mars\n",
      "ORGANIZATION: Solar\n",
      "ORGANIZATION: Commander Orfil Quinteros\n",
      "PERSON      : Brahms\n",
      "ORGANIZATION: Enterprise\n",
      "ORGANIZATION: Enterprise\n",
      "ORGANIZATION: USS Pegasus\n",
      "ORGANIZATION: Utopia Planitia\n",
      "PERSON      : Walter Pierce\n",
      "PERSON      : Marla Finn\n",
      "PERSON      : William Hodges\n",
      "PERSON      : Pierce\n",
      "ORGANIZATION: Enterprise\n",
      "PERSON      : Mars\n",
      "ORGANIZATION: Enterprise\n",
      "ORGANIZATION: Enterprise\n",
      "FACILITY    : Earth Station McKinley\n",
      "PERSON      : Captain Jean-Luc Picard\n",
      "ORGANIZATION: Rear Admiral Norah Satie\n",
      "ORGANIZATION: Commander Riker\n",
      "ORGANIZATION: Enterprise\n",
      "PERSON      : Picard\n",
      "PERSON      : Deep Space\n",
      "GPE         : Starfleet\n",
      "PERSON      : Captain Benjamin Sisko\n",
      "ORGANIZATION: Enterprise\n",
      "GPE         : Worf\n",
      "ORGANIZATION: Enterprise\n",
      "PERSON      : Picard\n",
      "ORGANIZATION: Class Sovereign\n",
      "ORGANIZATION: Enterprise\n",
      "PERSON      : Picard\n",
      "ORGANIZATION: CO\n",
      "GPE         : Worf\n",
      "ORGANIZATION: DS9\n"
     ]
    }
   ],
   "source": [
    "## nltk\n",
    "entities = nltk.chunk.ne_chunk(tagged)\n",
    "\n",
    "for e in entities:\n",
    "    s = re.sub(r'[\\(\\)]', '', str(e))\n",
    "    if s.find('/NNP') > 0:\n",
    "        t = s.split()[0]\n",
    "        n = ' '.join([re.sub(r'/NNP', '', x) for x in s.split()[1:]])\n",
    "        print('%-12s: %s' % (t, n))"
   ]
  },
  {
   "cell_type": "code",
   "execution_count": null,
   "metadata": {},
   "outputs": [],
   "source": []
  }
 ],
 "metadata": {
  "colab": {
   "collapsed_sections": [],
   "name": "IOD_Lab-9_5.ipynb",
   "provenance": []
  },
  "kernelspec": {
   "display_name": "Python 3",
   "language": "python",
   "name": "python3"
  },
  "language_info": {
   "codemirror_mode": {
    "name": "ipython",
    "version": 3
   },
   "file_extension": ".py",
   "mimetype": "text/x-python",
   "name": "python",
   "nbconvert_exporter": "python",
   "pygments_lexer": "ipython3",
   "version": "3.8.8"
  },
  "toc": {
   "base_numbering": 1,
   "nav_menu": {},
   "number_sections": true,
   "sideBar": true,
   "skip_h1_title": false,
   "title_cell": "Table of Contents",
   "title_sidebar": "Contents",
   "toc_cell": false,
   "toc_position": {
    "height": "calc(100% - 180px)",
    "left": "10px",
    "top": "150px",
    "width": "243.976px"
   },
   "toc_section_display": true,
   "toc_window_display": true
  },
  "varInspector": {
   "cols": {
    "lenName": 16,
    "lenType": 16,
    "lenVar": 40
   },
   "kernels_config": {
    "python": {
     "delete_cmd_postfix": "",
     "delete_cmd_prefix": "del ",
     "library": "var_list.py",
     "varRefreshCmd": "print(var_dic_list())"
    },
    "r": {
     "delete_cmd_postfix": ") ",
     "delete_cmd_prefix": "rm(",
     "library": "var_list.r",
     "varRefreshCmd": "cat(var_dic_list()) "
    }
   },
   "types_to_exclude": [
    "module",
    "function",
    "builtin_function_or_method",
    "instance",
    "_Feature"
   ],
   "window_display": false
  }
 },
 "nbformat": 4,
 "nbformat_minor": 1
}
