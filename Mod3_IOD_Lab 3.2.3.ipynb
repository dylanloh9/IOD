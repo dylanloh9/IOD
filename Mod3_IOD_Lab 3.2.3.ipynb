{
 "cells": [
  {
   "cell_type": "markdown",
   "metadata": {
    "id": "pnuFCWMAORxw"
   },
   "source": [
    "<div>\n",
    "<img src=https://www.institutedata.com/wp-content/uploads/2019/10/iod_h_tp_primary_c.svg width=\"300\">\n",
    "</div>"
   ]
  },
  {
   "cell_type": "markdown",
   "metadata": {
    "id": "iM_6Cey1ORx2"
   },
   "source": [
    "# Lab 3.2.3 Statistical Inference"
   ]
  },
  {
   "cell_type": "markdown",
   "metadata": {
    "id": "JuiuvgD1VXE2"
   },
   "source": [
    "# Data\n",
    "\n",
    "You can find the original data [here](https://archive.ics.uci.edu/ml/machine-learning-databases/housing/housing.data).\n",
    "\n",
    "Data dictionary is available [here](https://www.cs.toronto.edu/~delve/data/boston/bostonDetail.html).\n",
    "\n",
    "This dataset contains information collected by the U.S Census Service concerning housing in the area of Boston Mass. It was obtained from the StatLib archive (http://lib.stat.cmu.edu/datasets/boston), and has been used extensively throughout the literature to benchmark algorithms. However, these comparisons were primarily done outside of Delve and are thus somewhat suspect. The dataset is small in size with only 506 cases.\n",
    "\n",
    "The data was originally published by Harrison, D. and Rubinfeld, D.L. Hedonic prices and the demand for clean air', J. Environ. Economics & Management, vol.5, 81-102, 1978.\n",
    "\n",
    "Dataset Naming\n",
    "\n",
    "The name for this dataset is simply boston. It has two prototasks: nox, in which the nitrous oxide level is to be predicted; and price, in which the median value of a home is to be predicted\n",
    "\n",
    "Miscellaneous Details\n",
    "\n",
    "-Origin\n",
    "The origin of the boston housing data is Natural.\n",
    "\n",
    "-Usage\n",
    "This dataset may be used for Assessment.\n",
    "\n",
    "-Number of Cases\n",
    "The dataset contains a total of 506 cases.\n",
    "\n",
    "-Order\n",
    "The order of the cases is mysterious.\n",
    "\n",
    "-Variables\n",
    "\n",
    "There are 14 attributes in each case of the dataset. They are:\n",
    "\n",
    "    CRIM - per capita crime rate by town\n",
    "    ZN - proportion of residential land zoned for lots over 25,000 sq.ft.\n",
    "    INDUS - proportion of non-retail business acres per town.\n",
    "    CHAS - Charles River dummy variable (1 if tract bounds river; 0 otherwise)\n",
    "    NOX - nitric oxides concentration (parts per 10 million)\n",
    "    RM - average number of rooms per dwelling\n",
    "    AGE - proportion of owner-occupied units built prior to 1940\n",
    "    DIS - weighted distances to five Boston employment centres\n",
    "    RAD - index of accessibility to radial highways\n",
    "    TAX - full-value property-tax rate per 10000\n",
    "    PTRATIO - pupil-teacher ratio by town\n",
    "    B - 1000(Bk - 0.63)^2 where Bk is the proportion of blacks by town\n",
    "    LSTAT - % lower status of the population\n",
    "    MEDV - Median value of owner-occupied homes in 1000"
   ]
  },
  {
   "cell_type": "code",
   "execution_count": 1,
   "metadata": {
    "id": "_WPWzZ3kVXE4"
   },
   "outputs": [],
   "source": [
    "import pandas as pd\n",
    "import numpy as np\n",
    "import math\n",
    "\n",
    "from scipy import stats\n",
    "from matplotlib import pyplot as plt\n",
    "\n",
    "import seaborn as sns\n",
    "sns.set(rc={'figure.figsize': (15, 10)})\n",
    "\n",
    "import pandas as pd\n",
    "pd.set_option(\"display.max_rows\", 120)\n",
    "pd.set_option(\"display.max_columns\", 120)\n",
    "\n",
    "%matplotlib inline"
   ]
  },
  {
   "cell_type": "code",
   "execution_count": 4,
   "metadata": {
    "id": "vU5VWEOWVXE8"
   },
   "outputs": [],
   "source": [
    "# Read CSV\n",
    "names = [\"CRIM\", \"ZN\", \"INDUS\", \"CHAS\", \"NOX\", \"RM\", \"AGE\", \"DIS\", \"RAD\", \"TAX\", \"PTRATIO\", \"B\", \"LSTAT\", \"MEDV\"]\n",
    "df = pd.read_csv(\"../Data/housing.data\", header=None, names=names, delim_whitespace=True)"
   ]
  },
  {
   "cell_type": "code",
   "execution_count": 6,
   "metadata": {
    "id": "LpVnkcT-VXE_"
   },
   "outputs": [
    {
     "data": {
      "text/plain": [
       "0      65.2\n",
       "1      78.9\n",
       "2      61.1\n",
       "3      45.8\n",
       "4      54.2\n",
       "       ... \n",
       "501    69.1\n",
       "502    76.7\n",
       "503    91.0\n",
       "504    89.3\n",
       "505    80.8\n",
       "Name: AGE, Length: 506, dtype: float64"
      ]
     },
     "execution_count": 6,
     "metadata": {},
     "output_type": "execute_result"
    }
   ],
   "source": [
    "# AGE\n",
    "df['AGE']"
   ]
  },
  {
   "cell_type": "markdown",
   "metadata": {
    "id": "j-5yQbxIVXFC"
   },
   "source": [
    "## Find the mean, standard deviation, and the standard error of the mean for variable `AGE`\n",
    "\n",
    "Hint: The standard error of the mean (SEM) can be expressed as:\n",
    "\n",
    "![](https://wikimedia.org/api/rest_v1/media/math/render/svg/f9dac77577c2717cbb973388e4d6563915705742)"
   ]
  },
  {
   "cell_type": "code",
   "execution_count": 11,
   "metadata": {
    "id": "JUPWry0iVXFD"
   },
   "outputs": [
    {
     "name": "stdout",
     "output_type": "stream",
     "text": [
      "Mean = 68.57490118577078, Standard Deviation = 28.148861406903638, Standard Error of Mean = 1.251369525258305.\n"
     ]
    }
   ],
   "source": [
    "# ANSWER\n",
    "AGE_mean = df['AGE'].mean()\n",
    "AGE_std = df['AGE'].std()\n",
    "N = len(df['AGE'])\n",
    "AGE_SEM = AGE_std / math.sqrt(N)\n",
    "print(\"Mean = {}, Standard Deviation = {}, Standard Error of Mean = {}.\".format(AGE_mean, AGE_std, AGE_SEM))"
   ]
  },
  {
   "cell_type": "markdown",
   "metadata": {
    "id": "YmT0j9cgVXFF"
   },
   "source": [
    "#  Central Limit Theorem\n",
    "\n",
    "Recall that the central limit theorem dictates that the distribution of sample means (calculated across different random samples from our overall population) will be normally distributed.\n",
    "\n",
    "We will depend on the Central Limit Theorem again and again in order to do normal probability calculations when we use sample means to draw conclusions about a population mean. We now know that we can do this even if the population distribution is not normal.\n",
    "\n",
    "## Find the sample mean, sample standard deviation, and the sample standard error of the mean for variable `AGE` Using CLT"
   ]
  },
  {
   "cell_type": "code",
   "execution_count": 12,
   "metadata": {
    "id": "H_iwL5r9VXFG"
   },
   "outputs": [],
   "source": [
    "def calculate_sample_mean(df, column_name, N=10, sample_size=5):\n",
    "    '''\n",
    "    df: DataFrame\n",
    "    column_name: String, column_name\n",
    "    N: Number of samples\n",
    "    sample_size: Size of sample for each sample\n",
    "    '''\n",
    "    sample_mean_list = []                               # Stores N number of Mean Values\n",
    "\n",
    "    for i in range(N):\n",
    "        df_sample = df.sample(n=sample_size)            # Creates dataframe of sample_size\n",
    "        sample_mean = df_sample[column_name].mean()     # Extracts Mean of this sample_df\n",
    "        sample_mean_list.append(sample_mean)            # Adds to the sample_mean_list\n",
    "    \n",
    "    return sample_mean_list"
   ]
  },
  {
   "cell_type": "code",
   "execution_count": 13,
   "metadata": {
    "id": "mR4QWTZFVXFJ"
   },
   "outputs": [],
   "source": [
    "def visual_sample_mean(population_mean, sample_mean_list):\n",
    "    '''\n",
    "    population_mean: mean of entire population\n",
    "    sample_mean_list: list of sample mean\n",
    "    '''\n",
    "    \n",
    "    sample_mean = np.mean(sample_mean_list)\n",
    "    \n",
    "    ax = sns.distplot(sample_mean_list);\n",
    "    \n",
    "    # plot a vertical line for population mean and sample mean\n",
    "    ax.axvline(population_mean, color='black', linestyle='solid', lw=1)\n",
    "    ax.axvline(sample_mean, color='red', linestyle='dashed', lw=1)\n",
    "    \n",
    "    plt.xlabel('Mean of Samples')\n",
    "    plt.ylabel('Frequency')\n",
    "\n",
    "    plt.show()"
   ]
  },
  {
   "cell_type": "code",
   "execution_count": 40,
   "metadata": {
    "id": "VGksRnV6VXFN"
   },
   "outputs": [
    {
     "name": "stderr",
     "output_type": "stream",
     "text": [
      "C:\\ProgramData\\Anaconda3\\lib\\site-packages\\seaborn\\distributions.py:2557: FutureWarning: `distplot` is a deprecated function and will be removed in a future version. Please adapt your code to use either `displot` (a figure-level function with similar flexibility) or `histplot` (an axes-level function for histograms).\n",
      "  warnings.warn(msg, FutureWarning)\n"
     ]
    },
    {
     "data": {
      "image/png": "[encoded data removed]",
      "text/plain": [
       "<Figure size 432x288 with 1 Axes>"
      ]
     },
     "metadata": {
      "needs_background": "light"
     },
     "output_type": "display_data"
    }
   ],
   "source": [
    "# ANSWER\n",
    "# The df['AGE'] has 506 samples.\n",
    "# AGE_mean = 68.57490118577078\n",
    "\n",
    "sml = calculate_sample_mean(df, 'AGE', N=100, sample_size=100)\n",
    "visual_sample_mean(AGE_mean, sml)"
   ]
  },
  {
   "cell_type": "markdown",
   "metadata": {
    "id": "nxEKVhZVVXFQ"
   },
   "source": [
    "## [BONUS] Visualize Distribution of Sample Mean "
   ]
  },
  {
   "cell_type": "raw",
   "metadata": {
    "id": "iyvn_9siVXFS"
   },
   "source": [
    "# ANSWER\n",
    "The Sample Mean is 68.5"
   ]
  },
  {
   "cell_type": "markdown",
   "metadata": {
    "id": "wkvVYKkEVXFV"
   },
   "source": [
    "## [BONUS] Visualize Distribution of Sample Mean and Population together"
   ]
  },
  {
   "cell_type": "raw",
   "metadata": {
    "id": "iiq6sK5UVXFW"
   },
   "source": [
    "# ANSWER\n",
    "They will be more and more the same as the sample size increases"
   ]
  },
  {
   "cell_type": "markdown",
   "metadata": {
    "id": "SV9cx_ojOR0V"
   },
   "source": [
    "# Diabetics Data\n",
    "\n",
    "A medical doctor wants to reduce blood sugar level of all his patients by altering their diet. He finds that the mean sugar level of all patients is 180 with a standard deviation of 18. Nine of his patients start dieting and the mean of that sample is 175. The doctor specifies a 99% confidence interval.\n",
    "\n",
    "## What is the standard error of the mean? "
   ]
  },
  {
   "cell_type": "code",
   "execution_count": 41,
   "metadata": {
    "id": "qgqQqeh8OR0W"
   },
   "outputs": [
    {
     "data": {
      "text/plain": [
       "6.0"
      ]
     },
     "execution_count": 41,
     "metadata": {},
     "output_type": "execute_result"
    }
   ],
   "source": [
    "# ANSWER\n",
    "# Mean = 180\n",
    "# Std = 18\n",
    "# 9 patient's Mean = 175\n",
    "# 99% confidence Interval\n",
    "# Formula >> SEM = std / math.sqrt(N)\n",
    "\n",
    "SEM = 18 / math.sqrt(9)\n",
    "SEM"
   ]
  },
  {
   "cell_type": "markdown",
   "metadata": {
    "id": "QT94PCGcOR0Y"
   },
   "source": [
    "## If all patients start dieting, what is the probability that their collective mean will be 175 or less?\n",
    "(Hint: When you have multiple samples and want to describe the standard deviation of those sample means (the standard error), you would use this z score formula:\n",
    "```\n",
    "z = (x – μ) / (σ / √n)\n",
    "```\n",
    "This z-score will tell you how many standard errors there are between the sample mean and the population mean.\n",
    "\n",
    "Treat 180 as the population mean, and use the `norm.cdf` function from `scipy.stats`.)"
   ]
  },
  {
   "cell_type": "raw",
   "metadata": {
    "id": "JdHTcjjQOR0Y"
   },
   "source": [
    "Z-Score is how far away a point is away from MEAN\n",
    "Z-Score Table\n",
    "     Z\n",
    "     0 = 50%\n",
    "     1 = 50% + 34% = 84%\n",
    "     2 = 95%"
   ]
  },
  {
   "cell_type": "code",
   "execution_count": 47,
   "metadata": {},
   "outputs": [
    {
     "data": {
      "text/plain": [
       "-0.8333333333333334"
      ]
     },
     "execution_count": 47,
     "metadata": {},
     "output_type": "execute_result"
    }
   ],
   "source": [
    "#ANSWER\n",
    "# REF https://stats.libretexts.org/Bookshelves/Applied_Statistics/Book%3A_An_Introduction_to_Psychological_Statistics_(Foster_et_al.)/06%3A_Sampling_Distributions/6.03%3A_Using_Standard_Error_for_Probability\n",
    "#1. Convert sample mean score to z-score\n",
    "\n",
    "sample_mean = 175\n",
    "population_mean = 180\n",
    "Xsem = SEM\n",
    "\n",
    "z = (sample_mean - population_mean) / Xsem\n",
    "z"
   ]
  },
  {
   "cell_type": "markdown",
   "metadata": {
    "id": "uUxHoUNNOR0a"
   },
   "source": [
    "## Can the doctor conclude that dieting will reduce blood sugar by 5 points on average?"
   ]
  },
  {
   "cell_type": "code",
   "execution_count": null,
   "metadata": {
    "id": "h_vZ2ZNMOR0b"
   },
   "outputs": [],
   "source": [
    "#ANSWER"
   ]
  },
  {
   "cell_type": "markdown",
   "metadata": {
    "id": "anvtQw7BOR0d"
   },
   "source": [
    "## What should the doctor try next? Make some suitable assumptions and try to prove your idea with a calculation."
   ]
  },
  {
   "cell_type": "code",
   "execution_count": null,
   "metadata": {
    "ExecuteTime": {
     "end_time": "2020-10-28T00:49:16.705886Z",
     "start_time": "2020-10-28T00:49:16.703596Z"
    },
    "id": "T_JSvX3wOR0d"
   },
   "outputs": [],
   "source": [
    "# ANSWER\n",
    "# increase the number of patients in the diet study!"
   ]
  },
  {
   "cell_type": "markdown",
   "metadata": {
    "id": "SiBFlmUUVXFm"
   },
   "source": [
    "# References\n",
    "---\n",
    "\n",
    "[Z-Score: Definition, Formula and Calculation](https://www.statisticshowto.datasciencecentral.com/probability-and-statistics/z-score/)\n",
    "\n",
    "[Confidence Intervals](https://www.mathsisfun.com/data/confidence-interval.html)"
   ]
  }
 ],
 "metadata": {
  "colab": {
   "collapsed_sections": [],
   "name": "IOD_Lab 3.2.3.ipynb",
   "provenance": []
  },
  "kernelspec": {
   "display_name": "Python 3",
   "language": "python",
   "name": "python3"
  },
  "language_info": {
   "codemirror_mode": {
    "name": "ipython",
    "version": 3
   },
   "file_extension": ".py",
   "mimetype": "text/x-python",
   "name": "python",
   "nbconvert_exporter": "python",
   "pygments_lexer": "ipython3",
   "version": "3.8.8"
  },
  "toc": {
   "base_numbering": 1,
   "nav_menu": {},
   "number_sections": true,
   "sideBar": true,
   "skip_h1_title": false,
   "title_cell": "Table of Contents",
   "title_sidebar": "Contents",
   "toc_cell": false,
   "toc_position": {},
   "toc_section_display": true,
   "toc_window_display": true
  }
 },
 "nbformat": 4,
 "nbformat_minor": 1
}
