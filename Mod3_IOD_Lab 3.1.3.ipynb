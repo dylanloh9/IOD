{
 "cells": [
  {
   "cell_type": "markdown",
   "metadata": {
    "id": "XJ1yDaQTVf4m"
   },
   "source": [
    "<div>\n",
    "<img src=https://www.institutedata.com/wp-content/uploads/2019/10/iod_h_tp_primary_c.svg width=\"300\">\n",
    "</div>"
   ]
  },
  {
   "cell_type": "markdown",
   "metadata": {
    "id": "QnAkzb-CVf4o"
   },
   "source": [
    "# Lab 3.1.3\n",
    "\n",
    "## Data\n",
    "\n",
    "The Philippine Statistics Authority (PSA) spearheads the conduct of the Family Income and Expenditure Survey (FIES) nationwide. The survey, which is undertaken every three (3) years, is aimed at providing data on family income and expenditure, including, among others, levels of consumption by item of expenditure, sources of income in cash, and related information affecting income and expenditure levels and patterns in the Philippines.\n",
    "\n",
    "You can download the data from [here](https://www.kaggle.com/grosvenpaul/family-income-and-expenditure).\n",
    "\n",
    "The purpose of today's lab is to use simulation to visualize the sampling distribution for the sample mean. The Central Limit Theorem (CLT) tells us that as our sample size gets larger, the sampling distribution of the sample mean converges to a normal distribution. Therefore, when we have a large sample size, we can say that the sampling distribution for the sample mean is approximately normal, regardless of the distribution from which we are sampling.\n",
    "\n",
    "Let's start by taking a look at the data, **`Total Household Income`** will serve as a \"population\" for the purposes of this lab. "
   ]
  },
  {
   "cell_type": "code",
   "execution_count": 37,
   "metadata": {
    "id": "SEP_7ZTmVf4p"
   },
   "outputs": [],
   "source": [
    "import pandas as pd\n",
    "import numpy as np\n",
    "import matplotlib.pyplot as plt\n",
    "import seaborn as sns\n",
    "\n",
    "%matplotlib inline"
   ]
  },
  {
   "cell_type": "code",
   "execution_count": 38,
   "metadata": {
    "id": "TzSCY2HWVf4t"
   },
   "outputs": [],
   "source": [
    "house_hold_csv = \"../Data/Family_Income_and_Expenditure.csv\"\n",
    "# Read CSV\n",
    "df = pd.read_csv(house_hold_csv)"
   ]
  },
  {
   "cell_type": "code",
   "execution_count": 39,
   "metadata": {
    "id": "f8AVkqjtVf4w"
   },
   "outputs": [
    {
     "data": {
      "text/html": [
       "<div>\n",
       "<style scoped>\n",
       "    .dataframe tbody tr th:only-of-type {\n",
       "        vertical-align: middle;\n",
       "    }\n",
       "\n",
       "    .dataframe tbody tr th {\n",
       "        vertical-align: top;\n",
       "    }\n",
       "\n",
       "    .dataframe thead th {\n",
       "        text-align: right;\n",
       "    }\n",
       "</style>\n",
       "<table border=\"1\" class=\"dataframe\">\n",
       "  <thead>\n",
       "    <tr style=\"text-align: right;\">\n",
       "      <th></th>\n",
       "      <th>Total Household Income</th>\n",
       "      <th>Region</th>\n",
       "      <th>Total Food Expenditure</th>\n",
       "      <th>Main Source of Income</th>\n",
       "      <th>Agricultural Household indicator</th>\n",
       "      <th>Bread and Cereals Expenditure</th>\n",
       "      <th>Total Rice Expenditure</th>\n",
       "      <th>Meat Expenditure</th>\n",
       "      <th>Total Fish and  marine products Expenditure</th>\n",
       "      <th>Fruit Expenditure</th>\n",
       "      <th>...</th>\n",
       "      <th>Number of Refrigerator/Freezer</th>\n",
       "      <th>Number of Washing Machine</th>\n",
       "      <th>Number of Airconditioner</th>\n",
       "      <th>Number of Car, Jeep, Van</th>\n",
       "      <th>Number of Landline/wireless telephones</th>\n",
       "      <th>Number of Cellular phone</th>\n",
       "      <th>Number of Personal Computer</th>\n",
       "      <th>Number of Stove with Oven/Gas Range</th>\n",
       "      <th>Number of Motorized Banca</th>\n",
       "      <th>Number of Motorcycle/Tricycle</th>\n",
       "    </tr>\n",
       "  </thead>\n",
       "  <tbody>\n",
       "    <tr>\n",
       "      <th>0</th>\n",
       "      <td>480332</td>\n",
       "      <td>CAR</td>\n",
       "      <td>117848</td>\n",
       "      <td>Wage/Salaries</td>\n",
       "      <td>0</td>\n",
       "      <td>42140</td>\n",
       "      <td>38300</td>\n",
       "      <td>24676</td>\n",
       "      <td>16806</td>\n",
       "      <td>3325</td>\n",
       "      <td>...</td>\n",
       "      <td>1</td>\n",
       "      <td>1</td>\n",
       "      <td>0</td>\n",
       "      <td>0</td>\n",
       "      <td>0</td>\n",
       "      <td>2</td>\n",
       "      <td>1</td>\n",
       "      <td>0</td>\n",
       "      <td>0</td>\n",
       "      <td>1</td>\n",
       "    </tr>\n",
       "    <tr>\n",
       "      <th>1</th>\n",
       "      <td>198235</td>\n",
       "      <td>CAR</td>\n",
       "      <td>67766</td>\n",
       "      <td>Wage/Salaries</td>\n",
       "      <td>0</td>\n",
       "      <td>17329</td>\n",
       "      <td>13008</td>\n",
       "      <td>17434</td>\n",
       "      <td>11073</td>\n",
       "      <td>2035</td>\n",
       "      <td>...</td>\n",
       "      <td>0</td>\n",
       "      <td>1</td>\n",
       "      <td>0</td>\n",
       "      <td>0</td>\n",
       "      <td>0</td>\n",
       "      <td>3</td>\n",
       "      <td>1</td>\n",
       "      <td>0</td>\n",
       "      <td>0</td>\n",
       "      <td>2</td>\n",
       "    </tr>\n",
       "    <tr>\n",
       "      <th>2</th>\n",
       "      <td>82785</td>\n",
       "      <td>CAR</td>\n",
       "      <td>61609</td>\n",
       "      <td>Wage/Salaries</td>\n",
       "      <td>1</td>\n",
       "      <td>34182</td>\n",
       "      <td>32001</td>\n",
       "      <td>7783</td>\n",
       "      <td>2590</td>\n",
       "      <td>1730</td>\n",
       "      <td>...</td>\n",
       "      <td>0</td>\n",
       "      <td>0</td>\n",
       "      <td>0</td>\n",
       "      <td>0</td>\n",
       "      <td>0</td>\n",
       "      <td>0</td>\n",
       "      <td>0</td>\n",
       "      <td>0</td>\n",
       "      <td>0</td>\n",
       "      <td>0</td>\n",
       "    </tr>\n",
       "    <tr>\n",
       "      <th>3</th>\n",
       "      <td>107589</td>\n",
       "      <td>CAR</td>\n",
       "      <td>78189</td>\n",
       "      <td>Wage/Salaries</td>\n",
       "      <td>0</td>\n",
       "      <td>34030</td>\n",
       "      <td>28659</td>\n",
       "      <td>10914</td>\n",
       "      <td>10812</td>\n",
       "      <td>690</td>\n",
       "      <td>...</td>\n",
       "      <td>0</td>\n",
       "      <td>0</td>\n",
       "      <td>0</td>\n",
       "      <td>0</td>\n",
       "      <td>0</td>\n",
       "      <td>1</td>\n",
       "      <td>0</td>\n",
       "      <td>0</td>\n",
       "      <td>0</td>\n",
       "      <td>0</td>\n",
       "    </tr>\n",
       "    <tr>\n",
       "      <th>4</th>\n",
       "      <td>189322</td>\n",
       "      <td>CAR</td>\n",
       "      <td>94625</td>\n",
       "      <td>Wage/Salaries</td>\n",
       "      <td>0</td>\n",
       "      <td>34820</td>\n",
       "      <td>30167</td>\n",
       "      <td>18391</td>\n",
       "      <td>11309</td>\n",
       "      <td>1395</td>\n",
       "      <td>...</td>\n",
       "      <td>1</td>\n",
       "      <td>0</td>\n",
       "      <td>0</td>\n",
       "      <td>0</td>\n",
       "      <td>0</td>\n",
       "      <td>3</td>\n",
       "      <td>0</td>\n",
       "      <td>0</td>\n",
       "      <td>0</td>\n",
       "      <td>1</td>\n",
       "    </tr>\n",
       "  </tbody>\n",
       "</table>\n",
       "<p>5 rows × 60 columns</p>\n",
       "</div>"
      ],
      "text/plain": [
       "   Total Household Income Region  Total Food Expenditure  \\\n",
       "0                  480332    CAR                  117848   \n",
       "1                  198235    CAR                   67766   \n",
       "2                   82785    CAR                   61609   \n",
       "3                  107589    CAR                   78189   \n",
       "4                  189322    CAR                   94625   \n",
       "\n",
       "  Main Source of Income  Agricultural Household indicator  \\\n",
       "0         Wage/Salaries                                 0   \n",
       "1         Wage/Salaries                                 0   \n",
       "2         Wage/Salaries                                 1   \n",
       "3         Wage/Salaries                                 0   \n",
       "4         Wage/Salaries                                 0   \n",
       "\n",
       "   Bread and Cereals Expenditure  Total Rice Expenditure  Meat Expenditure  \\\n",
       "0                          42140                   38300             24676   \n",
       "1                          17329                   13008             17434   \n",
       "2                          34182                   32001              7783   \n",
       "3                          34030                   28659             10914   \n",
       "4                          34820                   30167             18391   \n",
       "\n",
       "   Total Fish and  marine products Expenditure  Fruit Expenditure  ...  \\\n",
       "0                                        16806               3325  ...   \n",
       "1                                        11073               2035  ...   \n",
       "2                                         2590               1730  ...   \n",
       "3                                        10812                690  ...   \n",
       "4                                        11309               1395  ...   \n",
       "\n",
       "   Number of Refrigerator/Freezer  Number of Washing Machine  \\\n",
       "0                               1                          1   \n",
       "1                               0                          1   \n",
       "2                               0                          0   \n",
       "3                               0                          0   \n",
       "4                               1                          0   \n",
       "\n",
       "   Number of Airconditioner  Number of Car, Jeep, Van  \\\n",
       "0                         0                         0   \n",
       "1                         0                         0   \n",
       "2                         0                         0   \n",
       "3                         0                         0   \n",
       "4                         0                         0   \n",
       "\n",
       "   Number of Landline/wireless telephones  Number of Cellular phone  \\\n",
       "0                                       0                         2   \n",
       "1                                       0                         3   \n",
       "2                                       0                         0   \n",
       "3                                       0                         1   \n",
       "4                                       0                         3   \n",
       "\n",
       "   Number of Personal Computer  Number of Stove with Oven/Gas Range  \\\n",
       "0                            1                                    0   \n",
       "1                            1                                    0   \n",
       "2                            0                                    0   \n",
       "3                            0                                    0   \n",
       "4                            0                                    0   \n",
       "\n",
       "   Number of Motorized Banca  Number of Motorcycle/Tricycle  \n",
       "0                          0                              1  \n",
       "1                          0                              2  \n",
       "2                          0                              0  \n",
       "3                          0                              0  \n",
       "4                          0                              1  \n",
       "\n",
       "[5 rows x 60 columns]"
      ]
     },
     "execution_count": 39,
     "metadata": {},
     "output_type": "execute_result"
    }
   ],
   "source": [
    "# Head\n",
    "df.head()"
   ]
  },
  {
   "cell_type": "code",
   "execution_count": 40,
   "metadata": {
    "id": "SShWhTTQVf4z"
   },
   "outputs": [
    {
     "data": {
      "text/html": [
       "<div>\n",
       "<style scoped>\n",
       "    .dataframe tbody tr th:only-of-type {\n",
       "        vertical-align: middle;\n",
       "    }\n",
       "\n",
       "    .dataframe tbody tr th {\n",
       "        vertical-align: top;\n",
       "    }\n",
       "\n",
       "    .dataframe thead th {\n",
       "        text-align: right;\n",
       "    }\n",
       "</style>\n",
       "<table border=\"1\" class=\"dataframe\">\n",
       "  <thead>\n",
       "    <tr style=\"text-align: right;\">\n",
       "      <th></th>\n",
       "      <th>Total Household Income</th>\n",
       "      <th>Region</th>\n",
       "      <th>Total Food Expenditure</th>\n",
       "      <th>Main Source of Income</th>\n",
       "      <th>Agricultural Household indicator</th>\n",
       "      <th>Bread and Cereals Expenditure</th>\n",
       "      <th>Total Rice Expenditure</th>\n",
       "      <th>Meat Expenditure</th>\n",
       "      <th>Total Fish and  marine products Expenditure</th>\n",
       "      <th>Fruit Expenditure</th>\n",
       "      <th>...</th>\n",
       "      <th>Number of Refrigerator/Freezer</th>\n",
       "      <th>Number of Washing Machine</th>\n",
       "      <th>Number of Airconditioner</th>\n",
       "      <th>Number of Car, Jeep, Van</th>\n",
       "      <th>Number of Landline/wireless telephones</th>\n",
       "      <th>Number of Cellular phone</th>\n",
       "      <th>Number of Personal Computer</th>\n",
       "      <th>Number of Stove with Oven/Gas Range</th>\n",
       "      <th>Number of Motorized Banca</th>\n",
       "      <th>Number of Motorcycle/Tricycle</th>\n",
       "    </tr>\n",
       "  </thead>\n",
       "  <tbody>\n",
       "    <tr>\n",
       "      <th>41539</th>\n",
       "      <td>119773</td>\n",
       "      <td>XII - SOCCSKSARGEN</td>\n",
       "      <td>44875</td>\n",
       "      <td>Enterpreneurial Activities</td>\n",
       "      <td>1</td>\n",
       "      <td>23675</td>\n",
       "      <td>21542</td>\n",
       "      <td>1476</td>\n",
       "      <td>6120</td>\n",
       "      <td>1632</td>\n",
       "      <td>...</td>\n",
       "      <td>0</td>\n",
       "      <td>0</td>\n",
       "      <td>0</td>\n",
       "      <td>0</td>\n",
       "      <td>0</td>\n",
       "      <td>1</td>\n",
       "      <td>0</td>\n",
       "      <td>0</td>\n",
       "      <td>0</td>\n",
       "      <td>0</td>\n",
       "    </tr>\n",
       "    <tr>\n",
       "      <th>41540</th>\n",
       "      <td>137320</td>\n",
       "      <td>XII - SOCCSKSARGEN</td>\n",
       "      <td>31157</td>\n",
       "      <td>Enterpreneurial Activities</td>\n",
       "      <td>1</td>\n",
       "      <td>2691</td>\n",
       "      <td>1273</td>\n",
       "      <td>1886</td>\n",
       "      <td>4386</td>\n",
       "      <td>1840</td>\n",
       "      <td>...</td>\n",
       "      <td>0</td>\n",
       "      <td>0</td>\n",
       "      <td>0</td>\n",
       "      <td>0</td>\n",
       "      <td>0</td>\n",
       "      <td>3</td>\n",
       "      <td>0</td>\n",
       "      <td>0</td>\n",
       "      <td>0</td>\n",
       "      <td>0</td>\n",
       "    </tr>\n",
       "    <tr>\n",
       "      <th>41541</th>\n",
       "      <td>133171</td>\n",
       "      <td>XII - SOCCSKSARGEN</td>\n",
       "      <td>45882</td>\n",
       "      <td>Enterpreneurial Activities</td>\n",
       "      <td>2</td>\n",
       "      <td>28646</td>\n",
       "      <td>27339</td>\n",
       "      <td>480</td>\n",
       "      <td>4796</td>\n",
       "      <td>1232</td>\n",
       "      <td>...</td>\n",
       "      <td>0</td>\n",
       "      <td>0</td>\n",
       "      <td>0</td>\n",
       "      <td>0</td>\n",
       "      <td>0</td>\n",
       "      <td>1</td>\n",
       "      <td>0</td>\n",
       "      <td>0</td>\n",
       "      <td>0</td>\n",
       "      <td>0</td>\n",
       "    </tr>\n",
       "    <tr>\n",
       "      <th>41542</th>\n",
       "      <td>129500</td>\n",
       "      <td>XII - SOCCSKSARGEN</td>\n",
       "      <td>81416</td>\n",
       "      <td>Enterpreneurial Activities</td>\n",
       "      <td>1</td>\n",
       "      <td>29996</td>\n",
       "      <td>26655</td>\n",
       "      <td>2359</td>\n",
       "      <td>17730</td>\n",
       "      <td>2923</td>\n",
       "      <td>...</td>\n",
       "      <td>0</td>\n",
       "      <td>0</td>\n",
       "      <td>0</td>\n",
       "      <td>0</td>\n",
       "      <td>0</td>\n",
       "      <td>2</td>\n",
       "      <td>0</td>\n",
       "      <td>0</td>\n",
       "      <td>0</td>\n",
       "      <td>0</td>\n",
       "    </tr>\n",
       "    <tr>\n",
       "      <th>41543</th>\n",
       "      <td>128598</td>\n",
       "      <td>XII - SOCCSKSARGEN</td>\n",
       "      <td>78195</td>\n",
       "      <td>Enterpreneurial Activities</td>\n",
       "      <td>1</td>\n",
       "      <td>43485</td>\n",
       "      <td>41205</td>\n",
       "      <td>1985</td>\n",
       "      <td>7735</td>\n",
       "      <td>2062</td>\n",
       "      <td>...</td>\n",
       "      <td>0</td>\n",
       "      <td>0</td>\n",
       "      <td>0</td>\n",
       "      <td>0</td>\n",
       "      <td>0</td>\n",
       "      <td>1</td>\n",
       "      <td>0</td>\n",
       "      <td>0</td>\n",
       "      <td>0</td>\n",
       "      <td>0</td>\n",
       "    </tr>\n",
       "  </tbody>\n",
       "</table>\n",
       "<p>5 rows × 60 columns</p>\n",
       "</div>"
      ],
      "text/plain": [
       "       Total Household Income              Region  Total Food Expenditure  \\\n",
       "41539                  119773  XII - SOCCSKSARGEN                   44875   \n",
       "41540                  137320  XII - SOCCSKSARGEN                   31157   \n",
       "41541                  133171  XII - SOCCSKSARGEN                   45882   \n",
       "41542                  129500  XII - SOCCSKSARGEN                   81416   \n",
       "41543                  128598  XII - SOCCSKSARGEN                   78195   \n",
       "\n",
       "            Main Source of Income  Agricultural Household indicator  \\\n",
       "41539  Enterpreneurial Activities                                 1   \n",
       "41540  Enterpreneurial Activities                                 1   \n",
       "41541  Enterpreneurial Activities                                 2   \n",
       "41542  Enterpreneurial Activities                                 1   \n",
       "41543  Enterpreneurial Activities                                 1   \n",
       "\n",
       "       Bread and Cereals Expenditure  Total Rice Expenditure  \\\n",
       "41539                          23675                   21542   \n",
       "41540                           2691                    1273   \n",
       "41541                          28646                   27339   \n",
       "41542                          29996                   26655   \n",
       "41543                          43485                   41205   \n",
       "\n",
       "       Meat Expenditure  Total Fish and  marine products Expenditure  \\\n",
       "41539              1476                                         6120   \n",
       "41540              1886                                         4386   \n",
       "41541               480                                         4796   \n",
       "41542              2359                                        17730   \n",
       "41543              1985                                         7735   \n",
       "\n",
       "       Fruit Expenditure  ...  Number of Refrigerator/Freezer  \\\n",
       "41539               1632  ...                               0   \n",
       "41540               1840  ...                               0   \n",
       "41541               1232  ...                               0   \n",
       "41542               2923  ...                               0   \n",
       "41543               2062  ...                               0   \n",
       "\n",
       "       Number of Washing Machine  Number of Airconditioner  \\\n",
       "41539                          0                         0   \n",
       "41540                          0                         0   \n",
       "41541                          0                         0   \n",
       "41542                          0                         0   \n",
       "41543                          0                         0   \n",
       "\n",
       "       Number of Car, Jeep, Van  Number of Landline/wireless telephones  \\\n",
       "41539                         0                                       0   \n",
       "41540                         0                                       0   \n",
       "41541                         0                                       0   \n",
       "41542                         0                                       0   \n",
       "41543                         0                                       0   \n",
       "\n",
       "       Number of Cellular phone  Number of Personal Computer  \\\n",
       "41539                         1                            0   \n",
       "41540                         3                            0   \n",
       "41541                         1                            0   \n",
       "41542                         2                            0   \n",
       "41543                         1                            0   \n",
       "\n",
       "       Number of Stove with Oven/Gas Range  Number of Motorized Banca  \\\n",
       "41539                                    0                          0   \n",
       "41540                                    0                          0   \n",
       "41541                                    0                          0   \n",
       "41542                                    0                          0   \n",
       "41543                                    0                          0   \n",
       "\n",
       "       Number of Motorcycle/Tricycle  \n",
       "41539                              0  \n",
       "41540                              0  \n",
       "41541                              0  \n",
       "41542                              0  \n",
       "41543                              0  \n",
       "\n",
       "[5 rows x 60 columns]"
      ]
     },
     "execution_count": 40,
     "metadata": {},
     "output_type": "execute_result"
    }
   ],
   "source": [
    "# Tail\n",
    "df.tail()"
   ]
  },
  {
   "cell_type": "code",
   "execution_count": 41,
   "metadata": {
    "id": "Naaa_xKVVf41"
   },
   "outputs": [
    {
     "data": {
      "text/plain": [
       "(41544, 60)"
      ]
     },
     "execution_count": 41,
     "metadata": {},
     "output_type": "execute_result"
    }
   ],
   "source": [
    "# Shape\n",
    "df.shape"
   ]
  },
  {
   "cell_type": "code",
   "execution_count": 42,
   "metadata": {
    "id": "vp9cRdywVf44"
   },
   "outputs": [
    {
     "name": "stdout",
     "output_type": "stream",
     "text": [
      "<class 'pandas.core.frame.DataFrame'>\n",
      "RangeIndex: 41544 entries, 0 to 41543\n",
      "Data columns (total 60 columns):\n",
      " #   Column                                         Non-Null Count  Dtype \n",
      "---  ------                                         --------------  ----- \n",
      " 0   Total Household Income                         41544 non-null  int64 \n",
      " 1   Region                                         41544 non-null  object\n",
      " 2   Total Food Expenditure                         41544 non-null  int64 \n",
      " 3   Main Source of Income                          41544 non-null  object\n",
      " 4   Agricultural Household indicator               41544 non-null  int64 \n",
      " 5   Bread and Cereals Expenditure                  41544 non-null  int64 \n",
      " 6   Total Rice Expenditure                         41544 non-null  int64 \n",
      " 7   Meat Expenditure                               41544 non-null  int64 \n",
      " 8   Total Fish and  marine products Expenditure    41544 non-null  int64 \n",
      " 9   Fruit Expenditure                              41544 non-null  int64 \n",
      " 10  Vegetables Expenditure                         41544 non-null  int64 \n",
      " 11  Restaurant and hotels Expenditure              41544 non-null  int64 \n",
      " 12  Alcoholic Beverages Expenditure                41544 non-null  int64 \n",
      " 13  Tobacco Expenditure                            41544 non-null  int64 \n",
      " 14  Clothing, Footwear and Other Wear Expenditure  41544 non-null  int64 \n",
      " 15  Housing and water Expenditure                  41544 non-null  int64 \n",
      " 16  Imputed House Rental Value                     41544 non-null  int64 \n",
      " 17  Medical Care Expenditure                       41544 non-null  int64 \n",
      " 18  Transportation Expenditure                     41544 non-null  int64 \n",
      " 19  Communication Expenditure                      41544 non-null  int64 \n",
      " 20  Education Expenditure                          41544 non-null  int64 \n",
      " 21  Miscellaneous Goods and Services Expenditure   41544 non-null  int64 \n",
      " 22  Special Occasions Expenditure                  41544 non-null  int64 \n",
      " 23  Crop Farming and Gardening expenses            41544 non-null  int64 \n",
      " 24  Total Income from Entrepreneurial Acitivites   41544 non-null  int64 \n",
      " 25  Household Head Sex                             41544 non-null  object\n",
      " 26  Household Head Age                             41544 non-null  int64 \n",
      " 27  Household Head Marital Status                  41544 non-null  object\n",
      " 28  Household Head Highest Grade Completed         41544 non-null  object\n",
      " 29  Household Head Job or Business Indicator       41544 non-null  object\n",
      " 30  Household Head Occupation                      34008 non-null  object\n",
      " 31  Household Head Class of Worker                 34008 non-null  object\n",
      " 32  Type of Household                              41544 non-null  object\n",
      " 33  Total Number of Family members                 41544 non-null  int64 \n",
      " 34  Members with age less than 5 year old          41544 non-null  int64 \n",
      " 35  Members with age 5 - 17 years old              41544 non-null  int64 \n",
      " 36  Total number of family members employed        41544 non-null  int64 \n",
      " 37  Type of Building/House                         41544 non-null  object\n",
      " 38  Type of Roof                                   41544 non-null  object\n",
      " 39  Type of Walls                                  41544 non-null  object\n",
      " 40  House Floor Area                               41544 non-null  int64 \n",
      " 41  House Age                                      41544 non-null  int64 \n",
      " 42  Number of bedrooms                             41544 non-null  int64 \n",
      " 43  Tenure Status                                  41544 non-null  object\n",
      " 44  Toilet Facilities                              41544 non-null  object\n",
      " 45  Electricity                                    41544 non-null  int64 \n",
      " 46  Main Source of Water Supply                    41544 non-null  object\n",
      " 47  Number of Television                           41544 non-null  int64 \n",
      " 48  Number of CD/VCD/DVD                           41544 non-null  int64 \n",
      " 49  Number of Component/Stereo set                 41544 non-null  int64 \n",
      " 50  Number of Refrigerator/Freezer                 41544 non-null  int64 \n",
      " 51  Number of Washing Machine                      41544 non-null  int64 \n",
      " 52  Number of Airconditioner                       41544 non-null  int64 \n",
      " 53  Number of Car, Jeep, Van                       41544 non-null  int64 \n",
      " 54  Number of Landline/wireless telephones         41544 non-null  int64 \n",
      " 55  Number of Cellular phone                       41544 non-null  int64 \n",
      " 56  Number of Personal Computer                    41544 non-null  int64 \n",
      " 57  Number of Stove with Oven/Gas Range            41544 non-null  int64 \n",
      " 58  Number of Motorized Banca                      41544 non-null  int64 \n",
      " 59  Number of Motorcycle/Tricycle                  41544 non-null  int64 \n",
      "dtypes: int64(45), object(15)\n",
      "memory usage: 19.0+ MB\n"
     ]
    }
   ],
   "source": [
    "# Data Types\n",
    "df.info()"
   ]
  },
  {
   "cell_type": "code",
   "execution_count": 43,
   "metadata": {},
   "outputs": [
    {
     "data": {
      "text/html": [
       "<div>\n",
       "<style scoped>\n",
       "    .dataframe tbody tr th:only-of-type {\n",
       "        vertical-align: middle;\n",
       "    }\n",
       "\n",
       "    .dataframe tbody tr th {\n",
       "        vertical-align: top;\n",
       "    }\n",
       "\n",
       "    .dataframe thead th {\n",
       "        text-align: right;\n",
       "    }\n",
       "</style>\n",
       "<table border=\"1\" class=\"dataframe\">\n",
       "  <thead>\n",
       "    <tr style=\"text-align: right;\">\n",
       "      <th></th>\n",
       "      <th>Total Household Income</th>\n",
       "      <th>Total Food Expenditure</th>\n",
       "      <th>Agricultural Household indicator</th>\n",
       "      <th>Bread and Cereals Expenditure</th>\n",
       "      <th>Total Rice Expenditure</th>\n",
       "      <th>Meat Expenditure</th>\n",
       "      <th>Total Fish and  marine products Expenditure</th>\n",
       "      <th>Fruit Expenditure</th>\n",
       "      <th>Vegetables Expenditure</th>\n",
       "      <th>Restaurant and hotels Expenditure</th>\n",
       "      <th>...</th>\n",
       "      <th>Number of Refrigerator/Freezer</th>\n",
       "      <th>Number of Washing Machine</th>\n",
       "      <th>Number of Airconditioner</th>\n",
       "      <th>Number of Car, Jeep, Van</th>\n",
       "      <th>Number of Landline/wireless telephones</th>\n",
       "      <th>Number of Cellular phone</th>\n",
       "      <th>Number of Personal Computer</th>\n",
       "      <th>Number of Stove with Oven/Gas Range</th>\n",
       "      <th>Number of Motorized Banca</th>\n",
       "      <th>Number of Motorcycle/Tricycle</th>\n",
       "    </tr>\n",
       "  </thead>\n",
       "  <tbody>\n",
       "    <tr>\n",
       "      <th>count</th>\n",
       "      <td>4.154400e+04</td>\n",
       "      <td>41544.000000</td>\n",
       "      <td>41544.000000</td>\n",
       "      <td>41544.000000</td>\n",
       "      <td>41544.000000</td>\n",
       "      <td>41544.000000</td>\n",
       "      <td>41544.000000</td>\n",
       "      <td>41544.000000</td>\n",
       "      <td>41544.000000</td>\n",
       "      <td>41544.000000</td>\n",
       "      <td>...</td>\n",
       "      <td>41544.000000</td>\n",
       "      <td>41544.000000</td>\n",
       "      <td>41544.000000</td>\n",
       "      <td>41544.000000</td>\n",
       "      <td>41544.000000</td>\n",
       "      <td>41544.000000</td>\n",
       "      <td>41544.000000</td>\n",
       "      <td>41544.000000</td>\n",
       "      <td>41544.000000</td>\n",
       "      <td>41544.000000</td>\n",
       "    </tr>\n",
       "    <tr>\n",
       "      <th>mean</th>\n",
       "      <td>2.475556e+05</td>\n",
       "      <td>85099.158194</td>\n",
       "      <td>0.429858</td>\n",
       "      <td>25133.723642</td>\n",
       "      <td>18195.825005</td>\n",
       "      <td>10540.072574</td>\n",
       "      <td>10529.318337</td>\n",
       "      <td>2550.474990</td>\n",
       "      <td>5006.918568</td>\n",
       "      <td>15436.566075</td>\n",
       "      <td>...</td>\n",
       "      <td>0.394184</td>\n",
       "      <td>0.319806</td>\n",
       "      <td>0.129814</td>\n",
       "      <td>0.081215</td>\n",
       "      <td>0.060610</td>\n",
       "      <td>1.905738</td>\n",
       "      <td>0.315015</td>\n",
       "      <td>0.135038</td>\n",
       "      <td>0.013119</td>\n",
       "      <td>0.289885</td>\n",
       "    </tr>\n",
       "    <tr>\n",
       "      <th>std</th>\n",
       "      <td>2.868805e+05</td>\n",
       "      <td>51637.947682</td>\n",
       "      <td>0.676666</td>\n",
       "      <td>13466.482984</td>\n",
       "      <td>11727.224350</td>\n",
       "      <td>10497.727757</td>\n",
       "      <td>7812.201613</td>\n",
       "      <td>2969.752879</td>\n",
       "      <td>3300.175236</td>\n",
       "      <td>23705.195929</td>\n",
       "      <td>...</td>\n",
       "      <td>0.537025</td>\n",
       "      <td>0.478482</td>\n",
       "      <td>0.448673</td>\n",
       "      <td>0.346786</td>\n",
       "      <td>0.276732</td>\n",
       "      <td>1.558130</td>\n",
       "      <td>0.739698</td>\n",
       "      <td>0.354083</td>\n",
       "      <td>0.127171</td>\n",
       "      <td>0.558408</td>\n",
       "    </tr>\n",
       "    <tr>\n",
       "      <th>min</th>\n",
       "      <td>1.128500e+04</td>\n",
       "      <td>2947.000000</td>\n",
       "      <td>0.000000</td>\n",
       "      <td>0.000000</td>\n",
       "      <td>0.000000</td>\n",
       "      <td>0.000000</td>\n",
       "      <td>0.000000</td>\n",
       "      <td>0.000000</td>\n",
       "      <td>0.000000</td>\n",
       "      <td>0.000000</td>\n",
       "      <td>...</td>\n",
       "      <td>0.000000</td>\n",
       "      <td>0.000000</td>\n",
       "      <td>0.000000</td>\n",
       "      <td>0.000000</td>\n",
       "      <td>0.000000</td>\n",
       "      <td>0.000000</td>\n",
       "      <td>0.000000</td>\n",
       "      <td>0.000000</td>\n",
       "      <td>0.000000</td>\n",
       "      <td>0.000000</td>\n",
       "    </tr>\n",
       "    <tr>\n",
       "      <th>25%</th>\n",
       "      <td>1.048950e+05</td>\n",
       "      <td>51017.250000</td>\n",
       "      <td>0.000000</td>\n",
       "      <td>16556.000000</td>\n",
       "      <td>11020.000000</td>\n",
       "      <td>3353.750000</td>\n",
       "      <td>5504.000000</td>\n",
       "      <td>1024.750000</td>\n",
       "      <td>2873.000000</td>\n",
       "      <td>1930.000000</td>\n",
       "      <td>...</td>\n",
       "      <td>0.000000</td>\n",
       "      <td>0.000000</td>\n",
       "      <td>0.000000</td>\n",
       "      <td>0.000000</td>\n",
       "      <td>0.000000</td>\n",
       "      <td>1.000000</td>\n",
       "      <td>0.000000</td>\n",
       "      <td>0.000000</td>\n",
       "      <td>0.000000</td>\n",
       "      <td>0.000000</td>\n",
       "    </tr>\n",
       "    <tr>\n",
       "      <th>50%</th>\n",
       "      <td>1.640795e+05</td>\n",
       "      <td>72985.500000</td>\n",
       "      <td>0.000000</td>\n",
       "      <td>23324.000000</td>\n",
       "      <td>16620.000000</td>\n",
       "      <td>7332.500000</td>\n",
       "      <td>8695.000000</td>\n",
       "      <td>1820.000000</td>\n",
       "      <td>4314.000000</td>\n",
       "      <td>7314.000000</td>\n",
       "      <td>...</td>\n",
       "      <td>0.000000</td>\n",
       "      <td>0.000000</td>\n",
       "      <td>0.000000</td>\n",
       "      <td>0.000000</td>\n",
       "      <td>0.000000</td>\n",
       "      <td>2.000000</td>\n",
       "      <td>0.000000</td>\n",
       "      <td>0.000000</td>\n",
       "      <td>0.000000</td>\n",
       "      <td>0.000000</td>\n",
       "    </tr>\n",
       "    <tr>\n",
       "      <th>75%</th>\n",
       "      <td>2.911385e+05</td>\n",
       "      <td>105635.500000</td>\n",
       "      <td>1.000000</td>\n",
       "      <td>31439.000000</td>\n",
       "      <td>23920.000000</td>\n",
       "      <td>14292.000000</td>\n",
       "      <td>13388.000000</td>\n",
       "      <td>3100.000000</td>\n",
       "      <td>6304.250000</td>\n",
       "      <td>19921.250000</td>\n",
       "      <td>...</td>\n",
       "      <td>1.000000</td>\n",
       "      <td>1.000000</td>\n",
       "      <td>0.000000</td>\n",
       "      <td>0.000000</td>\n",
       "      <td>0.000000</td>\n",
       "      <td>3.000000</td>\n",
       "      <td>0.000000</td>\n",
       "      <td>0.000000</td>\n",
       "      <td>0.000000</td>\n",
       "      <td>0.000000</td>\n",
       "    </tr>\n",
       "    <tr>\n",
       "      <th>max</th>\n",
       "      <td>1.181599e+07</td>\n",
       "      <td>827565.000000</td>\n",
       "      <td>2.000000</td>\n",
       "      <td>765864.000000</td>\n",
       "      <td>758326.000000</td>\n",
       "      <td>261566.000000</td>\n",
       "      <td>188208.000000</td>\n",
       "      <td>273769.000000</td>\n",
       "      <td>74800.000000</td>\n",
       "      <td>725296.000000</td>\n",
       "      <td>...</td>\n",
       "      <td>5.000000</td>\n",
       "      <td>3.000000</td>\n",
       "      <td>5.000000</td>\n",
       "      <td>5.000000</td>\n",
       "      <td>4.000000</td>\n",
       "      <td>10.000000</td>\n",
       "      <td>6.000000</td>\n",
       "      <td>3.000000</td>\n",
       "      <td>3.000000</td>\n",
       "      <td>5.000000</td>\n",
       "    </tr>\n",
       "  </tbody>\n",
       "</table>\n",
       "<p>8 rows × 45 columns</p>\n",
       "</div>"
      ],
      "text/plain": [
       "       Total Household Income  Total Food Expenditure  \\\n",
       "count            4.154400e+04            41544.000000   \n",
       "mean             2.475556e+05            85099.158194   \n",
       "std              2.868805e+05            51637.947682   \n",
       "min              1.128500e+04             2947.000000   \n",
       "25%              1.048950e+05            51017.250000   \n",
       "50%              1.640795e+05            72985.500000   \n",
       "75%              2.911385e+05           105635.500000   \n",
       "max              1.181599e+07           827565.000000   \n",
       "\n",
       "       Agricultural Household indicator  Bread and Cereals Expenditure  \\\n",
       "count                      41544.000000                   41544.000000   \n",
       "mean                           0.429858                   25133.723642   \n",
       "std                            0.676666                   13466.482984   \n",
       "min                            0.000000                       0.000000   \n",
       "25%                            0.000000                   16556.000000   \n",
       "50%                            0.000000                   23324.000000   \n",
       "75%                            1.000000                   31439.000000   \n",
       "max                            2.000000                  765864.000000   \n",
       "\n",
       "       Total Rice Expenditure  Meat Expenditure  \\\n",
       "count            41544.000000      41544.000000   \n",
       "mean             18195.825005      10540.072574   \n",
       "std              11727.224350      10497.727757   \n",
       "min                  0.000000          0.000000   \n",
       "25%              11020.000000       3353.750000   \n",
       "50%              16620.000000       7332.500000   \n",
       "75%              23920.000000      14292.000000   \n",
       "max             758326.000000     261566.000000   \n",
       "\n",
       "       Total Fish and  marine products Expenditure  Fruit Expenditure  \\\n",
       "count                                 41544.000000       41544.000000   \n",
       "mean                                  10529.318337        2550.474990   \n",
       "std                                    7812.201613        2969.752879   \n",
       "min                                       0.000000           0.000000   \n",
       "25%                                    5504.000000        1024.750000   \n",
       "50%                                    8695.000000        1820.000000   \n",
       "75%                                   13388.000000        3100.000000   \n",
       "max                                  188208.000000      273769.000000   \n",
       "\n",
       "       Vegetables Expenditure  Restaurant and hotels Expenditure  ...  \\\n",
       "count            41544.000000                       41544.000000  ...   \n",
       "mean              5006.918568                       15436.566075  ...   \n",
       "std               3300.175236                       23705.195929  ...   \n",
       "min                  0.000000                           0.000000  ...   \n",
       "25%               2873.000000                        1930.000000  ...   \n",
       "50%               4314.000000                        7314.000000  ...   \n",
       "75%               6304.250000                       19921.250000  ...   \n",
       "max              74800.000000                      725296.000000  ...   \n",
       "\n",
       "       Number of Refrigerator/Freezer  Number of Washing Machine  \\\n",
       "count                    41544.000000               41544.000000   \n",
       "mean                         0.394184                   0.319806   \n",
       "std                          0.537025                   0.478482   \n",
       "min                          0.000000                   0.000000   \n",
       "25%                          0.000000                   0.000000   \n",
       "50%                          0.000000                   0.000000   \n",
       "75%                          1.000000                   1.000000   \n",
       "max                          5.000000                   3.000000   \n",
       "\n",
       "       Number of Airconditioner  Number of Car, Jeep, Van  \\\n",
       "count              41544.000000              41544.000000   \n",
       "mean                   0.129814                  0.081215   \n",
       "std                    0.448673                  0.346786   \n",
       "min                    0.000000                  0.000000   \n",
       "25%                    0.000000                  0.000000   \n",
       "50%                    0.000000                  0.000000   \n",
       "75%                    0.000000                  0.000000   \n",
       "max                    5.000000                  5.000000   \n",
       "\n",
       "       Number of Landline/wireless telephones  Number of Cellular phone  \\\n",
       "count                            41544.000000              41544.000000   \n",
       "mean                                 0.060610                  1.905738   \n",
       "std                                  0.276732                  1.558130   \n",
       "min                                  0.000000                  0.000000   \n",
       "25%                                  0.000000                  1.000000   \n",
       "50%                                  0.000000                  2.000000   \n",
       "75%                                  0.000000                  3.000000   \n",
       "max                                  4.000000                 10.000000   \n",
       "\n",
       "       Number of Personal Computer  Number of Stove with Oven/Gas Range  \\\n",
       "count                 41544.000000                         41544.000000   \n",
       "mean                      0.315015                             0.135038   \n",
       "std                       0.739698                             0.354083   \n",
       "min                       0.000000                             0.000000   \n",
       "25%                       0.000000                             0.000000   \n",
       "50%                       0.000000                             0.000000   \n",
       "75%                       0.000000                             0.000000   \n",
       "max                       6.000000                             3.000000   \n",
       "\n",
       "       Number of Motorized Banca  Number of Motorcycle/Tricycle  \n",
       "count               41544.000000                   41544.000000  \n",
       "mean                    0.013119                       0.289885  \n",
       "std                     0.127171                       0.558408  \n",
       "min                     0.000000                       0.000000  \n",
       "25%                     0.000000                       0.000000  \n",
       "50%                     0.000000                       0.000000  \n",
       "75%                     0.000000                       0.000000  \n",
       "max                     3.000000                       5.000000  \n",
       "\n",
       "[8 rows x 45 columns]"
      ]
     },
     "execution_count": 43,
     "metadata": {},
     "output_type": "execute_result"
    }
   ],
   "source": [
    "df.describe()"
   ]
  },
  {
   "cell_type": "markdown",
   "metadata": {
    "id": "CXS1YnOgVf47"
   },
   "source": [
    "#### Surveying the populations\n",
    "\n",
    "##### 1. Create a histogram of `Total Household Income`."
   ]
  },
  {
   "cell_type": "code",
   "execution_count": 47,
   "metadata": {
    "id": "3YKhcWRhVf47"
   },
   "outputs": [
    {
     "data": {
      "text/plain": [
       "<AxesSubplot:ylabel='Frequency'>"
      ]
     },
     "execution_count": 47,
     "metadata": {},
     "output_type": "execute_result"
    },
    {
     "data": {
      "image/png": "[encoded data removed]",
      "text/plain": [
       "<Figure size 432x288 with 1 Axes>"
      ]
     },
     "metadata": {
      "needs_background": "light"
     },
     "output_type": "display_data"
    }
   ],
   "source": [
    "# ANSWER\n",
    "# plt.hist(df['Total Household Income'])\n",
    "df['Total Household Income'].plot.hist(grid=True, bins=20, rwidth=0.9, color='#607c8e')\n",
    "\n",
    "# The 1st bar is 0.05 (of le7), which represents 0-500,000 value"
   ]
  },
  {
   "cell_type": "code",
   "execution_count": 63,
   "metadata": {},
   "outputs": [
    {
     "name": "stdout",
     "output_type": "stream",
     "text": [
      "Lower = -613086 and Upper = 1108197\n"
     ]
    }
   ],
   "source": [
    "# calculate summary statistics     # data_mean, data_std = mean(data), std(data)\n",
    "data_mean = df['Total Household Income'].mean()\n",
    "data_std = df['Total Household Income'].std()\n",
    "\n",
    "# identify outliers\n",
    "cut_off = data_std * 3\n",
    "lower, upper = data_mean - cut_off, data_mean + cut_off\n",
    "print(\"Lower = {} and Upper = {}\".format(round(lower), round(upper)))"
   ]
  },
  {
   "cell_type": "code",
   "execution_count": 68,
   "metadata": {},
   "outputs": [
    {
     "data": {
      "text/plain": [
       "1108156"
      ]
     },
     "execution_count": 68,
     "metadata": {},
     "output_type": "execute_result"
    }
   ],
   "source": [
    "# filter df from outliers\n",
    "df_filtered = df[(df['Total Household Income'] < upper)]\n",
    "df_filtered['Total Household Income'].max()"
   ]
  },
  {
   "cell_type": "code",
   "execution_count": 69,
   "metadata": {},
   "outputs": [
    {
     "data": {
      "text/plain": [
       "<AxesSubplot:ylabel='Frequency'>"
      ]
     },
     "execution_count": 69,
     "metadata": {},
     "output_type": "execute_result"
    },
    {
     "data": {
      "image/png": "[encoded data removed]",
      "text/plain": [
       "<Figure size 432x288 with 1 Axes>"
      ]
     },
     "metadata": {
      "needs_background": "light"
     },
     "output_type": "display_data"
    }
   ],
   "source": [
    "df_filtered['Total Household Income'].plot.hist(grid=True, bins=20, rwidth=0.9, color='#607c8e')"
   ]
  },
  {
   "cell_type": "code",
   "execution_count": 70,
   "metadata": {},
   "outputs": [
    {
     "data": {
      "text/plain": [
       "(40908, 60)"
      ]
     },
     "execution_count": 70,
     "metadata": {},
     "output_type": "execute_result"
    }
   ],
   "source": [
    "df_filtered.shape"
   ]
  },
  {
   "cell_type": "code",
   "execution_count": 72,
   "metadata": {},
   "outputs": [
    {
     "data": {
      "text/html": [
       "<div>\n",
       "<style scoped>\n",
       "    .dataframe tbody tr th:only-of-type {\n",
       "        vertical-align: middle;\n",
       "    }\n",
       "\n",
       "    .dataframe tbody tr th {\n",
       "        vertical-align: top;\n",
       "    }\n",
       "\n",
       "    .dataframe thead th {\n",
       "        text-align: right;\n",
       "    }\n",
       "</style>\n",
       "<table border=\"1\" class=\"dataframe\">\n",
       "  <thead>\n",
       "    <tr style=\"text-align: right;\">\n",
       "      <th></th>\n",
       "      <th>Total Household Income</th>\n",
       "      <th>Total Food Expenditure</th>\n",
       "      <th>Agricultural Household indicator</th>\n",
       "      <th>Bread and Cereals Expenditure</th>\n",
       "      <th>Total Rice Expenditure</th>\n",
       "      <th>Meat Expenditure</th>\n",
       "      <th>Total Fish and  marine products Expenditure</th>\n",
       "      <th>Fruit Expenditure</th>\n",
       "      <th>Vegetables Expenditure</th>\n",
       "      <th>Restaurant and hotels Expenditure</th>\n",
       "      <th>...</th>\n",
       "      <th>Number of Refrigerator/Freezer</th>\n",
       "      <th>Number of Washing Machine</th>\n",
       "      <th>Number of Airconditioner</th>\n",
       "      <th>Number of Car, Jeep, Van</th>\n",
       "      <th>Number of Landline/wireless telephones</th>\n",
       "      <th>Number of Cellular phone</th>\n",
       "      <th>Number of Personal Computer</th>\n",
       "      <th>Number of Stove with Oven/Gas Range</th>\n",
       "      <th>Number of Motorized Banca</th>\n",
       "      <th>Number of Motorcycle/Tricycle</th>\n",
       "    </tr>\n",
       "  </thead>\n",
       "  <tbody>\n",
       "    <tr>\n",
       "      <th>count</th>\n",
       "      <td>4.090800e+04</td>\n",
       "      <td>40908.000000</td>\n",
       "      <td>40908.000000</td>\n",
       "      <td>40908.000000</td>\n",
       "      <td>40908.000000</td>\n",
       "      <td>40908.000000</td>\n",
       "      <td>40908.000000</td>\n",
       "      <td>40908.000000</td>\n",
       "      <td>40908.000000</td>\n",
       "      <td>40908.000000</td>\n",
       "      <td>...</td>\n",
       "      <td>40908.000000</td>\n",
       "      <td>40908.00000</td>\n",
       "      <td>40908.000000</td>\n",
       "      <td>40908.000000</td>\n",
       "      <td>40908.000000</td>\n",
       "      <td>40908.000000</td>\n",
       "      <td>40908.000000</td>\n",
       "      <td>40908.000000</td>\n",
       "      <td>40908.000000</td>\n",
       "      <td>40908.000000</td>\n",
       "    </tr>\n",
       "    <tr>\n",
       "      <th>mean</th>\n",
       "      <td>2.245575e+05</td>\n",
       "      <td>82862.200988</td>\n",
       "      <td>0.427618</td>\n",
       "      <td>24945.002738</td>\n",
       "      <td>18119.832282</td>\n",
       "      <td>10174.013347</td>\n",
       "      <td>10335.210839</td>\n",
       "      <td>2454.667718</td>\n",
       "      <td>4931.313606</td>\n",
       "      <td>14561.695243</td>\n",
       "      <td>...</td>\n",
       "      <td>0.380463</td>\n",
       "      <td>0.30967</td>\n",
       "      <td>0.106850</td>\n",
       "      <td>0.062971</td>\n",
       "      <td>0.052899</td>\n",
       "      <td>1.867654</td>\n",
       "      <td>0.285201</td>\n",
       "      <td>0.125917</td>\n",
       "      <td>0.013054</td>\n",
       "      <td>0.285079</td>\n",
       "    </tr>\n",
       "    <tr>\n",
       "      <th>std</th>\n",
       "      <td>1.823385e+05</td>\n",
       "      <td>47198.967040</td>\n",
       "      <td>0.672468</td>\n",
       "      <td>13311.036667</td>\n",
       "      <td>11697.213993</td>\n",
       "      <td>9783.134562</td>\n",
       "      <td>7483.528533</td>\n",
       "      <td>2784.145555</td>\n",
       "      <td>3196.813947</td>\n",
       "      <td>21500.946658</td>\n",
       "      <td>...</td>\n",
       "      <td>0.523215</td>\n",
       "      <td>0.47225</td>\n",
       "      <td>0.381444</td>\n",
       "      <td>0.287949</td>\n",
       "      <td>0.261136</td>\n",
       "      <td>1.518503</td>\n",
       "      <td>0.681798</td>\n",
       "      <td>0.341419</td>\n",
       "      <td>0.126348</td>\n",
       "      <td>0.549089</td>\n",
       "    </tr>\n",
       "    <tr>\n",
       "      <th>min</th>\n",
       "      <td>1.128500e+04</td>\n",
       "      <td>2947.000000</td>\n",
       "      <td>0.000000</td>\n",
       "      <td>0.000000</td>\n",
       "      <td>0.000000</td>\n",
       "      <td>0.000000</td>\n",
       "      <td>0.000000</td>\n",
       "      <td>0.000000</td>\n",
       "      <td>0.000000</td>\n",
       "      <td>0.000000</td>\n",
       "      <td>...</td>\n",
       "      <td>0.000000</td>\n",
       "      <td>0.00000</td>\n",
       "      <td>0.000000</td>\n",
       "      <td>0.000000</td>\n",
       "      <td>0.000000</td>\n",
       "      <td>0.000000</td>\n",
       "      <td>0.000000</td>\n",
       "      <td>0.000000</td>\n",
       "      <td>0.000000</td>\n",
       "      <td>0.000000</td>\n",
       "    </tr>\n",
       "    <tr>\n",
       "      <th>25%</th>\n",
       "      <td>1.042045e+05</td>\n",
       "      <td>50659.000000</td>\n",
       "      <td>0.000000</td>\n",
       "      <td>16476.750000</td>\n",
       "      <td>10951.000000</td>\n",
       "      <td>3303.750000</td>\n",
       "      <td>5468.000000</td>\n",
       "      <td>1014.000000</td>\n",
       "      <td>2855.000000</td>\n",
       "      <td>1860.000000</td>\n",
       "      <td>...</td>\n",
       "      <td>0.000000</td>\n",
       "      <td>0.00000</td>\n",
       "      <td>0.000000</td>\n",
       "      <td>0.000000</td>\n",
       "      <td>0.000000</td>\n",
       "      <td>1.000000</td>\n",
       "      <td>0.000000</td>\n",
       "      <td>0.000000</td>\n",
       "      <td>0.000000</td>\n",
       "      <td>0.000000</td>\n",
       "    </tr>\n",
       "    <tr>\n",
       "      <th>50%</th>\n",
       "      <td>1.618435e+05</td>\n",
       "      <td>72253.500000</td>\n",
       "      <td>0.000000</td>\n",
       "      <td>23196.000000</td>\n",
       "      <td>16559.500000</td>\n",
       "      <td>7190.500000</td>\n",
       "      <td>8614.000000</td>\n",
       "      <td>1790.000000</td>\n",
       "      <td>4277.500000</td>\n",
       "      <td>7112.500000</td>\n",
       "      <td>...</td>\n",
       "      <td>0.000000</td>\n",
       "      <td>0.00000</td>\n",
       "      <td>0.000000</td>\n",
       "      <td>0.000000</td>\n",
       "      <td>0.000000</td>\n",
       "      <td>2.000000</td>\n",
       "      <td>0.000000</td>\n",
       "      <td>0.000000</td>\n",
       "      <td>0.000000</td>\n",
       "      <td>0.000000</td>\n",
       "    </tr>\n",
       "    <tr>\n",
       "      <th>75%</th>\n",
       "      <td>2.823430e+05</td>\n",
       "      <td>103827.500000</td>\n",
       "      <td>1.000000</td>\n",
       "      <td>31239.250000</td>\n",
       "      <td>23840.000000</td>\n",
       "      <td>13929.250000</td>\n",
       "      <td>13200.000000</td>\n",
       "      <td>3017.250000</td>\n",
       "      <td>6224.000000</td>\n",
       "      <td>19240.000000</td>\n",
       "      <td>...</td>\n",
       "      <td>1.000000</td>\n",
       "      <td>1.00000</td>\n",
       "      <td>0.000000</td>\n",
       "      <td>0.000000</td>\n",
       "      <td>0.000000</td>\n",
       "      <td>3.000000</td>\n",
       "      <td>0.000000</td>\n",
       "      <td>0.000000</td>\n",
       "      <td>0.000000</td>\n",
       "      <td>0.000000</td>\n",
       "    </tr>\n",
       "    <tr>\n",
       "      <th>max</th>\n",
       "      <td>1.108156e+06</td>\n",
       "      <td>827565.000000</td>\n",
       "      <td>2.000000</td>\n",
       "      <td>765864.000000</td>\n",
       "      <td>758326.000000</td>\n",
       "      <td>110250.000000</td>\n",
       "      <td>188208.000000</td>\n",
       "      <td>273769.000000</td>\n",
       "      <td>74800.000000</td>\n",
       "      <td>725296.000000</td>\n",
       "      <td>...</td>\n",
       "      <td>5.000000</td>\n",
       "      <td>3.00000</td>\n",
       "      <td>5.000000</td>\n",
       "      <td>5.000000</td>\n",
       "      <td>4.000000</td>\n",
       "      <td>10.000000</td>\n",
       "      <td>6.000000</td>\n",
       "      <td>3.000000</td>\n",
       "      <td>3.000000</td>\n",
       "      <td>5.000000</td>\n",
       "    </tr>\n",
       "  </tbody>\n",
       "</table>\n",
       "<p>8 rows × 45 columns</p>\n",
       "</div>"
      ],
      "text/plain": [
       "       Total Household Income  Total Food Expenditure  \\\n",
       "count            4.090800e+04            40908.000000   \n",
       "mean             2.245575e+05            82862.200988   \n",
       "std              1.823385e+05            47198.967040   \n",
       "min              1.128500e+04             2947.000000   \n",
       "25%              1.042045e+05            50659.000000   \n",
       "50%              1.618435e+05            72253.500000   \n",
       "75%              2.823430e+05           103827.500000   \n",
       "max              1.108156e+06           827565.000000   \n",
       "\n",
       "       Agricultural Household indicator  Bread and Cereals Expenditure  \\\n",
       "count                      40908.000000                   40908.000000   \n",
       "mean                           0.427618                   24945.002738   \n",
       "std                            0.672468                   13311.036667   \n",
       "min                            0.000000                       0.000000   \n",
       "25%                            0.000000                   16476.750000   \n",
       "50%                            0.000000                   23196.000000   \n",
       "75%                            1.000000                   31239.250000   \n",
       "max                            2.000000                  765864.000000   \n",
       "\n",
       "       Total Rice Expenditure  Meat Expenditure  \\\n",
       "count            40908.000000      40908.000000   \n",
       "mean             18119.832282      10174.013347   \n",
       "std              11697.213993       9783.134562   \n",
       "min                  0.000000          0.000000   \n",
       "25%              10951.000000       3303.750000   \n",
       "50%              16559.500000       7190.500000   \n",
       "75%              23840.000000      13929.250000   \n",
       "max             758326.000000     110250.000000   \n",
       "\n",
       "       Total Fish and  marine products Expenditure  Fruit Expenditure  \\\n",
       "count                                 40908.000000       40908.000000   \n",
       "mean                                  10335.210839        2454.667718   \n",
       "std                                    7483.528533        2784.145555   \n",
       "min                                       0.000000           0.000000   \n",
       "25%                                    5468.000000        1014.000000   \n",
       "50%                                    8614.000000        1790.000000   \n",
       "75%                                   13200.000000        3017.250000   \n",
       "max                                  188208.000000      273769.000000   \n",
       "\n",
       "       Vegetables Expenditure  Restaurant and hotels Expenditure  ...  \\\n",
       "count            40908.000000                       40908.000000  ...   \n",
       "mean              4931.313606                       14561.695243  ...   \n",
       "std               3196.813947                       21500.946658  ...   \n",
       "min                  0.000000                           0.000000  ...   \n",
       "25%               2855.000000                        1860.000000  ...   \n",
       "50%               4277.500000                        7112.500000  ...   \n",
       "75%               6224.000000                       19240.000000  ...   \n",
       "max              74800.000000                      725296.000000  ...   \n",
       "\n",
       "       Number of Refrigerator/Freezer  Number of Washing Machine  \\\n",
       "count                    40908.000000                40908.00000   \n",
       "mean                         0.380463                    0.30967   \n",
       "std                          0.523215                    0.47225   \n",
       "min                          0.000000                    0.00000   \n",
       "25%                          0.000000                    0.00000   \n",
       "50%                          0.000000                    0.00000   \n",
       "75%                          1.000000                    1.00000   \n",
       "max                          5.000000                    3.00000   \n",
       "\n",
       "       Number of Airconditioner  Number of Car, Jeep, Van  \\\n",
       "count              40908.000000              40908.000000   \n",
       "mean                   0.106850                  0.062971   \n",
       "std                    0.381444                  0.287949   \n",
       "min                    0.000000                  0.000000   \n",
       "25%                    0.000000                  0.000000   \n",
       "50%                    0.000000                  0.000000   \n",
       "75%                    0.000000                  0.000000   \n",
       "max                    5.000000                  5.000000   \n",
       "\n",
       "       Number of Landline/wireless telephones  Number of Cellular phone  \\\n",
       "count                            40908.000000              40908.000000   \n",
       "mean                                 0.052899                  1.867654   \n",
       "std                                  0.261136                  1.518503   \n",
       "min                                  0.000000                  0.000000   \n",
       "25%                                  0.000000                  1.000000   \n",
       "50%                                  0.000000                  2.000000   \n",
       "75%                                  0.000000                  3.000000   \n",
       "max                                  4.000000                 10.000000   \n",
       "\n",
       "       Number of Personal Computer  Number of Stove with Oven/Gas Range  \\\n",
       "count                 40908.000000                         40908.000000   \n",
       "mean                      0.285201                             0.125917   \n",
       "std                       0.681798                             0.341419   \n",
       "min                       0.000000                             0.000000   \n",
       "25%                       0.000000                             0.000000   \n",
       "50%                       0.000000                             0.000000   \n",
       "75%                       0.000000                             0.000000   \n",
       "max                       6.000000                             3.000000   \n",
       "\n",
       "       Number of Motorized Banca  Number of Motorcycle/Tricycle  \n",
       "count               40908.000000                   40908.000000  \n",
       "mean                    0.013054                       0.285079  \n",
       "std                     0.126348                       0.549089  \n",
       "min                     0.000000                       0.000000  \n",
       "25%                     0.000000                       0.000000  \n",
       "50%                     0.000000                       0.000000  \n",
       "75%                     0.000000                       0.000000  \n",
       "max                     3.000000                       5.000000  \n",
       "\n",
       "[8 rows x 45 columns]"
      ]
     },
     "execution_count": 72,
     "metadata": {},
     "output_type": "execute_result"
    }
   ],
   "source": [
    "df_filtered.describe()"
   ]
  },
  {
   "cell_type": "markdown",
   "metadata": {
    "id": "8vgg6ml3Vf4-"
   },
   "source": [
    "##### 2. How would you describe the shape of this population?"
   ]
  },
  {
   "cell_type": "markdown",
   "metadata": {
    "id": "FI_k9uSEVf4_"
   },
   "source": [
    "**ANSWER:**\n",
    "Even remove the outliers, the rich and poor gap are still very high:\n",
    "\n",
    "    (Min)     11,285 \n",
    "    (Max)  1,108,156\n",
    "    (Median) 161,843\n",
    "    (Mean)   224,557"
   ]
  },
  {
   "cell_type": "markdown",
   "metadata": {
    "id": "j1hOsdI2Vf4_"
   },
   "source": [
    "##### 2. What is the mean income of this population?"
   ]
  },
  {
   "cell_type": "code",
   "execution_count": 74,
   "metadata": {
    "id": "kJw8S392Vf5A"
   },
   "outputs": [
    {
     "data": {
      "text/plain": [
       "224557.462183436"
      ]
     },
     "execution_count": 74,
     "metadata": {},
     "output_type": "execute_result"
    }
   ],
   "source": [
    "# ANSWER\n",
    "df_filtered['Total Household Income'].mean()"
   ]
  },
  {
   "cell_type": "markdown",
   "metadata": {
    "id": "U-aYo343Vf5D"
   },
   "source": [
    "##### 3. What sampling statistic/point estimate would you use to estimate the mean of this population if you were given a random sample from the population?"
   ]
  },
  {
   "cell_type": "markdown",
   "metadata": {
    "id": "MliyslcyVf5E"
   },
   "source": [
    "**ANSWER:**"
   ]
  },
  {
   "cell_type": "markdown",
   "metadata": {
    "id": "TkxedbVpVf5E"
   },
   "source": [
    "#### Simulated sampling (sample means)"
   ]
  },
  {
   "cell_type": "markdown",
   "metadata": {
    "id": "PREGkP4vVf5F"
   },
   "source": [
    "Now, we'd like to get an idea of what happens when we take multiple random samples of size 5. \n",
    "\n",
    "Take 10 sample (size=5) from the entire population. Calculate means for each sample. Now make a histogram of all the sample means.\n",
    "\n",
    "- Describe the shape of the histogram.\n",
    "- What is the center of the distribution of sample means?"
   ]
  },
  {
   "cell_type": "markdown",
   "metadata": {
    "id": "i6_BukQlVf5G"
   },
   "source": [
    "##### 4. Simulation with `sample_size=5`"
   ]
  },
  {
   "cell_type": "markdown",
   "metadata": {
    "id": "-CP_eMlOVf5G"
   },
   "source": [
    "Take 10 samples, but with a sample size of 5."
   ]
  },
  {
   "cell_type": "code",
   "execution_count": 137,
   "metadata": {
    "id": "rqSxVPVwVf5H"
   },
   "outputs": [
    {
     "data": {
      "text/plain": [
       "10"
      ]
     },
     "execution_count": 137,
     "metadata": {},
     "output_type": "execute_result"
    },
    {
     "data": {
      "image/png": "[encoded data removed]",
      "text/plain": [
       "<Figure size 432x288 with 1 Axes>"
      ]
     },
     "metadata": {
      "needs_background": "light"
     },
     "output_type": "display_data"
    }
   ],
   "source": [
    "# ANSWER\n",
    "sim = []\n",
    "for i in range(10):\n",
    "    sample = df['Total Household Income'].sample(n=5)\n",
    "    sim.append(sample.mean())\n",
    "\n",
    "plt.hist(sim)\n",
    "len(sim)"
   ]
  },
  {
   "cell_type": "markdown",
   "metadata": {
    "id": "CrInQX6EVf5J"
   },
   "source": [
    "###### 4.A Make a histogram of all the sample means"
   ]
  },
  {
   "cell_type": "code",
   "execution_count": 117,
   "metadata": {
    "id": "oU5T6NQaVf5K"
   },
   "outputs": [
    {
     "data": {
      "text/plain": [
       "(array([2., 2., 1., 1., 1., 0., 0., 1., 0., 2.]),\n",
       " array([155269.4 , 171289.16, 187308.92, 203328.68, 219348.44, 235368.2 ,\n",
       "        251387.96, 267407.72, 283427.48, 299447.24, 315467.  ]),\n",
       " <BarContainer object of 10 artists>)"
      ]
     },
     "execution_count": 117,
     "metadata": {},
     "output_type": "execute_result"
    },
    {
     "data": {
      "image/png": "[encoded data removed]",
      "text/plain": [
       "<Figure size 432x288 with 1 Axes>"
      ]
     },
     "metadata": {
      "needs_background": "light"
     },
     "output_type": "display_data"
    }
   ],
   "source": [
    "# ANSWER\n",
    "plt.hist(sim)"
   ]
  },
  {
   "cell_type": "markdown",
   "metadata": {
    "id": "laC4ugRjVf5M"
   },
   "source": [
    "###### 4.B Describe the shape of the histogram."
   ]
  },
  {
   "cell_type": "markdown",
   "metadata": {
    "id": "2_FSwIVJVf5M"
   },
   "source": [
    "**ANSWER:**\n",
    "The shape is randomly changing. Sometimes its even-spread, sometimes it can be leaning to 1-side."
   ]
  },
  {
   "cell_type": "markdown",
   "metadata": {
    "id": "9oCRfg1YVf5N"
   },
   "source": [
    "##### 7. Simulation with `sample_size=15`"
   ]
  },
  {
   "cell_type": "markdown",
   "metadata": {
    "id": "gjtCdkx0Vf5N"
   },
   "source": [
    "let's try taking another 1000 samples, but with a sample size of 15"
   ]
  },
  {
   "cell_type": "code",
   "execution_count": 135,
   "metadata": {
    "id": "80IQ6Sa-Vf5O"
   },
   "outputs": [
    {
     "data": {
      "text/plain": [
       "(array([351., 509., 109.,  24.,   3.,   1.,   1.,   0.,   1.,   1.]),\n",
       " array([ 119072.  ,  214426.52,  309781.04,  405135.56,  500490.08,\n",
       "         595844.6 ,  691199.12,  786553.64,  881908.16,  977262.68,\n",
       "        1072617.2 ]),\n",
       " <BarContainer object of 10 artists>)"
      ]
     },
     "execution_count": 135,
     "metadata": {},
     "output_type": "execute_result"
    },
    {
     "data": {
      "image/png": "[encoded data removed]",
      "text/plain": [
       "<Figure size 432x288 with 1 Axes>"
      ]
     },
     "metadata": {
      "needs_background": "light"
     },
     "output_type": "display_data"
    }
   ],
   "source": [
    "# ANSWER\n",
    "sim = []\n",
    "for i in range(1000):\n",
    "    sample = df['Total Household Income'].sample(n=15)\n",
    "    sim.append(sample.mean())\n",
    "\n",
    "plt.hist(sim)\n",
    "len(sim)"
   ]
  },
  {
   "cell_type": "markdown",
   "metadata": {
    "id": "J8k2KhsQVf5Q"
   },
   "source": [
    "##### 8. Simulation with `sample_size=50`"
   ]
  },
  {
   "cell_type": "markdown",
   "metadata": {
    "id": "AAAdK633Vf5R"
   },
   "source": [
    "Let's try taking another 1000 samples, but with a sample size of 50"
   ]
  },
  {
   "cell_type": "code",
   "execution_count": 140,
   "metadata": {
    "id": "zgj6G2ghVf5R"
   },
   "outputs": [
    {
     "data": {
      "text/plain": [
       "1000"
      ]
     },
     "execution_count": 140,
     "metadata": {},
     "output_type": "execute_result"
    },
    {
     "data": {
      "image/png": "[encoded data removed]",
      "text/plain": [
       "<Figure size 432x288 with 1 Axes>"
      ]
     },
     "metadata": {
      "needs_background": "light"
     },
     "output_type": "display_data"
    }
   ],
   "source": [
    "# ANSWER\n",
    "sim = []\n",
    "for i in range(1000):\n",
    "    sample = df['Total Household Income'].sample(n=50)\n",
    "    sim.append(sample.mean())\n",
    "\n",
    "plt.hist(sim)\n",
    "len(sim)"
   ]
  },
  {
   "cell_type": "markdown",
   "metadata": {
    "id": "K2iwg-qXVf5T"
   },
   "source": [
    "###### 8.A Describe the shape of the histogram of sample means (using sample size of 50)"
   ]
  },
  {
   "cell_type": "markdown",
   "metadata": {
    "id": "WLw5q7TxVf5U"
   },
   "source": [
    "**ANSWER:**\n",
    "The distribution becomes more even as the number of sample and sample size increases. "
   ]
  },
  {
   "cell_type": "markdown",
   "metadata": {
    "id": "udgqwlA2Vf5V"
   },
   "source": [
    "###### 8.B What is mean of the distribution of sample means?"
   ]
  },
  {
   "cell_type": "markdown",
   "metadata": {
    "id": "U6qOqsgeVf5W"
   },
   "source": [
    "# ANSWER\n",
    "Mean is the average value of the distribution"
   ]
  },
  {
   "cell_type": "markdown",
   "metadata": {
    "id": "bmWVLwnyVf5Y"
   },
   "source": [
    "**ANSWER:**\n",
    "\n",
    "> If repeated random samples of a given size n are taken from a population of values for a quantitative variable, where the population mean is μ (mu) and the population standard deviation is σ (sigma) then the mean of all sample means (x-bars) is population mean μ (mu)."
   ]
  },
  {
   "cell_type": "markdown",
   "metadata": {
    "id": "Yml6WoZcVf5Z"
   },
   "source": [
    "###### 8.C As the sample size grew, did your results confirm the CLT?"
   ]
  },
  {
   "cell_type": "markdown",
   "metadata": {
    "id": "PSNXrDxyVf5a"
   },
   "source": [
    "**ANSWER:**\n",
    "CLT refers to Central Limit Theorem.\n",
    "Yes."
   ]
  },
  {
   "cell_type": "code",
   "execution_count": null,
   "metadata": {},
   "outputs": [],
   "source": []
  }
 ],
 "metadata": {
  "colab": {
   "collapsed_sections": [],
   "name": "IOD_Lab 3.1.3.ipynb",
   "provenance": []
  },
  "kernelspec": {
   "display_name": "Python 3",
   "language": "python",
   "name": "python3"
  },
  "language_info": {
   "codemirror_mode": {
    "name": "ipython",
    "version": 3
   },
   "file_extension": ".py",
   "mimetype": "text/x-python",
   "name": "python",
   "nbconvert_exporter": "python",
   "pygments_lexer": "ipython3",
   "version": "3.8.8"
  },
  "toc": {
   "base_numbering": 1,
   "nav_menu": {},
   "number_sections": true,
   "sideBar": true,
   "skip_h1_title": false,
   "title_cell": "Table of Contents",
   "title_sidebar": "Contents",
   "toc_cell": false,
   "toc_position": {},
   "toc_section_display": true,
   "toc_window_display": true
  }
 },
 "nbformat": 4,
 "nbformat_minor": 1
}
