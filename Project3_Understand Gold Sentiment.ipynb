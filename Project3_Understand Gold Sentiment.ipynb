{
 "cells": [
  {
   "cell_type": "markdown",
   "id": "e34f47e1",
   "metadata": {},
   "source": [
    "# Project3 - Understand Gold Sentiment\n",
    "\n",
    "# Description\n",
    "\n",
    "For this miniproject 3, we will use Twitter and Google Newsfeed to perform Sentiment Analysis for Financial Market."
   ]
  },
  {
   "cell_type": "code",
   "execution_count": 185,
   "id": "43b59bb1",
   "metadata": {},
   "outputs": [],
   "source": [
    "import numpy as np      # Import numpy and pandas to work with dataframes\n",
    "import pandas as pd\n",
    "from matplotlib import pyplot as plt     # Import seaborn and matplotlib for viz\n",
    "import tweepy as tw     # Import tweepy to work with the twitter API"
   ]
  },
  {
   "cell_type": "markdown",
   "id": "e5fb5009",
   "metadata": {},
   "source": [
    "# Process\n",
    "\n",
    "1. Collect Data\n",
    "2. Perform Sentiment Analysis\n",
    "3. Use Machine Learning Techniques to Analyse the Data"
   ]
  },
  {
   "cell_type": "markdown",
   "id": "355afcc5",
   "metadata": {},
   "source": [
    "# 1a. Fetch Data from Twitter"
   ]
  },
  {
   "cell_type": "code",
   "execution_count": 252,
   "id": "c4683f2e",
   "metadata": {},
   "outputs": [],
   "source": [
    "import json\n",
    "f = open('../Key/twitterkeys.json')     # Opening JSON file\n",
    "data = json.load(f)     # returns JSON object as a dictionary\n",
    "\n",
    "consumer_key = data[\"consumer_key\"]\n",
    "consumer_secret = data[\"consumer_secret\"]\n",
    "access_token = data[\"access_token\"]\n",
    "access_token_secret = data[\"access_token_secret\"]\n",
    "\n",
    "f.close()"
   ]
  },
  {
   "cell_type": "code",
   "execution_count": 253,
   "id": "f8dc9647",
   "metadata": {},
   "outputs": [],
   "source": [
    "# Authenticate\n",
    "auth = tw.OAuthHandler(consumer_key, consumer_secret)\n",
    "# Set Tokens\n",
    "auth.set_access_token(access_token, access_token_secret)\n",
    "# Instantiate API\n",
    "api = tw.API(auth)\n",
    "#api = tw.API(auth, wait_on_rate_limit=True)"
   ]
  },
  {
   "cell_type": "code",
   "execution_count": 254,
   "id": "3925bb5b",
   "metadata": {},
   "outputs": [
    {
     "name": "stdout",
     "output_type": "stream",
     "text": [
      "[{'Tweet': 'Gold is $1894.09/ozt @ 20:00 UTC.\\n\\n24H change: -$4.56 (-0.24%)\\n30D change: +$79.81 (+4.40%)\\n\\n#GOLD $XAU $XAUUSD', 'Timestamp': datetime.datetime(2022, 2, 18, 20, 0, 5, tzinfo=datetime.timezone.utc)}, {'Tweet': \"Gold signal running deep profits on the free telegram group today, why haven't you joined us yet… https://t.co/V93T89EcGi\", 'Timestamp': datetime.datetime(2022, 2, 18, 19, 58, 34, tzinfo=datetime.timezone.utc)}, {'Tweet': '#XAUUSD SELL\\nENTRY:  1895.8\\nSL:  1902\\nTP:  1892\\nTP:  1888\\nTP:  1880\\nTP:  Open\\n\\nDm now:\\nhttps://t.co/cKrKbfqzpP… https://t.co/k0ogLkAWtJ', 'Timestamp': datetime.datetime(2022, 2, 18, 19, 48, 7, tzinfo=datetime.timezone.utc)}, {'Tweet': 'Check out my #XAUUSD analysis on @TradingView: https://t.co/QJn1i8B6VB \\n\\n#short the #bullshit to the #ground… https://t.co/JmlfueMa3Y', 'Timestamp': datetime.datetime(2022, 2, 18, 19, 28, 27, tzinfo=datetime.timezone.utc)}, {'Tweet': '勝ってる奴の大半が感覚的な裁量トレーダーな理由はこれ\\nhttps://t.co/4hkXEsLF6N\\n\\n#FX #FOREX #BTC #Crypto #GOLD #XAUUSD #LN #XRP #ETH #NFT #altcoin', 'Timestamp': datetime.datetime(2022, 2, 18, 19, 28, tzinfo=datetime.timezone.utc)}, {'Tweet': 'RT @Palmieri888: #GOLD  #XAUUSD  \\nbe  #ICEROCK \\n\\n   Así las cosas. https://t.co/ZA6TqfqueX', 'Timestamp': datetime.datetime(2022, 2, 18, 19, 23, 38, tzinfo=datetime.timezone.utc)}, {'Tweet': 'Gold is $1896.07/ozt @ 19:00 UTC.\\n\\n24H change: -$0.59 (-0.03%)\\n30D change: +$82.40 (+4.54%)\\n\\n#GOLD $XAU $XAUUSD', 'Timestamp': datetime.datetime(2022, 2, 18, 19, 0, 4, tzinfo=datetime.timezone.utc)}, {'Tweet': 'RT @bdfx10: 【#FXのすゝめ2022】\\n先出し詐欺師は派手なロット数と金額でドヤ顔します。騙されないで！\\n\\n#fx は金額が重要なのではありません。どの場所でポジションを持つのかが重要\\n\\n勝つトレードを求めてはいけない。負けないトレードこそが至高。\\n\\nこれが #たけ…', 'Timestamp': datetime.datetime(2022, 2, 18, 18, 54, 41, tzinfo=datetime.timezone.utc)}, {'Tweet': 'RT @VincentGanne: #Gold /BTC, l’arbitrage actif du moment, dans un trading range\\n\\n🔎 Le chartisme appliqué au ratio xauusd/btcusd capte des…', 'Timestamp': datetime.datetime(2022, 2, 18, 18, 48, 46, tzinfo=datetime.timezone.utc)}, {'Tweet': '$XAUUSD #GOLD - 15 min. https://t.co/1anESgGmOE', 'Timestamp': datetime.datetime(2022, 2, 18, 18, 45, 37, tzinfo=datetime.timezone.utc)}, {'Tweet': 'الذهب .. المعدن \\n\\nفريم 5 دقايق .. نقنقه 😋\\n\\nنموذج شارگ 🦈 ناطره يوصل للمنطقه الانعگاسيه المتوقعه ..\\n\\nوإذا وصلها بنطر… https://t.co/zZrhgZZCHs', 'Timestamp': datetime.datetime(2022, 2, 18, 18, 43, 42, tzinfo=datetime.timezone.utc)}, {'Tweet': '時間軸どれでもいいからローソク足だけ表示して見続けるんだ\\nhttps://t.co/MeNL8EPyq3\\n\\n#FX #FOREX #BTC #Crypto #GOLD #XAUUSD #LN #XRP #ETH #NFT #altcoin', 'Timestamp': datetime.datetime(2022, 2, 18, 18, 28, tzinfo=datetime.timezone.utc)}, {'Tweet': 'RT @DadoRTMS: Service will start Monday. The next batch will start after 12 weeks. Joining the service must be at the start of a batch.\\n\\n$G…', 'Timestamp': datetime.datetime(2022, 2, 18, 18, 23, 57, tzinfo=datetime.timezone.utc)}, {'Tweet': 'RT @GoodInvest82: #UkraineConflict relaxation in prospect‼️\\n\\n#XAUUSD #XAGUSD #Silver\\xa0 #US30 #US100 #US500 #SPX #NYSE #forex #stocks #stockm…', 'Timestamp': datetime.datetime(2022, 2, 18, 18, 23, 20, tzinfo=datetime.timezone.utc)}, {'Tweet': 'If $gold does not close! above $1900.05 in the next 4 hours, get ready for an entertainment next week.\\n#xauusd… https://t.co/Ng8B06if6u', 'Timestamp': datetime.datetime(2022, 2, 18, 18, 17, 59, tzinfo=datetime.timezone.utc)}, {'Tweet': '#xauusd final trade of the day.\\nBefore and after. Both images.\\n#GOLD be a part of Ufxs team.\\nIf you got profit.\\nJus… https://t.co/1ITeuXWIIz', 'Timestamp': datetime.datetime(2022, 2, 18, 18, 14, 45, tzinfo=datetime.timezone.utc)}, {'Tweet': 'Gram altın 832 lira olmuş yine artık bu yaz düğünlere ne götürebilir insanlar bilmem. Altının yerine alternatif olm… https://t.co/rVLekPkw21', 'Timestamp': datetime.datetime(2022, 2, 18, 18, 13, 34, tzinfo=datetime.timezone.utc)}, {'Tweet': '#UkraineConflict relaxation in prospect‼️\\n\\n#XAUUSD #XAGUSD #Silver\\xa0 #US30 #US100 #US500 #SPX #NYSE #forex #stocks… https://t.co/u2XZWoKOkA', 'Timestamp': datetime.datetime(2022, 2, 18, 18, 7, 8, tzinfo=datetime.timezone.utc)}, {'Tweet': 'States consider holding gold as geopolitical and inflation fears rise https://t.co/b8XI7NEtlB #Gold #XAUUSD… https://t.co/ouVAwH1YTN', 'Timestamp': datetime.datetime(2022, 2, 18, 18, 3, 57, tzinfo=datetime.timezone.utc)}, {'Tweet': 'Altın kuralı hatırlayın, altına sahip olan kuralları koyar.\\n\\n#gram #altın #altin\\n#gramaltin #gramaltın… https://t.co/OeSPFb3tTY', 'Timestamp': datetime.datetime(2022, 2, 18, 18, 2, 4, tzinfo=datetime.timezone.utc)}, {'Tweet': 'RT @Jakub_moscicki: #BTC miał być cyfrowym złotem w przypadku dużego zagrożenia. \\nWygląda na to, że BTC woli być jednak spółką technologicz…', 'Timestamp': datetime.datetime(2022, 2, 18, 18, 0, 10, tzinfo=datetime.timezone.utc)}, {'Tweet': 'Gold is $1895.66/ozt @ 18:00 UTC.\\n\\n24H change: -$1.11 (-0.06%)\\n30D change: +$85.26 (+4.71%)\\n\\n#GOLD $XAU $XAUUSD', 'Timestamp': datetime.datetime(2022, 2, 18, 18, 0, 5, tzinfo=datetime.timezone.utc)}, {'Tweet': '2/18 結果報告\\n\\n攻守バランス型EA\\n+9809円\\n\\n損切り機能付きEA\\n+12521円\\n\\n損切り機能付きEA\\n+4800円\\n\\nGold専用EA\\n+19725円\\n\\n#fx #為替 #自動売買ツール #無料 #仮想通貨… https://t.co/ftThABtYzp', 'Timestamp': datetime.datetime(2022, 2, 18, 17, 51, 57, tzinfo=datetime.timezone.utc)}, {'Tweet': '2/18 結果報告\\n\\n攻守バランス型EA\\n+9809円\\n\\n損切り機能付きEA\\n+12521円\\n\\n損切り機能付きEA\\n+4800円\\n\\nGold専用EA\\n+19725円\\n\\n#fx #為替 #自動売買ツール #無料 #仮想通貨… https://t.co/XJspg33yo5', 'Timestamp': datetime.datetime(2022, 2, 18, 17, 51, 39, tzinfo=datetime.timezone.utc)}, {'Tweet': 'RT @VincentGanne: #Gold /BTC, l’arbitrage actif du moment, dans un trading range\\n\\n🔎 Le chartisme appliqué au ratio xauusd/btcusd capte des…', 'Timestamp': datetime.datetime(2022, 2, 18, 17, 48, 39, tzinfo=datetime.timezone.utc)}, {'Tweet': 'RT @VincentGanne: #Gold /BTC, l’arbitrage actif du moment, dans un trading range\\n\\n🔎 Le chartisme appliqué au ratio xauusd/btcusd capte des…', 'Timestamp': datetime.datetime(2022, 2, 18, 17, 45, 52, tzinfo=datetime.timezone.utc)}, {'Tweet': 'You must make a choice to take a chance oryour life will never change 🔑 \\n\\n#Billionaire #Mentor \\ncooking something f… https://t.co/VTa7GOFTgH', 'Timestamp': datetime.datetime(2022, 2, 18, 17, 43, 55, tzinfo=datetime.timezone.utc)}, {'Tweet': 'RT @Jakub_moscicki: #BTC miał być cyfrowym złotem w przypadku dużego zagrożenia. \\nWygląda na to, że BTC woli być jednak spółką technologicz…', 'Timestamp': datetime.datetime(2022, 2, 18, 17, 40, 3, tzinfo=datetime.timezone.utc)}, {'Tweet': '$xau - 10year \"Cup n Handle\" for you gold bugs. \\nDon\\'t count gold out... It\\'s not f*cking leaving, old sports!… https://t.co/Dn6ATst97a', 'Timestamp': datetime.datetime(2022, 2, 18, 17, 34, 7, tzinfo=datetime.timezone.utc)}, {'Tweet': '#XauUsd 🚫 #Gold 🚫 #Metal\\n.\\nFive Days Result is given below.\\nFrom 14 Feb To 18 Feb\\n.\\nMonday =&gt; 80 pips ✅ profit\\nTues… https://t.co/3IZFbjBnCy', 'Timestamp': datetime.datetime(2022, 2, 18, 17, 32, 32, tzinfo=datetime.timezone.utc)}, {'Tweet': 'RT @Jakub_moscicki: #BTC miał być cyfrowym złotem w przypadku dużego zagrożenia. \\nWygląda na to, że BTC woli być jednak spółką technologicz…', 'Timestamp': datetime.datetime(2022, 2, 18, 17, 32, 8, tzinfo=datetime.timezone.utc)}, {'Tweet': 'думаю, что кто-то должен обновить алгоритмы алго для драгоценных металлов, чтобы поднять ордера на продажу на 3-5%… https://t.co/ye3PqlQRGj', 'Timestamp': datetime.datetime(2022, 2, 18, 17, 31, 6, tzinfo=datetime.timezone.utc)}, {'Tweet': 'ビットコインなんか見てるとラインが明確にワークしている希ガス\\nhttps://t.co/XiLG3oyifI\\n\\n#FX #FOREX #BTC #Crypto #GOLD #XAUUSD #LN #XRP #ETH #NFT #altcoin', 'Timestamp': datetime.datetime(2022, 2, 18, 17, 27, tzinfo=datetime.timezone.utc)}, {'Tweet': '$XAUUSD #GOLD - 15 min.: Tous les éléments étant clairement haussiers, il serait possible pour les traders de ne tr… https://t.co/NA4plKYYKa', 'Timestamp': datetime.datetime(2022, 2, 18, 17, 22, 24, tzinfo=datetime.timezone.utc)}, {'Tweet': '$XAUUSD #GOLD - 15 min.: Tous les éléments étant clairement haussiers, il serait possible pour les traders de ne tr… https://t.co/Z87Thnj5Ws', 'Timestamp': datetime.datetime(2022, 2, 18, 17, 22, 24, tzinfo=datetime.timezone.utc)}, {'Tweet': '@TheLastDegree @Sheldon08638921 $GDX $JNUG $JDST\\n#GOLD $XAUUSD\\n\\nRinging the bell at the intersection of upper trend… https://t.co/euv2SG1zrk', 'Timestamp': datetime.datetime(2022, 2, 18, 17, 5, 57, tzinfo=datetime.timezone.utc)}, {'Tweet': 'Gold is $1895.74/ozt @ 17:00 UTC.\\n\\n24H change: +$0.09 (+0.00%)\\n30D change: +$82.60 (+4.56%)\\n\\n#GOLD $XAU $XAUUSD', 'Timestamp': datetime.datetime(2022, 2, 18, 17, 0, 5, tzinfo=datetime.timezone.utc)}, {'Tweet': 'ゴールド。上がったり下がったり、レンジと判断。当然ショートは早めの利確。本日金曜日。深追いする必要もないので利益が乗ってるうちに終了します。\\n#fx #gold #ゴールド #XAUUSD https://t.co/BRF4xRGib7', 'Timestamp': datetime.datetime(2022, 2, 18, 16, 56, 29, tzinfo=datetime.timezone.utc)}, {'Tweet': '#XAUUSD  #GOLD  #ゴールド \\n5分足\\n最後に３０PIP取れたので利確してねよ🐭💤\\n今週は終了🐭✨♬ https://t.co/DbUXKL1oFD', 'Timestamp': datetime.datetime(2022, 2, 18, 16, 53, 55, tzinfo=datetime.timezone.utc)}, {'Tweet': \"Today's profit.\\nIf you also want to make profit like this dm me or for 2 days free live trial in Forex, Comex or in… https://t.co/i36xl1s1bf\", 'Timestamp': datetime.datetime(2022, 2, 18, 16, 48, 52, tzinfo=datetime.timezone.utc)}, {'Tweet': 'ทิตนี้นางทะลุ1900 ทิตหน้าลุ้น1980ยาวๆไป ถ้าวิกฤตรัสเซียยูเครนตึง เมกา นาโต้ เงินเฟ้อบลาๆ คนต้องเทอย่างอื่นหันมาเก็บ… https://t.co/nnr2g605aP', 'Timestamp': datetime.datetime(2022, 2, 18, 16, 44, 53, tzinfo=datetime.timezone.utc)}, {'Tweet': '#gold #silver #russia #ukraine #XAGUSD #XAUUSD sell positions in precious metals closed and offers are moved to wai… https://t.co/oqCpkZwspb', 'Timestamp': datetime.datetime(2022, 2, 18, 16, 40, 25, tzinfo=datetime.timezone.utc)}, {'Tweet': '9：55に売る15：00に買う←こういうアノマリー好き\\nhttps://t.co/h1d98axLIT\\n\\n#FX #FOREX #BTC #Crypto #GOLD #XAUUSD #LN #XRP #ETH #NFT #altcoin', 'Timestamp': datetime.datetime(2022, 2, 18, 16, 27, tzinfo=datetime.timezone.utc)}, {'Tweet': 'RT @niki_poojary: #XAUUSD\\n#GOLD\\n\\nOn daily &amp; Weekly it is forming symmetrical triangle pattern, awaiting a BO\\n\\nNeedless to say gold and NF h…', 'Timestamp': datetime.datetime(2022, 2, 18, 16, 24, 33, tzinfo=datetime.timezone.utc)}, {'Tweet': '#xauusd my followers aee in profit.\\nIf you got profit. Retweet it. #spam #ufxsteam.\\n#GOLD #forexsignals… https://t.co/rprfcuI29l', 'Timestamp': datetime.datetime(2022, 2, 18, 16, 24, 24, tzinfo=datetime.timezone.utc)}, {'Tweet': 'RT @niki_poojary: Haye Chaka Chak Chaka Chak Hai Tu✨✨✨\\n\\n#XAUUSD #GOLD \\nTwo tgts mentioned on the chart https://t.co/2HgD6dxAHx', 'Timestamp': datetime.datetime(2022, 2, 18, 16, 24, 23, tzinfo=datetime.timezone.utc)}, {'Tweet': 'メテオブラスト結局この一週間ずーっと通常のロットで放置運用でもヒヤヒヤすることもなく淡々と稼いでくれました👽\\n1週間通してMAXでも4ナンピン🛸\\n余裕過ぎました👽㊗️\\n一週間の履歴です👇👇\\n\\n#ゴールド\\n#ゴールドEA\\n#GOLD… https://t.co/L4BBOYsWZ7', 'Timestamp': datetime.datetime(2022, 2, 18, 16, 24, tzinfo=datetime.timezone.utc)}, {'Tweet': 'Sold 0.05 Lots EURUSD 1.13274 TP 1.13106 I trade: $XAUUSD #gold $USDJPY $EURUSD Stats: https://t.co/xegDJUxHmm', 'Timestamp': datetime.datetime(2022, 2, 18, 16, 23, 47, tzinfo=datetime.timezone.utc)}, {'Tweet': 'ここからロングとか打てないのでヨコヨコせずに落ちて下さいorz\\n\\n#FX\\n#ゴールド\\n#gold\\n#XAUUSD \\n#FX初心者\\n#ハイレバ', 'Timestamp': datetime.datetime(2022, 2, 18, 16, 22, 48, tzinfo=datetime.timezone.utc)}, {'Tweet': '#FED - faster and higher #interestrates hikes possible‼️\\n\\n#XAUUSD #XAGUSD #Silver #US30 #US100 #US500 #SPX #NYSE… https://t.co/7RDITpgPLp', 'Timestamp': datetime.datetime(2022, 2, 18, 16, 19, 1, tzinfo=datetime.timezone.utc)}, {'Tweet': 'Bought 0.07 Lots EURUSD 1.13168 TP 1.13547 I trade: $XAUUSD #gold $USDJPY $EURUSD Stats: https://t.co/xegDJUxHmm', 'Timestamp': datetime.datetime(2022, 2, 18, 16, 14, 25, tzinfo=datetime.timezone.utc)}, {'Tweet': 'Sold 0.05 Lots EURUSD 1.13137 TP 1.13037 I trade: $XAUUSD #gold $USDJPY $EURUSD Stats: https://t.co/xegDJUxHmm', 'Timestamp': datetime.datetime(2022, 2, 18, 16, 14, 25, tzinfo=datetime.timezone.utc)}, {'Tweet': 'Bought 0.04 Lots EURUSD 1.13163 TP 1.1352 I trade: $XAUUSD #gold $USDJPY $EURUSD Stats: https://t.co/5Ou2LI5bv3', 'Timestamp': datetime.datetime(2022, 2, 18, 16, 14, 2, tzinfo=datetime.timezone.utc)}, {'Tweet': 'RT @Chen_xauusd: #GOLD    1900 is a strong resistance level for gold, once it breaks through 1900, gold will fall and repair \\n#xauusd https…', 'Timestamp': datetime.datetime(2022, 2, 18, 16, 10, 31, tzinfo=datetime.timezone.utc)}, {'Tweet': '#xauusd running in profit #GOLD.\\nSoon video will be posted.\\n#GOLD #accountingservices #ultimatefx #ufxs… https://t.co/MNchusoYmJ', 'Timestamp': datetime.datetime(2022, 2, 18, 16, 8, 35, tzinfo=datetime.timezone.utc)}, {'Tweet': \"Its ample for the day, because market isnt stable yet, it's better to scalping and hedging.… https://t.co/p3y9HxyJNh\", 'Timestamp': datetime.datetime(2022, 2, 18, 16, 7, 39, tzinfo=datetime.timezone.utc)}, {'Tweet': '#Gold #Price Forecast: #XAUUSD to target $1,925 on a daily close above $1,910 #Gold capitalized on safe-haven flows… https://t.co/75eZysmIm3', 'Timestamp': datetime.datetime(2022, 2, 18, 16, 7, 32, tzinfo=datetime.timezone.utc)}, {'Tweet': 'Wohooo 🤯💥 \\n\\n#XAUUSD #GOLD https://t.co/WuAtEF5rMg https://t.co/b91JDtGam3', 'Timestamp': datetime.datetime(2022, 2, 18, 16, 7, 16, tzinfo=datetime.timezone.utc)}, {'Tweet': '今日のトレード\\n\\n今日はXMなんやで。\\n\\n固定ツイに口座開設の案内してるから是非開設してくださいね。\\n\\nおやすみなさい😴💤🌙\\n\\n#fx #GBPJPY #XAUUSD #gold https://t.co/CVgFqYePIf', 'Timestamp': datetime.datetime(2022, 2, 18, 16, 4, 31, tzinfo=datetime.timezone.utc)}, {'Tweet': '#Gold capitalized on safe-haven flows throughout this week A de-escalation of geopolitical tensions could trigger a… https://t.co/PaldNaSDKj', 'Timestamp': datetime.datetime(2022, 2, 18, 16, 4, 27, tzinfo=datetime.timezone.utc)}, {'Tweet': 'Gold Price Forecast: XAU/USD to target $1,925 on a daily close above $1,910 https://t.co/wwSlM47Now #Gold #XAUUSD', 'Timestamp': datetime.datetime(2022, 2, 18, 16, 2, 30, tzinfo=datetime.timezone.utc)}, {'Tweet': 'Gold is $1890.29/ozt @ 16:00 UTC.\\n\\n24H change: -$2.65 (-0.14%)\\n30D change: +$70.36 (+3.87%)\\n\\n#GOLD $XAU $XAUUSD', 'Timestamp': datetime.datetime(2022, 2, 18, 16, 0, 7, tzinfo=datetime.timezone.utc)}, {'Tweet': 'XAUUSD fell from 1899.9 to 1891, gaining $890 per lot.\\n\\n#forextrading #forextrader #forexsignal #gold #xauusd… https://t.co/p1x1Xy6kvK', 'Timestamp': datetime.datetime(2022, 2, 18, 15, 59, 54, tzinfo=datetime.timezone.utc)}, {'Tweet': 'I just start sharing my trade ideas on Twitter 3 weeks ago if you like it pls follow me and my telegram I will upda… https://t.co/VgDCfVtfci', 'Timestamp': datetime.datetime(2022, 2, 18, 15, 57, 20, tzinfo=datetime.timezone.utc)}, {'Tweet': 'Bought 0.03 Lots EURUSD 1.13312 TP 1.13605 I trade: $XAUUSD #gold $USDJPY $EURUSD Stats: https://t.co/5Ou2LI5bv3', 'Timestamp': datetime.datetime(2022, 2, 18, 15, 53, 17, tzinfo=datetime.timezone.utc)}, {'Tweet': 'Will The #Gold Rush Continue? What You Should Know $XAUUSD\\n\\nhttps://t.co/Qlf9tyKgCm', 'Timestamp': datetime.datetime(2022, 2, 18, 15, 51, 13, tzinfo=datetime.timezone.utc)}, {'Tweet': '#gold #xauusd #gc_f any volume trader can give me any explanations on the huge volume bars we are seeing on gold?', 'Timestamp': datetime.datetime(2022, 2, 18, 15, 49, 21, tzinfo=datetime.timezone.utc)}, {'Tweet': 'ゴールドサクッと20pipsくらいいただきました。\\n#xauusd #gold #ゴールド https://t.co/Hyd7KFdUxP', 'Timestamp': datetime.datetime(2022, 2, 18, 15, 48, 39, tzinfo=datetime.timezone.utc)}, {'Tweet': 'Sold 0.05 Lots EURUSD 1.13313 TP 1.13213 I trade: $XAUUSD #gold $USDJPY $EURUSD Stats: https://t.co/xegDJUg5XM', 'Timestamp': datetime.datetime(2022, 2, 18, 15, 48, 30, tzinfo=datetime.timezone.utc)}, {'Tweet': 'Bought 0.06 Lots EURUSD 1.1334 TP 1.13635 I trade: $XAUUSD #gold $USDJPY $EURUSD Stats: https://t.co/xegDJUxHmm', 'Timestamp': datetime.datetime(2022, 2, 18, 15, 48, 30, tzinfo=datetime.timezone.utc)}, {'Tweet': '$XAUUSD #GOLD - 15 min.: Sur cette unité de temps, la tendance de fond est faiblement haussière et le court terme e… https://t.co/w1iRFlZoPk', 'Timestamp': datetime.datetime(2022, 2, 18, 15, 46, 15, tzinfo=datetime.timezone.utc)}, {'Tweet': '$XAUUSD #GOLD - 15 min.: Sur cette unité de temps, la tendance de fond est faiblement haussière et le court terme e… https://t.co/SdWh53GLaf', 'Timestamp': datetime.datetime(2022, 2, 18, 15, 46, 15, tzinfo=datetime.timezone.utc)}, {'Tweet': '#JIASBOT\\n#JIASGOLD\\n\\n9th order in #Gold booked loss of -0.8%.\\n\\nNet profit: 14.72%\\n\\nBuy executed.\\n\\n#Mcx #bullion… https://t.co/0Znr0sSALy', 'Timestamp': datetime.datetime(2022, 2, 18, 15, 43, 21, tzinfo=datetime.timezone.utc)}, {'Tweet': '$XAUUSD BUY NOW   #XAUUSD #GOLD\\xa0 $GOLD🥇\\n@1893.50-1890\\nsl 1885\\ntp 1899\\ntp 1910\\ntp open #gold #Gold  #goldtrading… https://t.co/MvciPf0n8C', 'Timestamp': datetime.datetime(2022, 2, 18, 15, 39, 49, tzinfo=datetime.timezone.utc)}, {'Tweet': 'RT @bdfx10: 【#FXのすゝめ2022】\\n先出し詐欺師は派手なロット数と金額でドヤ顔します。騙されないで！\\n\\n#fx は金額が重要なのではありません。どの場所でポジションを持つのかが重要\\n\\n勝つトレードを求めてはいけない。負けないトレードこそが至高。\\n\\nこれが #たけ…', 'Timestamp': datetime.datetime(2022, 2, 18, 15, 37, 38, tzinfo=datetime.timezone.utc)}, {'Tweet': '\"Trend is your friend\" is the worst saying in the history of charting/trading. To the unaquainted trend is most cer… https://t.co/wsx3NSt022', 'Timestamp': datetime.datetime(2022, 2, 18, 15, 31, 28, tzinfo=datetime.timezone.utc)}, {'Tweet': 'Gold Weekly Forecast: Gold shines as the go-to safe-haven asset By @eren_fxstreet https://t.co/d3eR4xlqFj #Gold… https://t.co/PAODiUsKsT', 'Timestamp': datetime.datetime(2022, 2, 18, 15, 29, 6, tzinfo=datetime.timezone.utc)}, {'Tweet': '$XAUUSD BUY NOW   #XAUUSD #GOLD $GOLD🥇\\n\\n@1893.50-1890\\n\\nsl 1885\\n\\ntp 1899\\ntp 1910\\ntp open', 'Timestamp': datetime.datetime(2022, 2, 18, 15, 27, 59, tzinfo=datetime.timezone.utc)}, {'Tweet': '2本目の陰線の四本値がどの様に確定したかを基準にエントリーを行う\\nhttps://t.co/1yFT7chgHM\\n\\n#FX #FOREX #BTC #Crypto #GOLD #XAUUSD #LN #XRP #ETH #NFT #altcoin', 'Timestamp': datetime.datetime(2022, 2, 18, 15, 26, tzinfo=datetime.timezone.utc)}, {'Tweet': '$XAUUSD #GOLD - 1H: Tous les éléments étant clairement haussiers, il serait possible pour les traders de ne traiter… https://t.co/mPimllqC4u', 'Timestamp': datetime.datetime(2022, 2, 18, 15, 25, 6, tzinfo=datetime.timezone.utc)}, {'Tweet': '$XAUUSD #GOLD - 1H: Tous les éléments étant clairement haussiers, il serait possible pour les traders de ne traiter… https://t.co/Fh8aheYQVt', 'Timestamp': datetime.datetime(2022, 2, 18, 15, 25, 6, tzinfo=datetime.timezone.utc)}, {'Tweet': 'буферная зона скорректирована, чтобы выдвинуть ордера на продажу до 5% выше. отсутствие продаж золота до 1989,75 до… https://t.co/l9jiskWPxN', 'Timestamp': datetime.datetime(2022, 2, 18, 15, 16, 28, tzinfo=datetime.timezone.utc)}, {'Tweet': 'Latest support and resistance tips\\nyellow is resistance\\nred is support  #gold  #XAUUSD https://t.co/2qC2xfr6HH', 'Timestamp': datetime.datetime(2022, 2, 18, 15, 6, 17, tzinfo=datetime.timezone.utc)}, {'Tweet': \"Close First Entry ⛔ Market is not Stable hitting Hard From Last Week Even I'm Busy but don't worry You will not Los… https://t.co/cTSXKDMgYt\", 'Timestamp': datetime.datetime(2022, 2, 18, 15, 5, 41, tzinfo=datetime.timezone.utc)}, {'Tweet': \"Today's signals TP1 (1895) and TP2 (1899) have arrived\\n1902-1909 has not yet arrived. If you follow the signal and… https://t.co/EwCyYBVEw9\", 'Timestamp': datetime.datetime(2022, 2, 18, 15, 3, 42, tzinfo=datetime.timezone.utc)}, {'Tweet': 'RT @bdfx10: 【#FXのすゝめ2022】\\n先出し詐欺師は派手なロット数と金額でドヤ顔します。騙されないで！\\n\\n#fx は金額が重要なのではありません。どの場所でポジションを持つのかが重要\\n\\n勝つトレードを求めてはいけない。負けないトレードこそが至高。\\n\\nこれが #たけ…', 'Timestamp': datetime.datetime(2022, 2, 18, 15, 1, 36, tzinfo=datetime.timezone.utc)}, {'Tweet': 'BOT by DownTrend GOLD M15 at 1894.45\\nFebruary 19, 2022 at 12:00AM\\n\\n#GOLD #BTCUSD #ゴールド #ビットコイン #XAUUSD #Bitcoin', 'Timestamp': datetime.datetime(2022, 2, 18, 15, 0, 9, tzinfo=datetime.timezone.utc)}, {'Tweet': 'ココナラっていうアプリでちょっといいサインツール購入したかも！？！？！？！？！？！？ \\n#GOLD #XAUUSD https://t.co/A1TRAHF7uh', 'Timestamp': datetime.datetime(2022, 2, 18, 15, 0, 6, tzinfo=datetime.timezone.utc)}, {'Tweet': 'Gold is $1893.49/ozt @ 15:00 UTC.\\n\\n24H change: +$1.15 (+0.06%)\\n30D change: +$77.09 (+4.24%)\\n\\n#GOLD $XAU $XAUUSD', 'Timestamp': datetime.datetime(2022, 2, 18, 15, 0, 5, tzinfo=datetime.timezone.utc)}, {'Tweet': '#TheMostProfitable \\n\\nDuring the day, 200 of our investors who traded on this instrument #GOLD TOTAL OF $500000 WON!… https://t.co/7ZGxS6L8Ae', 'Timestamp': datetime.datetime(2022, 2, 18, 15, 0, tzinfo=datetime.timezone.utc)}, {'Tweet': '#GOLD CFDs $XAUUSD https://t.co/XAv1voNVB1', 'Timestamp': datetime.datetime(2022, 2, 18, 14, 58, 43, tzinfo=datetime.timezone.utc)}, {'Tweet': 'BOT by UpTrend BTCUSD M5 at 40313\\nFebruary 18, 2022 at 11:55PM\\n\\n#GOLD #BTCUSD #ゴールド #ビットコイン #XAUUSD #Bitcoin', 'Timestamp': datetime.datetime(2022, 2, 18, 14, 55, 17, tzinfo=datetime.timezone.utc)}, {'Tweet': 'RT @Century_Fin: #Inflationary concerns could build up further and benefit the #metal if energy #prices keep rising due to #geopolitical st…', 'Timestamp': datetime.datetime(2022, 2, 18, 14, 48, 13, tzinfo=datetime.timezone.utc)}, {'Tweet': 'RT @Century_Fin: If global #tensions ease, attention may return to central banks, but with bond rates still hovering near multiyear highs,…', 'Timestamp': datetime.datetime(2022, 2, 18, 14, 48, 4, tzinfo=datetime.timezone.utc)}, {'Tweet': 'RT @Century_Fin: A sustained move above $1900, would bring the June 2021 peak of the $1915 level into focus. The next #bullish target for #…', 'Timestamp': datetime.datetime(2022, 2, 18, 14, 47, 35, tzinfo=datetime.timezone.utc)}, {'Tweet': 'Ons altın 2500 $ lara çıkar mı acaba ? \\nÇıkarsa ne kadar sürede o fiyatlara gelir ?\\nTahminde bulunmuşlar bakalım.\\nK… https://t.co/0XETwsF7T3', 'Timestamp': datetime.datetime(2022, 2, 18, 14, 37, 57, tzinfo=datetime.timezone.utc)}, {'Tweet': '#MorningMarketConversation #gold #xauusd #silver #xagusd $spy #inflation #stocks #crypto #bitcoin $slv… https://t.co/fLTEoedrr0', 'Timestamp': datetime.datetime(2022, 2, 18, 14, 36, 47, tzinfo=datetime.timezone.utc)}, {'Tweet': 'It’s FOMO Friday! #XAUUSD soars on safe haven flows! Our analyst examines the support to #Gold, neurotic news-flow… https://t.co/1fBnjeIX6c', 'Timestamp': datetime.datetime(2022, 2, 18, 14, 28, 7, tzinfo=datetime.timezone.utc)}, {'Tweet': 'There is nothing that cannot be done, only those who do not want to do it. Losses seem to have become commonplace.… https://t.co/L3rLzlMX2w', 'Timestamp': datetime.datetime(2022, 2, 18, 14, 27, 9, tzinfo=datetime.timezone.utc)}, {'Tweet': '完全な聖杯的手法はない。しかし、限りなくそれに近い手法はある。\\nhttps://t.co/P38NPuKUEW\\n\\n#FX #FOREX #BTC #Crypto #GOLD #XAUUSD #LN #XRP #ETH #NFT #altcoin', 'Timestamp': datetime.datetime(2022, 2, 18, 14, 25, tzinfo=datetime.timezone.utc)}, {'Tweet': 'Here are #GOLD  and #SILVER charts. they both look ready to rip.\\n\\n#commodities #XAUUSD #XAGUSD https://t.co/NWONZuAHi7', 'Timestamp': datetime.datetime(2022, 2, 18, 14, 24, 38, tzinfo=datetime.timezone.utc)}, {'Tweet': 'たぬかな選手のYouTubeガンガン伸びてるじゃねえか\\nみんな高評価してくれていいんだぜ？\\nハトヤマ理論で世界を掴め👉\\n\\n#投資家と繋がりたい\\n#FX\\n#ハイレバ\\n#借金\\n#消費者金融\\n#XAUUSD\\n#GOLD\\n#ママ… https://t.co/a22EUKNAAq', 'Timestamp': datetime.datetime(2022, 2, 18, 14, 23, 56, tzinfo=datetime.timezone.utc)}, {'Tweet': 'If you still have orders in your account\\nSuggest not to stay until next week\\nPreventing changes in the situation in… https://t.co/NHXQxK05Rc', 'Timestamp': datetime.datetime(2022, 2, 18, 14, 20, 19, tzinfo=datetime.timezone.utc)}, {'Tweet': \"#Gold's operating ideas today suggest that the correction should be based on lows and longs. The top should focus o… https://t.co/TcgWaWtiuq\", 'Timestamp': datetime.datetime(2022, 2, 18, 14, 15, 24, tzinfo=datetime.timezone.utc)}, {'Tweet': 'The Ukraine crisis has provided additional impetus for bullish gold investors, who have previously favored gold as… https://t.co/mShrSpqwKc', 'Timestamp': datetime.datetime(2022, 2, 18, 14, 12, 57, tzinfo=datetime.timezone.utc)}, {'Tweet': 'Bought 0.03 Lots EURUSD 1.13427 TP 1.1367 I trade: $XAUUSD #gold $USDJPY $EURUSD Stats: https://t.co/5Ou2LI5bv3', 'Timestamp': datetime.datetime(2022, 2, 18, 14, 11, 22, tzinfo=datetime.timezone.utc)}, {'Tweet': '#Gold\\n#XAUUSD\\n#FOREX\\n#MQL5\\n#MQL4\\n1/19  北京时间\\n凌晨1：40分黄金上涨\\n\\u200b目前阶段（多自刑，做空） https://t.co/7BRKtaSP9e', 'Timestamp': datetime.datetime(2022, 2, 18, 14, 10, 12, tzinfo=datetime.timezone.utc)}, {'Tweet': 'Gold has been rising in a row recently, and it topped and dived on Friday morning. However, it has recently gained… https://t.co/2ze1SJ4jgv', 'Timestamp': datetime.datetime(2022, 2, 18, 14, 8, 23, tzinfo=datetime.timezone.utc)}, {'Tweet': 'Sold 0.05 Lots EURUSD 1.13461 TP 1.13361 I trade: $XAUUSD #gold $USDJPY $EURUSD Stats: https://t.co/xegDJUxHmm', 'Timestamp': datetime.datetime(2022, 2, 18, 14, 7, 58, tzinfo=datetime.timezone.utc)}, {'Tweet': \"RT @AoodSumrit: #BREAKING : ประธานาธิบดีรัสเซียปูตินกล่าวว่าเห็น 'สถานการณ์ที่แย่ลง' ในยูเครนตะวันออก: (AFP)\\nต้องฟังปูติน กับ ลุงโจ เท่านั้…\", 'Timestamp': datetime.datetime(2022, 2, 18, 14, 7, 20, tzinfo=datetime.timezone.utc)}, {'Tweet': \"RT @AoodSumrit: #BREAKING : ประธานาธิบดีรัสเซียปูตินกล่าวว่าเห็น 'สถานการณ์ที่แย่ลง' ในยูเครนตะวันออก: (AFP)\\nต้องฟังปูติน กับ ลุงโจ เท่านั้…\", 'Timestamp': datetime.datetime(2022, 2, 18, 14, 6, 30, tzinfo=datetime.timezone.utc)}, {'Tweet': \"RT @AoodSumrit: #BREAKING : ประธานาธิบดีรัสเซียปูตินกล่าวว่าเห็น 'สถานการณ์ที่แย่ลง' ในยูเครนตะวันออก: (AFP)\\nต้องฟังปูติน กับ ลุงโจ เท่านั้…\", 'Timestamp': datetime.datetime(2022, 2, 18, 14, 6, 23, tzinfo=datetime.timezone.utc)}, {'Tweet': \"#BREAKING : ประธานาธิบดีรัสเซียปูตินกล่าวว่าเห็น 'สถานการณ์ที่แย่ลง' ในยูเครนตะวันออก: (AFP)\\nต้องฟังปูติน กับ ลุงโจ… https://t.co/Etfs3Oczfu\", 'Timestamp': datetime.datetime(2022, 2, 18, 14, 6, 11, tzinfo=datetime.timezone.utc)}, {'Tweet': '#XAUUSD  Target Achieved as per the analysis shared 45 pips 🎯\\n#gold #forexsignals #forextrader #forexsignal… https://t.co/OUFCrdA33J', 'Timestamp': datetime.datetime(2022, 2, 18, 14, 5, 18, tzinfo=datetime.timezone.utc)}, {'Tweet': 'TARGET ACHIEVED BOOKED PROFIT OF 45 PIPS🔥💯\\n\\nJOIN OUR WHATSAPP GROUP FOR TRAILS 👇\\nhttps://t.co/5pcHvQqorP\\n\\n#Gold… https://t.co/awshMzRwsZ', 'Timestamp': datetime.datetime(2022, 2, 18, 14, 4, 57, tzinfo=datetime.timezone.utc)}, {'Tweet': 'RT @yusey358: 2/16オンラインサロン内のGOLDテクニカル分析動画！往復取った際のショート編！#FX #fx #FX初心者 #テクニカル分析 #オンラインサロン #Fortuna #悠聖式 #GOLD #ゴールド #XAU #XAUUSD #裁量 #裁量トレーダ…', 'Timestamp': datetime.datetime(2022, 2, 18, 14, 4, 13, tzinfo=datetime.timezone.utc)}, {'Tweet': 'TARGET ACHIEVED BOOKED PROFIT OF 45 PIPS🔥💯\\n\\nJOIN OUR WHATSAPP GROUP FOR TRAILS 👇\\nhttps://t.co/nJ8gJLnr5E\\n\\n#Gold… https://t.co/GrCMZhorZI', 'Timestamp': datetime.datetime(2022, 2, 18, 14, 3, 58, tzinfo=datetime.timezone.utc)}, {'Tweet': 'TARGET ACHIEVED BOOKED PROFIT OF 45 PIPS🔥💯\\n\\nJOIN OUR WHATSAPP GROUP FOR TRAILS 👇\\nhttps://t.co/9pXRmKDOwO\\n\\n#Gold… https://t.co/ymmobT8gWt', 'Timestamp': datetime.datetime(2022, 2, 18, 14, 3, 23, tzinfo=datetime.timezone.utc)}, {'Tweet': 'RT @Xauusd_NA: So far, 1900 is still the biggest resistance level for gold. If gold can break through and stand above 1900, then it will wa…', 'Timestamp': datetime.datetime(2022, 2, 18, 14, 3, 19, tzinfo=datetime.timezone.utc)}, {'Tweet': 'RT @yusey358: 2/16オンラインサロン内のGOLDテクニカル分析動画！往復取った際のロング編！#FX #fx #FX初心者 #テクニカル分析 #オンラインサロン #Fortuna #GOLD #ゴールド #XAU #XAUUSD #裁量 #裁量トレーダー #裁量ト…', 'Timestamp': datetime.datetime(2022, 2, 18, 14, 3, 17, tzinfo=datetime.timezone.utc)}, {'Tweet': \"Russia-Ukraine conflict boosts gold, Bullard hawks can't stop gold from rising, after market resistance watch out f… https://t.co/Z6t8ymjgiH\", 'Timestamp': datetime.datetime(2022, 2, 18, 14, 2, 29, tzinfo=datetime.timezone.utc)}, {'Tweet': '$XAUUSD #GOLD - 15 min.: La tendance haussière est actuellement très forte sur GOLD - USD. Tant que le cours se mai… https://t.co/YISfY57Qs0', 'Timestamp': datetime.datetime(2022, 2, 18, 14, 1, 13, tzinfo=datetime.timezone.utc)}, {'Tweet': '$XAUUSD #GOLD - 15 min.: La tendance haussière est actuellement très forte sur GOLD - USD. Tant que le cours se mai… https://t.co/CaiqbwB8AF', 'Timestamp': datetime.datetime(2022, 2, 18, 14, 1, 13, tzinfo=datetime.timezone.utc)}, {'Tweet': 'For the US session i like:\\n\\n#Gold #Xaudusd : ↘️\\n#Gbpusd: ↘️\\n#NzdChf: ↘️\\n\\n#TRADING #GOLD #XAUUSD #GBPUSD #NZDCHF #TIER1', 'Timestamp': datetime.datetime(2022, 2, 18, 14, 1, tzinfo=datetime.timezone.utc)}, {'Tweet': 'BOT by DownTrend GOLD M5 at 1896.35\\nFebruary 18, 2022 at 11:00PM\\n\\n#GOLD #BTCUSD #ゴールド #ビットコイン #XAUUSD #Bitcoin', 'Timestamp': datetime.datetime(2022, 2, 18, 14, 0, 8, tzinfo=datetime.timezone.utc)}, {'Tweet': 'Gold is $1895.11/ozt @ 14:00 UTC.\\n\\n24H change: +$0.67 (+0.04%)\\n30D change: +$77.53 (+4.27%)\\n\\n#GOLD $XAU $XAUUSD', 'Timestamp': datetime.datetime(2022, 2, 18, 14, 0, 5, tzinfo=datetime.timezone.utc)}, {'Tweet': '#Platinum \\nAnother new high here on day 46 of the daily cycle. We should expect to get the daily cycle high soon if… https://t.co/oe4B9FlGlQ', 'Timestamp': datetime.datetime(2022, 2, 18, 13, 59, 2, tzinfo=datetime.timezone.utc)}, {'Tweet': 'So far, 1900 is still the biggest resistance level for gold. If gold can break through and stand above 1900, then i… https://t.co/FxbBzE7AEU', 'Timestamp': datetime.datetime(2022, 2, 18, 13, 58, 19, tzinfo=datetime.timezone.utc)}, {'Tweet': '#Gold Analysis \\nGold hits a massive run to the upside after tensions on the Russian-Ukraine border escalate. The pa… https://t.co/VKo52CxYa2', 'Timestamp': datetime.datetime(2022, 2, 18, 13, 57, 45, tzinfo=datetime.timezone.utc)}, {'Tweet': 'RT @VincentGanne: #Gold /BTC, l’arbitrage actif du moment, dans un trading range\\n\\n🔎 Le chartisme appliqué au ratio xauusd/btcusd capte des…', 'Timestamp': datetime.datetime(2022, 2, 18, 13, 56, 56, tzinfo=datetime.timezone.utc)}, {'Tweet': '#gold #rsistudy #eurusd #forex #gold #xauusd - Added position in 15M \\n#sharemarket #stockmarket #nifty… https://t.co/MEQjwgPp83', 'Timestamp': datetime.datetime(2022, 2, 18, 13, 56, 50, tzinfo=datetime.timezone.utc)}, {'Tweet': 'Short on #Gold #XAUUSD having stoploss at 1901\\nTargets open because I will trail the price action.\\n#BTCUSDT… https://t.co/PLL3vWGkny', 'Timestamp': datetime.datetime(2022, 2, 18, 13, 55, 19, tzinfo=datetime.timezone.utc)}, {'Tweet': '#xauusd Quasimodo pattern.\\nPossible Moves from 1894-89 to 1900-1907.\\nDownward stops1881-78\\nmentioned in the image.… https://t.co/R6J3Ct0GoR', 'Timestamp': datetime.datetime(2022, 2, 18, 13, 55, 11, tzinfo=datetime.timezone.utc)}, {'Tweet': '#XAUUSD #GOLD #ONS #ALTIN Short Target 1858.0 \\n\\nTelegram: https://t.co/dea40pAyGB\\n\\nhttps://t.co/gifj1OdjbD', 'Timestamp': datetime.datetime(2022, 2, 18, 13, 54, 38, tzinfo=datetime.timezone.utc)}, {'Tweet': '#GOLD CFDs $XAUUSD https://t.co/t5CEMaVUMO', 'Timestamp': datetime.datetime(2022, 2, 18, 13, 53, 7, tzinfo=datetime.timezone.utc)}, {'Tweet': 'A sustained move above $1900, would bring the June 2021 peak of the $1915 level into focus. The next #bullish targe… https://t.co/73CTxaRSp9', 'Timestamp': datetime.datetime(2022, 2, 18, 13, 43, 49, tzinfo=datetime.timezone.utc)}, {'Tweet': \"$XAUUSD #GOLD - 15 min.: GOLD - USD s'inscrit dans une tendance haussière. Les traders pourraient envisager de ne t… https://t.co/ovJmBk35Fw\", 'Timestamp': datetime.datetime(2022, 2, 18, 13, 40, 35, tzinfo=datetime.timezone.utc)}, {'Tweet': \"$XAUUSD #GOLD - 15 min.: GOLD - USD s'inscrit dans une tendance haussière. Les traders pourraient envisager de ne t… https://t.co/Bdsh5gLfff\", 'Timestamp': datetime.datetime(2022, 2, 18, 13, 40, 35, tzinfo=datetime.timezone.utc)}, {'Tweet': '#GOLD    1900 is a strong resistance level for gold, once it breaks through 1900, gold will fall and repair \\n#xauusd https://t.co/QoF1tqJFWp', 'Timestamp': datetime.datetime(2022, 2, 18, 13, 40, 10, tzinfo=datetime.timezone.utc)}, {'Tweet': '#Gold breaks through 1900\\nThe golden age has come\\nNeed accurate trading signals contact me quickly\\nThe golden age h… https://t.co/CMgmqEnwqo', 'Timestamp': datetime.datetime(2022, 2, 18, 13, 34, 55, tzinfo=datetime.timezone.utc)}, {'Tweet': '#XAUUSD #GOLD break &amp; retest m30  .\\nLiquidity grabbed. sellers tradped.\\nTook buy ..\\nClosed 50 pips in profit… https://t.co/PF78yyk71C', 'Timestamp': datetime.datetime(2022, 2, 18, 13, 34, 2, tzinfo=datetime.timezone.utc)}, {'Tweet': 'RT @Linda_XAUUSD: Yellow is resistance.\\nRed is support.#XAUUSD  #gold https://t.co/6PHOuM3gP2', 'Timestamp': datetime.datetime(2022, 2, 18, 13, 33, 53, tzinfo=datetime.timezone.utc)}, {'Tweet': '#XAUUSD-Formasyondan Çıkılmasıyla Yükselişler Hız Kazandı...\\n\\n#forex #fx #ekonomi #altın #ons #gold #dolar #cuma \\n\\nhttps://t.co/h9KobmUtK8', 'Timestamp': datetime.datetime(2022, 2, 18, 13, 32, 14, tzinfo=datetime.timezone.utc)}, {'Tweet': '#XAUUSD-Formasyondan Çıkılmasıyla Yükselişler Hız Kazandı...\\n\\n#forex #fx #ekonomi #altın #ons #gold #dolar #cuma \\n\\nhttps://t.co/q88bLPKbHv', 'Timestamp': datetime.datetime(2022, 2, 18, 13, 32, 10, tzinfo=datetime.timezone.utc)}, {'Tweet': 'The #gold price reaches the second TP (1899). If you follow the signal to buy gold, you can close the position if y… https://t.co/aUvE5zzta9', 'Timestamp': datetime.datetime(2022, 2, 18, 13, 32, 6, tzinfo=datetime.timezone.utc)}, {'Tweet': 'メテオブラスト、勢いが止まりません！\\n#ゴールドEA\\n#ゴールド\\n#GOLD\\n#XAUUSD https://t.co/5kExZAFQXM', 'Timestamp': datetime.datetime(2022, 2, 18, 13, 29, 24, tzinfo=datetime.timezone.utc)}, {'Tweet': 'RT @uchuujin_fx: メテオブラスト２月入ってから、たった18日で利益50万円を超えました！㊗️(早くも利益率50％突破)\\n今月月利70〜80％くらいは行きそうだな☺️加えてこの大荒れゴールド相場における安定感！(他のツイート参照)\\n\\n#XAUUSD\\n#ゴールド\\n#…', 'Timestamp': datetime.datetime(2022, 2, 18, 13, 28, 5, tzinfo=datetime.timezone.utc)}, {'Tweet': 'RT @uchuujin_fx: 2/17実績\\n\\n金曜日からの地獄のようなGOLD相場を完璧に捌き切ってずーっとノーダージ爆益継続中㊗️\\nお陰様でお問い合わせ沢山頂いてます！😭\\n\\n導入はこちらから👇\\nhttps://t.co/fwj9W33Mmj\\n\\nオプチャに公開口座もあります…', 'Timestamp': datetime.datetime(2022, 2, 18, 13, 27, 54, tzinfo=datetime.timezone.utc)}, {'Tweet': 'メテオブラストのお問い合わせが止まりません☺️\\n本当にありがとうございます😭\\n\\n#ゴールドEA\\n#GOLD\\n#ゴールド\\n#XAUUSD', 'Timestamp': datetime.datetime(2022, 2, 18, 13, 26, 56, tzinfo=datetime.timezone.utc)}, {'Tweet': 'RT @AoodSumrit: ทองคำจะไปทางไหนต่อ #Gold #XAUUSD', 'Timestamp': datetime.datetime(2022, 2, 18, 13, 26, 21, tzinfo=datetime.timezone.utc)}, {'Tweet': '#gold #rsistudy #eurusd #forex #gold #xauusd - din trigger 1980 as rejected 50% of ystrdays move. Buy order abv 23%… https://t.co/cZbcfJjaGf', 'Timestamp': datetime.datetime(2022, 2, 18, 13, 25, 41, tzinfo=datetime.timezone.utc)}, {'Tweet': '動く方向の予測はその週でも日でも似た条件｢指標、SQ週、FOMC週、最近ならブラックフライデー」の日やその週の動きと近いものを１時間足以下で集める\\nhttps://t.co/6R8EkiVe21\\n\\n#FX #FOREX #BTC… https://t.co/xWMWRSAMTr', 'Timestamp': datetime.datetime(2022, 2, 18, 13, 25, tzinfo=datetime.timezone.utc)}, {'Tweet': 'RT @bdfx10: 【#FXのすゝめ2022】\\n先出し詐欺師は派手なロット数と金額でドヤ顔します。騙されないで！\\n\\n#fx は金額が重要なのではありません。どの場所でポジションを持つのかが重要\\n\\n勝つトレードを求めてはいけない。負けないトレードこそが至高。\\n\\nこれが #たけ…', 'Timestamp': datetime.datetime(2022, 2, 18, 13, 24, 4, tzinfo=datetime.timezone.utc)}, {'Tweet': '#gold holding steady just below 1900 at th NY trading open   Support lower at 1888 and 1879. Resistance above at 19… https://t.co/adFCXAc8BR', 'Timestamp': datetime.datetime(2022, 2, 18, 13, 22, 19, tzinfo=datetime.timezone.utc)}, {'Tweet': '#Gold #Price Analysis: Spot #gold #prices have come off the boil having failed to push above $1900 on Thursday/earl… https://t.co/0wx3xf06uy', 'Timestamp': datetime.datetime(2022, 2, 18, 13, 21, 48, tzinfo=datetime.timezone.utc)}, {'Tweet': '#XAUUSD Daily 15:50 Up Trend BUY advice\\n\\nThis is a very positive signal! Three consecutive wave degrees show a clea… https://t.co/ATcFYxiUEt', 'Timestamp': datetime.datetime(2022, 2, 18, 13, 17, 12, tzinfo=datetime.timezone.utc)}, {'Tweet': \"📊#GOLD boğaları, Ukrayna krizi sırasında gözleri 1.916$'da tutuyor. Diplomasi görüşmeleri göz önüne alındığında,… https://t.co/0xysQmjHz7\", 'Timestamp': datetime.datetime(2022, 2, 18, 13, 16, tzinfo=datetime.timezone.utc)}, {'Tweet': '#xauusd possible Moves.\\n#GOLD #forexsignals #forextrader\\n\\nThis is morning time analysis. Still market acting sams a… https://t.co/bscjtlR7xv', 'Timestamp': datetime.datetime(2022, 2, 18, 13, 15, 21, tzinfo=datetime.timezone.utc)}, {'Tweet': \"RT @anna_tmgm: Russia-Ukraine conflict boosts gold, Bullard hawks can't stop gold from rising, after market resistance watch out for 1910!…\", 'Timestamp': datetime.datetime(2022, 2, 18, 13, 15, 9, tzinfo=datetime.timezone.utc)}, {'Tweet': 'Sniper entery of #XAUUSD #gold watch this video https://t.co/9uQmVkqwNs https://t.co/IDUeD4SIME', 'Timestamp': datetime.datetime(2022, 2, 18, 13, 14, 29, tzinfo=datetime.timezone.utc)}, {'Tweet': \"Russia-Ukraine conflict boosts gold, Bullard hawks can't stop gold from rising, after market resistance watch out f… https://t.co/xDlAekyGJD\", 'Timestamp': datetime.datetime(2022, 2, 18, 13, 14, 5, tzinfo=datetime.timezone.utc)}, {'Tweet': 'RT @UFXstrategy: #xauusd actual trade was this. Hit all tp #GOLD #forexsignals #forextrader #GOLD #accountingservices #ultimatefx #ufxs htt…', 'Timestamp': datetime.datetime(2022, 2, 18, 13, 13, 47, tzinfo=datetime.timezone.utc)}, {'Tweet': 'Gold sell 1896-1899 sl 1900 \\nTp 1886 #gold #xauusd #เทรดทองเทรดทองคำ', 'Timestamp': datetime.datetime(2022, 2, 18, 13, 13, 35, tzinfo=datetime.timezone.utc)}, {'Tweet': '$XAUUSD #GOLD - 1H: La tendance haussière de fond de cette unité de temps est très forte sur GOLD - USD mais le cou… https://t.co/vxjMwyxED7', 'Timestamp': datetime.datetime(2022, 2, 18, 13, 12, 57, tzinfo=datetime.timezone.utc)}, {'Tweet': '$XAUUSD #GOLD - 1H: La tendance haussière de fond de cette unité de temps est très forte sur GOLD - USD mais le cou… https://t.co/9wchkFUzq1', 'Timestamp': datetime.datetime(2022, 2, 18, 13, 12, 57, tzinfo=datetime.timezone.utc)}, {'Tweet': \"The price of #gold rose to 1895 again. If you follow the signal to buy gold and you haven't closed your position, y… https://t.co/G1ytiExNUP\", 'Timestamp': datetime.datetime(2022, 2, 18, 13, 12, 2, tzinfo=datetime.timezone.utc)}, {'Tweet': 'BOOM 🤯💥 LAST LAYER RUNNING 22 PIPS ✅ | CLOSE FIRST ENTRY AND SET BE+ OKAY 🆗👍\\n\\n#XAUUSD #GOLD https://t.co/WuAtEF5rMg https://t.co/VMpb4wzrG8', 'Timestamp': datetime.datetime(2022, 2, 18, 13, 8, 40, tzinfo=datetime.timezone.utc)}, {'Tweet': '#XAUUSD  #Gold  #tradingsignals Trading Plan (17/2)\\n\\nBuy 1886\\nSL  1870\\n\\nTP1 1891\\nTP2 1902\\nTP3 1910\\nTP4 1916\\nTP5 192… https://t.co/rdotVHfyZF', 'Timestamp': datetime.datetime(2022, 2, 18, 13, 7, 43, tzinfo=datetime.timezone.utc)}, {'Tweet': 'Buy #Gold Around 1889 \\nTP 1899 \\nSL 1882.70\\n#XAUUSD #forexsignals', 'Timestamp': datetime.datetime(2022, 2, 18, 13, 7, 18, tzinfo=datetime.timezone.utc)}, {'Tweet': 'Trading para hoy -   Sell #XAUUSD #ORODOLAR #trading #trader #forex #forextrader #pips #forextrading #fx #profit… https://t.co/lhiqEcdtic', 'Timestamp': datetime.datetime(2022, 2, 18, 13, 2, 19, tzinfo=datetime.timezone.utc)}, {'Tweet': 'Sell at 1893.00\\nTp at 1888.00\\n#XAUUSD #GOLD #gold\\n$XAUUSD $GOLD $gold', 'Timestamp': datetime.datetime(2022, 2, 18, 13, 2, 6, tzinfo=datetime.timezone.utc)}, {'Tweet': 'Gold is $1892.15/ozt @ 13:00 UTC.\\n\\n24H change: +$7.97 (+0.42%)\\n30D change: +$78.61 (+4.33%)\\n\\n#GOLD $XAU $XAUUSD', 'Timestamp': datetime.datetime(2022, 2, 18, 13, 0, 5, tzinfo=datetime.timezone.utc)}, {'Tweet': 'https://t.co/UcUT46nWla\\nForex Make Money With GOLD #xauusd #gold #forex\\n\\nIf you want Stop Loss Hunting Software \\nSh… https://t.co/N396NkSvma', 'Timestamp': datetime.datetime(2022, 2, 18, 12, 57, 30, tzinfo=datetime.timezone.utc)}, {'Tweet': 'RT @Linda_XAUUSD: Yellow is resistance.\\nRed is support.#XAUUSD  #gold https://t.co/6PHOuM3gP2', 'Timestamp': datetime.datetime(2022, 2, 18, 12, 56, 6, tzinfo=datetime.timezone.utc)}, {'Tweet': 'RT @GoldTradingPK: #XAUUSD #GOLD SIGNAL\\nSELL : 1895 - 1897\\nTP: 1893 - 1890 - 1880\\nSL : 1901 or Set Your StopLoss According to Your Margin', 'Timestamp': datetime.datetime(2022, 2, 18, 12, 55, 45, tzinfo=datetime.timezone.utc)}, {'Tweet': 'MTL1 starting on 28th Feb.\\n\\nFee:\\n\\n$150 USD untill this Sunday 20th Feb 2022.\\n\\n$300 USD from Monday 21st Feb to 28th… https://t.co/wSlcVheyIX', 'Timestamp': datetime.datetime(2022, 2, 18, 12, 55, 18, tzinfo=datetime.timezone.utc)}, {'Tweet': 'Gold Oil Ratio, at important juncture/support $XAUUSD $USOIL #Gold #Oil https://t.co/c10Mp3PaGP', 'Timestamp': datetime.datetime(2022, 2, 18, 12, 55, 15, tzinfo=datetime.timezone.utc)}, {'Tweet': \"RT @MBForex: #Gold Breakout!\\n\\n$XAUUSD Daily\\n\\nUpdate to yesterday's Gold Outlook-\\nhttps://t.co/rVZpEU6G5B https://t.co/9SGpjqYDpd\", 'Timestamp': datetime.datetime(2022, 2, 18, 12, 55, tzinfo=datetime.timezone.utc)}, {'Tweet': 'Yellow is resistance.\\nRed is support.#XAUUSD  #gold https://t.co/6PHOuM3gP2', 'Timestamp': datetime.datetime(2022, 2, 18, 12, 54, 41, tzinfo=datetime.timezone.utc)}, {'Tweet': \"Yesterday's Profitable Trades \\nFor free trial signals, Join- https://t.co/IHSIyLFgYw………… #gold #xau #xauusd… https://t.co/yjEPd3AisX\", 'Timestamp': datetime.datetime(2022, 2, 18, 12, 52, 22, tzinfo=datetime.timezone.utc)}, {'Tweet': '次はどこかなぁ🧐\\n今日はやめとこかしら🙃\\nやってもド短期スキャ\\n\\n#GOLD\\xa0 #XAUUSD #ゴールド\\n#FX #FX初心者 https://t.co/ErF9v89Q9k', 'Timestamp': datetime.datetime(2022, 2, 18, 12, 51, 8, tzinfo=datetime.timezone.utc)}, {'Tweet': 'INTRADAY  SELL #XAUUSD @ 1893-1894\\nTARGET-1888-1881\\nSL – 1903\\n\\nFor More Signals Text Me https://t.co/jgDToM399Q… https://t.co/jVZ2LKYBd9', 'Timestamp': datetime.datetime(2022, 2, 18, 12, 47, 48, tzinfo=datetime.timezone.utc)}, {'Tweet': 'RT @danadaneshvar: #XAUUSD (Update)....\\nHi traders.\\n I see gold broke triangle on daily timeframe up upside. Now it formed rising channel.…', 'Timestamp': datetime.datetime(2022, 2, 18, 12, 45, 53, tzinfo=datetime.timezone.utc)}, {'Tweet': '#XAUUSD  #GOLD  #ゴールド \\n\\n5分足W\\n教科書みたいな普通の動きだった・・草🐭✨', 'Timestamp': datetime.datetime(2022, 2, 18, 12, 45, 28, tzinfo=datetime.timezone.utc)}, {'Tweet': 'うーん。素直に落ちないなぁ\\n難しい展開だな～🤔\\n\\n#Gold \\n#XAUUSD https://t.co/zKvHbfpAoU https://t.co/Ex9YLtOo87', 'Timestamp': datetime.datetime(2022, 2, 18, 12, 44, 49, tzinfo=datetime.timezone.utc)}, {'Tweet': 'Targets 1 and 2 done! Join us Now to enjoy such returns daily👉https://t.co/34eJE3VaTb\\n\\n#usd #Gold #xauusd #trading… https://t.co/JxNWTWR5i3', 'Timestamp': datetime.datetime(2022, 2, 18, 12, 44, 47, tzinfo=datetime.timezone.utc)}, {'Tweet': 'RT @AoodSumrit: ทองคำจะไปทางไหนต่อ #Gold #XAUUSD', 'Timestamp': datetime.datetime(2022, 2, 18, 12, 44, 16, tzinfo=datetime.timezone.utc)}, {'Tweet': 'RT @RafKadian: #gold #god #xauusd https://t.co/hudXh4XBTa', 'Timestamp': datetime.datetime(2022, 2, 18, 12, 43, 59, tzinfo=datetime.timezone.utc)}, {'Tweet': 'RT @AoodSumrit: ทองคำจะไปทางไหนต่อ #Gold #XAUUSD', 'Timestamp': datetime.datetime(2022, 2, 18, 12, 43, 50, tzinfo=datetime.timezone.utc)}, {'Tweet': 'RT @AoodSumrit: ทองคำจะไปทางไหนต่อ #Gold #XAUUSD', 'Timestamp': datetime.datetime(2022, 2, 18, 12, 42, 24, tzinfo=datetime.timezone.utc)}, {'Tweet': '$XAUUSD #GOLD - 15 min.: La tendance de fond de cette unité de temps est actuellement faiblement haussière sur GOLD… https://t.co/CqmGLwdDyr', 'Timestamp': datetime.datetime(2022, 2, 18, 12, 42, 23, tzinfo=datetime.timezone.utc)}, {'Tweet': '$XAUUSD #GOLD - 15 min.: La tendance de fond de cette unité de temps est actuellement faiblement haussière sur GOLD… https://t.co/JzJE9M0Gsr', 'Timestamp': datetime.datetime(2022, 2, 18, 12, 42, 23, tzinfo=datetime.timezone.utc)}, {'Tweet': 'Gold Price Analysis: XAU/USD falls back from $1900 level amid hopes for Ukraine crisis de-escalation By… https://t.co/kZm2OvgZRm', 'Timestamp': datetime.datetime(2022, 2, 18, 12, 42, 11, tzinfo=datetime.timezone.utc)}, {'Tweet': 'ทองคำจะไปทางไหนต่อ #Gold #XAUUSD', 'Timestamp': datetime.datetime(2022, 2, 18, 12, 41, 48, tzinfo=datetime.timezone.utc)}, {'Tweet': 'Gold sell now \\n#XAUUSD #Gold #XAGUSD #Btc #Signal #Forex', 'Timestamp': datetime.datetime(2022, 2, 18, 12, 41, 30, tzinfo=datetime.timezone.utc)}, {'Tweet': 'あー😇\\nゴールド 1881まで来ると思ってた\\n１回入ったのに下がると思ってSL浅めにしてしまってたよ🙁\\n下手っぴだわ🥺\\n\\n#GOLD #XAUUSD #ゴールド\\n#FX #FX初心者 https://t.co/tvQH3MCNnk', 'Timestamp': datetime.datetime(2022, 2, 18, 12, 40, 24, tzinfo=datetime.timezone.utc)}, {'Tweet': 'RT @GoldTradingPK: #XAUUSD #GOLD SIGNAL\\nSELL : 1892 - 1895\\nTP: 1890 - 1888 - 1881\\nSL : 1901 or Set Your StopLoss According to Your Margin', 'Timestamp': datetime.datetime(2022, 2, 18, 12, 39, 54, tzinfo=datetime.timezone.utc)}, {'Tweet': 'Sold 0.05 Lots EURUSD 1.13639 TP 1.13481 I trade: $XAUUSD #gold $USDJPY $EURUSD Stats: https://t.co/xegDJUxHmm', 'Timestamp': datetime.datetime(2022, 2, 18, 12, 38, 45, tzinfo=datetime.timezone.utc)}, {'Tweet': \"The United States and #Russia will hold talks on the #Ukraine issue next week. Don't be overly optimistic. The gold… https://t.co/VqSiWLcO9q\", 'Timestamp': datetime.datetime(2022, 2, 18, 12, 35, 53, tzinfo=datetime.timezone.utc)}, {'Tweet': '#XAUUSD #GOLD SIGNAL\\nSELL : 1892 - 1895\\nTP: 1890 - 1888 - 1881\\nSL : 1901 or Set Your StopLoss According to Your Margin', 'Timestamp': datetime.datetime(2022, 2, 18, 12, 35, 29, tzinfo=datetime.timezone.utc)}, {'Tweet': 'Una inflación persistentemente alta y un dólar más débil podrían compensar la caída del precio del oro por las tasa… https://t.co/3JAR45teDM', 'Timestamp': datetime.datetime(2022, 2, 18, 12, 29, 25, tzinfo=datetime.timezone.utc)}, {'Tweet': '#ゴールド ＃GOLD #XAUUSD\\u30005分足\\n\\nレビヤタンシステムについては、固定ツィートを参照。 https://t.co/2imYwjd2nt', 'Timestamp': datetime.datetime(2022, 2, 18, 12, 28, 41, tzinfo=datetime.timezone.utc)}, {'Tweet': 'RT @mebaru44: 🏴完全無料FXサロン🏴\\n\\n🌙黒メバル軍団🌙\\n\\n・黒メバル手法 完全公開\\n・質問し放題\\n・メンバー同士の雑談あり\\n\\n●先出し通貨:\\nドル円\\u3000#USDJPY\\nゴールド #XAUUSD #GOLD\\nポンド円\\u3000#GBPJPY\\n\\n現メンバーと仲良くでき、\\n興味…', 'Timestamp': datetime.datetime(2022, 2, 18, 12, 28, 26, tzinfo=datetime.timezone.utc)}, {'Tweet': 'La opinión popular es que las subidas de tasas de interés son bajistas para el precio del oro. La comparación del c… https://t.co/8p5Hjak8z6', 'Timestamp': datetime.datetime(2022, 2, 18, 12, 26, 46, tzinfo=datetime.timezone.utc)}, {'Tweet': '2の波の推進力が最大時±数本の時にやっと、トレンドと言われる幅の値動きが発生する\\nhttps://t.co/PTErZrT188\\n\\n#FX #FOREX #BTC #Crypto #GOLD #XAUUSD #LN #XRP #ETH #NFT #altcoin', 'Timestamp': datetime.datetime(2022, 2, 18, 12, 26, tzinfo=datetime.timezone.utc)}, {'Tweet': \"#GOLD continuing it's inner bullish structure.\\n\\nIt accumulated on LTF into a reaccumulation and then marked-up quit… https://t.co/oUmY5dSq3r\", 'Timestamp': datetime.datetime(2022, 2, 18, 12, 23, 37, tzinfo=datetime.timezone.utc)}, {'Tweet': 'El oro rinde mejor cuando la inflación está subiendo, las tasas están bajando y el dólar estadounidense es débil. R… https://t.co/96HtFpsUcA', 'Timestamp': datetime.datetime(2022, 2, 18, 12, 23, 21, tzinfo=datetime.timezone.utc)}, {'Tweet': '#gold #god #xauusd https://t.co/hudXh4XBTa', 'Timestamp': datetime.datetime(2022, 2, 18, 12, 22, 53, tzinfo=datetime.timezone.utc)}, {'Tweet': '2/16オンラインサロン内のGOLDテクニカル分析動画！往復取った際のロング編！#FX #fx #FX初心者 #テクニカル分析 #オンラインサロン #Fortuna #GOLD #ゴールド #XAU #XAUUSD #裁量… https://t.co/lMpXtYV1V2', 'Timestamp': datetime.datetime(2022, 2, 18, 12, 20, 53, tzinfo=datetime.timezone.utc)}, {'Tweet': '#XAUUSD  #GOLD  #ゴールド \\n\\n5分足W\\nネックきた。\\n反応せずに落ちたら面白いのにね🐭✨♬', 'Timestamp': datetime.datetime(2022, 2, 18, 12, 19, 15, tzinfo=datetime.timezone.utc)}, {'Tweet': '*BOOK PROFIT AT 1895(+30 PIPS)*\\n\\nJoin : https://t.co/mlK8qU6qYS\\n\\n#Gold #XAUUSD https://t.co/W6zFRa3VqV', 'Timestamp': datetime.datetime(2022, 2, 18, 12, 14, 45, tzinfo=datetime.timezone.utc)}, {'Tweet': 'RT @UNFXB_Global: The #XAUUSD pair jumped sharply as investors rushed to safe assets. It rose to a high of 1895, which is significantly hig…', 'Timestamp': datetime.datetime(2022, 2, 18, 12, 12, 8, tzinfo=datetime.timezone.utc)}, {'Tweet': '#XAUUSD #Gold Daily Level (18/2)\\n\\nR3 1949.56\\nR2 1925.56\\nR1 1915.16\\n\\nPivot 1891.17\\n\\nS1 1880.77\\nS2 1856.78\\nS3 1846.38… https://t.co/OThHr3roQj', 'Timestamp': datetime.datetime(2022, 2, 18, 12, 11, 20, tzinfo=datetime.timezone.utc)}, {'Tweet': 'In #sell #short #XAUUSD #Gold #ハイレバ #海外口座 https://t.co/qJqyo5Fp10', 'Timestamp': datetime.datetime(2022, 2, 18, 12, 7, 47, tzinfo=datetime.timezone.utc)}, {'Tweet': 'RT @UNFXB_Global: The #XAUUSD pair jumped sharply as investors rushed to safe assets. It rose to a high of 1895, which is significantly hig…', 'Timestamp': datetime.datetime(2022, 2, 18, 12, 2, 44, tzinfo=datetime.timezone.utc)}, {'Tweet': 'BOT by UpTrend GOLD M15 at 1891.1\\nFebruary 18, 2022 at 09:00PM\\n\\n#GOLD #BTCUSD #ゴールド #ビットコイン #XAUUSD #Bitcoin', 'Timestamp': datetime.datetime(2022, 2, 18, 12, 0, 11, tzinfo=datetime.timezone.utc)}, {'Tweet': 'Gold is $1891.13/ozt @ 12:00 UTC.\\n\\n24H change: +$7.81 (+0.41%)\\n30D change: +$77.79 (+4.29%)\\n\\n#GOLD $XAU $XAUUSD', 'Timestamp': datetime.datetime(2022, 2, 18, 12, 0, 6, tzinfo=datetime.timezone.utc)}, {'Tweet': '#AgendaofForex \\n\\nGained Value\\n\\nGold (XAU/USD) Technical Forecast: Sudden Surge Places $1900 in Sight\\n\\n#GOLD #XAUUSD… https://t.co/ocgpB8c7R4', 'Timestamp': datetime.datetime(2022, 2, 18, 12, 0, 1, tzinfo=datetime.timezone.utc)}, {'Tweet': 'The Ukraine crisis has provided additional impetus for bullish gold investors, who have previously favored gold as… https://t.co/TWWFSxECgM', 'Timestamp': datetime.datetime(2022, 2, 18, 11, 57, 1, tzinfo=datetime.timezone.utc)}, {'Tweet': \"Last trade of the week on it's way✊\\n\\nWith every other profit trade we are getting closer to our target and we will… https://t.co/pFUJuKUCE7\", 'Timestamp': datetime.datetime(2022, 2, 18, 11, 56, 31, tzinfo=datetime.timezone.utc)}, {'Tweet': 'https://t.co/9uQmVkqwNs\\n\\n#GOLD trading video. Sniper entry in gold trading.\\n#Xauusd #forexsignals #forextrader… https://t.co/2aELQwZW26', 'Timestamp': datetime.datetime(2022, 2, 18, 11, 55, 16, tzinfo=datetime.timezone.utc)}, {'Tweet': 'resistance of 1895-1900, and the bottom is concerned with the first-line support of 1875-1880.\\n\\n#XAUUSD  #GOLD https://t.co/HQVuaMmSa7', 'Timestamp': datetime.datetime(2022, 2, 18, 11, 53, 40, tzinfo=datetime.timezone.utc)}, {'Tweet': \"RT @FX_Candice: #Gold's operating ideas today suggest that the correction should be based on lows and longs. The top should focus on the fi…\", 'Timestamp': datetime.datetime(2022, 2, 18, 11, 52, 41, tzinfo=datetime.timezone.utc)}, {'Tweet': \"#Gold's operating ideas today suggest that the correction should be based on lows and longs. The top should focus o… https://t.co/1TKPHQmexe\", 'Timestamp': datetime.datetime(2022, 2, 18, 11, 51, 38, tzinfo=datetime.timezone.utc)}, {'Tweet': 'RT @Hana_TaHiAo: めっちゃ上手〜✨\\n先出しやろかな〜🤣\\n私の逆やれば確実に儲かる〜👍\\n\\n連敗記録どこまで\\n伸ばせるかな🤔\\n\\n・・・どないやねん💦\\n（私ドンマイ）\\n\\n#XAUUSD #FX #GOLD #ゴールド https://t.co/O17VfJeFFP', 'Timestamp': datetime.datetime(2022, 2, 18, 11, 51, 15, tzinfo=datetime.timezone.utc)}, {'Tweet': '#Gold Operation Strategy Reference:\\n\\u200b\\u200b\\n1. Gold rebounded and fell in batches near 1902-1905, with a stop loss of 5… https://t.co/t878Cv1B3W', 'Timestamp': datetime.datetime(2022, 2, 18, 11, 50, 49, tzinfo=datetime.timezone.utc)}, {'Tweet': '#XAUUSD  #GOLD  #ゴールド \\n\\n5分あし。\\n\\nWになってますね🐭✨♬', 'Timestamp': datetime.datetime(2022, 2, 18, 11, 49, 41, tzinfo=datetime.timezone.utc)}, {'Tweet': 'RT @ddubrovskyFX: (Briefing)\\n\\nGold Outlook: Prices Cool Amid Prospects of US-Russia Meeting on Ukraine Next Week\\n\\n#Gold #XAUUSD #UkraineCon…', 'Timestamp': datetime.datetime(2022, 2, 18, 11, 49, 12, tzinfo=datetime.timezone.utc)}, {'Tweet': 'RT @Hi_xauusd: It is recommended to focus on the correction of lows and highs, supplemented by high-altitude rebounds. The top should focus…', 'Timestamp': datetime.datetime(2022, 2, 18, 11, 46, 51, tzinfo=datetime.timezone.utc)}, {'Tweet': 'RT @GOLD__LILI: Today, the top of the gold is concerned about the first-line resistance of 1895-1900, and the bottom is concerned with the…', 'Timestamp': datetime.datetime(2022, 2, 18, 11, 46, 5, tzinfo=datetime.timezone.utc)}, {'Tweet': 'It is recommended to focus on the correction of lows and highs, supplemented by high-altitude rebounds. The top sho… https://t.co/ye389vgHhM', 'Timestamp': datetime.datetime(2022, 2, 18, 11, 45, 59, tzinfo=datetime.timezone.utc)}, {'Tweet': 'It is normal for gold to break through a new high, and it is normal to have adjustments. Currently, the upward tren… https://t.co/lsHTKS9IAx', 'Timestamp': datetime.datetime(2022, 2, 18, 11, 44, 31, tzinfo=datetime.timezone.utc)}, {'Tweet': 'Today, the top of the gold is concerned about the first-line resistance of 1895-1900, and the bottom is concerned w… https://t.co/lHm20gZySh', 'Timestamp': datetime.datetime(2022, 2, 18, 11, 43, 47, tzinfo=datetime.timezone.utc)}, {'Tweet': 'Gold sell now\\n\\n#XAUUSD #Gold #XAGUSD #Btc #Signal #Forex', 'Timestamp': datetime.datetime(2022, 2, 18, 11, 38, 19, tzinfo=datetime.timezone.utc)}, {'Tweet': '📌 #GOLD Signal for 18.2.2022 published at service https://t.co/iXLkbV51W9\\n\\n➡️ #XAUUSD GOLD Signal - Join Us Now… https://t.co/Fh5RmldEnA', 'Timestamp': datetime.datetime(2022, 2, 18, 11, 36, 59, tzinfo=datetime.timezone.utc)}, {'Tweet': '📌 #GOLD Signal for 18.2.2022 published at service https://t.co/Ir6Rxv2He5\\n\\n➡️ #XAUUSD GOLD Signal - Join Us Now… https://t.co/D2E8CMx2m8', 'Timestamp': datetime.datetime(2022, 2, 18, 11, 36, 49, tzinfo=datetime.timezone.utc)}, {'Tweet': '📌 #GOLD Signal for 18.2.2022 published at service https://t.co/sTxZyqCXUC\\n\\n➡️ #XAUUSD GOLD Signal - Join Us Now… https://t.co/PzRfcTXqDJ', 'Timestamp': datetime.datetime(2022, 2, 18, 11, 36, 39, tzinfo=datetime.timezone.utc)}, {'Tweet': '📌 #GOLD Signal for 18.2.2022 published at service https://t.co/QjxtaGvSUw\\n\\n➡️ #XAUUSD GOLD Signal - Join Us Now… https://t.co/5apw0cjrea', 'Timestamp': datetime.datetime(2022, 2, 18, 11, 36, 32, tzinfo=datetime.timezone.utc)}, {'Tweet': '📌 #GOLD Signal for 18.2.2022 published at service https://t.co/SePwRKWlfu\\n\\n➡️ #XAUUSD GOLD Signal - Join Us Now… https://t.co/zk5gTwfttn', 'Timestamp': datetime.datetime(2022, 2, 18, 11, 36, 26, tzinfo=datetime.timezone.utc)}, {'Tweet': '#GOLD\\xa0 UPDATE:- If Gold break our at 1893.\\n\\nSo gold can reach upto around 1897.50 \\n\\nDM ME FOR TRAILS 👇… https://t.co/ldUZqyvzNp', 'Timestamp': datetime.datetime(2022, 2, 18, 11, 35, 59, tzinfo=datetime.timezone.utc)}, {'Tweet': 'ゴールドはだいぶ上値が重たくなってきている印象です。\\n引き続きショートを保有しながら両建てしつつ細かく利益を確保していく予定です😁\\n #FX\\n #XAUUSD   #GOLD', 'Timestamp': datetime.datetime(2022, 2, 18, 11, 35, 46, tzinfo=datetime.timezone.utc)}, {'Tweet': 'Bought 0.06 Lots EURUSD 1.13494 TP 1.13709 I trade: $XAUUSD #gold $USDJPY $EURUSD Stats: https://t.co/xegDJUxHmm', 'Timestamp': datetime.datetime(2022, 2, 18, 11, 32, 7, tzinfo=datetime.timezone.utc)}, {'Tweet': 'Bought 0.02 Lots EURUSD 1.1353 TP 1.13741 I trade: $XAUUSD #gold $USDJPY $EURUSD Stats: https://t.co/5Ou2LI5bv3', 'Timestamp': datetime.datetime(2022, 2, 18, 11, 31, 43, tzinfo=datetime.timezone.utc)}, {'Tweet': 'RT @Linda_XAUUSD: important hint:\\nThe changing situation in Russia and Ukraine has caused instability in the trading market\\nIf you have a t…', 'Timestamp': datetime.datetime(2022, 2, 18, 11, 31, 21, tzinfo=datetime.timezone.utc)}, {'Tweet': 'important hint:\\nThe changing situation in Russia and Ukraine has caused instability in the trading market\\nIf you ha… https://t.co/JplVkeesfh', 'Timestamp': datetime.datetime(2022, 2, 18, 11, 30, 8, tzinfo=datetime.timezone.utc)}, {'Tweet': 'RT @bdfx10: 【#FXのすゝめ2022】\\n先出し詐欺師は派手なロット数と金額でドヤ顔します。騙されないで！\\n\\n#fx は金額が重要なのではありません。どの場所でポジションを持つのかが重要\\n\\n勝つトレードを求めてはいけない。負けないトレードこそが至高。\\n\\nこれが #たけ…', 'Timestamp': datetime.datetime(2022, 2, 18, 11, 30, 1, tzinfo=datetime.timezone.utc)}, {'Tweet': '#gold #rsistudy #eurusd #forex #gold #xauusd - now will consider. Buying if reversal signal below or around 1880/ R… https://t.co/Twh99rp7wu', 'Timestamp': datetime.datetime(2022, 2, 18, 11, 27, 3, tzinfo=datetime.timezone.utc)}, {'Tweet': 'Sold 0.05 Lots EURUSD 1.13523 TP 1.13423 I trade: $XAUUSD #gold $USDJPY $EURUSD Stats: https://t.co/xegDJUxHmm', 'Timestamp': datetime.datetime(2022, 2, 18, 11, 27, 1, tzinfo=datetime.timezone.utc)}, {'Tweet': '勝ってる人でレバ規制反対の人ってほぼ皆無だと思う\\nhttps://t.co/TaHiybX43D\\n\\n#FX #FOREX #BTC #Crypto #GOLD #XAUUSD #LN #XRP #ETH #NFT #altcoin', 'Timestamp': datetime.datetime(2022, 2, 18, 11, 25, tzinfo=datetime.timezone.utc)}, {'Tweet': '#gold #rsistudy #eurusd #forex #gold #xauusd - din trigger n fell till 1985 now.\\n#sharemarket #stockmarket #nifty… https://t.co/OLNHOunpil', 'Timestamp': datetime.datetime(2022, 2, 18, 11, 20, 36, tzinfo=datetime.timezone.utc)}, {'Tweet': '#Gold 0.57% lower as profit-takers move in and tensions remain stable for now.\\n\\n#xauusd #trading', 'Timestamp': datetime.datetime(2022, 2, 18, 11, 20, 19, tzinfo=datetime.timezone.utc)}, {'Tweet': '22-7-4/ $Gold #Gold\\n$XAU $XAUUSD #XAUUSD\\nTHU FEB 17, 2022\\nC: $1,899.20 (+24.20/+1.29%)\\n52wk range :\\n1,672.80~1,919.… https://t.co/SBxWDan6kV', 'Timestamp': datetime.datetime(2022, 2, 18, 11, 14, 53, tzinfo=datetime.timezone.utc)}, {'Tweet': '#Gold #XAUUSD #forex #forextrading #forextrader #forexsignal #forexsignals #trading #tradingpsychology #marketcrash… https://t.co/8DYqaVm1eF', 'Timestamp': datetime.datetime(2022, 2, 18, 11, 14, 9, tzinfo=datetime.timezone.utc)}, {'Tweet': '#XAUUSD (Update)....\\nHi traders.\\n I see gold broke triangle on daily timeframe up upside. Now it formed rising chan… https://t.co/KtbECRm4VH', 'Timestamp': datetime.datetime(2022, 2, 18, 11, 13, 46, tzinfo=datetime.timezone.utc)}, {'Tweet': 'RT @FadeMeIfYouCan: #XAUUSD #gold looks more like a super weak bounce for a next leg down. 1878 EOD? https://t.co/TE2dSsuXnr', 'Timestamp': datetime.datetime(2022, 2, 18, 11, 9, 46, tzinfo=datetime.timezone.utc)}, {'Tweet': '#Gold Markets Go Parabolic https://t.co/duUNsofIJN\\n\\n#XAUUSD #GOLD #gold #Gold $XAUUSD #goldprice #forextrading https://t.co/2iwsj3Z19k', 'Timestamp': datetime.datetime(2022, 2, 18, 11, 9, tzinfo=datetime.timezone.utc)}, {'Tweet': 'FX SIGNAL ✅\\n\\n#GBPJPY SELL 156.800\\nTP - 156.800\\n\\nSL - 157.200\\n\\nDM for more info : \\nhttps://t.co/wfv0BbnDiL\\n\\n#gold… https://t.co/O15vF8BlAS', 'Timestamp': datetime.datetime(2022, 2, 18, 11, 7, 32, tzinfo=datetime.timezone.utc)}, {'Tweet': 'FX SIGNAL ✅\\n\\n#GBPJPY SELL 156.800\\nTP - 156.800\\n\\nSL - 157.200\\n\\nDM for more info : \\nhttps://t.co/iybDEf5xLl\\n\\n#gold… https://t.co/CY87kujfD3', 'Timestamp': datetime.datetime(2022, 2, 18, 11, 7, 20, tzinfo=datetime.timezone.utc)}, {'Tweet': 'FX SIGNAL ✅\\n\\n#GBPJPY SELL 156.800\\nTP - 156.800\\n\\nSL - 157.200\\n\\nDM for more info : \\nhttps://t.co/486MhQThxo\\n\\n#gold… https://t.co/9BW71CqOoV', 'Timestamp': datetime.datetime(2022, 2, 18, 11, 7, 3, tzinfo=datetime.timezone.utc)}, {'Tweet': 'RT @eyield: I remain long gold. That was the chart I sent to members of my position trading strategy on 26 January.  Gold is going higher b…', 'Timestamp': datetime.datetime(2022, 2, 18, 11, 6, 4, tzinfo=datetime.timezone.utc)}, {'Tweet': 'RT @mebaru44: 🏴完全無料FXサロン🏴\\n\\n🌙黒メバル軍団🌙\\n\\n・黒メバル手法 完全公開\\n・質問し放題\\n・メンバー同士の雑談あり\\n\\n●先出し通貨:\\nドル円\\u3000#USDJPY\\nゴールド #XAUUSD #GOLD\\nポンド円\\u3000#GBPJPY\\n\\n現メンバーと仲良くでき、\\n興味…', 'Timestamp': datetime.datetime(2022, 2, 18, 11, 4, 46, tzinfo=datetime.timezone.utc)}, {'Tweet': '2/17禅zen実績\\n\\n金曜日からずっと動かしてますが、未だポジションを適宜利確しながら耐えてます！\\n驚異の耐久力🐞\\n\\nこちらで無料配布中👇\\nhttps://t.co/lIirk6Jkdz\\n\\nオープンチャトから公開口座に飛べます👇… https://t.co/KanIE6Scjc', 'Timestamp': datetime.datetime(2022, 2, 18, 11, 4, 29, tzinfo=datetime.timezone.utc)}, {'Tweet': 'Gold is $1887.86/ozt @ 11:00 UTC.\\n\\n24H change: +$2.03 (+0.11%)\\n30D change: +$77.82 (+4.30%)\\n\\n#GOLD $XAU $XAUUSD', 'Timestamp': datetime.datetime(2022, 2, 18, 11, 0, 6, tzinfo=datetime.timezone.utc)}, {'Tweet': '#XAUUSD  #GOLD  #ゴールド\\nフラッグ♬ショート\\n利益確保してるしSL建値置きもしてるから\\nまぁいいや～お風呂はいろ～😊♪', 'Timestamp': datetime.datetime(2022, 2, 18, 10, 59, 8, tzinfo=datetime.timezone.utc)}, {'Tweet': '#profit booked 🥳🥳🥳\\nAre you looking for profitable #signal ? \\n\\nJoin for VIP services: https://t.co/uVJ5uXL0sl… https://t.co/2vew0ZdspJ', 'Timestamp': datetime.datetime(2022, 2, 18, 10, 59, tzinfo=datetime.timezone.utc)}, {'Tweet': '2/17実績\\n\\n金曜日からの地獄のようなGOLD相場を完璧に捌き切ってずーっとノーダージ爆益継続中㊗️\\nお陰様でお問い合わせ沢山頂いてます！😭\\n\\n導入はこちらから👇\\nhttps://t.co/fwj9W33Mmj\\n\\nオプチャに公開… https://t.co/JVUbyOfAKF', 'Timestamp': datetime.datetime(2022, 2, 18, 10, 56, 43, tzinfo=datetime.timezone.utc)}, {'Tweet': '#GOLD #XAUUSD\\n\\nZłoto zaksięgowało 1900$ zgodnie z analizą :) \\n\\nhttps://t.co/1zPmeJFb7j', 'Timestamp': datetime.datetime(2022, 2, 18, 10, 52, 34, tzinfo=datetime.timezone.utc)}, {'Tweet': '#XAUUSD  #GOLD  #ゴールド\\nフラッグ♬ショート\\nリテストかなぁ・・(;^_^A💦\\nまた上がっていったら残念なんだけど。🐭', 'Timestamp': datetime.datetime(2022, 2, 18, 10, 52, 11, tzinfo=datetime.timezone.utc)}, {'Tweet': '85% accurate trades in gold if you also want to make profit like this or for free live accurate trades DM me or fil… https://t.co/BAEwVZsToF', 'Timestamp': datetime.datetime(2022, 2, 18, 10, 50, 11, tzinfo=datetime.timezone.utc)}, {'Tweet': 'RT @eyield: I remain long gold. That was the chart I sent to members of my position trading strategy on 26 January.  Gold is going higher b…', 'Timestamp': datetime.datetime(2022, 2, 18, 10, 49, 47, tzinfo=datetime.timezone.utc)}, {'Tweet': 'I remain long gold. That was the chart I sent to members of my position trading strategy on 26 January.  Gold is go… https://t.co/fhHN4XO2oK', 'Timestamp': datetime.datetime(2022, 2, 18, 10, 49, 2, tzinfo=datetime.timezone.utc)}, {'Tweet': '$XAUUSD #GOLD - 15 min.: La tendance baissière est actuellement très forte sur GOLD - USD. Tant que le cours se mai… https://t.co/dWMUWoWECp', 'Timestamp': datetime.datetime(2022, 2, 18, 10, 46, 13, tzinfo=datetime.timezone.utc)}, {'Tweet': '$XAUUSD #GOLD - 15 min.: La tendance baissière est actuellement très forte sur GOLD - USD. Tant que le cours se mai… https://t.co/6n77ca0td9', 'Timestamp': datetime.datetime(2022, 2, 18, 10, 46, 13, tzinfo=datetime.timezone.utc)}, {'Tweet': 'Gold breakout was expected #XAUUSD #gold https://t.co/bvT0Lm4tfJ', 'Timestamp': datetime.datetime(2022, 2, 18, 10, 45, 23, tzinfo=datetime.timezone.utc)}, {'Tweet': '#GOLD #XAUUSD HTF https://t.co/mTBAM2c0kb', 'Timestamp': datetime.datetime(2022, 2, 18, 10, 45, 21, tzinfo=datetime.timezone.utc)}, {'Tweet': '#XAUUSD  #GOLD  #ゴールド\\nフラッグ♬ショート\\n55PIPとりあえず半利して利益確保🐭✨♬', 'Timestamp': datetime.datetime(2022, 2, 18, 10, 43, 59, tzinfo=datetime.timezone.utc)}, {'Tweet': 'めっちゃ上手〜✨\\n先出しやろかな〜🤣\\n私の逆やれば確実に儲かる〜👍\\n\\n連敗記録どこまで\\n伸ばせるかな🤔\\n\\n・・・どないやねん💦\\n（私ドンマイ）\\n\\n#XAUUSD #FX #GOLD #ゴールド https://t.co/O17VfJeFFP', 'Timestamp': datetime.datetime(2022, 2, 18, 10, 43, 13, tzinfo=datetime.timezone.utc)}, {'Tweet': '$XAUUSD #GOLD - 1H: La tendenza di fondo rialzista si è esaurita o manca di vigore? Il breve termine non offre alcu… https://t.co/2MJ8mypK5N', 'Timestamp': datetime.datetime(2022, 2, 18, 10, 42, 10, tzinfo=datetime.timezone.utc)}, {'Tweet': '$XAUUSD #GOLD - 1H: La tendenza di fondo rialzista si è esaurita o manca di vigore? Il breve termine non offre alcu… https://t.co/z7CcD8TPfH', 'Timestamp': datetime.datetime(2022, 2, 18, 10, 42, 10, tzinfo=datetime.timezone.utc)}, {'Tweet': '$XAUUSD #GOLD - Giornaliero: Dato che tutti gli elementi sono chiaramente rialzisti, i trader potrebbero tradare so… https://t.co/AJePNLlTMY', 'Timestamp': datetime.datetime(2022, 2, 18, 10, 38, 36, tzinfo=datetime.timezone.utc)}, {'Tweet': '$XAUUSD #GOLD - Giornaliero: Dato che tutti gli elementi sono chiaramente rialzisti, i trader potrebbero tradare so… https://t.co/pVofjqRMZ3', 'Timestamp': datetime.datetime(2022, 2, 18, 10, 38, 36, tzinfo=datetime.timezone.utc)}, {'Tweet': 'sell xauusd at 1889\\nTp 1885/1882/1879\\nSl  ****\\n\\nFollow for more signals and updates.\\n\\n#xauusd #gold #forex @NeaCatLover', 'Timestamp': datetime.datetime(2022, 2, 18, 10, 37, 56, tzinfo=datetime.timezone.utc)}, {'Tweet': 'Sell xauusd at 1889\\nTp 1885/1882/1879\\nSl  ****\\n\\nFollow for more signals and updates.\\n\\n#xauusd #gold #forex @lusianowak10', 'Timestamp': datetime.datetime(2022, 2, 18, 10, 37, 37, tzinfo=datetime.timezone.utc)}, {'Tweet': 'sell xauusd at 1889\\nTp 1885/1882/1879\\nSl  ****\\n\\nFollow for more signals and updates.\\n\\n#xauusd #gold #forex @Julia07594047', 'Timestamp': datetime.datetime(2022, 2, 18, 10, 37, 10, tzinfo=datetime.timezone.utc)}, {'Tweet': 'キンドルロング\\n秒スキャ\\n\\n#GOLD #XAUUSD #スキャルピング #ヒヨコ利確 https://t.co/rLRyyjwZgi', 'Timestamp': datetime.datetime(2022, 2, 18, 10, 35, 19, tzinfo=datetime.timezone.utc)}, {'Tweet': '【#FXのすゝめ2022】\\n\\n本日の日銭。\\n\\n自分がわかるところだけに集中するんです。それだけでいい。根拠もなくわからないままに無理にポジションを持つのはただのポジポジ病だと私は思います。\\n\\n#たけナッチ38 \\n\\n#FX… https://t.co/onm15m7ZYC', 'Timestamp': datetime.datetime(2022, 2, 18, 10, 33, 3, tzinfo=datetime.timezone.utc)}, {'Tweet': '#XAUUSD  #GOLD  #ゴールド\\nフラッグ？🐭✨♬ショート\\nとりあえずこの辺くらいまで来てくれたら嬉しいな♪ https://t.co/DyRJ4JURAZ https://t.co/wiEvXyApfp', 'Timestamp': datetime.datetime(2022, 2, 18, 10, 32, 22, tzinfo=datetime.timezone.utc)}, {'Tweet': 'なんとか含み益込で10万→240万\\n#fx #ゴールド #Gold #トレード #XAUUSD #為替 #10万円チャレンジ #金 #exness #海外FX #パチンコ #ビットコイン #ExnessJ #エクスネス https://t.co/5BIJsXYWDR', 'Timestamp': datetime.datetime(2022, 2, 18, 10, 31, 25, tzinfo=datetime.timezone.utc)}, {'Tweet': 'RT @Gold___QUEEN: good morning, billionaire\\nThe golden age has come\\nThe gold market is bullish as a whole, and the operation is still risin…', 'Timestamp': datetime.datetime(2022, 2, 18, 10, 30, 5, tzinfo=datetime.timezone.utc)}, {'Tweet': 'Mini bear flag break on #GOLD CFDs $XAUUSD https://t.co/LOz38vK1pT', 'Timestamp': datetime.datetime(2022, 2, 18, 10, 28, 54, tzinfo=datetime.timezone.utc)}, {'Tweet': '#XAUUSD  #GOLD  #ゴールド\\nフラッグ？🐭✨♬\\nチャネル下限反応中～から抜けた？ https://t.co/I9ImvcRyOE', 'Timestamp': datetime.datetime(2022, 2, 18, 10, 25, 58, tzinfo=datetime.timezone.utc)}, {'Tweet': \"$XAUUSD #GOLD - 1H: Sur cette unité de temps, la tendance haussière de fond s'est-elle essoufflée ou manque t-elle… https://t.co/xxlqMUoCP6\", 'Timestamp': datetime.datetime(2022, 2, 18, 10, 25, 19, tzinfo=datetime.timezone.utc)}, {'Tweet': \"$XAUUSD #GOLD - 1H: Sur cette unité de temps, la tendance haussière de fond s'est-elle essoufflée ou manque t-elle… https://t.co/H88aDttcMi\", 'Timestamp': datetime.datetime(2022, 2, 18, 10, 25, 19, tzinfo=datetime.timezone.utc)}, {'Tweet': '今日は色々作り物してるのと金曜なのでポジってません💦\\n\\n文字で人に何かを伝えるのって本当に難しいなぁ😅\\n\\n #ちりつもトレード\\n #GOLD\\n #XAUUSD', 'Timestamp': datetime.datetime(2022, 2, 18, 10, 24, 53, tzinfo=datetime.timezone.utc)}, {'Tweet': 'まあ資産があればこれが一番楽かな\\nhttps://t.co/OLLWSxNayR\\n\\n#FX #FOREX #BTC #Crypto #GOLD #XAUUSD #LN #XRP #ETH #NFT #altcoin', 'Timestamp': datetime.datetime(2022, 2, 18, 10, 24, tzinfo=datetime.timezone.utc)}, {'Tweet': 'RT @VincentGanne: #Gold /BTC, l’arbitrage actif du moment, dans un trading range\\n\\n🔎 Le chartisme appliqué au ratio xauusd/btcusd capte des…', 'Timestamp': datetime.datetime(2022, 2, 18, 10, 23, 54, tzinfo=datetime.timezone.utc)}, {'Tweet': '#XAUUSD  #GOLD  #ゴールド\\nフラッグ？🐭✨♬\\n下抜けしてくるのかしら？🙄 https://t.co/xJcNdE27Xl', 'Timestamp': datetime.datetime(2022, 2, 18, 10, 23, 35, tzinfo=datetime.timezone.utc)}, {'Tweet': 'RT @bdfx10: 【#FXのすゝめ2022】\\n先出し詐欺師は派手なロット数と金額でドヤ顔します。騙されないで！\\n\\n#fx は金額が重要なのではありません。どの場所でポジションを持つのかが重要\\n\\n勝つトレードを求めてはいけない。負けないトレードこそが至高。\\n\\nこれが #たけ…', 'Timestamp': datetime.datetime(2022, 2, 18, 10, 19, 56, tzinfo=datetime.timezone.utc)}, {'Tweet': '#traderlifestyle #traders #tradingsystem #tradingupdates #pipsgainers #gainprofits #investing #newyear2022… https://t.co/ho3FFC0usX', 'Timestamp': datetime.datetime(2022, 2, 18, 10, 16, 40, tzinfo=datetime.timezone.utc)}, {'Tweet': 'RT @LaunayVinc: $XAU $XAUUSD #OR #Gold \\nHello 1900$! 🥳\\nOn peut monter le point clé \"LONG ONLY\" aux 1850$ maintenant.\\nProchaine étape : pouv…', 'Timestamp': datetime.datetime(2022, 2, 18, 10, 14, 7, tzinfo=datetime.timezone.utc)}, {'Tweet': '$XAUUSD #GOLD - 15 min.: Sur cette unité de temps, une tendance de fond faiblement haussière et un court terme neut… https://t.co/eVrmtm5OdT', 'Timestamp': datetime.datetime(2022, 2, 18, 10, 12, 50, tzinfo=datetime.timezone.utc)}, {'Tweet': '$XAUUSD #GOLD - 15 min.: Sur cette unité de temps, une tendance de fond faiblement haussière et un court terme neut… https://t.co/qQNvfKfVpL', 'Timestamp': datetime.datetime(2022, 2, 18, 10, 12, 50, tzinfo=datetime.timezone.utc)}, {'Tweet': 'RT @VincentGanne: #Gold /BTC, l’arbitrage actif du moment, dans un trading range\\n\\n🔎 Le chartisme appliqué au ratio xauusd/btcusd capte des…', 'Timestamp': datetime.datetime(2022, 2, 18, 10, 9, 39, tzinfo=datetime.timezone.utc)}, {'Tweet': 'RT @Trendometer2022: #Gold $XAUUSD The price has broken resistance level.\\nTrend is up. Next resistance at the 1916.615. https://t.co/kVLnHc…', 'Timestamp': datetime.datetime(2022, 2, 18, 10, 0, 28, tzinfo=datetime.timezone.utc)}, {'Tweet': 'BOT by UpTrend BTCUSD H1 at 40886\\nFebruary 18, 2022 at 07:00PM\\n\\n#GOLD #BTCUSD #ゴールド #ビットコイン #XAUUSD #Bitcoin', 'Timestamp': datetime.datetime(2022, 2, 18, 10, 0, 7, tzinfo=datetime.timezone.utc)}, {'Tweet': 'Gold is $1893.73/ozt @ 10:00 UTC.\\n\\n24H change: +$5.82 (+0.31%)\\n30D change: +$86.60 (+4.79%)\\n\\n#GOLD $XAU $XAUUSD', 'Timestamp': datetime.datetime(2022, 2, 18, 10, 0, 6, tzinfo=datetime.timezone.utc)}, {'Tweet': 'RT @malak200a: #تداول #فوركس #تحليل #الدهب \\n#forextrader #gold #XAUUSD \\nبفضل الله دي النموذج بتاعني الا تحركنا عليه ووصل عند الدائره ولما ق…', 'Timestamp': datetime.datetime(2022, 2, 18, 9, 54, 8, tzinfo=datetime.timezone.utc)}, {'Tweet': '#xauusd actual trade was this. Hit all tp #GOLD #forexsignals #forextrader #GOLD #accountingservices #ultimatefx… https://t.co/j8dW1McmXp', 'Timestamp': datetime.datetime(2022, 2, 18, 9, 44, 3, tzinfo=datetime.timezone.utc)}, {'Tweet': '#GOLD @ $ 1893.5 - The expected has not occurred failing to move below $ 1888. Risk has increased for another upsid… https://t.co/7mxG691ewg', 'Timestamp': datetime.datetime(2022, 2, 18, 9, 40, 8, tzinfo=datetime.timezone.utc)}, {'Tweet': '#Gold $XAUUSD The price has broken resistance level.\\nTrend is up. Next resistance at the 1916.615. https://t.co/kVLnHcHVtD', 'Timestamp': datetime.datetime(2022, 2, 18, 9, 39, 32, tzinfo=datetime.timezone.utc)}, {'Tweet': '#xauusd. Short time perfect entry.  Closed in profit.\\n#GOLD #perfect_entery #forextrading #forexsignals… https://t.co/jC3shkEKTS', 'Timestamp': datetime.datetime(2022, 2, 18, 9, 39, 7, tzinfo=datetime.timezone.utc)}, {'Tweet': '#onsaltin #Gold #XAUUSD https://t.co/DA1HISr20m', 'Timestamp': datetime.datetime(2022, 2, 18, 9, 37, 11, tzinfo=datetime.timezone.utc)}, {'Tweet': 'RT @VincentGanne: #Gold /BTC, l’arbitrage actif du moment, dans un trading range\\n\\n🔎 Le chartisme appliqué au ratio xauusd/btcusd capte des…', 'Timestamp': datetime.datetime(2022, 2, 18, 9, 34, 19, tzinfo=datetime.timezone.utc)}, {'Tweet': \"#XauUsd 🚫 #Gold 🚫 #Metal\\n.\\nI'm waiting for the target 1882.\\n.\\nThen best buy area 1879-1882\\n.\\nFor Targets look previ… https://t.co/1yR1nLCBqa\", 'Timestamp': datetime.datetime(2022, 2, 18, 9, 30, 52, tzinfo=datetime.timezone.utc)}, {'Tweet': 'BOT by DownTrend GOLD M15 at 1892.78\\nFebruary 18, 2022 at 06:30PM\\n\\n#GOLD #BTCUSD #ゴールド #ビットコイン #XAUUSD #Bitcoin', 'Timestamp': datetime.datetime(2022, 2, 18, 9, 30, 7, tzinfo=datetime.timezone.utc)}, {'Tweet': '週足、日足メインで四時間足短期で50銭抜くやり方\\nhttps://t.co/NYbaQmRCh4\\n\\n#FX #FOREX #BTC #Crypto #GOLD #XAUUSD #LN #XRP #ETH #NFT #altcoin', 'Timestamp': datetime.datetime(2022, 2, 18, 9, 24, tzinfo=datetime.timezone.utc)}, {'Tweet': '#gold #rsistudy #eurusd #forex #gold #xauusd - Wil add at 1896\\n#sharemarket #stockmarket #nifty #indianstockmarket… https://t.co/9O1rBw8C73', 'Timestamp': datetime.datetime(2022, 2, 18, 9, 22, 56, tzinfo=datetime.timezone.utc)}, {'Tweet': 'For Free accurate 2 days free trials in forex, Comex, and Indices fill the form our expert will reach out shortly.… https://t.co/VsquPsq0w7', 'Timestamp': datetime.datetime(2022, 2, 18, 9, 18, 49, tzinfo=datetime.timezone.utc)}, {'Tweet': 'RT @VincentGanne: #Gold /BTC, l’arbitrage actif du moment, dans un trading range\\n\\n🔎 Le chartisme appliqué au ratio xauusd/btcusd capte des…', 'Timestamp': datetime.datetime(2022, 2, 18, 9, 16, 41, tzinfo=datetime.timezone.utc)}, {'Tweet': '\"ทองคำร่วงลงจากระดับ 1,900 ดอลลาร์ หลังสหรัฐ-รัสเซียจะประชุมหาทางออก\"\\n#gold #xauusd #goldtrading #ราคาทอง… https://t.co/cKftS10tr8', 'Timestamp': datetime.datetime(2022, 2, 18, 9, 15, 20, tzinfo=datetime.timezone.utc)}, {'Tweet': 'Although the conflict between Russia and Ukraine has brought support to gold, once the situation improves, the pric… https://t.co/bVzvfUIkRH', 'Timestamp': datetime.datetime(2022, 2, 18, 9, 10, 36, tzinfo=datetime.timezone.utc)}, {'Tweet': 'Gold Price Forecast: XAU/USD bulls keep eyes on $1,916 amid Ukraine crisis\\nGold price remains underpinned by geopol… https://t.co/xuxfbGYEgQ', 'Timestamp': datetime.datetime(2022, 2, 18, 9, 8, 55, tzinfo=datetime.timezone.utc)}, {'Tweet': '#XAUUSD  #GOLD  #ゴールド\\n5分チャネル1895.7止められてるにゃ～\\nもう一回チャレンジ？🐭', 'Timestamp': datetime.datetime(2022, 2, 18, 9, 6, 20, tzinfo=datetime.timezone.utc)}, {'Tweet': 'ほぼ脳死ロング\\n\\nまぁデモなんで安心してください、、\\n\\n#xauusd\\n#fx\\n#gold\\n#ゴールド https://t.co/K7D7HvrZRO', 'Timestamp': datetime.datetime(2022, 2, 18, 9, 4, 4, tzinfo=datetime.timezone.utc)}, {'Tweet': '$XAUUSD #GOLD - 1H: Tous les éléments étant clairement haussiers, il serait possible pour les traders de ne traiter… https://t.co/OPqroaebGI', 'Timestamp': datetime.datetime(2022, 2, 18, 9, 3, 40, tzinfo=datetime.timezone.utc)}, {'Tweet': '$XAUUSD #GOLD - 1H: Tous les éléments étant clairement haussiers, il serait possible pour les traders de ne traiter… https://t.co/cf6aWmL513', 'Timestamp': datetime.datetime(2022, 2, 18, 9, 3, 40, tzinfo=datetime.timezone.utc)}, {'Tweet': '#Gold Analysis :- Incase Gold break out at 1893 Level.\\n\\nSo Gold can move up around 1897 level\\n\\nFor Best Gold Trials… https://t.co/3oRMS1Nt6P', 'Timestamp': datetime.datetime(2022, 2, 18, 9, 3, 40, tzinfo=datetime.timezone.utc)}, {'Tweet': 'FX 1st SIGNAL ✅\\n\\n#GBPJPY SELL 156.800\\nTP 156.30\\n\\nSL 157.200\\n\\nDM for more info : \\nhttps://t.co/wfv0Bb62rd\\n\\n#gold… https://t.co/lSGt0KPvVq', 'Timestamp': datetime.datetime(2022, 2, 18, 9, 3, 14, tzinfo=datetime.timezone.utc)}, {'Tweet': 'Hell Yeah Predicted 3 days ago that Gold will reach 1900 🤟🏻 That’s the difference between Traders &amp; Market Analyst… https://t.co/YEjaBEEeTl', 'Timestamp': datetime.datetime(2022, 2, 18, 9, 1, 54, tzinfo=datetime.timezone.utc)}, {'Tweet': '$XAUUSD     #XAUUSD #GOLD $GOLD🥇\\nWhat can we expect from Gold today?\\nGold reached its highest since July 2021, arou… https://t.co/Y9zEsZSnID', 'Timestamp': datetime.datetime(2022, 2, 18, 9, 0, 54, tzinfo=datetime.timezone.utc)}, {'Tweet': '#gold #xau #xauusd #trading #profit #Traders #forexsignals #forex #forextrader #forexbroker #forexlifestyle… https://t.co/ZdeZyBjeOU', 'Timestamp': datetime.datetime(2022, 2, 18, 9, 0, 43, tzinfo=datetime.timezone.utc)}, {'Tweet': 'Dollar Edges Lower!!\\n\\nDollar Index traded 0.1% lower at 95.740\\nTo get winning trades fill the form below👇🏻… https://t.co/iFDOZ37rlB', 'Timestamp': datetime.datetime(2022, 2, 18, 9, 0, 28, tzinfo=datetime.timezone.utc)}, {'Tweet': 'W obliczu ewentualnego konfliktu zbrojnego, inwestorzy uciekają w stronę \"bezpiecznych przystani\". Ceny złota najwy… https://t.co/oYwspL4oLL', 'Timestamp': datetime.datetime(2022, 2, 18, 9, 0, 14, tzinfo=datetime.timezone.utc)}, {'Tweet': 'Gold is $1894.33/ozt @ 09:00 UTC.\\n\\n24H change: +$8.16 (+0.43%)\\n30D change: +$83.57 (+4.62%)\\n\\n#GOLD $XAU $XAUUSD', 'Timestamp': datetime.datetime(2022, 2, 18, 9, 0, 5, tzinfo=datetime.timezone.utc)}, {'Tweet': '#TradeROBO \\n\\nIndex of Confidence\\n\\nIN          #GOLD     %65     BUY\\nOUT      #GER30     %53     BUY\\n\\n#XAUUSD #ONS… https://t.co/PGD8lUqilm', 'Timestamp': datetime.datetime(2022, 2, 18, 9, 0, 1, tzinfo=datetime.timezone.utc)}, {'Tweet': 'RT @Century_Fin: If global #tensions ease, attention may return to central banks, but with bond rates still hovering near multiyear highs,…', 'Timestamp': datetime.datetime(2022, 2, 18, 8, 56, 59, tzinfo=datetime.timezone.utc)}, {'Tweet': 'RT @Century_Fin: #Inflationary concerns could build up further and benefit the #metal if energy #prices keep rising due to #geopolitical st…', 'Timestamp': datetime.datetime(2022, 2, 18, 8, 56, 50, tzinfo=datetime.timezone.utc)}, {'Tweet': 'RT @VincentGanne: #Gold /BTC, l’arbitrage actif du moment, dans un trading range\\n\\n🔎 Le chartisme appliqué au ratio xauusd/btcusd capte des…', 'Timestamp': datetime.datetime(2022, 2, 18, 8, 56, 37, tzinfo=datetime.timezone.utc)}, {'Tweet': '#EURJPY - on daily chart taking support of 50 DMA and on intra #daychart forming #bullish flag pattern supported by… https://t.co/QFJjblevJJ', 'Timestamp': datetime.datetime(2022, 2, 18, 8, 54, 46, tzinfo=datetime.timezone.utc)}, {'Tweet': 'The Ukrainian armed forces again carried out three attacks using mortars. Russia-Ukraine situation escalates again… https://t.co/CDoGtAX7ji', 'Timestamp': datetime.datetime(2022, 2, 18, 8, 54, 11, tzinfo=datetime.timezone.utc)}, {'Tweet': 'Hell Yeah Predicted 3 days ago that Gold will reach 1900 🤟🏻 That’s the difference between Traders &amp; Market Analyst… https://t.co/lsSMr8SR1o', 'Timestamp': datetime.datetime(2022, 2, 18, 8, 52, 7, tzinfo=datetime.timezone.utc)}, {'Tweet': 'XAUUSD Medium and long term suggestions:\\nplz with light lot.\\n#forextrading #forextrader #forexsignal #gold #xauusd… https://t.co/6dDakEsOwk', 'Timestamp': datetime.datetime(2022, 2, 18, 8, 51, 39, tzinfo=datetime.timezone.utc)}, {'Tweet': '#XAUUSD  #GOLD  #ゴールド\\nもし5分チャネルの1895.7を上抜けたら\\n1897.5くらいまで来る？🐭✨♬', 'Timestamp': datetime.datetime(2022, 2, 18, 8, 51, 34, tzinfo=datetime.timezone.utc)}, {'Tweet': '#GOLD #Xauusd #PremiumSignal\\nBUY  1892.\\nTP1   1898\\nTP2 and SL\\nhttps://t.co/1zyoyZndSI\\n\\n#trading #secret17f #Genova… https://t.co/zsB5aBVpU0', 'Timestamp': datetime.datetime(2022, 2, 18, 8, 51, 3, tzinfo=datetime.timezone.utc)}, {'Tweet': 'RT @VincentGanne: #Gold /BTC, l’arbitrage actif du moment, dans un trading range\\n\\n🔎 Le chartisme appliqué au ratio xauusd/btcusd capte des…', 'Timestamp': datetime.datetime(2022, 2, 18, 8, 50, 31, tzinfo=datetime.timezone.utc)}, {'Tweet': '#Gold /BTC, l’arbitrage actif du moment, dans un trading range\\n\\n🔎 Le chartisme appliqué au ratio xauusd/btcusd capt… https://t.co/pGUqKXT94P', 'Timestamp': datetime.datetime(2022, 2, 18, 8, 48, 24, tzinfo=datetime.timezone.utc)}, {'Tweet': '#Gold #XAUUSD falls from $1,900 due to the US-Russia meeting on #Ukraine. https://t.co/TYkDN476F2', 'Timestamp': datetime.datetime(2022, 2, 18, 8, 44, 1, tzinfo=datetime.timezone.utc)}, {'Tweet': 'RT @bdfx10: 【#FXのすゝめ2022】\\n先出し詐欺師は派手なロット数と金額でドヤ顔します。騙されないで！\\n\\n#fx は金額が重要なのではありません。どの場所でポジションを持つのかが重要\\n\\n勝つトレードを求めてはいけない。負けないトレードこそが至高。\\n\\nこれが #たけ…', 'Timestamp': datetime.datetime(2022, 2, 18, 8, 43, 41, tzinfo=datetime.timezone.utc)}, {'Tweet': '$XAUUSD #GOLD - 15 min.: La tendance neutre à court terme montre un essoufflement de la tendance de fond faiblement… https://t.co/LFsryoWlrD', 'Timestamp': datetime.datetime(2022, 2, 18, 8, 43, 18, tzinfo=datetime.timezone.utc)}, {'Tweet': '$XAUUSD #GOLD - 15 min.: La tendance neutre à court terme montre un essoufflement de la tendance de fond faiblement… https://t.co/HTKUGMt5xT', 'Timestamp': datetime.datetime(2022, 2, 18, 8, 43, 18, tzinfo=datetime.timezone.utc)}, {'Tweet': 'The situation in #Russia and #Ukraine rose to 1890. Gold is currently in a volatile situation. #Gold will see huge… https://t.co/4Pzbyn4lK8', 'Timestamp': datetime.datetime(2022, 2, 18, 8, 41, 53, tzinfo=datetime.timezone.utc)}, {'Tweet': 'Client Booked #profit 💰🤑\\nDaily 3-4 VIP #Signals 📊Accuracy 85-90%🔥💪\\nClick on link👇get FREE #Trials… https://t.co/aEYTUwTSZ3', 'Timestamp': datetime.datetime(2022, 2, 18, 8, 40, 29, tzinfo=datetime.timezone.utc)}, {'Tweet': '#XAUUSD sell @ 1895 \\nTP - 1880 &amp; SL - 1902\\n\\nKeep risk management of your capital\\n\\nFor more signals &amp; market updates… https://t.co/GVGl64R96u', 'Timestamp': datetime.datetime(2022, 2, 18, 8, 40, 14, tzinfo=datetime.timezone.utc)}, {'Tweet': 'Gold Price Forecast: XAU/USD bulls keep eyes on $1,916 amid Ukraine crisis – Confluence Detector… https://t.co/WnVRefa7pf', 'Timestamp': datetime.datetime(2022, 2, 18, 8, 39, 39, tzinfo=datetime.timezone.utc)}, {'Tweet': 'Relying on the support of 1885, it will continue to be low and bullish, and there will be new highs next. More, mor… https://t.co/ygOifMqIi0', 'Timestamp': datetime.datetime(2022, 2, 18, 8, 35, 13, tzinfo=datetime.timezone.utc)}, {'Tweet': '#XAUUSD sell @ 1895 \\nTP - 1880 &amp; SL - 1902\\n\\nKeep risk management of your capital\\n\\nFor more signals &amp; market updates… https://t.co/p3peAuhD5m', 'Timestamp': datetime.datetime(2022, 2, 18, 8, 35, 11, tzinfo=datetime.timezone.utc)}, {'Tweet': 'The key pressure above is maintained at the area near 1905-1910. If you see this position in the later period, you… https://t.co/ksF7NVvbnO', 'Timestamp': datetime.datetime(2022, 2, 18, 8, 35, 10, tzinfo=datetime.timezone.utc)}, {'Tweet': 'Gold is more than 1890, stop loss is 1883, target 1900-1910;\\n\\n#xauusd #gold https://t.co/Lr6KOt9PFa', 'Timestamp': datetime.datetime(2022, 2, 18, 8, 30, 1, tzinfo=datetime.timezone.utc)}, {'Tweet': 'RT @FXstreetReports: Gold Price Forecast: XAU/USD remains a ‘buy the dip’ trade, diplomacy talks eyed https://t.co/AYnVCdNd1P #Gold #Commod…', 'Timestamp': datetime.datetime(2022, 2, 18, 8, 27, 45, tzinfo=datetime.timezone.utc)}, {'Tweet': 'FX 1st SIGNAL ✅\\n\\n#GBPJPY SELL 156.800\\nTP 156.30\\n\\nSL 157.200\\n\\nDM for more info : \\nhttps://t.co/iybDEf5xLl\\n\\n#gold… https://t.co/oLQv2xOMXb', 'Timestamp': datetime.datetime(2022, 2, 18, 8, 27, 32, tzinfo=datetime.timezone.utc)}, {'Tweet': '利確。\\n1本だけ残す。\\n建値ガードで今週はもう勝ち確っす。\\n1905いきませんか？\\n\\n今週はひたすら脳死ロングだけ。\\n\\n#xauusd\\n#gold\\n#ゴールド\\n#fx https://t.co/cXDvxfLtBM', 'Timestamp': datetime.datetime(2022, 2, 18, 8, 27, 20, tzinfo=datetime.timezone.utc)}, {'Tweet': '#XAUUSD  #GOLD  #ゴールド\\n戻すかなと思ってたから少し買ってたやつ成功したかも🐭ꔛ♥🎶 https://t.co/4CQGaY7Ek8', 'Timestamp': datetime.datetime(2022, 2, 18, 8, 25, 58, tzinfo=datetime.timezone.utc)}, {'Tweet': '$XAU $XAUUSD #OR #Gold \\nHello 1900$! 🥳\\nOn peut monter le point clé \"LONG ONLY\" aux 1850$ maintenant.\\nProchaine étap… https://t.co/F16I1DlIPz', 'Timestamp': datetime.datetime(2022, 2, 18, 8, 25, 47, tzinfo=datetime.timezone.utc)}, {'Tweet': 'Buy gold 1892-1890 sl 1888 \\nTp1 1896 #gold #xauusd #เทรดทอง #เทรดทองคำ', 'Timestamp': datetime.datetime(2022, 2, 18, 8, 25, 24, tzinfo=datetime.timezone.utc)}, {'Tweet': 'RT @bdfx10: 【#FXのすゝめ2022】\\n先出し詐欺師は派手なロット数と金額でドヤ顔します。騙されないで！\\n\\n#fx は金額が重要なのではありません。どの場所でポジションを持つのかが重要\\n\\n勝つトレードを求めてはいけない。負けないトレードこそが至高。\\n\\nこれが #たけ…', 'Timestamp': datetime.datetime(2022, 2, 18, 8, 24, 51, tzinfo=datetime.timezone.utc)}, {'Tweet': '4時間足以上でトレンドラインを引いたり、レジサポに水平線引いたりしてみるんやで(´・ω・｀)\\nhttps://t.co/kFYqOiTmW9\\n\\n#FX #FOREX #BTC #Crypto #GOLD #XAUUSD #LN #XRP #ETH #NFT #altcoin', 'Timestamp': datetime.datetime(2022, 2, 18, 8, 24, tzinfo=datetime.timezone.utc)}, {'Tweet': 'TP3 final target hit on eurnzd!\\n\\nFollow and message me for any help in charts, trading, or signal.\\n\\n#xauusd #gold… https://t.co/SdKA1pgPLj', 'Timestamp': datetime.datetime(2022, 2, 18, 8, 19, 8, tzinfo=datetime.timezone.utc)}, {'Tweet': '#Gold #xauusd\\nAnalysis. \\n\\n#DavidoattheO2 #DavidoO2 #Davido #fuelscarcity #forexsignals https://t.co/6vzCkv5gVr', 'Timestamp': datetime.datetime(2022, 2, 18, 8, 18, 53, tzinfo=datetime.timezone.utc)}, {'Tweet': 'After poking through 1900 #gold slipping on a combination of profit taking and speculation of Russian &amp; US peace ta… https://t.co/4Vbw5ukOB4', 'Timestamp': datetime.datetime(2022, 2, 18, 8, 16, 51, tzinfo=datetime.timezone.utc)}, {'Tweet': 'Good Moring 😇\\n\\nLast day of our trading week has arrive and we are going to end it with profit as always😊\\n\\nLast day… https://t.co/7Nl9IfOBDf', 'Timestamp': datetime.datetime(2022, 2, 18, 8, 16, 17, tzinfo=datetime.timezone.utc)}, {'Tweet': 'RT @malak200a: #تداول #فوركس #تحليل #الدهب\\n#forextrader #gold #XAUUSD\\nوصل لهدف الصفقه ١٩٠١ بفضل الله\\nتابعوني على قناتي 👇 👇\\nhttps://t.co/PQl…', 'Timestamp': datetime.datetime(2022, 2, 18, 8, 16, tzinfo=datetime.timezone.utc)}, {'Tweet': 'RT @malak200a: #تداول #فوركس #تحليل #الدهب #الدولار\\n#forextrader #gold #XAUUSD #DXY \\nبفضل الله قبل وبعد صفقتنا علي القناه يوم 14/2 واليوم ت…', 'Timestamp': datetime.datetime(2022, 2, 18, 8, 14, 4, tzinfo=datetime.timezone.utc)}, {'Tweet': 'The price of #gold reaches the first TP of the signal (1895). If you follow the signal to buy gold, you can close t… https://t.co/w4Wm8TULH7', 'Timestamp': datetime.datetime(2022, 2, 18, 8, 14, 1, tzinfo=datetime.timezone.utc)}, {'Tweet': 'RT @shadowstrateji: #Gold #Onsaltın\\n\\n🟩 Dirençler: 1901 - 1909 - 1922\\n\\n🟦 Pivot Noktası: 1889\\n\\n🟥 Destekler: 1876 - 1868 - 1855\\n\\n#forex #nasda…', 'Timestamp': datetime.datetime(2022, 2, 18, 8, 13, 27, tzinfo=datetime.timezone.utc)}, {'Tweet': 'RT @xauusd_Cdice: Therefore, the U.S. market shot up yesterday and was under pressure on the 1900-02 line. The lower part relies on the 188…', 'Timestamp': datetime.datetime(2022, 2, 18, 8, 12, 52, tzinfo=datetime.timezone.utc)}, {'Tweet': '#Gold #Onsaltın\\n\\n🟩 Dirençler: 1901 - 1909 - 1922\\n\\n🟦 Pivot Noktası: 1889\\n\\n🟥 Destekler: 1876 - 1868 - 1855\\n\\n#forex… https://t.co/FwOz3ZzF6D', 'Timestamp': datetime.datetime(2022, 2, 18, 8, 11, 1, tzinfo=datetime.timezone.utc)}, {'Tweet': 'RT @bdfx10: 【#FXのすゝめ2022】\\n先出し詐欺師は派手なロット数と金額でドヤ顔します。騙されないで！\\n\\n#fx は金額が重要なのではありません。どの場所でポジションを持つのかが重要\\n\\n勝つトレードを求めてはいけない。負けないトレードこそが至高。\\n\\nこれが #たけ…', 'Timestamp': datetime.datetime(2022, 2, 18, 8, 8, 38, tzinfo=datetime.timezone.utc)}, {'Tweet': \"If the price of #gold can't break through 1893 for a long time\\nIf you follow the signal to buy gold, you can close… https://t.co/5eIfpFoSgt\", 'Timestamp': datetime.datetime(2022, 2, 18, 8, 7, 1, tzinfo=datetime.timezone.utc)}, {'Tweet': 'Daily #Gold News: \\nThursday, Feb. 17 – Gold Breaks Towards the $1,900 Price Level\\n\\n👉Read Now:… https://t.co/zvhazmHeGi', 'Timestamp': datetime.datetime(2022, 2, 18, 8, 6, 56, tzinfo=datetime.timezone.utc)}, {'Tweet': '#Gold #Xauusd #Technicalchart #Possiblity https://t.co/QcSU8uLUp0', 'Timestamp': datetime.datetime(2022, 2, 18, 8, 6, 5, tzinfo=datetime.timezone.utc)}, {'Tweet': 'Forex Signal  Feb 18th\\n\\nMark 1：EURUSD\\nDirection：Bearish\\nOpen price：1.1387-1.1402\\nS/L：1.1422\\nTarget：1.1357-1.1342\\n\\nM… https://t.co/rcgw1Xmn36', 'Timestamp': datetime.datetime(2022, 2, 18, 8, 5, 7, tzinfo=datetime.timezone.utc)}, {'Tweet': 'RT @bdfx10: 【#FXのすゝめ2022】\\n先出し詐欺師は派手なロット数と金額でドヤ顔します。騙されないで！\\n\\n#fx は金額が重要なのではありません。どの場所でポジションを持つのかが重要\\n\\n勝つトレードを求めてはいけない。負けないトレードこそが至高。\\n\\nこれが #たけ…', 'Timestamp': datetime.datetime(2022, 2, 18, 8, 3, 25, tzinfo=datetime.timezone.utc)}, {'Tweet': 'good morning, billionaire\\nThe golden age has come\\nThe gold market is bullish as a whole, and the operation is still… https://t.co/A2vtTaVW6q', 'Timestamp': datetime.datetime(2022, 2, 18, 8, 1, 16, tzinfo=datetime.timezone.utc)}, {'Tweet': 'Gold is $1890.92/ozt @ 08:00 UTC.\\n\\n24H change: +$16.39 (+0.87%)\\n30D change: +$76.53 (+4.22%)\\n\\n#GOLD $XAU $XAUUSD', 'Timestamp': datetime.datetime(2022, 2, 18, 8, 0, 6, tzinfo=datetime.timezone.utc)}, {'Tweet': 'Relying on the support of 1885, gold continues to be low and bullish, and there will be new highs next\\nThe golden a… https://t.co/6yfZPQypua', 'Timestamp': datetime.datetime(2022, 2, 18, 7, 58, 16, tzinfo=datetime.timezone.utc)}, {'Tweet': 'The Ukrainian armed forces again carried out three attacks using mortars. Russia-Ukraine situation escalates again… https://t.co/ZuHAcMdJwi', 'Timestamp': datetime.datetime(2022, 2, 18, 7, 54, 47, tzinfo=datetime.timezone.utc)}, {'Tweet': 'FOR #GOLD SIGNALS AND ANALYSIS DM ME https://t.co/fXMc8ucCEu\\n\\n#XAUUSD #Forex #NASDAQ #US30 #DAX30 #INDICES #WTI… https://t.co/WXXQ7XCfBz', 'Timestamp': datetime.datetime(2022, 2, 18, 7, 54, 3, tzinfo=datetime.timezone.utc)}, {'Tweet': 'RT @bdfx10: 【#FXのすゝめ2022】\\n先出し詐欺師は派手なロット数と金額でドヤ顔します。騙されないで！\\n\\n#fx は金額が重要なのではありません。どの場所でポジションを持つのかが重要\\n\\n勝つトレードを求めてはいけない。負けないトレードこそが至高。\\n\\nこれが #たけ…', 'Timestamp': datetime.datetime(2022, 2, 18, 7, 52, 42, tzinfo=datetime.timezone.utc)}, {'Tweet': 'There is still room for gold to fall in the short term. In the afternoon, you can refer to the empty space near 189… https://t.co/rSl9LX87Z9', 'Timestamp': datetime.datetime(2022, 2, 18, 7, 50, 15, tzinfo=datetime.timezone.utc)}, {'Tweet': '1/2\\nGold 1900✅\\n#XAUUSD #Gold https://t.co/OoLs4DB7k0', 'Timestamp': datetime.datetime(2022, 2, 18, 7, 48, 57, tzinfo=datetime.timezone.utc)}, {'Tweet': '#GOLD UPDATE:- If Gold break our at 1893.\\n\\nSo gold can reach upto around 1897.50 \\n\\nJOIN OUR WHATSAPP GROUP FOR TRAI… https://t.co/M2rasSdvfR', 'Timestamp': datetime.datetime(2022, 2, 18, 7, 47, 56, tzinfo=datetime.timezone.utc)}, {'Tweet': '#GOLD UPDATE:- If Gold break our at 1893.\\n\\nSo gold can reach upto around 1897.50 \\n\\nJOIN OUR WHATSAPP GROUP FOR TRAI… https://t.co/sofcJE3hiE', 'Timestamp': datetime.datetime(2022, 2, 18, 7, 47, 43, tzinfo=datetime.timezone.utc)}, {'Tweet': '$XAUUSD: weekly chart, log scale\\n\\nSince last June, #gold price stayed below 52-week moving average &amp; above the 105-… https://t.co/lfEuni2xrv', 'Timestamp': datetime.datetime(2022, 2, 18, 7, 47, 21, tzinfo=datetime.timezone.utc)}, {'Tweet': 'XAUUSD (GOLD) SOON 1900🤩🤩\\n#GOLD &amp; #BTC fly soon🥂\\nGet ready to grab opportunity', 'Timestamp': datetime.datetime(2022, 2, 18, 7, 47, 13, tzinfo=datetime.timezone.utc)}, {'Tweet': '2.18 今日观点分享\\n\\n#forextrading #forextrader #forexsignal #gold #xauusd #forexmarket #eurusd https://t.co/f9ErgOGMmp', 'Timestamp': datetime.datetime(2022, 2, 18, 7, 45, 37, tzinfo=datetime.timezone.utc)}, {'Tweet': 'Gold Price Forecast: Rate hikes no concern for XAU/USD – ANZ https://t.co/MRmbWGYM66 #Gold #XAUUSD #Fed #Banks', 'Timestamp': datetime.datetime(2022, 2, 18, 7, 45, 31, tzinfo=datetime.timezone.utc)}, {'Tweet': '$XAUUSD BUY NOW   #XAUUSD #GOLD $GOLD🥇\\n\\n@1891-1889\\n\\nsl 1885\\n\\ntp 1895\\ntp 1900\\ntp open', 'Timestamp': datetime.datetime(2022, 2, 18, 7, 44, 9, tzinfo=datetime.timezone.utc)}, {'Tweet': 'RT @KudretAyyldr: Ons Altın için 1835 - 1850 bölgesi aylık kapanış olarak uzun vadeli görünümde oldukça dikkat çekici bir aralık. İlgili bö…', 'Timestamp': datetime.datetime(2022, 2, 18, 7, 43, 32, tzinfo=datetime.timezone.utc)}, {'Tweet': '#Gold #XAUUSD Update:-  if Gold break out at 1893.\\nSo Gold can reach up to around 1897.50\\n\\n#xauusdanalysis… https://t.co/DpMPVK1i6r', 'Timestamp': datetime.datetime(2022, 2, 18, 7, 42, 21, tzinfo=datetime.timezone.utc)}, {'Tweet': '2.18 获利回顾+欧美&amp;操作建议：（4分钟干货输出）\\n\\n1、复盘昨天的操作，1单黄金盈利；\\n2、俄乌战局僵持，黄金上涨还是下跌；\\n3、本月活动，7.8折；\\n4、今天欧美和黄金的入场跟止损点位；\\n\\n#forextrading… https://t.co/8Ieeizj9Mt', 'Timestamp': datetime.datetime(2022, 2, 18, 7, 41, 21, tzinfo=datetime.timezone.utc)}, {'Tweet': \"RT @TheLastDegree: it's holding\\nso that means i am ready for an explosive day up.\\n\\n#gold $XAUUSD https://t.co/2o4a00nB4W\", 'Timestamp': datetime.datetime(2022, 2, 18, 7, 40, 48, tzinfo=datetime.timezone.utc)}, {'Tweet': 'RT @Professoroffx: Güne yine #Professor farkıyla mükemmel başlıyoruz. 🔥\\n\\n💰 2.375 $ • 32.344 ₺\\n\\nİşlem kanalımızda işleme dahil olup kazanç s…', 'Timestamp': datetime.datetime(2022, 2, 18, 7, 39, 56, tzinfo=datetime.timezone.utc)}, {'Tweet': '昨日观点回顾\\n\\n#forextrading #forextrader #forexsignal #gold #xauusd #forexmarket #eurusd https://t.co/pJawDBFObA', 'Timestamp': datetime.datetime(2022, 2, 18, 7, 35, 28, tzinfo=datetime.timezone.utc)}, {'Tweet': 'Gold suggests that the correction should be dominated by lows and highs, supplemented by high-altitude rebounds. Th… https://t.co/Czbf3oAWSc', 'Timestamp': datetime.datetime(2022, 2, 18, 7, 35, 17, tzinfo=datetime.timezone.utc)}, {'Tweet': '17-Feb-2022 CME Volume &amp; Open Interest in futures &amp; options #Gold #Silver #HG #GC_f #XAUUSD #XAGUSD https://t.co/TAGSlGiUoU', 'Timestamp': datetime.datetime(2022, 2, 18, 7, 33, 35, tzinfo=datetime.timezone.utc)}, {'Tweet': 'RT @Professoroffx: Güne yine #Professor farkıyla mükemmel başlıyoruz. 🔥\\n\\n💰 2.375 $ • 32.344 ₺\\n\\nİşlem kanalımızda işleme dahil olup kazanç s…', 'Timestamp': datetime.datetime(2022, 2, 18, 7, 29, 8, tzinfo=datetime.timezone.utc)}, {'Tweet': 'RT @xtradering: Gold \\nShortçulara selam olsun 1950 üstü kapanışlar 2400 2700 3000 gösterir  \\n12 aydır taşıdığım pozlar uğruna az daha sabır…', 'Timestamp': datetime.datetime(2022, 2, 18, 7, 28, 17, tzinfo=datetime.timezone.utc)}, {'Tweet': 'RT @GTS_Indicators: Learn HOW EASY it is when #Gold #FuturesTrading Tutorial with the #xBratAlgo HERE ▶️▶️ https://t.co/w7IDw6SVvF $GOLD #d…', 'Timestamp': datetime.datetime(2022, 2, 18, 7, 26, 37, tzinfo=datetime.timezone.utc)}, {'Tweet': 'Therefore, the U.S. market shot up yesterday and was under pressure on the 1900-02 line. The lower part relies on t… https://t.co/94PW68rckS', 'Timestamp': datetime.datetime(2022, 2, 18, 7, 23, 4, tzinfo=datetime.timezone.utc)}, {'Tweet': '大きい足の平均足、水平線、リスクリワードレシオを気にしてたら勝てるようになったよ\\nhttps://t.co/RMLo137Ijp\\n\\n#FX #FOREX #BTC #Crypto #GOLD #XAUUSD #LN #XRP #ETH #NFT #altcoin', 'Timestamp': datetime.datetime(2022, 2, 18, 7, 23, tzinfo=datetime.timezone.utc)}, {'Tweet': 'トレンドを見つける。言葉では簡単だが、見ている時間足によって今の状況が何なのか異なる。\\nhttps://t.co/UmFL97lzds\\n\\n#FX #FOREX #BTC #Crypto #GOLD #XAUUSD #LN #XRP #ETH #NFT #altcoin', 'Timestamp': datetime.datetime(2022, 2, 18, 7, 23, tzinfo=datetime.timezone.utc)}, {'Tweet': 'RT @Xauusd_NA: Russia has said it is withdrawing more tanks and military equipment from near Ukraine.\\n\\n#xauusd #gold', 'Timestamp': datetime.datetime(2022, 2, 18, 7, 22, 20, tzinfo=datetime.timezone.utc)}, {'Tweet': \"Altın, Rusya'nın Ukrayna'ya yönelik işgal harekatına başlayabileceği yönündeki açıklamaların etkisiyle Perşembe gün… https://t.co/Md4p5dcXt8\", 'Timestamp': datetime.datetime(2022, 2, 18, 7, 20, 18, tzinfo=datetime.timezone.utc)}, {'Tweet': '#GOLD UPDATE:- If Gold break our at 1893.\\n\\nSo gold can reach upto around 1897.50 \\n\\nJOIN OUR WHATSAPP GROUP FOR TRAI… https://t.co/cdNw8DgezY', 'Timestamp': datetime.datetime(2022, 2, 18, 7, 19, 5, tzinfo=datetime.timezone.utc)}, {'Tweet': 'メテオブラスト２月入ってから、たった18日で利益50万円を超えました！㊗️(早くも利益率50％突破)\\n今月月利70〜80％くらいは行きそうだな☺️加えてこの大荒れゴールド相場における安定感！(他のツイート参照)\\n\\n#XAUUSD… https://t.co/afhg1kPQEF', 'Timestamp': datetime.datetime(2022, 2, 18, 7, 17, 53, tzinfo=datetime.timezone.utc)}, {'Tweet': 'วิเคราะห์กราฟทอง XAU/USD 18 ก.พ. 2565\\nhttps://t.co/aLILyRDTTf\\n\\n#ทอง #ทองคำ #ราคาทอง #เทรดทอง #เทรดทองคำ #ลงทุนทอง… https://t.co/ufuAR2tbbA', 'Timestamp': datetime.datetime(2022, 2, 18, 7, 15, 20, tzinfo=datetime.timezone.utc)}, {'Tweet': 'Stop losing &amp; learn how to trade gold successfully in 7 days ? Click Here https://t.co/GZA6HVVm9E #gold… https://t.co/qy4JB0uL64', 'Timestamp': datetime.datetime(2022, 2, 18, 7, 12, 58, tzinfo=datetime.timezone.utc)}, {'Tweet': 'Technical Analysis (Gold) : XAU/USD 18 February 2022\\nhttps://t.co/DBpXt43VBQ\\n\\n#XAUUSD #XAU #gold #goldspot… https://t.co/w6v2a3tWz2', 'Timestamp': datetime.datetime(2022, 2, 18, 7, 11, tzinfo=datetime.timezone.utc)}, {'Tweet': '#XAUUSD #Gold\\nXAUUSD touched the highs at $1,902.545 USD/ounce (spot price), by @tradingscenes https://t.co/RVswIZfbbJ', 'Timestamp': datetime.datetime(2022, 2, 18, 7, 9, 41, tzinfo=datetime.timezone.utc)}, {'Tweet': 'Market update, to know more or for free trials and for accurate live trades DM me or fill the form… https://t.co/6fryBjgFKR', 'Timestamp': datetime.datetime(2022, 2, 18, 7, 9, 17, tzinfo=datetime.timezone.utc)}, {'Tweet': 'At present, #gold is still rising. It continues to be low and bullish in early trading. The support below is 1890.… https://t.co/D6eHXBruVi', 'Timestamp': datetime.datetime(2022, 2, 18, 7, 8, 8, tzinfo=datetime.timezone.utc)}, {'Tweet': 'Çin altın stoklarını artırmaya devam ediyor. (Gold Telegraph) #Gold #XAUUSD', 'Timestamp': datetime.datetime(2022, 2, 18, 7, 6, 16, tzinfo=datetime.timezone.utc)}, {'Tweet': '#xauusd Udpate:-  if Gold break out at 1893.\\n\\nSo Gold can reach up to around 1897.50\\n\\nJoin our whatsapp group for a… https://t.co/uLV0whmzvy', 'Timestamp': datetime.datetime(2022, 2, 18, 7, 4, 57, tzinfo=datetime.timezone.utc)}, {'Tweet': 'RT @Jakub_moscicki: #BTC miał być cyfrowym złotem w przypadku dużego zagrożenia. \\nWygląda na to, że BTC woli być jednak spółką technologicz…', 'Timestamp': datetime.datetime(2022, 2, 18, 7, 4, 47, tzinfo=datetime.timezone.utc)}, {'Tweet': '#Xauusd #Gold İşlemimiz TP1 Oldu 380$ Kar yazdı https://t.co/qGL7DdnOeO', 'Timestamp': datetime.datetime(2022, 2, 18, 7, 2, 6, tzinfo=datetime.timezone.utc)}, {'Tweet': 'Gold Price Forecast: XAU/USD keeps bullish bias intact to regain $1,900 https://t.co/LgWT98Ev4S #Gold #XAUUSD', 'Timestamp': datetime.datetime(2022, 2, 18, 7, 0, 43, tzinfo=datetime.timezone.utc)}, {'Tweet': 'Gold is $1891.04/ozt @ 07:00 UTC.\\n\\n24H change: +$16.17 (+0.86%)\\n30D change: +$73.75 (+4.06%)\\n\\n#GOLD $XAU $XAUUSD', 'Timestamp': datetime.datetime(2022, 2, 18, 7, 0, 5, tzinfo=datetime.timezone.utc)}, {'Tweet': '2/18ゴールド\\n1900の切り番で小反発。引き続き押し目買い狙い。但し下落が急なので、底をしっかり確認してから入りたい。\\n#fx #gold #XAUUSD  #ゴールド https://t.co/f22SIkJlYD', 'Timestamp': datetime.datetime(2022, 2, 18, 6, 59, 46, tzinfo=datetime.timezone.utc)}, {'Tweet': 'Ukraine is on fire again! Gold price bulls return to view Technical outlook: 1891 has limited downside space to str… https://t.co/fVH0DaP9ln', 'Timestamp': datetime.datetime(2022, 2, 18, 6, 57, 48, tzinfo=datetime.timezone.utc)}, {'Tweet': '#profit booked 🤑🔥🔥\\n\\nJoin group for VIP #trades: https://t.co/uVJ5uXL0sl\\n\\n#XAUUSD #XAGUSD #xtiusd #FX詐欺 #FX自動売買… https://t.co/xTsDSKLJkz', 'Timestamp': datetime.datetime(2022, 2, 18, 6, 54, 42, tzinfo=datetime.timezone.utc)}, {'Tweet': 'What the next? can i come along? ☺️😚\\n#xauusd #gold #usdjpy https://t.co/uvHhRiKjgh', 'Timestamp': datetime.datetime(2022, 2, 18, 6, 54, 37, tzinfo=datetime.timezone.utc)}, {'Tweet': 'RT @Jakub_moscicki: #BTC miał być cyfrowym złotem w przypadku dużego zagrożenia. \\nWygląda na to, że BTC woli być jednak spółką technologicz…', 'Timestamp': datetime.datetime(2022, 2, 18, 6, 51, 3, tzinfo=datetime.timezone.utc)}, {'Tweet': 'RT @kcoskunol: altın #XAUUSD\\n#gold      #ALTIN     $gold   #usd \\n#borsa #xu100 #xu030 #bist #borsaistanbul \\ntrend çalışması https://t.co/IF…', 'Timestamp': datetime.datetime(2022, 2, 18, 6, 49, 59, tzinfo=datetime.timezone.utc)}, {'Tweet': 'Join us for trading updates and premium signals! 📊 \\n90-95% of accurate signals 🎯\\n#forex  #indices #gold #crudeoil… https://t.co/Cmn6M6K1sK', 'Timestamp': datetime.datetime(2022, 2, 18, 6, 49, 58, tzinfo=datetime.timezone.utc)}, {'Tweet': 'RT @bdfx10: 【#FXのすゝめ2022】\\n先出し詐欺師は派手なロット数と金額でドヤ顔します。騙されないで！\\n\\n#fx は金額が重要なのではありません。どの場所でポジションを持つのかが重要\\n\\n勝つトレードを求めてはいけない。負けないトレードこそが至高。\\n\\nこれが #たけ…', 'Timestamp': datetime.datetime(2022, 2, 18, 6, 48, 4, tzinfo=datetime.timezone.utc)}, {'Tweet': 'Economic Calendar as on 18th Feb\\nFor free trial signals, Join-https://t.co/IHSIyLFgYw…………… #gold #xau #xauusd… https://t.co/me2ql2TqBA', 'Timestamp': datetime.datetime(2022, 2, 18, 6, 46, 35, tzinfo=datetime.timezone.utc)}, {'Tweet': 'RT @trendask: #xauusd #gold 2000 hedefine gidip ordan satış yiyecek duruyor bunda düşüş alım fırsatı iken ters korelesi #btcusdt de çıkışla…', 'Timestamp': datetime.datetime(2022, 2, 18, 6, 45, 12, tzinfo=datetime.timezone.utc)}, {'Tweet': 'RT @Xauusd_NA: Russia has said it is withdrawing more tanks and military equipment from near Ukraine.\\n\\n#xauusd #gold', 'Timestamp': datetime.datetime(2022, 2, 18, 6, 44, 35, tzinfo=datetime.timezone.utc)}, {'Tweet': '[EN] #XAUUSD just started to rising. If you made a basket including #XU100 #BTC #Commodities #Currency etc. you are… https://t.co/y0598bWTTf', 'Timestamp': datetime.datetime(2022, 2, 18, 6, 42, tzinfo=datetime.timezone.utc)}, {'Tweet': 'RT @bdfx10: 【#FXのすゝめ2022】\\n先出し詐欺師は派手なロット数と金額でドヤ顔します。騙されないで！\\n\\n#fx は金額が重要なのではありません。どの場所でポジションを持つのかが重要\\n\\n勝つトレードを求めてはいけない。負けないトレードこそが至高。\\n\\nこれが #たけ…', 'Timestamp': datetime.datetime(2022, 2, 18, 6, 40, 51, tzinfo=datetime.timezone.utc)}, {'Tweet': 'Russia has said it is withdrawing more tanks and military equipment from near Ukraine.\\n\\n#xauusd #gold', 'Timestamp': datetime.datetime(2022, 2, 18, 6, 38, 46, tzinfo=datetime.timezone.utc)}, {'Tweet': 'ABD Dışişleri Bakanı Blinken, Rusya Dışişleri Bakanı Lavrov ile haftaya bir görüşme planı yaptığı belirtiliyor. #gold #XAUUSD', 'Timestamp': datetime.datetime(2022, 2, 18, 6, 38, 32, tzinfo=datetime.timezone.utc)}, {'Tweet': 'Join us for more technical analysis\\n\\nhttps://t.co/1KYBn4VB1H\\n\\n#fx #forex #DXY #GBPUSD #USDJPY #USDCAD #USDCHF… https://t.co/0jvb9cAbKR', 'Timestamp': datetime.datetime(2022, 2, 18, 6, 38, 8, tzinfo=datetime.timezone.utc)}, {'Tweet': 'RT @Jakub_moscicki: #BTC miał być cyfrowym złotem w przypadku dużego zagrożenia. \\nWygląda na to, że BTC woli być jednak spółką technologicz…', 'Timestamp': datetime.datetime(2022, 2, 18, 6, 37, 55, tzinfo=datetime.timezone.utc)}, {'Tweet': '#SPX500  #BANKNIFTYFUTURE #Gold #XAUUSD \\n\\nMarkets will boom out from monday 21 Feb 2022,  for final run to the top,… https://t.co/KD1HffVLWg', 'Timestamp': datetime.datetime(2022, 2, 18, 6, 35, 24, tzinfo=datetime.timezone.utc)}, {'Tweet': 'ここからこう？🤔\\n\\n#Gold \\n#XAUUSD https://t.co/j1JC556CdA', 'Timestamp': datetime.datetime(2022, 2, 18, 6, 33, 5, tzinfo=datetime.timezone.utc)}, {'Tweet': 'RT @trendask: #xauusd #gold 2000 hedefine gidip ordan satış yiyecek duruyor bunda düşüş alım fırsatı iken ters korelesi #btcusdt de çıkışla…', 'Timestamp': datetime.datetime(2022, 2, 18, 6, 29, 3, tzinfo=datetime.timezone.utc)}, {'Tweet': 'RT @mebaru44: 🏴完全無料FXサロン🏴\\n\\n🌙黒メバル軍団🌙\\n\\n・黒メバル手法 完全公開\\n・質問し放題\\n・メンバー同士の雑談あり\\n\\n●先出し通貨:\\nドル円\\u3000#USDJPY\\nゴールド #XAUUSD #GOLD\\nポンド円\\u3000#GBPJPY\\n\\n現メンバーと仲良くでき、\\n興味…', 'Timestamp': datetime.datetime(2022, 2, 18, 6, 28, 33, tzinfo=datetime.timezone.utc)}, {'Tweet': 'RT @DadoRTMS: Managed account service now available, 12 weeks, double your account.\\n\\n*DM for details*\\n\\n$GOLD #GOLD $XAUUSD #XAUUSD $SILVER…', 'Timestamp': datetime.datetime(2022, 2, 18, 6, 28, 2, tzinfo=datetime.timezone.utc)}, {'Tweet': 'RT @bdfx10: 【#FXのすゝめ2022】\\n先出し詐欺師は派手なロット数と金額でドヤ顔します。騙されないで！\\n\\n#fx は金額が重要なのではありません。どの場所でポジションを持つのかが重要\\n\\n勝つトレードを求めてはいけない。負けないトレードこそが至高。\\n\\nこれが #たけ…', 'Timestamp': datetime.datetime(2022, 2, 18, 6, 26, 29, tzinfo=datetime.timezone.utc)}, {'Tweet': '#xauusd #gold 2000 hedefine gidip ordan satış yiyecek duruyor bunda düşüş alım fırsatı iken ters korelesi #btcusdt… https://t.co/27ijwMtRVB', 'Timestamp': datetime.datetime(2022, 2, 18, 6, 23, 47, tzinfo=datetime.timezone.utc)}, {'Tweet': 'The Ukrainian armed forces again carried out three attacks using mortars. Russia-Ukraine situation escalates again… https://t.co/T82wT35c4s', 'Timestamp': datetime.datetime(2022, 2, 18, 6, 23, 37, tzinfo=datetime.timezone.utc)}, {'Tweet': '日足のローソクで判断したら利益出るようになった\\nhttps://t.co/3PACeMAj6e\\n\\n#FX #FOREX #BTC #Crypto #GOLD #XAUUSD #LN #XRP #ETH #NFT #altcoin', 'Timestamp': datetime.datetime(2022, 2, 18, 6, 23, tzinfo=datetime.timezone.utc)}, {'Tweet': '#توقعات #أسعار #الذهب #GOLD: استمرار تداولات “شراء الانخفاضات” في زوج الذهب / #الدولار #XAUUSD، والتركيز على… https://t.co/G4TwnCRHIt', 'Timestamp': datetime.datetime(2022, 2, 18, 6, 18, 42, tzinfo=datetime.timezone.utc)}, {'Tweet': '@vanessatrader1\\n·\\nFeb 18\\nVanessa Stone\\n@vanessatrader1\\n\\n·\\nFeb 18\\nDAILY ECONOMIC CALENDAR UPDATES🗓\\n\\nWant to gain kno… https://t.co/bd7zAL0YKx', 'Timestamp': datetime.datetime(2022, 2, 18, 6, 16, 9, tzinfo=datetime.timezone.utc)}, {'Tweet': '@vanessatrader1\\n\\n·\\nFeb 18\\n#Support and #Resistance Level-\\n\\nGet FREE #Forex #signals and #trading strategies\\n\\nDM me… https://t.co/xD48uJDMKe', 'Timestamp': datetime.datetime(2022, 2, 18, 6, 14, 5, tzinfo=datetime.timezone.utc)}, {'Tweet': '#Gold$#xauusd# https://t.co/dh3V8UxqJo', 'Timestamp': datetime.datetime(2022, 2, 18, 6, 11, 27, tzinfo=datetime.timezone.utc)}, {'Tweet': '*COMEX CALL : BUY GOLD AT 1892 \\nGet TP and SL : https://t.co/mlK8qU6qYS\\n\\n#Gold #XAUUSD', 'Timestamp': datetime.datetime(2022, 2, 18, 6, 11, 21, tzinfo=datetime.timezone.utc)}, {'Tweet': 'At present, gold is still rising, and it continues to be low and bullish in early trading. The support below is 189… https://t.co/5qJ7zLVs0y', 'Timestamp': datetime.datetime(2022, 2, 18, 6, 7, 10, tzinfo=datetime.timezone.utc)}, {'Tweet': '#trading #TradingView #TradingView #TRADINGTIPS #tradingpsychology #gold $gold $xau $xauusd $gc Gold...ignition.. t… https://t.co/8iu9E57xBz', 'Timestamp': datetime.datetime(2022, 2, 18, 6, 6, 49, tzinfo=datetime.timezone.utc)}, {'Tweet': 'Affected by the latest news from the United States and Russia, the market preference has rapidly heated up, and spo… https://t.co/3xSeDPiSbO', 'Timestamp': datetime.datetime(2022, 2, 18, 6, 6, 15, tzinfo=datetime.timezone.utc)}, {'Tweet': 'RT @jfhksar88: This is why backtests should be embraced, not feared. Very clear trend / clean pattern in this #GOLD CFDs $XAUUSD move. http…', 'Timestamp': datetime.datetime(2022, 2, 18, 6, 4, 9, tzinfo=datetime.timezone.utc)}, {'Tweet': '#Gold $XAUUSD eases from eight-month highs above $1,900, geopolitics in focus.', 'Timestamp': datetime.datetime(2022, 2, 18, 6, 3, 7, tzinfo=datetime.timezone.utc)}, {'Tweet': '#Gold $XAUUSD price is retreating from fresh eight-month highs reached at $1,903 reached in early Asia, as an impro… https://t.co/77UqKr6Rvw', 'Timestamp': datetime.datetime(2022, 2, 18, 6, 2, 34, tzinfo=datetime.timezone.utc)}, {'Tweet': \"RT @GoldcryptoVirus: #XauUsd 🚫 #Gold 🚫 #Metal\\n.\\nDon't buy or sell \\nWithout my given buy or sell area \\nOtherwise you will be stuck\\n.\\nBuy are…\", 'Timestamp': datetime.datetime(2022, 2, 18, 6, 1, 27, tzinfo=datetime.timezone.utc)}, {'Tweet': '#Gold $XAUUSD holds near the fresh cycle highs of $1,900, driven higher by the Russian and Ukraine crisis.\\nUS dolla… https://t.co/AVch6LfiLe', 'Timestamp': datetime.datetime(2022, 2, 18, 6, 1, 24, tzinfo=datetime.timezone.utc)}, {'Tweet': 'Gold is $1891.72/ozt @ 06:00 UTC.\\n\\n24H change: +$19.51 (+1.04%)\\n30D change: +$78.16 (+4.31%)\\n\\n#GOLD $XAU $XAUUSD', 'Timestamp': datetime.datetime(2022, 2, 18, 6, 0, 6, tzinfo=datetime.timezone.utc)}, {'Tweet': 'ママ...\\n助けて...\\nママぁぁぁあああ！！(´；ω；`)\\n\\n#投資家と繋がりたい\\n#FX\\n#ハイレバ\\n#借金\\n#消費者金融\\n#XAUUSD\\n#GOLD\\n#ママ\\n#ママラブ https://t.co/IZqknPBjYI', 'Timestamp': datetime.datetime(2022, 2, 18, 5, 57, 46, tzinfo=datetime.timezone.utc)}, {'Tweet': 'Do you like this market update?\\nTell me yes or no in the comments!!!\\n\\n#traderlifestyle #traders #tradingsystem… https://t.co/IjZmNhbHGX', 'Timestamp': datetime.datetime(2022, 2, 18, 5, 57, 42, tzinfo=datetime.timezone.utc)}, {'Tweet': 'RT @Jakub_moscicki: #BTC miał być cyfrowym złotem w przypadku dużego zagrożenia. \\nWygląda na to, że BTC woli być jednak spółką technologicz…', 'Timestamp': datetime.datetime(2022, 2, 18, 5, 57, 42, tzinfo=datetime.timezone.utc)}, {'Tweet': 'GOLD SELL @ 1892\\nfor TP and SL: https://t.co/mzEyt5jhXn \\n\\n#GOLD #XAUUSD', 'Timestamp': datetime.datetime(2022, 2, 18, 5, 56, 39, tzinfo=datetime.timezone.utc)}, {'Tweet': 'RT @algoritmiktrad: #Gold #ONS #Silver #XAUUSD https://t.co/UhOVE3eWVc', 'Timestamp': datetime.datetime(2022, 2, 18, 5, 56, 20, tzinfo=datetime.timezone.utc)}, {'Tweet': 'RT @Jakub_moscicki: #BTC miał być cyfrowym złotem w przypadku dużego zagrożenia. \\nWygląda na to, że BTC woli być jednak spółką technologicz…', 'Timestamp': datetime.datetime(2022, 2, 18, 5, 51, 9, tzinfo=datetime.timezone.utc)}, {'Tweet': 'RT @BrightFuture_FX: $GOLD $XAUUSD #GOLD #XAUUSD \\n\\nGold update:\\nSpot: 1891\\n\\n4 Hour time frame target was 1900. Which was hit yesterday.\\n\\nWe…', 'Timestamp': datetime.datetime(2022, 2, 18, 5, 50, 52, tzinfo=datetime.timezone.utc)}, {'Tweet': '#AUDUSD approaching support of a Triangle\\nAUD/USD is approaching the support line of a Triangle. It has touched thi… https://t.co/XRoTvwqMBI', 'Timestamp': datetime.datetime(2022, 2, 18, 5, 49, 21, tzinfo=datetime.timezone.utc)}, {'Tweet': 'Gold sell now\\n#XAUUSD #Gold #XAGUSD #Btc #Signal #Forex', 'Timestamp': datetime.datetime(2022, 2, 18, 5, 48, 19, tzinfo=datetime.timezone.utc)}, {'Tweet': 'Sh** slipped \\nDown to half \\n#XAUUSD #GOLD #ハイレバ #海外口座 https://t.co/chQQeuLWar', 'Timestamp': datetime.datetime(2022, 2, 18, 5, 47, 9, tzinfo=datetime.timezone.utc)}, {'Tweet': 'Note 1893 Weak Resistance\\nIf you follow the signal to sell #gold, you can choose to close the position in advance t… https://t.co/JJP1hSrYlH', 'Timestamp': datetime.datetime(2022, 2, 18, 5, 46, 36, tzinfo=datetime.timezone.utc)}, {'Tweet': 'RT @bdfx10: 【#FXのすゝめ2022】\\n先出し詐欺師は派手なロット数と金額でドヤ顔します。騙されないで！\\n\\n#fx は金額が重要なのではありません。どの場所でポジションを持つのかが重要\\n\\n勝つトレードを求めてはいけない。負けないトレードこそが至高。\\n\\nこれが #たけ…', 'Timestamp': datetime.datetime(2022, 2, 18, 5, 46, 2, tzinfo=datetime.timezone.utc)}, {'Tweet': 'RT @Professoroffx: Güne yine #Professor farkıyla mükemmel başlıyoruz. 🔥\\n\\n💰 2.375 $ • 32.344 ₺\\n\\nİşlem kanalımızda işleme dahil olup kazanç s…', 'Timestamp': datetime.datetime(2022, 2, 18, 5, 44, 57, tzinfo=datetime.timezone.utc)}, {'Tweet': '【GOLD】直近上は1906付近。そこを明確に抜けた場合は、1916付近。1883を明確に抜けた場合は、一旦下方向。突発的な動きには要注意⚠️#XAUUSD #GOLD\\n#USDJPY #EURUSD #ビットコイン #仮想通貨… https://t.co/oSVgFCT9Gt', 'Timestamp': datetime.datetime(2022, 2, 18, 5, 44, 9, tzinfo=datetime.timezone.utc)}, {'Tweet': 'Trading Forex? Selecting A Good Broker You Win - Bad Broker You Lose. $500 Millions Profit  Made  By Forex Traders… https://t.co/XcRycTbXOE', 'Timestamp': datetime.datetime(2022, 2, 18, 5, 43, 59, tzinfo=datetime.timezone.utc)}, {'Tweet': '#BTC miał być cyfrowym złotem w przypadku dużego zagrożenia. \\nWygląda na to, że BTC woli być jednak spółką technolo… https://t.co/f6kIN2FhkC', 'Timestamp': datetime.datetime(2022, 2, 18, 5, 41, 33, tzinfo=datetime.timezone.utc)}, {'Tweet': '#XAUUSD #GOLD stoepd out at m1 jlines. After 1.1 rr  \\nRe enterd at m5 jlines took easy 60 pips 🥰😍\\n #xauusd #NQ_F… https://t.co/mFl3A1Byb4', 'Timestamp': datetime.datetime(2022, 2, 18, 5, 37, 14, tzinfo=datetime.timezone.utc)}, {'Tweet': 'Additional position #XAUUSD #GOLD #ハイレバ #海外口座 https://t.co/xXdMaF4dOD', 'Timestamp': datetime.datetime(2022, 2, 18, 5, 36, 39, tzinfo=datetime.timezone.utc)}, {'Tweet': 'RT @Professoroffx: Güne yine #Professor farkıyla mükemmel başlıyoruz. 🔥\\n\\n💰 2.375 $ • 32.344 ₺\\n\\nİşlem kanalımızda işleme dahil olup kazanç s…', 'Timestamp': datetime.datetime(2022, 2, 18, 5, 35, 6, tzinfo=datetime.timezone.utc)}, {'Tweet': '#COMEX CALL- INTRADAY  SELL  #GOLD (SPOT) BETWEEN 1891.50-1890.50 : TARGET-1887.20-1882.50-1875.80 : SL – 1902.60… https://t.co/7aryMlmTkH', 'Timestamp': datetime.datetime(2022, 2, 18, 5, 33, 12, tzinfo=datetime.timezone.utc)}, {'Tweet': 'RT @malak200a: #تداول #فوركس #تحليل #الدهب\\n#forextrader #gold #XAUUSD\\nقبل وبعد بفضل الله\\nالشارت الا رسمنا حركته من يوم ١/٨/٢٠٢١ الي اليوم\\nا…', 'Timestamp': datetime.datetime(2022, 2, 18, 5, 28, 17, tzinfo=datetime.timezone.utc)}, {'Tweet': 'RT @malak200a: #تداول #فوركس #تحليل #الدهب\\n#forextrader #gold #XAUUSD\\nالدهب بغضل الله ١٨٧٢ صفقتنا علي القناه وصلت لهدفين\\nاوعي تغمض عنيك \\nتا…', 'Timestamp': datetime.datetime(2022, 2, 18, 5, 28, 8, tzinfo=datetime.timezone.utc)}, {'Tweet': 'RT @malak200a: #تداول #فوركس #تحليل #الدهب #الدولار\\n#forextrader #gold #XAUUSD #DXY \\nالدهب والدولار  ووضع شموع اليوم مع التوبي حتي الان  \\nت…', 'Timestamp': datetime.datetime(2022, 2, 18, 5, 27, 59, tzinfo=datetime.timezone.utc)}, {'Tweet': 'RT @malak200a: #تداول #فوركس #تحليل #الدهب \\n#forextrader #gold #XAUUSD \\nبيفوت يومي واسبوعي وشهري علي الاكسيل والشارت \\nالمستويات في الدائرة…', 'Timestamp': datetime.datetime(2022, 2, 18, 5, 27, 44, tzinfo=datetime.timezone.utc)}, {'Tweet': 'RT @malak200a: #تداول #فوركس #تحليل #الدهب \\n#forextrader #gold #XAUUSD \\nقبل  وبعد نموذج الدهب  وبالتالي البيفوت اليومي 1859 تساعدنا نكمل ال…', 'Timestamp': datetime.datetime(2022, 2, 18, 5, 27, 40, tzinfo=datetime.timezone.utc)}, {'Tweet': 'RT @malak200a: #تداول #فوركس #تحليل #الدهب \\n#forextrader #gold #XAUUSD \\nالدهب مع المنطقة المحورية حتي الان \\nتابعوني على قناتي\\nhttps://t.co/…', 'Timestamp': datetime.datetime(2022, 2, 18, 5, 27, 36, tzinfo=datetime.timezone.utc)}, {'Tweet': 'RT @bdfx10: 【#FXのすゝめ2022】\\n先出し詐欺師は派手なロット数と金額でドヤ顔します。騙されないで！\\n\\n#fx は金額が重要なのではありません。どの場所でポジションを持つのかが重要\\n\\n勝つトレードを求めてはいけない。負けないトレードこそが至高。\\n\\nこれが #たけ…', 'Timestamp': datetime.datetime(2022, 2, 18, 5, 27, 26, tzinfo=datetime.timezone.utc)}, {'Tweet': 'RT @malak200a: #تداول #فوركس #تحليل #الدهب\\n#forextrader #gold #XAUUSD \\nبعد انتهاء شمعه امس ياتري شايف ايه لشمعه اليوم بامر الله \\nاعتقد ان ش…', 'Timestamp': datetime.datetime(2022, 2, 18, 5, 27, 21, tzinfo=datetime.timezone.utc)}, {'Tweet': 'RT @malak200a: #تداول #فوركس #تحليل #الدهب \\n#forextrader #gold #XAUUSD \\nتوقف عند البيفوت اليومي 1859  حتي الان  \\nتابعوني على قناتي\\nhttps://…', 'Timestamp': datetime.datetime(2022, 2, 18, 5, 27, 17, tzinfo=datetime.timezone.utc)}, {'Tweet': 'RT @malak200a: #تداول #فوركس #تحليل #الدهب \\n#forextrader #gold #XAUUSD \\nكما يظهر امامكم لم يكمل حركته واكتف بالوقف عند البيفوت اليومي 1859…', 'Timestamp': datetime.datetime(2022, 2, 18, 5, 27, 13, tzinfo=datetime.timezone.utc)}, {'Tweet': 'RT @malak200a: #تداول #فوركس #تحليل #الدهب \\n#forextrader #gold #XAUUSD \\nدي تخيل للحركة في حاله فشل في اخترق البيفوت اليومي  هينزل يفعل الوت…', 'Timestamp': datetime.datetime(2022, 2, 18, 5, 27, 9, tzinfo=datetime.timezone.utc)}, {'Tweet': 'RT @malak200a: #تداول #فوركس #تحليل #الدهب\\n#forextrader #gold #XAUUSD\\nمبروك ١٨٧٠ بفضل الله\\nوتكون استفدت من اللايف أرقام الخبر  القادم\\nتابعو…', 'Timestamp': datetime.datetime(2022, 2, 18, 5, 26, 58, tzinfo=datetime.timezone.utc)}, {'Tweet': 'RT @malak200a: #تداول #فوركس #تحليل #الدهب\\n#forextrader #gold #XAUUSD\\nنتود بتوقع اخر ناجح علي فواتي ويصتد الدهب ١٨٧٢\\nيارب ابعد عني الناس ال…', 'Timestamp': datetime.datetime(2022, 2, 18, 5, 26, 54, tzinfo=datetime.timezone.utc)}, {'Tweet': 'RT @malak200a: #تداول #فوركس #تحليل #الدهب \\n#forextrader #gold #XAUUSD \\nبيفوت يومي واسبوعي وشهري علي الاكسيل والشارت \\nاليوم نبدا فوق محورية…', 'Timestamp': datetime.datetime(2022, 2, 18, 5, 26, 45, tzinfo=datetime.timezone.utc)}, {'Tweet': 'RT @malak200a: #تداول #فوركس #تحليل #الدهب\\n#forextrader #gold #XAUUSD \\nنعود من جديد الي 1877 بعد اثبات قوة المنطقة الزرقاء  ومستوي 1850 الذ…', 'Timestamp': datetime.datetime(2022, 2, 18, 5, 26, 27, tzinfo=datetime.timezone.utc)}, {'Tweet': 'RT @malak200a: #تداول #فوركس #تحليل #الدهب \\n#forextrader #gold #XAUUSD \\nبفضل الله دي النموذج بتاعني الا تحركنا عليه ووصل عند الدائره ولما ق…', 'Timestamp': datetime.datetime(2022, 2, 18, 5, 26, 21, tzinfo=datetime.timezone.utc)}, {'Tweet': 'RT @malak200a: #تداول #فوركس #تحليل #الدهب #الدولار\\n#forextrader #gold #XAUUSD #DXY \\nالدهب والدولار  ووضع شموع اليوم مع التوبي حتي الان\\n\\nيا…', 'Timestamp': datetime.datetime(2022, 2, 18, 5, 26, 17, tzinfo=datetime.timezone.utc)}, {'Tweet': 'RT @malak200a: #تداول #فوركس #تحليل #الدهب #الدولار\\n#forextrader #gold #XAUUSD #DXY \\nمع #استراتيجية_توبي  علي الدهب والدولار  اهم شي المستو…', 'Timestamp': datetime.datetime(2022, 2, 18, 5, 25, 41, tzinfo=datetime.timezone.utc)}, {'Tweet': 'RT @malak200a: #تداول #فوركس #تحليل #الدهب \\n#forextrader #gold #XAUUSD \\nالدهب مع المنطقة المحورية حتي الان \\n\\n يوضح ليكم لماذا حتي الان لم ن…', 'Timestamp': datetime.datetime(2022, 2, 18, 5, 25, 26, tzinfo=datetime.timezone.utc)}, {'Tweet': 'RT @malak200a: #تداول #فوركس #تحليل #الدهب #الدولار\\n#forextrader #gold #XAUUSD #DXY \\nمع #استراتيجية_توبي  علي الدهب\\nقبل وبعد والدهب 1890 بف…', 'Timestamp': datetime.datetime(2022, 2, 18, 5, 25, 21, tzinfo=datetime.timezone.utc)}, {'Tweet': 'RT @malak200a: #تداول #فوركس #تحليل #الدهب #الدولار\\n#forextrader #gold #XAUUSD #DXY \\nبفضل الله قبل وبعد صفقتنا علي القناه يوم 14/2 واليوم ت…', 'Timestamp': datetime.datetime(2022, 2, 18, 5, 25, 17, tzinfo=datetime.timezone.utc)}, {'Tweet': '#Gold #XAUUSD ⬆️ https://t.co/0d0wxtgpsl', 'Timestamp': datetime.datetime(2022, 2, 18, 5, 24, 14, tzinfo=datetime.timezone.utc)}, {'Tweet': 'RT @FXstreetNews: Gold Price Forecast: XAU/USD corrects from multi-month high, downside seems limited By @HareshMenghani https://t.co/GRqBs…', 'Timestamp': datetime.datetime(2022, 2, 18, 5, 22, 59, tzinfo=datetime.timezone.utc)}, {'Tweet': 'RT @FXstreetNews: Gold Price Forecast: XAU/USD corrects from multi-month high, downside seems limited By @HareshMenghani https://t.co/GRqBs…', 'Timestamp': datetime.datetime(2022, 2, 18, 5, 22, 57, tzinfo=datetime.timezone.utc)}, {'Tweet': 'Gold Price Forecast: XAU/USD corrects from multi-month high, downside seems limited By @HareshMenghani… https://t.co/e4EharapCp', 'Timestamp': datetime.datetime(2022, 2, 18, 5, 22, 31, tzinfo=datetime.timezone.utc)}, {'Tweet': '日足ボリバンミドル超えたらトレンド転換\\nhttps://t.co/d4y5pKtbh3\\n\\n#FX #FOREX #BTC #Crypto #GOLD #XAUUSD #LN #XRP #ETH #NFT #altcoin', 'Timestamp': datetime.datetime(2022, 2, 18, 5, 22, tzinfo=datetime.timezone.utc)}, {'Tweet': 'RT @jfhksar88: #GOLD CFDs $XAUUSD catching its breath after clearing the November high 1877 and hitting a HOD of 1902. RSI 15MIN oversold.…', 'Timestamp': datetime.datetime(2022, 2, 18, 5, 17, 48, tzinfo=datetime.timezone.utc)}, {'Tweet': \"RT @Hi_xauusd: The short-term trend is not very ideal, and it is very likely to go back and step on the 1830 line. Gold's sharp decline and…\", 'Timestamp': datetime.datetime(2022, 2, 18, 5, 15, 42, tzinfo=datetime.timezone.utc)}, {'Tweet': 'RT @Quet__Mkalawa: Sold gold Tp 1830 #gold #XAUUSD https://t.co/5l7jhKeghH', 'Timestamp': datetime.datetime(2022, 2, 18, 5, 15, 35, tzinfo=datetime.timezone.utc)}, {'Tweet': 'RT @Djrtrading: #GOLD #XAUUSD \\n1) If price is naturally going higher, price will close above 1880 and test 1920. Price will not sell off on…', 'Timestamp': datetime.datetime(2022, 2, 18, 5, 15, 27, tzinfo=datetime.timezone.utc)}, {'Tweet': \"RT @ChartSpartan: There it is, $1900 #gold... \\n\\nThat's enough excitement for today 🍷\\n\\n#XAUUSD https://t.co/D6QgdGGbkU\", 'Timestamp': datetime.datetime(2022, 2, 18, 5, 15, 21, tzinfo=datetime.timezone.utc)}, {'Tweet': \"RT @Linda_XAUUSD: #Gold fell to 1852 to rise\\nIf you follow my first set of signals to buy #gold\\nHaven't had time to close the position yet,…\", 'Timestamp': datetime.datetime(2022, 2, 18, 5, 15, 18, tzinfo=datetime.timezone.utc)}, {'Tweet': 'RT @FX_Candice: Spot #Gold Price 1885 sell\\nTake Profit Position 1880-1881\\nStop Loss Position 1890-1891\\nFor details, you can add my WHASTAPP…', 'Timestamp': datetime.datetime(2022, 2, 18, 5, 15, 1, tzinfo=datetime.timezone.utc)}, {'Tweet': 'RT @Linda_XAUUSD: 1877 Double Top Resistance\\n#Gold should pull back in 1877\\n#XAUUSD https://t.co/LdnhUxXiCP', 'Timestamp': datetime.datetime(2022, 2, 18, 5, 14, 59, tzinfo=datetime.timezone.utc)}, {'Tweet': 'RT @ddubrovskyFX: (Briefing)\\n\\nGold Outlook: Prices Cool Amid Prospects of US-Russia Meeting on Ukraine Next Week\\n\\n#Gold #XAUUSD #UkraineCon…', 'Timestamp': datetime.datetime(2022, 2, 18, 5, 13, 49, tzinfo=datetime.timezone.utc)}, {'Tweet': '#XAUUSD: Short-term pressure level 1900, short-term support level 1890, if #gold breaks through 1900, it continues… https://t.co/OHwun8OKh2', 'Timestamp': datetime.datetime(2022, 2, 18, 5, 13, 3, tzinfo=datetime.timezone.utc)}, {'Tweet': 'RT @jayi_wang: 22-7-1/ $Gold #Gold\\n$XAU $XAUUSD #XAUUSD\\nMON FEB 14, 2022 \\nC: $1,871.30 (+12.62/+0.68%)\\n52wk range :\\n1,672.80~1,919.20\\n52wks…', 'Timestamp': datetime.datetime(2022, 2, 18, 5, 12, 37, tzinfo=datetime.timezone.utc)}, {'Tweet': 'RT @jayi_wang: 22-7-2/ $Gold #Gold\\n$XAU $XAUUSD #XAUUSD\\nTUE FEB 15, 2022\\nC: $1,854.10 (-17.20/-0.92%)\\n52wk range :\\n1,672.80~1,919.20\\n52wks…', 'Timestamp': datetime.datetime(2022, 2, 18, 5, 12, 19, tzinfo=datetime.timezone.utc)}, {'Tweet': 'RT @jayi_wang: 22-7-3/ $Gold #Gold\\n$XAU $XAUUSD #XAUUSD\\nWED FEB 16, 2022\\nC: $1,808.00 (-46.11/-2.49%)\\n52wk range :\\n1,672.80~1,919.20 \\nhttps…', 'Timestamp': datetime.datetime(2022, 2, 18, 5, 12, 7, tzinfo=datetime.timezone.utc)}, {'Tweet': '#JIASBOT\\n#JIASGOLD\\n\\n8th order in #Gold booked profit of 6.58%.\\n\\nNet profit: 15.52%\\n\\nSell executed.\\n\\n#Mcx #bullion… https://t.co/VMFYkydWTQ', 'Timestamp': datetime.datetime(2022, 2, 18, 5, 8, 38, tzinfo=datetime.timezone.utc)}, {'Tweet': 'RT @Professoroffx: Güne yine #Professor farkıyla mükemmel başlıyoruz. 🔥\\n\\n💰 2.375 $ • 32.344 ₺\\n\\nİşlem kanalımızda işleme dahil olup kazanç s…', 'Timestamp': datetime.datetime(2022, 2, 18, 5, 4, tzinfo=datetime.timezone.utc)}, {'Tweet': 'Gold is $1889.17/ozt @ 05:00 UTC.\\n\\n24H change: +$16.58 (+0.89%)\\n30D change: +$71.99 (+3.96%)\\n\\n#GOLD $XAU $XAUUSD', 'Timestamp': datetime.datetime(2022, 2, 18, 5, 0, 6, tzinfo=datetime.timezone.utc)}, {'Tweet': 'If the price of #gold cannot break through 1892 in the European market time\\nTo make money, you can close the positi… https://t.co/tdFGhvPQsT', 'Timestamp': datetime.datetime(2022, 2, 18, 5, 0, 4, tzinfo=datetime.timezone.utc)}, {'Tweet': 'RT @ddubrovskyFX: (Briefing)\\n\\nGold Outlook: Prices Cool Amid Prospects of US-Russia Meeting on Ukraine Next Week\\n\\n#Gold #XAUUSD #UkraineCon…', 'Timestamp': datetime.datetime(2022, 2, 18, 5, 0, 3, tzinfo=datetime.timezone.utc)}, {'Tweet': '#GOLD BUY 1888-1890\\nTP1 1893\\nTP2 1895\\nTP3 1898\\nTP4 1900\\nSL   1874\\n\\n#forextrading #xauusd #RussiaUkraineCrisis… https://t.co/0CRQOeRlX3', 'Timestamp': datetime.datetime(2022, 2, 18, 4, 56, 56, tzinfo=datetime.timezone.utc)}, {'Tweet': 'RT @bdfx10: 【#FXのすゝめ2022】\\n\\n引用元ツイートの話。\\n\\n自分がわかるところだけに集中するんです。それだけでいい。\\n\\n１枚目：目指すポイント\\n２枚目：実際のチャート\\n３枚目：結果\\n\\n添付写真の通り1858で下落はとりあえず反発して止まってる。今現在は。\\n\\n#…', 'Timestamp': datetime.datetime(2022, 2, 18, 4, 56, 49, tzinfo=datetime.timezone.utc)}, {'Tweet': 'RT @bdfx10: 【#FXのすゝめ2022】\\n先出し詐欺師は派手なロット数と金額でドヤ顔します。騙されないで！\\n\\n#fx は金額が重要なのではありません。どの場所でポジションを持つのかが重要\\n\\n勝つトレードを求めてはいけない。負けないトレードこそが至高。\\n\\nこれが #たけ…', 'Timestamp': datetime.datetime(2022, 2, 18, 4, 46, 8, tzinfo=datetime.timezone.utc)}, {'Tweet': 'リベンジャーズ2\\n#fx #ゴールド #Gold #トレード #XAUUSD #為替 #10万円チャレンジ #金 #exness #海外FX #パチンコ #ビットコイン #ExnessJ #エクスネス https://t.co/GqhkSnQUDT', 'Timestamp': datetime.datetime(2022, 2, 18, 4, 46, 7, tzinfo=datetime.timezone.utc)}, {'Tweet': '暴落くるかも？\\n\\n#XAU #xau #xauusd\\n #XAUUSD #GOLD #ゴールド\\u3000\\u3000\\u3000\\n #FX #ジョージの分析 https://t.co/N6qVkO9Xd1', 'Timestamp': datetime.datetime(2022, 2, 18, 4, 43, 3, tzinfo=datetime.timezone.utc)}, {'Tweet': '*BOOK PROFIT IN GOLD AT  1900(+70 PIPS)*\\n\\nhttps://t.co/mlK8qU6qYS\\n\\n#Gold #xauusd https://t.co/cONUZwYwDp', 'Timestamp': datetime.datetime(2022, 2, 18, 4, 40, 57, tzinfo=datetime.timezone.utc)}, {'Tweet': \"#XauUsd 🚫 #Gold 🚫 #Metal\\n.\\nDon't buy or sell \\nWithout my given buy or sell area \\nOtherwise you will be stuck\\n.\\nBuy… https://t.co/pmFjjV7hYh\", 'Timestamp': datetime.datetime(2022, 2, 18, 4, 38, 25, tzinfo=datetime.timezone.utc)}, {'Tweet': 'Günaydın #ons 1900 üstünü test etti kırarsa ilk durak 2000 olarak düşünüyorum sonrasına sonra bakacağız :) #altın #gold #XAUUSD', 'Timestamp': datetime.datetime(2022, 2, 18, 4, 35, 17, tzinfo=datetime.timezone.utc)}, {'Tweet': 'RT @ddubrovskyFX: (Briefing)\\n\\nGold Outlook: Prices Cool Amid Prospects of US-Russia Meeting on Ukraine Next Week\\n\\n#Gold #XAUUSD #UkraineCon…', 'Timestamp': datetime.datetime(2022, 2, 18, 4, 34, 56, tzinfo=datetime.timezone.utc)}, {'Tweet': 'RT @bdfx10: 【#FXのすゝめ2022】\\n先出し詐欺師は派手なロット数と金額でドヤ顔します。騙されないで！\\n\\n#fx は金額が重要なのではありません。どの場所でポジションを持つのかが重要\\n\\n勝つトレードを求めてはいけない。負けないトレードこそが至高。\\n\\nこれが #たけ…', 'Timestamp': datetime.datetime(2022, 2, 18, 4, 34, 52, tzinfo=datetime.timezone.utc)}, {'Tweet': 'RT @niki_poojary: Haye Chaka Chak Chaka Chak Hai Tu✨✨✨\\n\\n#XAUUSD #GOLD \\nTwo tgts mentioned on the chart https://t.co/2HgD6dxAHx', 'Timestamp': datetime.datetime(2022, 2, 18, 4, 28, 54, tzinfo=datetime.timezone.utc)}, {'Tweet': 'RT @niki_poojary: Haye Chaka Chak Chaka Chak Hai Tu✨✨✨\\n\\n#XAUUSD #GOLD \\nTwo tgts mentioned on the chart https://t.co/2HgD6dxAHx', 'Timestamp': datetime.datetime(2022, 2, 18, 4, 26, 9, tzinfo=datetime.timezone.utc)}, {'Tweet': '分足や時間足では使えなかったテクカルも日足だとつかえるかもよ。\\nhttps://t.co/uA7MDIMtJL\\n\\n#FX #FOREX #BTC #Crypto #GOLD #XAUUSD #LN #XRP #ETH #NFT #altcoin', 'Timestamp': datetime.datetime(2022, 2, 18, 4, 22, tzinfo=datetime.timezone.utc)}, {'Tweet': 'Haye Chaka Chak Chaka Chak Hai Tu✨✨✨\\n\\n#XAUUSD #GOLD \\nTwo tgts mentioned on the chart https://t.co/6kgMf5MGmD https://t.co/2HgD6dxAHx', 'Timestamp': datetime.datetime(2022, 2, 18, 4, 21, 27, tzinfo=datetime.timezone.utc)}, {'Tweet': 'I’d be careful being long $gold here. #gold is notorious for fake breakouts. Volume has been abysmal on $gc_f and… https://t.co/MXhm6dOoHo', 'Timestamp': datetime.datetime(2022, 2, 18, 4, 19, 27, tzinfo=datetime.timezone.utc)}, {'Tweet': '#XAUUSD #gold looks more like a super weak bounce for a next leg down. 1878 EOD? https://t.co/TE2dSsuXnr', 'Timestamp': datetime.datetime(2022, 2, 18, 4, 12, 47, tzinfo=datetime.timezone.utc)}, {'Tweet': 'Gold Price Forecast: XAU/USD remains a ‘buy the dip’ trade, diplomacy talks eyed https://t.co/AYnVCdNd1P #Gold… https://t.co/U7VwBY0KUH', 'Timestamp': datetime.datetime(2022, 2, 18, 4, 0, 33, tzinfo=datetime.timezone.utc)}, {'Tweet': 'Gold is $1891.05/ozt @ 04:00 UTC.\\n\\n24H change: +$22.98 (+1.23%)\\n30D change: +$73.10 (+4.02%)\\n\\n#GOLD $XAU $XAUUSD', 'Timestamp': datetime.datetime(2022, 2, 18, 4, 0, 6, tzinfo=datetime.timezone.utc)}, {'Tweet': 'As markets fear an escalation of tensions between Russia and Ukraine, after President Joe Biden warned that the pos… https://t.co/FyOwdQqU0Y', 'Timestamp': datetime.datetime(2022, 2, 18, 3, 56, 56, tzinfo=datetime.timezone.utc)}, {'Tweet': 'RT @th_tradingview: #GOLD - xauusd โดยอาจารย์ตุลย์ - TradingView - https://t.co/RLpclgNPe2', 'Timestamp': datetime.datetime(2022, 2, 18, 3, 56, 33, tzinfo=datetime.timezone.utc)}, {'Tweet': '#GOLD CFDs $XAUUSD catching its breath after clearing the November high 1877 and hitting a HOD of 1902. RSI 15MIN o… https://t.co/SZgOrgBfL9', 'Timestamp': datetime.datetime(2022, 2, 18, 3, 56, 4, tzinfo=datetime.timezone.utc)}, {'Tweet': 'RT @bdfx10: 【#FXのすゝめ2022】\\n先出し詐欺師は派手なロット数と金額でドヤ顔します。騙されないで！\\n\\n#fx は金額が重要なのではありません。どの場所でポジションを持つのかが重要\\n\\n勝つトレードを求めてはいけない。負けないトレードこそが至高。\\n\\nこれが #たけ…', 'Timestamp': datetime.datetime(2022, 2, 18, 3, 55, 26, tzinfo=datetime.timezone.utc)}, {'Tweet': '$GOLD $XAUUSD #GOLD #XAUUSD \\n\\nGold update:\\nSpot: 1891\\n\\n4 Hour time frame target was 1900. Which was hit yesterday.… https://t.co/2frK8GRcAa', 'Timestamp': datetime.datetime(2022, 2, 18, 3, 53, 15, tzinfo=datetime.timezone.utc)}, {'Tweet': '1902.32 ✅\\nTurn on notifications.\\n#XAUUSD #GOLD #gold $gold $xauusd $XAUUSD $GOLD', 'Timestamp': datetime.datetime(2022, 2, 18, 3, 53, 11, tzinfo=datetime.timezone.utc)}, {'Tweet': 'RT @GoldcryptoVirus: #XauUsd 🚫 #Gold 🚫 #Metal\\n.\\nBuy Area (1879-1882)\\nStop loss =&gt; 20 pips 1877\\nTarget 1.     1902\\nTarget 2.     1906\\nTarget…', 'Timestamp': datetime.datetime(2022, 2, 18, 3, 52, tzinfo=datetime.timezone.utc)}, {'Tweet': 'RT @FX_Candice: Spot #Gold Price 1885 sell\\nTake Profit Position 1880-1881\\nStop Loss Position 1890-1891\\nFor details, you can add my WHASTAPP…', 'Timestamp': datetime.datetime(2022, 2, 18, 3, 51, 32, tzinfo=datetime.timezone.utc)}, {'Tweet': '#Gold off weekly highs resistance seen at $1900.50\\n\\n#xauusd #trading https://t.co/xr4cra9nLC', 'Timestamp': datetime.datetime(2022, 2, 18, 3, 46, 49, tzinfo=datetime.timezone.utc)}, {'Tweet': 'In #buy #long #XAUUSD #GOLD #ハイレバ #海外口座 https://t.co/zAA8QASILK', 'Timestamp': datetime.datetime(2022, 2, 18, 3, 44, 29, tzinfo=datetime.timezone.utc)}, {'Tweet': 'RT @bdfx10: 【#FXのすゝめ2022】\\n先出し詐欺師は派手なロット数と金額でドヤ顔します。騙されないで！\\n\\n#fx は金額が重要なのではありません。どの場所でポジションを持つのかが重要\\n\\n勝つトレードを求めてはいけない。負けないトレードこそが至高。\\n\\nこれが #たけ…', 'Timestamp': datetime.datetime(2022, 2, 18, 3, 42, 45, tzinfo=datetime.timezone.utc)}, {'Tweet': 'RT @ddubrovskyFX: (Briefing)\\n\\nGold Outlook: Prices Cool Amid Prospects of US-Russia Meeting on Ukraine Next Week\\n\\n#Gold #XAUUSD #UkraineCon…', 'Timestamp': datetime.datetime(2022, 2, 18, 3, 40, 46, tzinfo=datetime.timezone.utc)}, {'Tweet': '#GC #GOLD #XAUUSD  englobante 4h sur futures sous  résistance mineure petite correction a prévoir, à suivre…. https://t.co/6P86UBbR7V', 'Timestamp': datetime.datetime(2022, 2, 18, 3, 30, 42, tzinfo=datetime.timezone.utc)}, {'Tweet': '#gold #rsistudy #eurusd #forex #gold #xauusd - BO of ND &amp; Hidden Widening Pattern done on Daily\\n#sharemarket… https://t.co/VKkg0Gfbpf', 'Timestamp': datetime.datetime(2022, 2, 18, 3, 30, 38, tzinfo=datetime.timezone.utc)}, {'Tweet': 'RT @GoldcryptoVirus: #XauUsd 🚫 #Gold 🚫 #Metal\\n.\\nReceived New Account for \\nAccount management 🙂\\n.\\nPlease 🙏 I request you to use \\nProper Risk…', 'Timestamp': datetime.datetime(2022, 2, 18, 3, 30, 5, tzinfo=datetime.timezone.utc)}, {'Tweet': 'RT @ddubrovskyFX: (Briefing)\\n\\nGold Outlook: Prices Cool Amid Prospects of US-Russia Meeting on Ukraine Next Week\\n\\n#Gold #XAUUSD #UkraineCon…', 'Timestamp': datetime.datetime(2022, 2, 18, 3, 28, 32, tzinfo=datetime.timezone.utc)}, {'Tweet': 'RT @ddubrovskyFX: (Briefing)\\n\\nGold Outlook: Prices Cool Amid Prospects of US-Russia Meeting on Ukraine Next Week\\n\\n#Gold #XAUUSD #UkraineCon…', 'Timestamp': datetime.datetime(2022, 2, 18, 3, 27, 49, tzinfo=datetime.timezone.utc)}, {'Tweet': '(Briefing)\\n\\nGold Outlook: Prices Cool Amid Prospects of US-Russia Meeting on Ukraine Next Week\\n\\n#Gold #XAUUSD… https://t.co/LDOaqX9cZ8', 'Timestamp': datetime.datetime(2022, 2, 18, 3, 27, 42, tzinfo=datetime.timezone.utc)}, {'Tweet': 'RT @yutaFxbinary101: ゴールド1時間足。これ抜けた方について行くかな。高値更新してるから、上目線👆でも、しばらく1890あたりでうろうろしそう。上抜けたら、1903目指す感じかな\\n\\n#ゴールド #GOLD #XAUUSD #FX https://t.co/u…', 'Timestamp': datetime.datetime(2022, 2, 18, 3, 24, 6, tzinfo=datetime.timezone.utc)}, {'Tweet': '【おおざっぱに】\\n\\n今の値動きは\\n不規則性満載なので、\\n\\n週末の分析動画作成時に\\n細かい時間足は見ますが、\\n\\n日足か4時間足規模でのざっくり把握で\\nいったんは良さそうです。\\n\\nそもそもエントリーを勧めませんが、\\nやるなら「「「損切… https://t.co/MQH9J6F7Yj', 'Timestamp': datetime.datetime(2022, 2, 18, 3, 21, 24, tzinfo=datetime.timezone.utc)}, {'Tweet': 'BOT by DownTrend BTCUSD M5 at 40648\\nFebruary 18, 2022 at 12:20PM\\n\\n#GOLD #BTCUSD #ゴールド #ビットコイン #XAUUSD #Bitcoin', 'Timestamp': datetime.datetime(2022, 2, 18, 3, 20, 7, tzinfo=datetime.timezone.utc)}, {'Tweet': '#GOLD - xauusd โดยอาจารย์ตุลย์ - TradingView - https://t.co/RLpclgNPe2', 'Timestamp': datetime.datetime(2022, 2, 18, 3, 20, tzinfo=datetime.timezone.utc)}, {'Tweet': 'RT @Century_Fin: #Inflationary concerns could build up further and benefit the #metal if energy #prices keep rising due to #geopolitical st…', 'Timestamp': datetime.datetime(2022, 2, 18, 3, 19, 35, tzinfo=datetime.timezone.utc)}, {'Tweet': 'RT @Century_Fin: If global #tensions ease, attention may return to central banks, but with bond rates still hovering near multiyear highs,…', 'Timestamp': datetime.datetime(2022, 2, 18, 3, 19, 29, tzinfo=datetime.timezone.utc)}, {'Tweet': 'Sniper entry . #Gold #XAUUSD\\nWow. Good morning profit.... https://t.co/gi2kJ31KUF', 'Timestamp': datetime.datetime(2022, 2, 18, 3, 15, 6, tzinfo=datetime.timezone.utc)}, {'Tweet': 'RT @bdfx10: 【#FXのすゝめ2022】\\n先出し詐欺師は派手なロット数と金額でドヤ顔します。騙されないで！\\n\\n#fx は金額が重要なのではありません。どの場所でポジションを持つのかが重要\\n\\n勝つトレードを求めてはいけない。負けないトレードこそが至高。\\n\\nこれが #たけ…', 'Timestamp': datetime.datetime(2022, 2, 18, 3, 15, 1, tzinfo=datetime.timezone.utc)}, {'Tweet': 'ゴールドは一旦調整に入ったと見て1901よりショートを持ちました。\\nドル円と逆相関するなら大きく下落もあるかなと思ってます😁\\n #FX\\n #XAUUSD  #GOLD', 'Timestamp': datetime.datetime(2022, 2, 18, 3, 13, 41, tzinfo=datetime.timezone.utc)}, {'Tweet': 'Closed, the frames are out of harmony #XAUUSD #GOLD #ハイレバ #海外口座 https://t.co/BrTeLsoEHO', 'Timestamp': datetime.datetime(2022, 2, 18, 3, 12, 47, tzinfo=datetime.timezone.utc)}, {'Tweet': '４時間足で確率８割超のプライスアクションパターン５つ紹介するよ\\nhttps://t.co/2NaMfqUgqX\\n\\n#FX #FOREX #BTC #Crypto #GOLD #XAUUSD #LN #XRP #ETH #NFT #altcoin', 'Timestamp': datetime.datetime(2022, 2, 18, 3, 10, tzinfo=datetime.timezone.utc)}, {'Tweet': '#Gold (#XAUUSD) - If current #momentum is maintained, may test the mentioned levels. It also appears to be relative… https://t.co/IwQfN2mSYn', 'Timestamp': datetime.datetime(2022, 2, 18, 3, 9, 40, tzinfo=datetime.timezone.utc)}, {'Tweet': 'RT @bdfx10: 【#FXのすゝめ2022】\\n先出し詐欺師は派手なロット数と金額でドヤ顔します。騙されないで！\\n\\n#fx は金額が重要なのではありません。どの場所でポジションを持つのかが重要\\n\\n勝つトレードを求めてはいけない。負けないトレードこそが至高。\\n\\nこれが #たけ…', 'Timestamp': datetime.datetime(2022, 2, 18, 3, 8, 47, tzinfo=datetime.timezone.utc)}, {'Tweet': '【FX先出し配信スタートしました】\\n\\nFX初心者の方でも簡単に高勝率トレードができます。\\n裁量の勉強にもオススメです！\\n有料級の先出し配信をなんと無料でご案内できます。\\n興味のある方はお気軽にDMください！\\n\\n#先出し配信 #ゴールド #GOLD #XAUUSD', 'Timestamp': datetime.datetime(2022, 2, 18, 3, 8, 6, tzinfo=datetime.timezone.utc)}, {'Tweet': 'RT @bdfx10: 【#FXのすゝめ2022】\\n先出し詐欺師は派手なロット数と金額でドヤ顔します。騙されないで！\\n\\n#fx は金額が重要なのではありません。どの場所でポジションを持つのかが重要\\n\\n勝つトレードを求めてはいけない。負けないトレードこそが至高。\\n\\nこれが #たけ…', 'Timestamp': datetime.datetime(2022, 2, 18, 3, 5, 44, tzinfo=datetime.timezone.utc)}, {'Tweet': 'BOT by UpTrend GOLD M5 at 1891.27\\nFebruary 18, 2022 at 12:05PM\\n\\n#GOLD #BTCUSD #ゴールド #ビットコイン #XAUUSD #Bitcoin', 'Timestamp': datetime.datetime(2022, 2, 18, 3, 5, 8, tzinfo=datetime.timezone.utc)}, {'Tweet': 'Gold is $1889.69/ozt @ 03:00 UTC.\\n\\n24H change: +$21.13 (+1.13%)\\n30D change: +$69.42 (+3.81%)\\n\\n#GOLD $XAU $XAUUSD', 'Timestamp': datetime.datetime(2022, 2, 18, 3, 0, 7, tzinfo=datetime.timezone.utc)}, {'Tweet': '#Gold #ONS #Silver #XAUUSD https://t.co/C4ADorFNhg https://t.co/UhOVE3eWVc', 'Timestamp': datetime.datetime(2022, 2, 18, 2, 58, 29, tzinfo=datetime.timezone.utc)}, {'Tweet': 'RT @Linda_XAUUSD: important hint:\\nTo make money, you can choose to close your positions, and it is difficult to distinguish the true and fa…', 'Timestamp': datetime.datetime(2022, 2, 18, 2, 52, 4, tzinfo=datetime.timezone.utc)}, {'Tweet': '#XauUsd 🚫 #Gold 🚫 #Metal\\n.\\nReceived New Account for \\nAccount management 🙂\\n.\\nPlease 🙏 I request you to use \\nProper R… https://t.co/A1T0vAf1H6', 'Timestamp': datetime.datetime(2022, 2, 18, 2, 51, 52, tzinfo=datetime.timezone.utc)}, {'Tweet': 'RT @rma574a: 利確です💕\\n\\n完全に味しめてます！！笑\\nGBPさん@RSI60362673 ︎の\\n手法でエントリーしました⚔️\\n\\nゴールド\\u3000ロング\\n\\n＋81万円\\u3000\\n\\n本当にすごい！！\\nこの手法のいいところは誰でも\\nマネできるところです！！\\n\\nわたしの光剣一閃ライトニン…', 'Timestamp': datetime.datetime(2022, 2, 18, 2, 45, 14, tzinfo=datetime.timezone.utc)}, {'Tweet': 'เมย์รอบายอีกรอบแถว 1880-1878 นะคะ #เทรดทอง #เทรดทองคำ #gold #xauusd', 'Timestamp': datetime.datetime(2022, 2, 18, 2, 45, 13, tzinfo=datetime.timezone.utc)}, {'Tweet': '#XauUsd 🚫 #Gold 🚫 #Metal\\n.\\nClosed My 50 percent positions\\nAt 1890....\\n50 positions are left for targets\\nAnd SL to E… https://t.co/r1I0iAzE1O', 'Timestamp': datetime.datetime(2022, 2, 18, 2, 44, 25, tzinfo=datetime.timezone.utc)}, {'Tweet': 'The U.S. Senate passed a pro-Kiev resolution Thursday night and urged President Biden to make Russia \"pay a huge pr… https://t.co/DhwUti1Xp3', 'Timestamp': datetime.datetime(2022, 2, 18, 2, 40, 54, tzinfo=datetime.timezone.utc)}, {'Tweet': 'important hint:\\nTo make money, you can choose to close your positions, and it is difficult to distinguish the true… https://t.co/EdWh0hKGU4', 'Timestamp': datetime.datetime(2022, 2, 18, 2, 40, 35, tzinfo=datetime.timezone.utc)}, {'Tweet': '$XAUUSD #GOLD - 15 min.: La forte baisse à court terme sur GOLD - USD devrait permettre rapidement à la tendance de… https://t.co/mxfveZhrcd', 'Timestamp': datetime.datetime(2022, 2, 18, 2, 38, 32, tzinfo=datetime.timezone.utc)}, {'Tweet': '$XAUUSD #GOLD - 15 min.: La forte baisse à court terme sur GOLD - USD devrait permettre rapidement à la tendance de… https://t.co/vECKnfrw10', 'Timestamp': datetime.datetime(2022, 2, 18, 2, 38, 31, tzinfo=datetime.timezone.utc)}, {'Tweet': '#XauUsd 🚫 #Gold 🚫 #Metal\\n.\\nBuy Area (1879-1882)\\nStop loss =&gt; 20 pips 1877\\nTarget 1.     1902\\nTarget 2.     1906\\nTar… https://t.co/JtzANnv3fc', 'Timestamp': datetime.datetime(2022, 2, 18, 2, 35, 30, tzinfo=datetime.timezone.utc)}, {'Tweet': 'RT @GoldcryptoVirus: #XauUsd 🚫 #Gold 🚫 #Metal\\n.\\nFour Days Result is given below\\nSo far.\\n.\\nMonday =&gt; 80 pips ✅ profit\\nTuesday =&gt; 320 pips ✅…', 'Timestamp': datetime.datetime(2022, 2, 18, 2, 32, 54, tzinfo=datetime.timezone.utc)}, {'Tweet': 'RT @bdfx10: 【#FXのすゝめ2022】\\n先出し詐欺師は派手なロット数と金額でドヤ顔します。騙されないで！\\n\\n#fx は金額が重要なのではありません。どの場所でポジションを持つのかが重要\\n\\n勝つトレードを求めてはいけない。負けないトレードこそが至高。\\n\\nこれが #たけ…', 'Timestamp': datetime.datetime(2022, 2, 18, 2, 31, 58, tzinfo=datetime.timezone.utc)}, {'Tweet': 'おはようございます！\\n本日は重要指標なし！ですがロシアウクライナ情勢の悪化により昨日から相場の荒れ模様もピーク。\\n東京時間にも関わらず先ほども一時期1900超えてからの100pipsの下落、1900からは次のシナリオが意識されます… https://t.co/SIvffFveKg', 'Timestamp': datetime.datetime(2022, 2, 18, 2, 31, 55, tzinfo=datetime.timezone.utc)}, {'Tweet': 'All tp smashed who who have sell from 1900 to 1902, it drops to 1890.\\nhttps://t.co/zLyYH0JnmG\\n#XAUUSD #gold https://t.co/mjmGKwbzbo', 'Timestamp': datetime.datetime(2022, 2, 18, 2, 30, 32, tzinfo=datetime.timezone.utc)}, {'Tweet': '#XauUsd 🚫 #Gold 🚫 #Metal\\n.\\nFour Days Result is given below\\nSo far.\\n.\\nMonday =&gt; 80 pips ✅ profit\\nTuesday =&gt; 320 pips… https://t.co/8mu8FCq8RK', 'Timestamp': datetime.datetime(2022, 2, 18, 2, 30, 27, tzinfo=datetime.timezone.utc)}, {'Tweet': 'RT @Linda_XAUUSD: 1. #XAUUSD\\nbuy: 1889-1892\\nTP: 1895-1902-1909-1916\\nSL: 1880-1877\\n  SL can be set according to personal habits\\nIf the #gold…', 'Timestamp': datetime.datetime(2022, 2, 18, 2, 29, 4, tzinfo=datetime.timezone.utc)}, {'Tweet': '#XauUsd 🚫 #Gold 🚫 #Metal\\n.\\nRunning 120 pips ✅ in profit 🙂🙂 https://t.co/IvCSNerLFd', 'Timestamp': datetime.datetime(2022, 2, 18, 2, 28, 5, tzinfo=datetime.timezone.utc)}, {'Tweet': '#XAU\\u30002/18\\n\\nnote更新致しました\\n\\nとりあえず想定どおり更に1903付近までダラ上げしましたね\\n\\nここから折り返しとなるかどうかのチェックポイントなど\\n\\n【週内随時更新】金相場\\u30002/14～ チャート分析\\u3000#gold… https://t.co/VzH7SMCBa3', 'Timestamp': datetime.datetime(2022, 2, 18, 2, 24, 2, tzinfo=datetime.timezone.utc)}, {'Tweet': 'RT @Linda_XAUUSD: 1. #XAUUSD\\nbuy: 1889-1892\\nTP: 1895-1902-1909-1916\\nSL: 1880-1877\\n  SL can be set according to personal habits\\nIf the #gold…', 'Timestamp': datetime.datetime(2022, 2, 18, 2, 21, 30, tzinfo=datetime.timezone.utc)}, {'Tweet': 'i was in perfect timming on this trade again,you can take gain or do same as me,i cut 50% of my posiion and let run… https://t.co/8Pjs8E5Mj1', 'Timestamp': datetime.datetime(2022, 2, 18, 2, 21, 17, tzinfo=datetime.timezone.utc)}, {'Tweet': '#XAUUSD #GOLD https://t.co/L1CJUIhC3f https://t.co/zbQdLhqyqg', 'Timestamp': datetime.datetime(2022, 2, 18, 2, 18, 28, tzinfo=datetime.timezone.utc)}, {'Tweet': 'RT @Professoroffx: Güne yine #Professor farkıyla mükemmel başlıyoruz. 🔥\\n\\n💰 2.375 $ • 32.344 ₺\\n\\nİşlem kanalımızda işleme dahil olup kazanç s…', 'Timestamp': datetime.datetime(2022, 2, 18, 2, 13, 16, tzinfo=datetime.timezone.utc)}, {'Tweet': 'RT @831831organic: オハイオ州立大学🏫\\n#gold #XAUUSD \\nさて、ゴルドーの強さが\\nカオスってますが\\n混沌とした相場でも\\n淡々といきたいdeath😇\\n去年の高値も見えてる事を\\n頭の片隅に、23.6%くらい\\n置いとくつもりです🥷\\n今日も元気に\\nいってき…', 'Timestamp': datetime.datetime(2022, 2, 18, 2, 10, 48, tzinfo=datetime.timezone.utc)}, {'Tweet': '大半が嫌いな逆指し値でエントリーするトレードを身につければよろし\\nhttps://t.co/OqRWl5oLjP\\n\\n#FX #FOREX #BTC #Crypto #GOLD #XAUUSD #LN #XRP #ETH #NFT #altcoin', 'Timestamp': datetime.datetime(2022, 2, 18, 2, 9, tzinfo=datetime.timezone.utc)}, {'Tweet': 'RT @Linda_XAUUSD: 1. #XAUUSD\\nbuy: 1889-1892\\nTP: 1895-1902-1909-1916\\nSL: 1880-1877\\n  SL can be set according to personal habits\\nIf the #gold…', 'Timestamp': datetime.datetime(2022, 2, 18, 2, 1, tzinfo=datetime.timezone.utc)}, {'Tweet': 'BOT by DownTrend GOLD H1 at 1890.2\\nFebruary 18, 2022 at 11:00AM\\n\\n#GOLD #BTCUSD #ゴールド #ビットコイン #XAUUSD #Bitcoin', 'Timestamp': datetime.datetime(2022, 2, 18, 2, 0, 10, tzinfo=datetime.timezone.utc)}, {'Tweet': 'Gold is $1892.30/ozt @ 02:00 UTC.\\n\\n24H change: +$22.75 (+1.22%)\\n30D change: +$71.15 (+3.91%)\\n\\n#GOLD $XAU $XAUUSD', 'Timestamp': datetime.datetime(2022, 2, 18, 2, 0, 6, tzinfo=datetime.timezone.utc)}, {'Tweet': '【#FXのすゝめ2022】\\n先出し詐欺師は派手なロット数と金額でドヤ顔します。騙されないで！\\n\\n#fx は金額が重要なのではありません。どの場所でポジションを持つのかが重要\\n\\n勝つトレードを求めてはいけない。負けないトレードこそが… https://t.co/z3aGJL5eo0', 'Timestamp': datetime.datetime(2022, 2, 18, 2, 0, tzinfo=datetime.timezone.utc)}, {'Tweet': 'In addition #XAUUSD #GOLD #ハイレバ #海外口座 https://t.co/UnqsPaeoFu', 'Timestamp': datetime.datetime(2022, 2, 18, 1, 59, 38, tzinfo=datetime.timezone.utc)}, {'Tweet': '#ゴールド #XAUUSD #GOLD \\n＜経過＞D点到達から反応してるみたい♪\\nウェッジ注意報⇒\\n1902.48から１００PIP落ちてた♪\\n※まだトレンドラインの中にいるけどね🐭✨♬ https://t.co/9AkYytkevG https://t.co/TUHDXHMlaV', 'Timestamp': datetime.datetime(2022, 2, 18, 1, 57, 40, tzinfo=datetime.timezone.utc)}, {'Tweet': 'RT @831831organic: オハイオ州立大学🏫\\n#gold #XAUUSD \\nさて、ゴルドーの強さが\\nカオスってますが\\n混沌とした相場でも\\n淡々といきたいdeath😇\\n去年の高値も見えてる事を\\n頭の片隅に、23.6%くらい\\n置いとくつもりです🥷\\n今日も元気に\\nいってき…', 'Timestamp': datetime.datetime(2022, 2, 18, 1, 54, 52, tzinfo=datetime.timezone.utc)}, {'Tweet': '【ゴールド本日の流れ】\\n\\nおはようございます🌞\\n\\n2022/02/18(金)\\n\\n24:00〜重要指標あり🙆\\u200d♂️\\n\\nウクライナ関連のファンダは落ち着かない事を頭に入れて🤦🏻\\n\\n優位性のあるポジションを心がけよう❗️\\n\\n15いいねあ… https://t.co/TfSQzipZpd', 'Timestamp': datetime.datetime(2022, 2, 18, 1, 54, 43, tzinfo=datetime.timezone.utc)}, {'Tweet': 'analysis #gold (#XAUUSD) 18 \\xa0February 2022 By #ThaiFrx\\n\\nทิศทางและแนวโน้มราคาทองคำ  : วันนี้มีโอกาสพุ่งสู่ 1905\\nเปิด… https://t.co/0XPuHdCjqF', 'Timestamp': datetime.datetime(2022, 2, 18, 1, 51, 53, tzinfo=datetime.timezone.utc)}, {'Tweet': 'RT @th_tradingview: #GOLD - xauusd   เมื่อวานโดนวันนี้  ของขึ้น  น่ะฮะ !!!! - TradingView - https://t.co/uAYtwlWldt', 'Timestamp': datetime.datetime(2022, 2, 18, 1, 51, 32, tzinfo=datetime.timezone.utc)}, {'Tweet': '1. #XAUUSD\\nbuy: 1889-1892\\nTP: 1895-1902-1909-1916\\nSL: 1880-1877\\n  SL can be set according to personal habits\\nIf the… https://t.co/6QBvHRJXwG', 'Timestamp': datetime.datetime(2022, 2, 18, 1, 48, 31, tzinfo=datetime.timezone.utc)}, {'Tweet': 'The price of #gold broke through 1900, the highest rose to 1902,\\nIt is expected that the price of gold will test th… https://t.co/YjAsP5QlVH', 'Timestamp': datetime.datetime(2022, 2, 18, 1, 48, 30, tzinfo=datetime.timezone.utc)}, {'Tweet': '順調にウリ豚が肥えてきました…🦍\\nubereatsの報酬を全ツッパでコツコツ稼ぐ無職のゴリラ。\\n・\\n・\\n・\\n・\\n・\\n#FX初心者 #投資家さんと繋がりたい #投資初心者と繋がりたい #XAUUSD #Gold\\xa0#ubereats https://t.co/BMEflQkqQw', 'Timestamp': datetime.datetime(2022, 2, 18, 1, 48, 26, tzinfo=datetime.timezone.utc)}, {'Tweet': 'オハイオ州立大学🏫\\n#gold #XAUUSD \\nさて、ゴルドーの強さが\\nカオスってますが\\n混沌とした相場でも\\n淡々といきたいdeath😇\\n去年の高値も見えてる事を\\n頭の片隅に、23.6%くらい\\n置いとくつもりです🥷\\n今日も元気に… https://t.co/9Pb9oRpznl', 'Timestamp': datetime.datetime(2022, 2, 18, 1, 44, 5, tzinfo=datetime.timezone.utc)}, {'Tweet': '5000円チャレンジ\\n10日間でいい実績が作れておる\\nイイゾー\\n#gold\\n#xauusd https://t.co/0rMBJ1II0l', 'Timestamp': datetime.datetime(2022, 2, 18, 1, 41, 18, tzinfo=datetime.timezone.utc)}, {'Tweet': 'From my signal last night sell at 1900-1906 #gold #xauusd #เทรดทอง #เทรดทองคำ https://t.co/rwCsrD3SLr', 'Timestamp': datetime.datetime(2022, 2, 18, 1, 39, 43, tzinfo=datetime.timezone.utc)}, {'Tweet': 'In #sell #short #XAUUSD #gold #ハイレバ #海外口座 https://t.co/MjNAtynaa9', 'Timestamp': datetime.datetime(2022, 2, 18, 1, 37, 44, tzinfo=datetime.timezone.utc)}, {'Tweet': '更にビットコ落ちてゴールド上がるやつじゃないですかこれ😇\\n値頃感は捨てなきゃ危ない🤯\\nでもゴールドショートしたい🤥\\n\\nバイデン大統領、来週にも仮想通貨とCBDCに関する大統領令発出か＝報道… https://t.co/MRghDrSci5', 'Timestamp': datetime.datetime(2022, 2, 18, 1, 21, 25, tzinfo=datetime.timezone.utc)}, {'Tweet': '#Gold chain analysis sets first target to $2080. Mustache works as a magnet for price.\\n\\nFading this is highly irres… https://t.co/sB0pa9jK8o', 'Timestamp': datetime.datetime(2022, 2, 18, 1, 11, 16, tzinfo=datetime.timezone.utc)}, {'Tweet': 'FX専業トレーダー出来杉君手法\\nhttps://t.co/ko7RaT9fUk\\n\\n#FX #FOREX #BTC #Crypto #GOLD #XAUUSD #LN #XRP #ETH #NFT #altcoin', 'Timestamp': datetime.datetime(2022, 2, 18, 1, 9, tzinfo=datetime.timezone.utc)}, {'Tweet': 'Gold is $1899.45/ozt @ 01:00 UTC.\\n\\n24H change: +$28.65 (+1.53%)\\n30D change: +$79.27 (+4.36%)\\n\\n#GOLD $XAU $XAUUSD', 'Timestamp': datetime.datetime(2022, 2, 18, 1, 0, 6, tzinfo=datetime.timezone.utc)}, {'Tweet': '$Gold $XAU = Alert = 17.02.2022 #GOLD #preciousmetals $GDX $GLD #XAUUSD\\xa0#GC_F https://t.co/9WOeFuSJ0b', 'Timestamp': datetime.datetime(2022, 2, 18, 0, 50, 47, tzinfo=datetime.timezone.utc)}, {'Tweet': 'Can $XAUUSD extend its breakout? \\n\\n#Gold is probing the key 1900 level, as tensions in Eastern Europe threaten to b… https://t.co/dlBbaoBHXS', 'Timestamp': datetime.datetime(2022, 2, 18, 0, 50, 10, tzinfo=datetime.timezone.utc)}, {'Tweet': 'Can $XAUUSD extend its breakout? \\n\\n#Gold is probing the key 1900 level, as tensions in Eastern Europe threaten to b… https://t.co/agiuKf7arA', 'Timestamp': datetime.datetime(2022, 2, 18, 0, 50, 10, tzinfo=datetime.timezone.utc)}, {'Tweet': '#GOLD - xauusd   เมื่อวานโดนวันนี้  ของขึ้น  น่ะฮะ !!!! - TradingView - https://t.co/uAYtwlWldt', 'Timestamp': datetime.datetime(2022, 2, 18, 0, 50, tzinfo=datetime.timezone.utc)}, {'Tweet': 'BOT by DownTrend GOLD M5 at 1900.16\\nFebruary 18, 2022 at 09:45AM\\n\\n#GOLD #BTCUSD #ゴールド #ビットコイン #XAUUSD #Bitcoin', 'Timestamp': datetime.datetime(2022, 2, 18, 0, 45, 8, tzinfo=datetime.timezone.utc)}, {'Tweet': 'RT @jfhksar88: #GOLD CFDs $XAUUSD breaks out &gt; the November high 1877. Not much in the way of resistance to 1916, 1921. https://t.co/AJcxjq…', 'Timestamp': datetime.datetime(2022, 2, 18, 0, 42, 57, tzinfo=datetime.timezone.utc)}, {'Tweet': '金曜日はできるだけ早く手仕舞いしたいので、木曜夜から金曜にかけては徹夜する事多々です。そうすることによって長めの週末を楽しみます🤗\\n\\n#gold #xauusd #fx #forex #ゴールド', 'Timestamp': datetime.datetime(2022, 2, 18, 0, 27, 50, tzinfo=datetime.timezone.utc)}, {'Tweet': 'RT @Tradermayne: $XAUUSD #Gold \\n\\nIn the process of putting in a weekly higher high https://t.co/KnBft7PQvZ', 'Timestamp': datetime.datetime(2022, 2, 18, 0, 23, 12, tzinfo=datetime.timezone.utc)}, {'Tweet': 'そんな中、米株3指数が下落して、今年最安値に近づいてきています\\n今年最安値を割ってくるようだと、それなりの下落が起こるかもしれません\\nそういうときに考えられるのが、現金化です\\n急なドル買いはゴールドの下押し圧力となります\\n\\n#XAUUSD\\n#GOLD', 'Timestamp': datetime.datetime(2022, 2, 18, 0, 19, 51, tzinfo=datetime.timezone.utc)}, {'Tweet': 'Cerrada, esperar confirmación para abrir corto. 300 pips de ganancia.\\n#xauusd $xauusd #Gold https://t.co/O94oDRdLJ1', 'Timestamp': datetime.datetime(2022, 2, 18, 0, 15, 30, tzinfo=datetime.timezone.utc)}, {'Tweet': 'ウクライナ情勢は二転三転する可能性がありますので、昨日のようなボラティリティが常に出てくる可能性があります\\n資金管理やレバレッジ管理しながらトレードされることをおすすめします\\n\\n#XAUUSD\\n#GOLD', 'Timestamp': datetime.datetime(2022, 2, 18, 0, 15, 10, tzinfo=datetime.timezone.utc)}, {'Tweet': 'おはようございます\\nとうとう$1900をタッチしました\\nウクライナ情勢でリスクオフになったためですね\\nそして円建ては史上最高値を更新する形になりました\\nこれまでの円安が貢献した形です\\n\\n#XAUUSD\\n#GOLD', 'Timestamp': datetime.datetime(2022, 2, 18, 0, 13, 31, tzinfo=datetime.timezone.utc)}, {'Tweet': 'RT @Tradermayne: $XAUUSD #Gold \\n\\nIn the process of putting in a weekly higher high https://t.co/KnBft7PQvZ', 'Timestamp': datetime.datetime(2022, 2, 18, 0, 12, 7, tzinfo=datetime.timezone.utc)}, {'Tweet': 'ทองคำ..จะกลายเป็น..ทองบิน.. ลุ้นกันต่อครับ... \\n\\n#GOLD   #XAUUSD https://t.co/QCVMANCdG8', 'Timestamp': datetime.datetime(2022, 2, 18, 0, 10, 37, tzinfo=datetime.timezone.utc)}, {'Tweet': '$XAUUSD #Gold \\n\\nIn the process of putting in a weekly higher high https://t.co/KnBft7PQvZ', 'Timestamp': datetime.datetime(2022, 2, 18, 0, 9, 46, tzinfo=datetime.timezone.utc)}, {'Tweet': 'スローストキャス パラメータ設定5.3.3 4時間足で80超折り返しでS、20超折り返しでL\\nhttps://t.co/RcRRweYxe3\\n\\n#FX #FOREX #BTC #Crypto #GOLD #XAUUSD #LN #XRP #ETH #NFT #altcoin', 'Timestamp': datetime.datetime(2022, 2, 18, 0, 8, tzinfo=datetime.timezone.utc)}, {'Tweet': 'RT @saser0101: #Gold #XAUUSD #BTC #BITCOIN \\n\\nOro en semanal.\\n\\nEn momentos así sube mientras BTC cae.\\n\\nCreo que se va entendiendo el tema de…', 'Timestamp': datetime.datetime(2022, 2, 18, 0, 1, 9, tzinfo=datetime.timezone.utc)}, {'Tweet': 'Gold is $1899.21/ozt @ 00:00 UTC.\\n\\n24H change: +$30.52 (+1.63%)\\n30D change: +$82.39 (+4.53%)\\n\\n#GOLD $XAU $XAUUSD', 'Timestamp': datetime.datetime(2022, 2, 18, 0, 0, 6, tzinfo=datetime.timezone.utc)}, {'Tweet': 'RT @IGSquawk: Precious Metals update:\\n#Gold 1900 +0.08%\\n#Silver 2382 -0.04%\\n#Platinum 1096 +0.21%\\n#XAUUSD #Commodities', 'Timestamp': datetime.datetime(2022, 2, 18, 0, 0, 2, tzinfo=datetime.timezone.utc)}, {'Tweet': 'RT @Professoroffx: Güne yine #Professor farkıyla mükemmel başlıyoruz. 🔥\\n\\n💰 2.375 $ • 32.344 ₺\\n\\nİşlem kanalımızda işleme dahil olup kazanç s…', 'Timestamp': datetime.datetime(2022, 2, 17, 23, 56, 53, tzinfo=datetime.timezone.utc)}, {'Tweet': 'Precious Metals update:\\n#Gold 1900 +0.08%\\n#Silver 2382 -0.04%\\n#Platinum 1096 +0.21%\\n#XAUUSD #Commodities', 'Timestamp': datetime.datetime(2022, 2, 17, 23, 52, 55, tzinfo=datetime.timezone.utc)}, {'Tweet': '#GOLD \\n昨日は同値撤退になりましたね😣\\n青ラインが売り仕掛けラインでした😭\\n今は抵抗だった黄色矢印ラインが上げ支えしてます。\\n1891.07、95.43抜けキープしないと下げは厳しく、1938.41目指して上げてきます。05… https://t.co/td20aCl3kr', 'Timestamp': datetime.datetime(2022, 2, 17, 23, 51, 58, tzinfo=datetime.timezone.utc)}, {'Tweet': 'RT @Professoroffx: Güne yine #Professor farkıyla mükemmel başlıyoruz. 🔥\\n\\n💰 2.375 $ • 32.344 ₺\\n\\nİşlem kanalımızda işleme dahil olup kazanç s…', 'Timestamp': datetime.datetime(2022, 2, 17, 23, 34, 28, tzinfo=datetime.timezone.utc)}, {'Tweet': '🤔 Trader thoughts - playing defence in a headline driven market\\n\\n👉 More here: https://t.co/NISoB7p98P\\n#us500 #usd #xauusd #gold', 'Timestamp': datetime.datetime(2022, 2, 17, 23, 27, 21, tzinfo=datetime.timezone.utc)}, {'Tweet': '2/17 収支報告💰\\nFXって難しいなぁ🤯\\n\\n助格㊙️ 6,735円\\nコピトレ① 0円\\nコピトレ② 9,616円\\n裁量 443円\\n\\n合計 16,794円\\n\\n#助さん格さんGOLD\\n#XAUUSD #GOLD\\xa0#ゴールド\\n#fx… https://t.co/zEapxsiQ5q', 'Timestamp': datetime.datetime(2022, 2, 17, 23, 27, 8, tzinfo=datetime.timezone.utc)}, {'Tweet': \"❤︎毎日シグナルLive配信中❤︎ 本日は、【#ドル円 ♡ #ポンド円】YouTubeにてLive配信中です⸜(๑⃙⃘'ᵕ'๑⃙⃘)⸝⋆\\n\\nhttps://t.co/YILXiQYNhk\\n\\n#FX #株 #先物 #デイトレ… https://t.co/JlYmaRhD5w\", 'Timestamp': datetime.datetime(2022, 2, 17, 23, 25, 33, tzinfo=datetime.timezone.utc)}, {'Tweet': '日足や4Hレベルですでに下げまくり状態からさらに5MA乖離でロング\\nhttps://t.co/OuetEyKuWF\\n\\n#FX #FOREX #BTC #Crypto #GOLD #XAUUSD #LN #XRP #ETH #NFT #altcoin', 'Timestamp': datetime.datetime(2022, 2, 17, 23, 24, tzinfo=datetime.timezone.utc)}, {'Tweet': 'おはようございます！昨日の結果報告です😊\\n#GOLD #XAUUSD 専用EA Wizardは日利10％に迫る勢いの+49,674円と爆益でございました🥳\\n日中もファンダの影響が大きく、結果爆益だったから良かった😅\\n引き続き停止推… https://t.co/GVl2GufNvM', 'Timestamp': datetime.datetime(2022, 2, 17, 23, 21, 30, tzinfo=datetime.timezone.utc)}, {'Tweet': 'RT @bdfx10: 【#FXのすゝめ2022】\\n\\n引用元ツイートの話。\\n\\n自分がわかるところだけに集中するんです。それだけでいい。\\n\\n１枚目：目指すポイント\\n２枚目：実際のチャート\\n３枚目：結果\\n\\n添付写真の通り1858で下落はとりあえず反発して止まってる。今現在は。\\n\\n#…', 'Timestamp': datetime.datetime(2022, 2, 17, 23, 9, 54, tzinfo=datetime.timezone.utc)}, {'Tweet': \"is it gold's time now? #xauusd #gold $ag https://t.co/6H6qGChX8l\", 'Timestamp': datetime.datetime(2022, 2, 17, 23, 7, 54, tzinfo=datetime.timezone.utc)}, {'Tweet': 'Gold is $1896.99/ozt @ 23:00 UTC.\\n\\n24H change: +$27.75 (+1.48%)\\n30D change: +$79.55 (+4.38%)\\n\\n#GOLD $XAU $XAUUSD', 'Timestamp': datetime.datetime(2022, 2, 17, 23, 0, 6, tzinfo=datetime.timezone.utc)}, {'Tweet': 'MA三本、線形加重、指数加重、平滑化、これを20日設定五分足で見てみて\\nhttps://t.co/fMB8iuxL6p\\n\\n#FX #FOREX #BTC #Crypto #GOLD #XAUUSD #LN #XRP #ETH #NFT #FOMC', 'Timestamp': datetime.datetime(2022, 2, 17, 22, 58, tzinfo=datetime.timezone.utc)}, {'Tweet': 'RT @Professoroffx: Güne yine #Professor farkıyla mükemmel başlıyoruz. 🔥\\n\\n💰 2.375 $ • 32.344 ₺\\n\\nİşlem kanalımızda işleme dahil olup kazanç s…', 'Timestamp': datetime.datetime(2022, 2, 17, 22, 48, 18, tzinfo=datetime.timezone.utc)}, {'Tweet': 'RT @Professoroffx: Güne yine #Professor farkıyla mükemmel başlıyoruz. 🔥\\n\\n💰 2.375 $ • 32.344 ₺\\n\\nİşlem kanalımızda işleme dahil olup kazanç s…', 'Timestamp': datetime.datetime(2022, 2, 17, 22, 41, 9, tzinfo=datetime.timezone.utc)}, {'Tweet': 'RT @Professoroffx: Güne yine #Professor farkıyla mükemmel başlıyoruz. 🔥\\n\\n💰 2.375 $ • 32.344 ₺\\n\\nİşlem kanalımızda işleme dahil olup kazanç s…', 'Timestamp': datetime.datetime(2022, 2, 17, 22, 40, 39, tzinfo=datetime.timezone.utc)}, {'Tweet': 'RT @Pchiara07: #XAUUSD (Gold) Next Possible Movement.\\n\\nFor perfect entry and finest signals kindly whatsapp me⬇️\\n\\nhttps://t.co/cKrKbfqzpP…', 'Timestamp': datetime.datetime(2022, 2, 17, 22, 31, 5, tzinfo=datetime.timezone.utc)}, {'Tweet': 'RT @Professoroffx: Güne yine #Professor farkıyla mükemmel başlıyoruz. 🔥\\n\\n💰 2.375 $ • 32.344 ₺\\n\\nİşlem kanalımızda işleme dahil olup kazanç s…', 'Timestamp': datetime.datetime(2022, 2, 17, 22, 30, 24, tzinfo=datetime.timezone.utc)}, {'Tweet': 'RT @Professoroffx: Güne yine #Professor farkıyla mükemmel başlıyoruz. 🔥\\n\\n💰 2.375 $ • 32.344 ₺\\n\\nİşlem kanalımızda işleme dahil olup kazanç s…', 'Timestamp': datetime.datetime(2022, 2, 17, 22, 25, 57, tzinfo=datetime.timezone.utc)}, {'Tweet': 'RT @Professoroffx: Güne yine #Professor farkıyla mükemmel başlıyoruz. 🔥\\n\\n💰 2.375 $ • 32.344 ₺\\n\\nİşlem kanalımızda işleme dahil olup kazanç s…', 'Timestamp': datetime.datetime(2022, 2, 17, 22, 21, 37, tzinfo=datetime.timezone.utc)}, {'Tweet': 'RT @KudretAyyldr: Ons Altın için 1835 - 1850 bölgesi aylık kapanış olarak uzun vadeli görünümde oldukça dikkat çekici bir aralık. İlgili bö…', 'Timestamp': datetime.datetime(2022, 2, 17, 22, 20, 28, tzinfo=datetime.timezone.utc)}, {'Tweet': 'sell #gold #xauusd at 1900 and take profit at 1880 #commoditytrading #silver #xagusd #eurusd #usdjpy', 'Timestamp': datetime.datetime(2022, 2, 17, 22, 17, 48, tzinfo=datetime.timezone.utc)}, {'Tweet': '#Gold was a big gainer overnight. Price added 1.57% and now just below $1900\\n\\n#hedge #xauusd #RussiaUkraineCrisis', 'Timestamp': datetime.datetime(2022, 2, 17, 22, 15, 3, tzinfo=datetime.timezone.utc)}, {'Tweet': 'RT @Professoroffx: Güne yine #Professor farkıyla mükemmel başlıyoruz. 🔥\\n\\n💰 2.375 $ • 32.344 ₺\\n\\nİşlem kanalımızda işleme dahil olup kazanç s…', 'Timestamp': datetime.datetime(2022, 2, 17, 22, 6, 44, tzinfo=datetime.timezone.utc)}, {'Tweet': 'RT @IGSquawk: Precious Metals update:\\n#Gold 1898 +1.53%\\n#Silver 2384 +1.05%\\n#Platinum 1093 +2.63%\\n#XAUUSD #Commodities', 'Timestamp': datetime.datetime(2022, 2, 17, 22, 3, 32, tzinfo=datetime.timezone.utc)}, {'Tweet': 'Precious Metals update:\\n#Gold 1898 +1.53%\\n#Silver 2384 +1.05%\\n#Platinum 1093 +2.63%\\n#XAUUSD #Commodities', 'Timestamp': datetime.datetime(2022, 2, 17, 22, 2, 59, tzinfo=datetime.timezone.utc)}, {'Tweet': 'Gold is $1897.45/ozt @ 22:00 UTC.\\n\\n24H change: +$29.36 (+1.57%)\\n30D change: +$80.98 (+4.46%)\\n\\n#GOLD $XAU $XAUUSD', 'Timestamp': datetime.datetime(2022, 2, 17, 22, 0, 5, tzinfo=datetime.timezone.utc)}, {'Tweet': 'RT @IGSquawk: Precious Metals update:\\n#Gold 1898 +1.53%\\n#Silver 2384 +1.05%\\n#Platinum 1093 +2.63%\\n#XAUUSD #Commodities', 'Timestamp': datetime.datetime(2022, 2, 17, 21, 59, 12, tzinfo=datetime.timezone.utc)}, {'Tweet': 'RT @IGSquawk: Precious Metals update:\\n#Gold 1898 +1.53%\\n#Silver 2384 +1.05%\\n#Platinum 1093 +2.63%\\n#XAUUSD #Commodities', 'Timestamp': datetime.datetime(2022, 2, 17, 21, 58, 5, tzinfo=datetime.timezone.utc)}, {'Tweet': 'RT @jfhksar88: This is why backtests should be embraced, not feared. Very clear trend / clean pattern in this #GOLD CFDs $XAUUSD move. http…', 'Timestamp': datetime.datetime(2022, 2, 17, 21, 57, 57, tzinfo=datetime.timezone.utc)}, {'Tweet': 'RT @IGSquawk: Precious Metals update:\\n#Gold 1898 +1.53%\\n#Silver 2384 +1.05%\\n#Platinum 1093 +2.63%\\n#XAUUSD #Commodities', 'Timestamp': datetime.datetime(2022, 2, 17, 21, 57, 29, tzinfo=datetime.timezone.utc)}, {'Tweet': '無双転生さんの手法はポンド円でも使えるんですか？\\nhttps://t.co/AqTbXxY9yG\\n\\n#FX #FOREX #BTC #Crypto #GOLD #XAUUSD #LN #XRP #ETH #NFT #FOMC', 'Timestamp': datetime.datetime(2022, 2, 17, 21, 57, tzinfo=datetime.timezone.utc)}, {'Tweet': 'Precious Metals update:\\n#Gold 1898 +1.53%\\n#Silver 2384 +1.05%\\n#Platinum 1093 +2.63%\\n#XAUUSD #Commodities', 'Timestamp': datetime.datetime(2022, 2, 17, 21, 54, 37, tzinfo=datetime.timezone.utc)}, {'Tweet': 'RT @Professoroffx: Güne yine #Professor farkıyla mükemmel başlıyoruz. 🔥\\n\\n💰 2.375 $ • 32.344 ₺\\n\\nİşlem kanalımızda işleme dahil olup kazanç s…', 'Timestamp': datetime.datetime(2022, 2, 17, 21, 52, 39, tzinfo=datetime.timezone.utc)}, {'Tweet': '$XAUUSD #GOLD - XAUUSD https://t.co/wrpefwhbZ3', 'Timestamp': datetime.datetime(2022, 2, 17, 21, 50, 35, tzinfo=datetime.timezone.utc)}, {'Tweet': 'RT @KudretAyyldr: Ons Altın için 1835 - 1850 bölgesi aylık kapanış olarak uzun vadeli görünümde oldukça dikkat çekici bir aralık. İlgili bö…', 'Timestamp': datetime.datetime(2022, 2, 17, 21, 50, 35, tzinfo=datetime.timezone.utc)}, {'Tweet': 'RT @xtradering: Gold \\nShortçulara selam olsun 1950 üstü kapanışlar 2400 2700 3000 gösterir  \\n12 aydır taşıdığım pozlar uğruna az daha sabır…', 'Timestamp': datetime.datetime(2022, 2, 17, 21, 48, 48, tzinfo=datetime.timezone.utc)}, {'Tweet': 'https://t.co/Uo9hYDJUMd #gold #forex #preciousmetals #XAUUSD #ForexMarket #TradingView #tradingpsychology', 'Timestamp': datetime.datetime(2022, 2, 17, 21, 47, 44, tzinfo=datetime.timezone.utc)}, {'Tweet': 'RT @Professoroffx: Güne yine #Professor farkıyla mükemmel başlıyoruz. 🔥\\n\\n💰 2.375 $ • 32.344 ₺\\n\\nİşlem kanalımızda işleme dahil olup kazanç s…', 'Timestamp': datetime.datetime(2022, 2, 17, 21, 45, 55, tzinfo=datetime.timezone.utc)}, {'Tweet': 'おはようございます🌞\\nブラスト、メテオブラスト共に、またしてもノーダメ爆益で終了ー！\\n\\n#ゴールドEA\\n#ゴールド\\n#GOLD\\n#XAUUSD \\n#ユーロドル\\n#ユロル', 'Timestamp': datetime.datetime(2022, 2, 17, 21, 45, 25, tzinfo=datetime.timezone.utc)}, {'Tweet': 'RT @hasan_yavuzturk: #altın #xauusd #gold #dolar #xu100 #borsa #fx #onsaltin \\n\\n#GRAMALTIN \\n\\n809 üzerinde kalıcı olursa\\n♦hedefler\\n►881\\n►959…', 'Timestamp': datetime.datetime(2022, 2, 17, 21, 42, 29, tzinfo=datetime.timezone.utc)}, {'Tweet': 'Gold_Silver_SP: RT @FXstreetReports: Is it worth adding gold to your portfolio in 2022? By @Gold_Silver_SP… https://t.co/ZRZqzAbDlj', 'Timestamp': datetime.datetime(2022, 2, 17, 21, 39, 17, tzinfo=datetime.timezone.utc)}, {'Tweet': 'RT @JoeP_FOREXcom: 💥 Gold higher on Russia/Ukraine geopolitical uncertainty\\n#Gold #XAUUSD #russia #Ukraine \\n\\nhttps://t.co/uYbVQq14cp https:…', 'Timestamp': datetime.datetime(2022, 2, 17, 21, 37, 51, tzinfo=datetime.timezone.utc)}, {'Tweet': 'RT @KudretAyyldr: Ons Altın için 1835 - 1850 bölgesi aylık kapanış olarak uzun vadeli görünümde oldukça dikkat çekici bir aralık. İlgili bö…', 'Timestamp': datetime.datetime(2022, 2, 17, 21, 24, 3, tzinfo=datetime.timezone.utc)}, {'Tweet': 'RT @KudretAyyldr: Ons Altın için 1835 - 1850 bölgesi aylık kapanış olarak uzun vadeli görünümde oldukça dikkat çekici bir aralık. İlgili bö…', 'Timestamp': datetime.datetime(2022, 2, 17, 21, 17, 29, tzinfo=datetime.timezone.utc)}, {'Tweet': 'Already made a $104 move in $GOLD since I bought at $1,796 but long way to go yet.  Heading to $2,300 by mid year.… https://t.co/4YdGHfcUr5', 'Timestamp': datetime.datetime(2022, 2, 17, 21, 15, 34, tzinfo=datetime.timezone.utc)}, {'Tweet': '$GOLD $XAUUSD\\n\\n17th Feb 2022\\nHigh of the day 1901\\n\\nThis was the set up from 15th Feb from Prime Channel.\\n\\nAt one po… https://t.co/PAIxdJPHah', 'Timestamp': datetime.datetime(2022, 2, 17, 21, 14, 55, tzinfo=datetime.timezone.utc)}, {'Tweet': 'Ons Altın için 1835 - 1850 bölgesi aylık kapanış olarak uzun vadeli görünümde oldukça dikkat çekici bir aralık. İlg… https://t.co/WxISlr19HC', 'Timestamp': datetime.datetime(2022, 2, 17, 21, 14, 32, tzinfo=datetime.timezone.utc)}, {'Tweet': 'RT @Professoroffx: Güne yine #Professor farkıyla mükemmel başlıyoruz. 🔥\\n\\n💰 2.375 $ • 32.344 ₺\\n\\nİşlem kanalımızda işleme dahil olup kazanç s…', 'Timestamp': datetime.datetime(2022, 2, 17, 21, 14, 11, tzinfo=datetime.timezone.utc)}, {'Tweet': \"RT @BorsaEditor: XAUUSD - FLAMA FORMASYONU (AKTİF) - AYLIK GRAFİK #gold #altın - @TradingView 'de #XAUUSD grafiği https://t.co/nJ8PWKtWaz\", 'Timestamp': datetime.datetime(2022, 2, 17, 21, 12, 50, tzinfo=datetime.timezone.utc)}, {'Tweet': 'RT @bdfx10: 【#FXのすゝめ2022】\\n\\n本日の日銭。\\n\\n#たけナッチ38 \\n\\n#FX\\u3000#FX初心者 #XAUUSD #GOLD https://t.co/mtnfl4Ygqq', 'Timestamp': datetime.datetime(2022, 2, 17, 21, 12, 47, tzinfo=datetime.timezone.utc)}, {'Tweet': 'We called this on on the video posted Sunday morning.... Gold going to $1900 🙌🏼🙌🏼🙌🏼#XAUUSD #GOLD #GOLD… https://t.co/hbwS7YnAwT', 'Timestamp': datetime.datetime(2022, 2, 17, 21, 10, 39, tzinfo=datetime.timezone.utc)}, {'Tweet': \"RT @ChartSpartan: There it is, $1900 #gold... \\n\\nThat's enough excitement for today 🍷\\n\\n#XAUUSD https://t.co/D6QgdGGbkU\", 'Timestamp': datetime.datetime(2022, 2, 17, 21, 5, 12, tzinfo=datetime.timezone.utc)}, {'Tweet': 'Gold is $1897.15/ozt @ 21:00 UTC.\\n\\n24H change: +$26.44 (+1.41%)\\n30D change: +$80.33 (+4.42%)\\n\\n#GOLD $XAU $XAUUSD', 'Timestamp': datetime.datetime(2022, 2, 17, 21, 0, 6, tzinfo=datetime.timezone.utc)}, {'Tweet': 'RT @Professoroffx: Güne yine #Professor farkıyla mükemmel başlıyoruz. 🔥\\n\\n💰 2.375 $ • 32.344 ₺\\n\\nİşlem kanalımızda işleme dahil olup kazanç s…', 'Timestamp': datetime.datetime(2022, 2, 17, 20, 59, 49, tzinfo=datetime.timezone.utc)}, {'Tweet': 'RT @Professoroffx: Güne yine #Professor farkıyla mükemmel başlıyoruz. 🔥\\n\\n💰 2.375 $ • 32.344 ₺\\n\\nİşlem kanalımızda işleme dahil olup kazanç s…', 'Timestamp': datetime.datetime(2022, 2, 17, 20, 59, 48, tzinfo=datetime.timezone.utc)}, {'Tweet': 'RT @hasan_yavuzturk: #altın #xauusd #gold #dolar #xu100 #borsa #fx #onsaltin \\n\\n#GRAMALTIN \\n\\n809 üzerinde kalıcı olursa\\n♦hedefler\\n►881\\n►959…', 'Timestamp': datetime.datetime(2022, 2, 17, 20, 59, 27, tzinfo=datetime.timezone.utc)}, {'Tweet': '過去のチャート見ると実体がLでもRAVIFXがSに成ってると、結果、直近の谷から見て更に深い谷が出来る\\nhttps://t.co/BykCtswjb5\\n\\n#FX #FOREX #BTC #Crypto #GOLD #XAUUSD #LN #XRP #ETH #NFT #FOMC', 'Timestamp': datetime.datetime(2022, 2, 17, 20, 57, tzinfo=datetime.timezone.utc)}, {'Tweet': 'RT @Professoroffx: Güne yine #Professor farkıyla mükemmel başlıyoruz. 🔥\\n\\n💰 2.375 $ • 32.344 ₺\\n\\nİşlem kanalımızda işleme dahil olup kazanç s…', 'Timestamp': datetime.datetime(2022, 2, 17, 20, 55, 42, tzinfo=datetime.timezone.utc)}, {'Tweet': 'RT @bdfx10: 【#FXのすゝめ2022】\\n\\n本日の日銭。\\n\\n#たけナッチ38 \\n\\n#FX\\u3000#FX初心者 #XAUUSD #GOLD https://t.co/mtnfl4Ygqq', 'Timestamp': datetime.datetime(2022, 2, 17, 20, 55, 15, tzinfo=datetime.timezone.utc)}, {'Tweet': 'RT @Professoroffx: Güne yine #Professor farkıyla mükemmel başlıyoruz. 🔥\\n\\n💰 2.375 $ • 32.344 ₺\\n\\nİşlem kanalımızda işleme dahil olup kazanç s…', 'Timestamp': datetime.datetime(2022, 2, 17, 20, 54, 3, tzinfo=datetime.timezone.utc)}, {'Tweet': '#XAUUSD #GOLD\\nSOLD AT 1899\\nSL 1902\\nTP 1875\\n\\nMORE TO MEMBERS ❤️♠️', 'Timestamp': datetime.datetime(2022, 2, 17, 20, 53, 27, tzinfo=datetime.timezone.utc)}, {'Tweet': 'RT @borsa_ben: Endeks #pivot noktaları başarının anahtarı.ytd  18.02.2022\\n#xu100   #xu030 #f_xu0301221 #viop #brent #usdtry #dax #spx500 #a…', 'Timestamp': datetime.datetime(2022, 2, 17, 20, 49, 48, tzinfo=datetime.timezone.utc)}, {'Tweet': 'RT @FXstreetReports: Is it worth adding gold to your portfolio in 2022? By @Gold_Silver_SP https://t.co/Jk7NlFjFwv #Gold #XAUUSD #Markets #…', 'Timestamp': datetime.datetime(2022, 2, 17, 20, 47, 38, tzinfo=datetime.timezone.utc)}, {'Tweet': 'RT @Palmieri888: #GOLD  #XAUUSD  \\nbe  #ICEROCK \\n\\n   Así las cosas. https://t.co/ZA6TqfqueX', 'Timestamp': datetime.datetime(2022, 2, 17, 20, 46, 17, tzinfo=datetime.timezone.utc)}, {'Tweet': 'RT @Professoroffx: Güne yine #Professor farkıyla mükemmel başlıyoruz. 🔥\\n\\n💰 2.375 $ • 32.344 ₺\\n\\nİşlem kanalımızda işleme dahil olup kazanç s…', 'Timestamp': datetime.datetime(2022, 2, 17, 20, 43, 52, tzinfo=datetime.timezone.utc)}, {'Tweet': \"RT @ChartSpartan: There it is, $1900 #gold... \\n\\nThat's enough excitement for today 🍷\\n\\n#XAUUSD https://t.co/D6QgdGGbkU\", 'Timestamp': datetime.datetime(2022, 2, 17, 20, 41, 38, tzinfo=datetime.timezone.utc)}, {'Tweet': 'RT @Professoroffx: Güne yine #Professor farkıyla mükemmel başlıyoruz. 🔥\\n\\n💰 2.375 $ • 32.344 ₺\\n\\nİşlem kanalımızda işleme dahil olup kazanç s…', 'Timestamp': datetime.datetime(2022, 2, 17, 20, 38, 21, tzinfo=datetime.timezone.utc)}, {'Tweet': \"XAUUSD - FLAMA FORMASYONU (AKTİF) - AYLIK GRAFİK #gold #altın - @TradingView 'de #XAUUSD grafiği https://t.co/nJ8PWKtWaz\", 'Timestamp': datetime.datetime(2022, 2, 17, 20, 33, 32, tzinfo=datetime.timezone.utc)}, {'Tweet': 'RT @Professoroffx: Güne yine #Professor farkıyla mükemmel başlıyoruz. 🔥\\n\\n💰 2.375 $ • 32.344 ₺\\n\\nİşlem kanalımızda işleme dahil olup kazanç s…', 'Timestamp': datetime.datetime(2022, 2, 17, 20, 31, 41, tzinfo=datetime.timezone.utc)}, {'Tweet': '#gold update. Measured move to the mid 1900s now in scope. Originally I’d mentioned 1920-1930. Slight adjustment ba… https://t.co/xkepttn2GG', 'Timestamp': datetime.datetime(2022, 2, 17, 20, 31, 29, tzinfo=datetime.timezone.utc)}, {'Tweet': 'RT @Professoroffx: Güne yine #Professor farkıyla mükemmel başlıyoruz. 🔥\\n\\n💰 2.375 $ • 32.344 ₺\\n\\nİşlem kanalımızda işleme dahil olup kazanç s…', 'Timestamp': datetime.datetime(2022, 2, 17, 20, 31, 27, tzinfo=datetime.timezone.utc)}, {'Tweet': '$XAUUSD #GOLD - 1H https://t.co/k1B4g5VZLy', 'Timestamp': datetime.datetime(2022, 2, 17, 20, 28, 2, tzinfo=datetime.timezone.utc)}, {'Tweet': 'RT @Professoroffx: Güne yine #Professor farkıyla mükemmel başlıyoruz. 🔥\\n\\n💰 2.375 $ • 32.344 ₺\\n\\nİşlem kanalımızda işleme dahil olup kazanç s…', 'Timestamp': datetime.datetime(2022, 2, 17, 20, 24, 24, tzinfo=datetime.timezone.utc)}, {'Tweet': 'RT @Professoroffx: Güne yine #Professor farkıyla mükemmel başlıyoruz. 🔥\\n\\n💰 2.375 $ • 32.344 ₺\\n\\nİşlem kanalımızda işleme dahil olup kazanç s…', 'Timestamp': datetime.datetime(2022, 2, 17, 20, 24, 6, tzinfo=datetime.timezone.utc)}, {'Tweet': '#gold breaking out of its wedge #XAUUSD.\\nNext hurdles are at 1915 and 1950 https://t.co/5BpPyauveH', 'Timestamp': datetime.datetime(2022, 2, 17, 20, 24, 6, tzinfo=datetime.timezone.utc)}, {'Tweet': 'RT @Professoroffx: Güne yine #Professor farkıyla mükemmel başlıyoruz. 🔥\\n\\n💰 2.375 $ • 32.344 ₺\\n\\nİşlem kanalımızda işleme dahil olup kazanç s…', 'Timestamp': datetime.datetime(2022, 2, 17, 20, 22, 49, tzinfo=datetime.timezone.utc)}, {'Tweet': 'RT @Professoroffx: Güne yine #Professor farkıyla mükemmel başlıyoruz. 🔥\\n\\n💰 2.375 $ • 32.344 ₺\\n\\nİşlem kanalımızda işleme dahil olup kazanç s…', 'Timestamp': datetime.datetime(2022, 2, 17, 20, 22, 45, tzinfo=datetime.timezone.utc)}, {'Tweet': 'RT @Professoroffx: Güne yine #Professor farkıyla mükemmel başlıyoruz. 🔥\\n\\n💰 2.375 $ • 32.344 ₺\\n\\nİşlem kanalımızda işleme dahil olup kazanç s…', 'Timestamp': datetime.datetime(2022, 2, 17, 20, 20, 30, tzinfo=datetime.timezone.utc)}, {'Tweet': 'RT @Mido_yuiya: 1900ドル回復、去年5月ぶり高値\\n\\n戦略の下方修正を重ね、ようやく。\\n長かった。\\n\\n#GOLD #XAUUSD https://t.co/gOky1AaUhU', 'Timestamp': datetime.datetime(2022, 2, 17, 20, 17, 7, tzinfo=datetime.timezone.utc)}, {'Tweet': 'RT @DadoRTMS: Service will start Monday. The next batch will start after 12 weeks. Joining the service must be at the start of a batch.\\n\\n$G…', 'Timestamp': datetime.datetime(2022, 2, 17, 20, 16, 56, tzinfo=datetime.timezone.utc)}, {'Tweet': 'Gold is also super bullish. 1913’ 1931-35 and 1945  and maybe 1961-65 are the three short term targets #Gold #XAUUSD', 'Timestamp': datetime.datetime(2022, 2, 17, 20, 13, 39, tzinfo=datetime.timezone.utc)}, {'Tweet': 'RT @DadoRTMS: Service will start Monday. The next batch will start after 12 weeks. Joining the service must be at the start of a batch.\\n\\n$G…', 'Timestamp': datetime.datetime(2022, 2, 17, 20, 12, 8, tzinfo=datetime.timezone.utc)}, {'Tweet': '$XAUUSD #GOLD - PETITE  correction en vue??FACE au triangle https://t.co/4g497CFABu', 'Timestamp': datetime.datetime(2022, 2, 17, 20, 12, 2, tzinfo=datetime.timezone.utc)}, {'Tweet': 'RT @Professoroffx: Güne yine #Professor farkıyla mükemmel başlıyoruz. 🔥\\n\\n💰 2.375 $ • 32.344 ₺\\n\\nİşlem kanalımızda işleme dahil olup kazanç s…', 'Timestamp': datetime.datetime(2022, 2, 17, 20, 11, 38, tzinfo=datetime.timezone.utc)}, {'Tweet': 'RT @bizekonomiaile: ons altın dün paylaştığımız re-test görüntüsünü doğruladı onay almak için 1848 li seviyelere kadar inen ons 1872 seviye…', 'Timestamp': datetime.datetime(2022, 2, 17, 20, 6, 53, tzinfo=datetime.timezone.utc)}, {'Tweet': 'RT @Professoroffx: Güne yine #Professor farkıyla mükemmel başlıyoruz. 🔥\\n\\n💰 2.375 $ • 32.344 ₺\\n\\nİşlem kanalımızda işleme dahil olup kazanç s…', 'Timestamp': datetime.datetime(2022, 2, 17, 20, 4, 41, tzinfo=datetime.timezone.utc)}, {'Tweet': 'Ne dediysek o.\\n#XAUUSD #ONS #ALTIN #Gold https://t.co/NGOWewalqm', 'Timestamp': datetime.datetime(2022, 2, 17, 20, 1, 37, tzinfo=datetime.timezone.utc)}, {'Tweet': 'RT @GoldcryptoVirus: #XauUsd 🚫 #Gold 🚫 #Metal\\n .\\n1900-1903 sell Area \\nStop loss 1905 or hedge for 1911\\nTarget 1.        1882\\nTarget 2.…', 'Timestamp': datetime.datetime(2022, 2, 17, 20, 1, 22, tzinfo=datetime.timezone.utc)}, {'Tweet': 'RT @Professoroffx: Güne yine #Professor farkıyla mükemmel başlıyoruz. 🔥\\n\\n💰 2.375 $ • 32.344 ₺\\n\\nİşlem kanalımızda işleme dahil olup kazanç s…', 'Timestamp': datetime.datetime(2022, 2, 17, 20, 0, 20, tzinfo=datetime.timezone.utc)}, {'Tweet': 'Gold is $1898.65/ozt @ 20:00 UTC.\\n\\n24H change: +$29.20 (+1.56%)\\n30D change: +$81.96 (+4.51%)\\n\\n#GOLD $XAU $XAUUSD', 'Timestamp': datetime.datetime(2022, 2, 17, 20, 0, 5, tzinfo=datetime.timezone.utc)}, {'Tweet': '$XAUUSD breakout in Gold/USD!! #Gold #XAUUSD https://t.co/13MtKgMopR https://t.co/CHRlzh0OwQ', 'Timestamp': datetime.datetime(2022, 2, 17, 19, 59, 45, tzinfo=datetime.timezone.utc)}, {'Tweet': 'RT @GTS_Indicators: Learn HOW EASY it is when #Gold #FuturesTrading Tutorial with the #xBratAlgo HERE ▶️▶️ https://t.co/w7IDw6SVvF $GOLD #d…', 'Timestamp': datetime.datetime(2022, 2, 17, 19, 58, 25, tzinfo=datetime.timezone.utc)}, {'Tweet': 'RT @Professoroffx: Güne yine #Professor farkıyla mükemmel başlıyoruz. 🔥\\n\\n💰 2.375 $ • 32.344 ₺\\n\\nİşlem kanalımızda işleme dahil olup kazanç s…', 'Timestamp': datetime.datetime(2022, 2, 17, 19, 57, 10, tzinfo=datetime.timezone.utc)}, {'Tweet': '3DOSCを使えば他のインジと同期させれば騙し回避できるかも\\nhttps://t.co/9mfkwHoegM\\n\\n#FX #FOREX #BTC #Crypto #GOLD #XAUUSD #LN #XRP #ETH #NFT #FOMC', 'Timestamp': datetime.datetime(2022, 2, 17, 19, 57, tzinfo=datetime.timezone.utc)}, {'Tweet': 'RT @Professoroffx: Güne yine #Professor farkıyla mükemmel başlıyoruz. 🔥\\n\\n💰 2.375 $ • 32.344 ₺\\n\\nİşlem kanalımızda işleme dahil olup kazanç s…', 'Timestamp': datetime.datetime(2022, 2, 17, 19, 55, 41, tzinfo=datetime.timezone.utc)}, {'Tweet': '@laplace2011 Savaş mı bahane Eflasyon mu \\n#XAUUSD #Gold', 'Timestamp': datetime.datetime(2022, 2, 17, 19, 54, 39, tzinfo=datetime.timezone.utc)}, {'Tweet': 'RT @Professoroffx: Güne yine #Professor farkıyla mükemmel başlıyoruz. 🔥\\n\\n💰 2.375 $ • 32.344 ₺\\n\\nİşlem kanalımızda işleme dahil olup kazanç s…', 'Timestamp': datetime.datetime(2022, 2, 17, 19, 53, 49, tzinfo=datetime.timezone.utc)}, {'Tweet': '#XAUUSD (Gold) Next Possible Movement.\\n\\nFor perfect entry and finest signals kindly whatsapp me⬇️… https://t.co/69WgXBP9An', 'Timestamp': datetime.datetime(2022, 2, 17, 19, 53, 34, tzinfo=datetime.timezone.utc)}, {'Tweet': 'RT @Professoroffx: Güne yine #Professor farkıyla mükemmel başlıyoruz. 🔥\\n\\n💰 2.375 $ • 32.344 ₺\\n\\nİşlem kanalımızda işleme dahil olup kazanç s…', 'Timestamp': datetime.datetime(2022, 2, 17, 19, 53, 16, tzinfo=datetime.timezone.utc)}, {'Tweet': 'RT @Professoroffx: Güne yine #Professor farkıyla mükemmel başlıyoruz. 🔥\\n\\n💰 2.375 $ • 32.344 ₺\\n\\nİşlem kanalımızda işleme dahil olup kazanç s…', 'Timestamp': datetime.datetime(2022, 2, 17, 19, 52, 26, tzinfo=datetime.timezone.utc)}, {'Tweet': 'RT @Professoroffx: Güne yine #Professor farkıyla mükemmel başlıyoruz. 🔥\\n\\n💰 2.375 $ • 32.344 ₺\\n\\nİşlem kanalımızda işleme dahil olup kazanç s…', 'Timestamp': datetime.datetime(2022, 2, 17, 19, 51, 45, tzinfo=datetime.timezone.utc)}, {'Tweet': 'RT @Professoroffx: Güne yine #Professor farkıyla mükemmel başlıyoruz. 🔥\\n\\n💰 2.375 $ • 32.344 ₺\\n\\nİşlem kanalımızda işleme dahil olup kazanç s…', 'Timestamp': datetime.datetime(2022, 2, 17, 19, 50, 28, tzinfo=datetime.timezone.utc)}, {'Tweet': 'RT @Professoroffx: Güne yine #Professor farkıyla mükemmel başlıyoruz. 🔥\\n\\n💰 2.375 $ • 32.344 ₺\\n\\nİşlem kanalımızda işleme dahil olup kazanç s…', 'Timestamp': datetime.datetime(2022, 2, 17, 19, 50, 5, tzinfo=datetime.timezone.utc)}, {'Tweet': 'RT @Professoroffx: Güne yine #Professor farkıyla mükemmel başlıyoruz. 🔥\\n\\n💰 2.375 $ • 32.344 ₺\\n\\nİşlem kanalımızda işleme dahil olup kazanç s…', 'Timestamp': datetime.datetime(2022, 2, 17, 19, 49, 59, tzinfo=datetime.timezone.utc)}, {'Tweet': '@cautionary53 #gold savaşı fiyatlasa bile Eflasyon u bahane edip #FederalReserve  faiz kararını bekleyecektir \\nYurt… https://t.co/YRAPridTRC', 'Timestamp': datetime.datetime(2022, 2, 17, 19, 48, 37, tzinfo=datetime.timezone.utc)}, {'Tweet': 'RT @hasan_yavuzturk: #altın #xauusd #gold #dolar #xu100 #borsa #fx #onsaltin \\n\\n#GRAMALTIN \\n\\n809 üzerinde kalıcı olursa\\n♦hedefler\\n►881\\n►959…', 'Timestamp': datetime.datetime(2022, 2, 17, 19, 46, 54, tzinfo=datetime.timezone.utc)}, {'Tweet': 'Resultados de hoy #XAUUSD #ORODOLAR #trading #trader #forex #forextrader #pips #forextrading #fx #profit… https://t.co/g0jPuBPCbO', 'Timestamp': datetime.datetime(2022, 2, 17, 19, 41, 54, tzinfo=datetime.timezone.utc)}, {'Tweet': 'Hell Yeah Predicted 3 days ago that Gold will reach 1900 🤟🏻 That’s the difference between Traders &amp; Market Analyst… https://t.co/9r0aBOnuZD', 'Timestamp': datetime.datetime(2022, 2, 17, 19, 41, 50, tzinfo=datetime.timezone.utc)}, {'Tweet': '@goldsilver_pros Liftoff with a statement and an attitude \\n#XAUUSD #gold #silver https://t.co/KurShKHlKU', 'Timestamp': datetime.datetime(2022, 2, 17, 19, 37, 6, tzinfo=datetime.timezone.utc)}, {'Tweet': '$XAUUSD #Gold https://t.co/cQ9ADKFjFY', 'Timestamp': datetime.datetime(2022, 2, 17, 19, 36, 48, tzinfo=datetime.timezone.utc)}, {'Tweet': 'Global Emotional State Sign (GESS) index on 18/02/22, will remain extremely negative. \\n#xauusd #gold positive.… https://t.co/v7LgZNktGk', 'Timestamp': datetime.datetime(2022, 2, 17, 19, 31, 27, tzinfo=datetime.timezone.utc)}, {'Tweet': 'A nice break of the 1x2\\nnot impossible for this to just keep going; but without a break &amp; close over the June 2021… https://t.co/zoXWuQZ3xe', 'Timestamp': datetime.datetime(2022, 2, 17, 19, 26, 33, tzinfo=datetime.timezone.utc)}, {'Tweet': 'RT @DetectiveForex: XAU/USD (Gold) Next Possible Movement.\\n\\nFor Signal And Updates Join Our Telegram Channel for Free. \\nClick the Link Belo…', 'Timestamp': datetime.datetime(2022, 2, 17, 19, 22, 23, tzinfo=datetime.timezone.utc)}, {'Tweet': 'RT @hasan_yavuzturk: #altın #xauusd #gold #dolar #xu100 #borsa #fx #onsaltin \\n\\n#GRAMALTIN \\n\\n809 üzerinde kalıcı olursa\\n♦hedefler\\n►881\\n►959…', 'Timestamp': datetime.datetime(2022, 2, 17, 19, 20, 57, tzinfo=datetime.timezone.utc)}, {'Tweet': 'RT @savasayyildiz: #xauusd #onsaltin #gold #ONS ☣️☢️DESCENDİNG TRİANGLES☣️ https://t.co/HRP9Hy2sOG', 'Timestamp': datetime.datetime(2022, 2, 17, 19, 19, 48, tzinfo=datetime.timezone.utc)}, {'Tweet': 'RT @DadoRTMS: Service will start Monday. The next batch will start after 12 weeks. Joining the service must be at the start of a batch.\\n\\n$G…', 'Timestamp': datetime.datetime(2022, 2, 17, 19, 18, 50, tzinfo=datetime.timezone.utc)}, {'Tweet': '#altın #xauusd #gold #dolar #xu100 #borsa #fx #onsaltin \\n\\n#GRAMALTIN \\n\\n809 üzerinde kalıcı olursa\\n♦hedefler\\n►881\\n►9… https://t.co/wTK2Lf30ko', 'Timestamp': datetime.datetime(2022, 2, 17, 19, 16, 52, tzinfo=datetime.timezone.utc)}, {'Tweet': '#altın #xauusd #gold #dolar #foreks #forex #fx #onsaltin \\n\\n#gramaltın https://t.co/cdhKuQB1xL https://t.co/TUgS0TsQJH', 'Timestamp': datetime.datetime(2022, 2, 17, 19, 15, 23, tzinfo=datetime.timezone.utc)}, {'Tweet': 'RT @DadoRTMS: Managed account service now available, 12 weeks, double your account.\\n\\n*DM for details*\\n\\n$GOLD #GOLD $XAUUSD #XAUUSD $SILVER…', 'Timestamp': datetime.datetime(2022, 2, 17, 19, 15, 9, tzinfo=datetime.timezone.utc)}, {'Tweet': \"RT @Trader097: Now it's time for the Sell: if #gold can't break the resistance level 1900-1902, aboustely fall for while.\\nSell 1900-1902\\nTP…\", 'Timestamp': datetime.datetime(2022, 2, 17, 19, 11, 49, tzinfo=datetime.timezone.utc)}, {'Tweet': 'RT @Quet__Mkalawa: Sell gold 1900 tp 1890 #gold #XAUUSD https://t.co/CJJoh5QBYP', 'Timestamp': datetime.datetime(2022, 2, 17, 19, 10, 34, tzinfo=datetime.timezone.utc)}, {'Tweet': 'RT @GoldTradingPK: #XAUUSD #GOLD SIGNAL\\nSELL : 1895 - 1897\\nTP: 1893 - 1890 - 1880\\nSL : 1901 or Set Your StopLoss According to Your Margin', 'Timestamp': datetime.datetime(2022, 2, 17, 19, 7, 56, tzinfo=datetime.timezone.utc)}, {'Tweet': 'RT @malak200a: #تداول #فوركس #تحليل #الدهب\\n#forextrader #gold #XAUUSD\\nوصل لهدف الصفقه ١٩٠١ بفضل الله\\nتابعوني على قناتي 👇 👇\\nhttps://t.co/PQl…', 'Timestamp': datetime.datetime(2022, 2, 17, 19, 7, 1, tzinfo=datetime.timezone.utc)}, {'Tweet': 'RT @kun_purich: ⚠️ หลังจากที่มีการ Update #Dashboard\\n\\nถ้าข้อมูลยังไม่มีการ #Update ตามการแจ้งเตือนของ Twitter ให้กดปุ่ม #Refresh ดังภาพ เ…', 'Timestamp': datetime.datetime(2022, 2, 17, 19, 6, 17, tzinfo=datetime.timezone.utc)}, {'Tweet': 'RT @DadoRTMS: Service will start Monday. The next batch will start after 12 weeks. Joining the service must be at the start of a batch.\\n\\n$G…', 'Timestamp': datetime.datetime(2022, 2, 17, 19, 3, 21, tzinfo=datetime.timezone.utc)}, {'Tweet': 'XAU/USD (Gold) Next Possible Movement.\\n\\nFor Signal And Updates Join Our Telegram Channel for Free. \\nClick the Link… https://t.co/W3PzwmuRfF', 'Timestamp': datetime.datetime(2022, 2, 17, 19, 2, 52, tzinfo=datetime.timezone.utc)}, {'Tweet': 'Gold is $1896.66/ozt @ 19:00 UTC.\\n\\n24H change: +$31.73 (+1.70%)\\n30D change: +$78.84 (+4.34%)\\n\\n#GOLD $XAU $XAUUSD', 'Timestamp': datetime.datetime(2022, 2, 17, 19, 0, 6, tzinfo=datetime.timezone.utc)}, {'Tweet': 'RT @borsa_ben: Endeks #pivot noktaları başarının anahtarı.ytd  18.02.2022\\n#xu100   #xu030 #f_xu0301221 #viop #brent #usdtry #dax #spx500 #a…', 'Timestamp': datetime.datetime(2022, 2, 17, 18, 58, 41, tzinfo=datetime.timezone.utc)}, {'Tweet': '大きな指標時の後の動きには通貨によってパターンがある\\nhttps://t.co/1Y5LQhYHFE\\n\\n#FX #FOREX #BTC #Crypto #GOLD #XAUUSD #LN #XRP #ETH #NFT #FOMC', 'Timestamp': datetime.datetime(2022, 2, 17, 18, 56, tzinfo=datetime.timezone.utc)}, {'Tweet': 'Service will start Monday. The next batch will start after 12 weeks. Joining the service must be at the start of a… https://t.co/v3ZMZuvp7L', 'Timestamp': datetime.datetime(2022, 2, 17, 18, 55, 16, tzinfo=datetime.timezone.utc)}, {'Tweet': 'Le #gold $XAUUSD serait en passe de se dépêtrer de sa tendance haussière depuis août 2020. Tout proche des 1910$. https://t.co/yPi7QQmRm7', 'Timestamp': datetime.datetime(2022, 2, 17, 18, 54, 3, tzinfo=datetime.timezone.utc)}, {'Tweet': 'Endeks #pivot noktaları başarının anahtarı.ytd  18.02.2022\\n#xu100   #xu030 #f_xu0301221 #viop #brent #usdtry #dax… https://t.co/2WEv8PAKJj', 'Timestamp': datetime.datetime(2022, 2, 17, 18, 47, 28, tzinfo=datetime.timezone.utc)}, {'Tweet': '#تداول #فوركس #تحليل #الدهب\\n#forextrader #gold #XAUUSD\\nوصل لهدف الصفقه ١٩٠١ بفضل الله\\nتابعوني على قناتي 👇 👇… https://t.co/fnYUOtO23W', 'Timestamp': datetime.datetime(2022, 2, 17, 18, 44, 48, tzinfo=datetime.timezone.utc)}, {'Tweet': '⚠️ หลังจากที่มีการ Update #Dashboard\\n\\nถ้าข้อมูลยังไม่มีการ #Update ตามการแจ้งเตือนของ Twitter ให้กดปุ่ม #Refresh ดั… https://t.co/xwCGi8m3Zi', 'Timestamp': datetime.datetime(2022, 2, 17, 18, 36, 51, tzinfo=datetime.timezone.utc)}, {'Tweet': 'Can #Gold continue higher? https://t.co/tNQveSI1QF $XAUUSD weekend reading on point', 'Timestamp': datetime.datetime(2022, 2, 17, 18, 36, 1, tzinfo=datetime.timezone.utc)}, {'Tweet': '#XAUUSD H4 13:04 Up Trend BUY advice\\n\\nThis is a very positive signal! Three consecutive wave degrees show a clear P… https://t.co/Bt6vUlQbIZ', 'Timestamp': datetime.datetime(2022, 2, 17, 18, 35, 26, tzinfo=datetime.timezone.utc)}, {'Tweet': '#xauusd #gold $1900', 'Timestamp': datetime.datetime(2022, 2, 17, 18, 33, 29, tzinfo=datetime.timezone.utc)}, {'Tweet': '#XAUUSD 1D, RSI has popped up through trend now, gold up 30$ or 1.6% overnight, a retest of recent high will give g… https://t.co/Kt6XTx16Bi', 'Timestamp': datetime.datetime(2022, 2, 17, 18, 30, 23, tzinfo=datetime.timezone.utc)}, {'Tweet': 'Great advance in $GOLD last week. #XAUUSD #goldprice #GOLD #silversqueeze https://t.co/7iURmyA5Wb', 'Timestamp': datetime.datetime(2022, 2, 17, 18, 29, 23, tzinfo=datetime.timezone.utc)}, {'Tweet': 'Gold hits 1900 🎯🎯🎯 \\n#XAUUSD #GOLD https://t.co/zdbOCAKwYe https://t.co/w5kcUzxWVD', 'Timestamp': datetime.datetime(2022, 2, 17, 18, 28, 15, tzinfo=datetime.timezone.utc)}, {'Tweet': '#XAUUSD Daily 13:07 Up Trend BUY advice\\n\\nThis is a very positive signal! Three consecutive wave degrees show a clea… https://t.co/YsmWfedRDd', 'Timestamp': datetime.datetime(2022, 2, 17, 18, 27, 44, tzinfo=datetime.timezone.utc)}, {'Tweet': 'RT @JoeP_FOREXcom: 💥 Gold higher on Russia/Ukraine geopolitical uncertainty\\n#Gold #XAUUSD #russia #Ukraine \\n\\nhttps://t.co/uYbVQq14cp https:…', 'Timestamp': datetime.datetime(2022, 2, 17, 18, 23, 6, tzinfo=datetime.timezone.utc)}, {'Tweet': 'Sell gold 1900 tp 1890 #gold #XAUUSD https://t.co/CJJoh5QBYP', 'Timestamp': datetime.datetime(2022, 2, 17, 18, 21, 55, tzinfo=datetime.timezone.utc)}, {'Tweet': '#Gold has room to extend its advance, despite technical overbought readings https://t.co/NnVcIM4aid #XAU #XAUUSD $XAU $XAUUSD', 'Timestamp': datetime.datetime(2022, 2, 17, 18, 20, 19, tzinfo=datetime.timezone.utc)}, {'Tweet': 'RT @Palmieri888: #GOLD  #XAUUSD  \\nbe  #ICEROCK \\n\\n   Así las cosas. https://t.co/ZA6TqfqueX', 'Timestamp': datetime.datetime(2022, 2, 17, 18, 17, 7, tzinfo=datetime.timezone.utc)}, {'Tweet': 'RT @MarketsRadio: And the big Winner 🏆 of the day is... #GOLD $XAUUSD 🪙 going thru our target 1,908. Do not miss this kind of opportunity.…', 'Timestamp': datetime.datetime(2022, 2, 17, 18, 16, 31, tzinfo=datetime.timezone.utc)}, {'Tweet': \"RT @Linda_XAUUSD: This concludes today's trading tips\\n#Gold rises sharply due to sudden change in Russia-Ukraine situation\\nCaused the signa…\", 'Timestamp': datetime.datetime(2022, 2, 17, 18, 14, 53, tzinfo=datetime.timezone.utc)}, {'Tweet': 'Shorting gold amid escalating geopolitical crisis is 👇suicidal 🤷\\u200d♀️🙄 #XAUUSD #GOLD #RussiaUkraineCrisis https://t.co/sxhxSHnUAt', 'Timestamp': datetime.datetime(2022, 2, 17, 18, 11, tzinfo=datetime.timezone.utc)}, {'Tweet': 'Gold is $1896.77/ozt @ 18:00 UTC.\\n\\n24H change: +$28.68 (+1.54%)\\n30D change: +$79.21 (+4.36%)\\n\\n#GOLD $XAU $XAUUSD', 'Timestamp': datetime.datetime(2022, 2, 17, 18, 0, 6, tzinfo=datetime.timezone.utc)}, {'Tweet': 'RT @mayyapaportfah: Sell gold 1900-1906 sl 1907\\n(Put sl to the break even when it give you some profit) #gold #XAUUSD #เทรดทอง #เทรดทองคำ', 'Timestamp': datetime.datetime(2022, 2, 17, 17, 59, 15, tzinfo=datetime.timezone.utc)}, {'Tweet': 'RT @Gold___QUEEN: Above the #gold, focus on the first-line resistance of 1900-1905, and focus on the first-line support at 1870-1865 in the…', 'Timestamp': datetime.datetime(2022, 2, 17, 17, 57, 26, tzinfo=datetime.timezone.utc)}, {'Tweet': \"Now it's time for the Sell: if #gold can't break the resistance level 1900-1902, aboustely fall for while.\\nSell 190… https://t.co/iFj2HREjaE\", 'Timestamp': datetime.datetime(2022, 2, 17, 17, 57, 25, tzinfo=datetime.timezone.utc)}, {'Tweet': 'Targets: \\nXAUUSD 1910\\nGBPUSD 1.3740\\n\\n#forex #stocks #currency #gbpusd #gold #xauusd https://t.co/cFC5ldEPEz', 'Timestamp': datetime.datetime(2022, 2, 17, 17, 57, 23, tzinfo=datetime.timezone.utc)}, {'Tweet': '俺は転換基準線のみのトレードをするようになってから資産が増大した\\nhttps://t.co/qeIGcglFMh\\n\\n#FX #FOREX #BTC #Crypto #GOLD #XAUUSD #LN #XRP #ETH #NFT #FOMC', 'Timestamp': datetime.datetime(2022, 2, 17, 17, 56, tzinfo=datetime.timezone.utc)}, {'Tweet': 'ไม่ได้เล่น แต่เห็นสวยดี5555555 #Gold #XAUUSD https://t.co/WPX43jlk1f', 'Timestamp': datetime.datetime(2022, 2, 17, 17, 55, 23, tzinfo=datetime.timezone.utc)}, {'Tweet': '#ゴールド #XAUUSD #GOLD \\n1900に到達🐭✨♬\\nウェッジ注意報🚔⚠️\\nさー売り場さがそ～\\n1902.8ー1907.5\\n1916ー1923.3？ https://t.co/vuG8Lfgpvg', 'Timestamp': datetime.datetime(2022, 2, 17, 17, 54, 21, tzinfo=datetime.timezone.utc)}, {'Tweet': '#XauUsd 🚫 #Gold 🚫 #Metal\\n.\\nOrder has been executed 🙂🙂🙂 https://t.co/IvCSNerLFd', 'Timestamp': datetime.datetime(2022, 2, 17, 17, 53, 19, tzinfo=datetime.timezone.utc)}, {'Tweet': '1900ドル回復、去年5月ぶり高値\\n\\n戦略の下方修正を重ね、ようやく。\\n長かった。\\n\\n#GOLD #XAUUSD https://t.co/gOky1AaUhU', 'Timestamp': datetime.datetime(2022, 2, 17, 17, 52, 49, tzinfo=datetime.timezone.utc)}, {'Tweet': '#Gold from another angle \\n161% Fibonacci reached \\n#XAUUSD \\nالذهب من زاوية اخرى \\n١٦١٪ فيبو https://t.co/987vc2fXyp https://t.co/RPtMql86NH', 'Timestamp': datetime.datetime(2022, 2, 17, 17, 51, 18, tzinfo=datetime.timezone.utc)}, {'Tweet': '#XauUsd 🚫 #Gold 🚫 #Metal\\n.\\nTarget 1.  1900\\nDone ✅ Successfully ✅ https://t.co/qHanKUPNdl', 'Timestamp': datetime.datetime(2022, 2, 17, 17, 50, 7, tzinfo=datetime.timezone.utc)}, {'Tweet': \"There it is, $1900 #gold... \\n\\nThat's enough excitement for today 🍷\\n\\n#XAUUSD https://t.co/D6QgdGGbkU\", 'Timestamp': datetime.datetime(2022, 2, 17, 17, 49, 4, tzinfo=datetime.timezone.utc)}, {'Tweet': \"Ons altın an itibariyle 1900'u vurdu.\\n#Gold #Altın #XAUUSD\", 'Timestamp': datetime.datetime(2022, 2, 17, 17, 48, 35, tzinfo=datetime.timezone.utc)}, {'Tweet': 'RT @FXstreetNews: Breaking: Gold hits $1900 as Russia/Ukraine/NATO tensions simmer By @FXstreetNews https://t.co/x7Tgdx0Anv #Breaking #XAUU…', 'Timestamp': datetime.datetime(2022, 2, 17, 17, 46, 58, tzinfo=datetime.timezone.utc)}, {'Tweet': 'Breaking: Gold hits $1900 as Russia/Ukraine/NATO tensions simmer By @FXstreetNews https://t.co/x7Tgdx0Anv #Breaking #XAUUSD #Gold', 'Timestamp': datetime.datetime(2022, 2, 17, 17, 46, 40, tzinfo=datetime.timezone.utc)}, {'Tweet': '#Gold extended its advance toward $1,900 an ounce after President #JoeBiden warned that the probability of a… https://t.co/A9bNOAMNHu', 'Timestamp': datetime.datetime(2022, 2, 17, 17, 46, 18, tzinfo=datetime.timezone.utc)}, {'Tweet': 'And the big Winner 🏆 of the day is... #GOLD $XAUUSD 🪙 going thru our target 1,908. Do not miss this kind of opportu… https://t.co/R47QDXYwqn', 'Timestamp': datetime.datetime(2022, 2, 17, 17, 44, 4, tzinfo=datetime.timezone.utc)}, {'Tweet': '#Gold #XAUUSD at $1900 resistance.\\n@PeterSchiff pushing hard', 'Timestamp': datetime.datetime(2022, 2, 17, 17, 43, 45, tzinfo=datetime.timezone.utc)}, {'Tweet': 'Looks like gold could be breaking the 1900 again\\n#tradingview #XAUUSD #Gold #forex #Futures https://t.co/rnB1eyADg5', 'Timestamp': datetime.datetime(2022, 2, 17, 17, 42, 18, tzinfo=datetime.timezone.utc)}, {'Tweet': 'RT @bayan_nabeel: #gold intraday chart \\nSquare of 9 ... cycle done .. could be over for gold 🤞#XAUUSD \\nالذهب فاصل لحظي .. مربع جان \\nدورة كا…', 'Timestamp': datetime.datetime(2022, 2, 17, 17, 42, 9, tzinfo=datetime.timezone.utc)}, {'Tweet': '@TaEeECEnSWncqaI 500 pips profit from #XAUUSD #gold #xauusd #gold #xauusd in upside view.\\nProbably i will buy in th… https://t.co/v8H8ZZTFK4', 'Timestamp': datetime.datetime(2022, 2, 17, 17, 39, 35, tzinfo=datetime.timezone.utc)}, {'Tweet': '@trendtrader3333 500 pips profit from #XAUUSD #gold #xauusd #gold #xauusd in upside view.\\nProbably i will buy in th… https://t.co/qY8f46lDQf', 'Timestamp': datetime.datetime(2022, 2, 17, 17, 39, 3, tzinfo=datetime.timezone.utc)}, {'Tweet': '@Matsuchika2 500 pips profit from #XAUUSD #gold #xauusd #gold #xauusd in upside view.\\nProbably i will buy in the di… https://t.co/UeBZctd41Z', 'Timestamp': datetime.datetime(2022, 2, 17, 17, 38, 24, tzinfo=datetime.timezone.utc)}, {'Tweet': '@Movahedex @tradingview 500 pips profit from #XAUUSD #gold #xauusd #gold #xauusd in upside view.\\nProbably i will bu… https://t.co/HluozmMzfh', 'Timestamp': datetime.datetime(2022, 2, 17, 17, 37, 35, tzinfo=datetime.timezone.utc)}, {'Tweet': 'altın #XAUUSD\\n#gold      #ALTIN     $gold   #usd \\n#borsa #xu100 #xu030 #bist #borsaistanbul \\ntrend çalışması https://t.co/IFB2eQFJ5F', 'Timestamp': datetime.datetime(2022, 2, 17, 17, 34, 52, tzinfo=datetime.timezone.utc)}, {'Tweet': 'Gold Price Forecast: Bullish breakout as imminent as Russian invasion By @ValBednarik https://t.co/1HejIFdQoU #Gold… https://t.co/JQMaJ296qd', 'Timestamp': datetime.datetime(2022, 2, 17, 17, 32, 59, tzinfo=datetime.timezone.utc)}, {'Tweet': 'Gold flying 1899🚀🚀\\nTo know more accurate trade in gold DM me.\\n\\n#forex #comex #Gold #Russia #RussiaUkraineCrisis… https://t.co/uPYrx3CxIq', 'Timestamp': datetime.datetime(2022, 2, 17, 17, 31, 1, tzinfo=datetime.timezone.utc)}, {'Tweet': \"RT @Profit_Makers: What's your next Gold Target?\\n\\nMy target is still the same 51200..\\n\\n#Gold #Goldcoin #GoldTrading #XAUUSD #MCX\", 'Timestamp': datetime.datetime(2022, 2, 17, 17, 30, 7, tzinfo=datetime.timezone.utc)}, {'Tweet': 'The plan was clear from this summer, the level also, but every time i was kill before the move. For me this is very… https://t.co/WYG3ueZDEv', 'Timestamp': datetime.datetime(2022, 2, 17, 17, 28, 35, tzinfo=datetime.timezone.utc)}, {'Tweet': '@rsitradingrobot 500 pips profit from #XAUUSD #gold #xauusd #gold #xauusd in upside view.\\nProbably i will buy in th… https://t.co/qxsQdJ5bCQ', 'Timestamp': datetime.datetime(2022, 2, 17, 17, 28, 23, tzinfo=datetime.timezone.utc)}, {'Tweet': '@rsitradingrobot 500 pips profit from #XAUUSD #gold #xauusd #gold #xauusd in upside view.\\nProbably i will buy in th… https://t.co/XgRyi2eIHj', 'Timestamp': datetime.datetime(2022, 2, 17, 17, 27, 53, tzinfo=datetime.timezone.utc)}, {'Tweet': '@Hi_xauusd 500 pips profit from #XAUUSD #gold #xauusd #gold #xauusd in upside view.\\nProbably i will buy in the dip… https://t.co/8IFRmSuui2', 'Timestamp': datetime.datetime(2022, 2, 17, 17, 27, 8, tzinfo=datetime.timezone.utc)}, {'Tweet': '@tradeatlove 500 pips profit from #XAUUSD #gold #xauusd #gold #xauusd in upside view.\\nProbably i will buy in the di… https://t.co/bgdlAVlvSB', 'Timestamp': datetime.datetime(2022, 2, 17, 17, 26, 37, tzinfo=datetime.timezone.utc)}, {'Tweet': '@DU09BTC @tradingview 500 pips profit from #XAUUSD #gold #xauusd #gold #xauusd in upside view.\\nProbably i will buy… https://t.co/2NImpF2YE2', 'Timestamp': datetime.datetime(2022, 2, 17, 17, 26, 11, tzinfo=datetime.timezone.utc)}, {'Tweet': '@KKB2010 @PeterSchiff 500 pips profit from #XAUUSD #gold #xauusd #gold #xauusd in upside view.\\nProbably i will buy… https://t.co/VWSsB6CRpA', 'Timestamp': datetime.datetime(2022, 2, 17, 17, 25, 39, tzinfo=datetime.timezone.utc)}, {'Tweet': 'RT @JoeP_FOREXcom: 💥 Gold higher on Russia/Ukraine geopolitical uncertainty\\n#Gold #XAUUSD #russia #Ukraine \\n\\nhttps://t.co/uYbVQq14cp https:…', 'Timestamp': datetime.datetime(2022, 2, 17, 17, 24, 56, tzinfo=datetime.timezone.utc)}, {'Tweet': '#XauUsd 🚫 #Gold 🚫 #Metal\\n .\\n1900-1903 sell Area \\nStop loss 1905 or hedge for 1911\\nTarget 1.        1882\\nTarget 2.… https://t.co/feD52TNfwl', 'Timestamp': datetime.datetime(2022, 2, 17, 17, 24, 55, tzinfo=datetime.timezone.utc)}, {'Tweet': 'RT @JoeP_FOREXcom: 💥 Gold higher on Russia/Ukraine geopolitical uncertainty\\n#Gold #XAUUSD #russia #Ukraine \\n\\nhttps://t.co/uYbVQq14cp https:…', 'Timestamp': datetime.datetime(2022, 2, 17, 17, 24, 38, tzinfo=datetime.timezone.utc)}, {'Tweet': '💥 Gold higher on Russia/Ukraine geopolitical uncertainty\\n#Gold #XAUUSD #russia #Ukraine \\n\\nhttps://t.co/LpHB3x1y3l https://t.co/RrvSzbysn4', 'Timestamp': datetime.datetime(2022, 2, 17, 17, 24, 30, tzinfo=datetime.timezone.utc)}, {'Tweet': \"History has taught us that when #gold's big cups break out big gains follow!\\n\\n#XAUUSD https://t.co/Wbj2Kikepx\", 'Timestamp': datetime.datetime(2022, 2, 17, 17, 24, 27, tzinfo=datetime.timezone.utc)}, {'Tweet': '@alpertrading 500 pips profit from #XAUUSD #gold #xauusd #gold #xauusd in upside view.\\nProbably i will buy in the d… https://t.co/tJng6h8L2N', 'Timestamp': datetime.datetime(2022, 2, 17, 17, 24, 15, tzinfo=datetime.timezone.utc)}, {'Tweet': '@gozanli_ 500 pips profit from #XAUUSD #gold #xauusd #gold #xauusd in upside view.\\nProbably i will buy in the dip i… https://t.co/Upr8cVlz3Q', 'Timestamp': datetime.datetime(2022, 2, 17, 17, 23, 31, tzinfo=datetime.timezone.utc)}, {'Tweet': 'RT @JoeP_FOREXcom: 💥 Gold higher on Russia/Ukraine geopolitical uncertainty\\n#Gold #XAUUSD #russia #Ukraine \\n\\nhttps://t.co/uYbVQq14cp https:…', 'Timestamp': datetime.datetime(2022, 2, 17, 17, 23, 18, tzinfo=datetime.timezone.utc)}, {'Tweet': '@Arman_Trading @tradingview 500 pips profit from #XAUUSD #gold #xauusd #gold #xauusd in upside view.\\nProbably i wil… https://t.co/qgmw83VCCU', 'Timestamp': datetime.datetime(2022, 2, 17, 17, 23, 6, tzinfo=datetime.timezone.utc)}, {'Tweet': 'RT @bilmis_adam: #xauusd #ons #gold #altın ne demiştik, kafayı yukarı kaldırdı. Hedefler belli 👇\\n#bist100 #xautryg https://t.co/nwsDmS6vgM', 'Timestamp': datetime.datetime(2022, 2, 17, 17, 22, 48, tzinfo=datetime.timezone.utc)}, {'Tweet': '💥 Gold higher on Russia/Ukraine geopolitical uncertainty\\n#Gold #XAUUSD #russia #Ukraine \\n\\nhttps://t.co/uYbVQq14cp https://t.co/fLNinUPpQ2', 'Timestamp': datetime.datetime(2022, 2, 17, 17, 22, 48, tzinfo=datetime.timezone.utc)}, {'Tweet': '@ReetheshRaj 500 pips profit from #XAUUSD #gold #xauusd #gold #xauusd in upside view.\\nProbably i will buy in the di… https://t.co/Ge7BI40vCr', 'Timestamp': datetime.datetime(2022, 2, 17, 17, 22, 31, tzinfo=datetime.timezone.utc)}, {'Tweet': '@JakubMikaST_EX 500 pips profit from #XAUUSD #gold #xauusd #gold #xauusd in upside view.\\nProbably i will buy in the… https://t.co/R5ph2Y9Gm2', 'Timestamp': datetime.datetime(2022, 2, 17, 17, 22, tzinfo=datetime.timezone.utc)}, {'Tweet': '#xauusd #ons #gold #altın ne demiştik, kafayı yukarı kaldırdı. Hedefler belli 👇\\n#bist100 #xautryg… https://t.co/dswzXEdSil', 'Timestamp': datetime.datetime(2022, 2, 17, 17, 21, 50, tzinfo=datetime.timezone.utc)}, {'Tweet': '@mayyapaportfah 500 pips profit from #XAUUSD #gold #xauusd #gold #xauusd in upside view.\\nProbably i will buy in the… https://t.co/vMlY9PMvzK', 'Timestamp': datetime.datetime(2022, 2, 17, 17, 21, 31, tzinfo=datetime.timezone.utc)}, {'Tweet': '@bayan_nabeel 500 pips profit from #XAUUSD #gold #xauusd #gold #xauusd in upside view.\\nProbably i will buy in the d… https://t.co/lDvDksc3U3', 'Timestamp': datetime.datetime(2022, 2, 17, 17, 21, 2, tzinfo=datetime.timezone.utc)}, {'Tweet': '#XAUUSD\\n#GOLD IS BREAKING OUT 18 MONTHS OF TRIANGLE CONSOLIDATION!\\n\\n&gt;OBSERVE! https://t.co/Wwy8ru1tFA', 'Timestamp': datetime.datetime(2022, 2, 17, 17, 20, 30, tzinfo=datetime.timezone.utc)}, {'Tweet': '@_RDeveci @tradingview 500 pips profit from #XAUUSD #gold #xauusd #gold #xauusd in upside view.\\nProbably i will buy… https://t.co/9FqWdeudOL', 'Timestamp': datetime.datetime(2022, 2, 17, 17, 20, 29, tzinfo=datetime.timezone.utc)}, {'Tweet': '#xauusd #gold #dolar #teknik #analiz \\n\\nSabah ons altın 4 saatlik zaman diliminde paylaşılan grafik ve güncel hali e… https://t.co/StAHvoKyl7', 'Timestamp': datetime.datetime(2022, 2, 17, 17, 20, 1, tzinfo=datetime.timezone.utc)}, {'Tweet': '@mDull618 500 pips profit from #XAUUSD #gold #xauusd #gold #xauusd in upside view.\\nProbably i will buy in the dip i… https://t.co/P7FM63cYRt', 'Timestamp': datetime.datetime(2022, 2, 17, 17, 19, 52, tzinfo=datetime.timezone.utc)}, {'Tweet': '#GOLD  #XAUUSD  \\nbe  #ICEROCK \\n\\n   Así las cosas. https://t.co/ZA6TqfqueX', 'Timestamp': datetime.datetime(2022, 2, 17, 17, 19, 37, tzinfo=datetime.timezone.utc)}, {'Tweet': 'Gold price surges on renewed geopolitical tensions https://t.co/n2fztq1fzK #Gold #XAUUSD #Technical Analysis #ChartPatterns #Metals', 'Timestamp': datetime.datetime(2022, 2, 17, 17, 19, 18, tzinfo=datetime.timezone.utc)}, {'Tweet': '@sumipon_mutenka 500 pips profit from #XAUUSD #gold #xauusd #gold #xauusd in upside view.\\nProbably i will buy in th… https://t.co/rjndM5PraL', 'Timestamp': datetime.datetime(2022, 2, 17, 17, 19, tzinfo=datetime.timezone.utc)}, {'Tweet': '@ens1892 500 pips profit from #XAUUSD #gold #xauusd #gold #xauusd in upside view.\\nProbably i will buy in the dip in… https://t.co/33amg7lPt6', 'Timestamp': datetime.datetime(2022, 2, 17, 17, 18, 35, tzinfo=datetime.timezone.utc)}, {'Tweet': '@kcoskunol 500 pips profit from #XAUUSD #gold #xauusd in upside view.\\nProbably i will buy in the dip in retracement… https://t.co/nW7uxSuU0Y', 'Timestamp': datetime.datetime(2022, 2, 17, 17, 17, 59, tzinfo=datetime.timezone.utc)}, {'Tweet': 'Is it worth adding gold to your portfolio in 2022? By @Gold_Silver_SP https://t.co/Jk7NlFjFwv #Gold #XAUUSD… https://t.co/aZzJ6Kk327', 'Timestamp': datetime.datetime(2022, 2, 17, 17, 17, 41, tzinfo=datetime.timezone.utc)}, {'Tweet': '#rusya #rusya🇷🇺 #ukrayna gerilimi bir savaşa dönüşür mü? #bitcoin #btcusd #btcusdt #btcusdtperp #onsaltın #altın… https://t.co/5dBchVvybE', 'Timestamp': datetime.datetime(2022, 2, 17, 17, 17, 8, tzinfo=datetime.timezone.utc)}, {'Tweet': \"#XauUsd 🚫 #Gold 🚫 #Metal\\n.\\nEnough For Today ... I'm out from trades Now 😀\\nTotal For Today 🙂 220 pips ✅\\nFrom 1867 to… https://t.co/WdaGwzFz3i\", 'Timestamp': datetime.datetime(2022, 2, 17, 17, 9, 7, tzinfo=datetime.timezone.utc)}, {'Tweet': 'Tp✅\\n#XAUUSD #GOLD #gold $gold $xauusd $GOLD https://t.co/CmFq2hoAvA', 'Timestamp': datetime.datetime(2022, 2, 17, 17, 8, 59, tzinfo=datetime.timezone.utc)}, {'Tweet': 'RT @GoldTradingPK: #XAUUSD #GOLD SIGNAL\\nSELL : 1895 - 1897\\nTP: 1893 - 1890 - 1880\\nSL : 1901 or Set Your StopLoss According to Your Margin', 'Timestamp': datetime.datetime(2022, 2, 17, 17, 7, 16, tzinfo=datetime.timezone.utc)}, {'Tweet': 'Tp3 final target hit on gold.\\n\\nFollow for more signals and updates.\\n\\n#xauusd #gold #forex @Julia07594047 https://t.co/iysxcYE3eR', 'Timestamp': datetime.datetime(2022, 2, 17, 17, 4, 56, tzinfo=datetime.timezone.utc)}, {'Tweet': '#gold intraday chart \\nSquare of 9 ... cycle done .. could be over for gold 🤞#XAUUSD \\nالذهب فاصل لحظي .. مربع جان \\nد… https://t.co/Ih06jUVq1j', 'Timestamp': datetime.datetime(2022, 2, 17, 17, 3, 30, tzinfo=datetime.timezone.utc)}, {'Tweet': 'The golden age has come, gold will break through 1900\\nNeed accurate trading signals contact my Whatsapp:… https://t.co/E5pX8n1Rmy', 'Timestamp': datetime.datetime(2022, 2, 17, 17, 3, 2, tzinfo=datetime.timezone.utc)}, {'Tweet': '$XAUUSD [TF: D1 ] 1,895.87 #chart #PnF #renko #candle #forex #gold #python https://t.co/f401NBDTjE', 'Timestamp': datetime.datetime(2022, 2, 17, 17, 1, 57, tzinfo=datetime.timezone.utc)}, {'Tweet': '#XauUsd 🚫 #Gold 🚫 #Metal\\n.\\nSecured 70% positions with profit\\nAt 1897.\\nAnd 30% left for respected Targets\\nWith SL to… https://t.co/cSaYS4BZDu', 'Timestamp': datetime.datetime(2022, 2, 17, 17, 1, 2, tzinfo=datetime.timezone.utc)}, {'Tweet': 'Gold is $1895.65/ozt @ 17:00 UTC.\\n\\n24H change: +$31.16 (+1.67%)\\n30D change: +$78.32 (+4.31%)\\n\\n#GOLD $XAU $XAUUSD', 'Timestamp': datetime.datetime(2022, 2, 17, 17, 0, 6, tzinfo=datetime.timezone.utc)}, {'Tweet': \"Today's 2nd #Gold trade on personal telegram\\n\\nAll target Hit\\n\\nFollow and message for signals.\\n\\n#xauusd #gold… https://t.co/yGlgdoSHH5\", 'Timestamp': datetime.datetime(2022, 2, 17, 16, 59, 46, tzinfo=datetime.timezone.utc)}, {'Tweet': 'Złoto przekroczy dzisiaj 1900$? #xauusd #gold', 'Timestamp': datetime.datetime(2022, 2, 17, 16, 58, 51, tzinfo=datetime.timezone.utc)}, {'Tweet': '俺見てるのはForexProfitSupremeMeterというのです\\nhttps://t.co/nqx1HmkFV3\\n\\n#FX #FOREX #BTC #Crypto #GOLD #XAUUSD #LN #XRP #ETH #NFT #FOMC', 'Timestamp': datetime.datetime(2022, 2, 17, 16, 55, tzinfo=datetime.timezone.utc)}, {'Tweet': '#XAUUSD Gold made a breakout \\nmay continue its trend upward\\n#Gold #tradingpsychology https://t.co/RuGxZ75b1g', 'Timestamp': datetime.datetime(2022, 2, 17, 16, 54, 30, tzinfo=datetime.timezone.utc)}, {'Tweet': \"RT @MBForex: #Gold Breakout!\\n\\n$XAUUSD Daily\\n\\nUpdate to yesterday's Gold Outlook-\\nhttps://t.co/rVZpEU6G5B https://t.co/9SGpjqYDpd\", 'Timestamp': datetime.datetime(2022, 2, 17, 16, 49, 55, tzinfo=datetime.timezone.utc)}, {'Tweet': 'Biggest pump n dump of the year coming in #Gold #gold #xauusd #GLD #commodity #financialmarkets', 'Timestamp': datetime.datetime(2022, 2, 17, 16, 49, 32, tzinfo=datetime.timezone.utc)}, {'Tweet': 'RT @saser0101: #Gold #XAUUSD #BTC #BITCOIN \\n\\nOro en semanal.\\n\\nEn momentos así sube mientras BTC cae.\\n\\nCreo que se va entendiendo el tema de…', 'Timestamp': datetime.datetime(2022, 2, 17, 16, 42, 14, tzinfo=datetime.timezone.utc)}, {'Tweet': '#XAUUSD #GOLD SIGNAL\\nSELL : 1895 - 1897\\nTP: 1893 - 1890 - 1880\\nSL : 1901 or Set Your StopLoss According to Your Margin', 'Timestamp': datetime.datetime(2022, 2, 17, 16, 40, 31, tzinfo=datetime.timezone.utc)}, {'Tweet': 'RT @TCENTRAL_FR: ↗️#XAUUSD $XAUUSD #Gold #GOLDS Intraday\\nBiais Haussier:\\nHaussier au-dessus pivot-support 1879\\nCibles 1894 &amp; 1900\\nGraph 30m…', 'Timestamp': datetime.datetime(2022, 2, 17, 16, 34, 45, tzinfo=datetime.timezone.utc)}, {'Tweet': '*COMEX CALL : BUY GOLD AT 1893 \\nGet TP and SL : https://t.co/mlK8qU6qYS\\n\\n#Gold #XAUUSD', 'Timestamp': datetime.datetime(2022, 2, 17, 16, 31, 15, tzinfo=datetime.timezone.utc)}, {'Tweet': 'The market this week is very good. Now the situation in Russia and Ukraine, gold has broken through 1790. If you do… https://t.co/6ogg1uiwvi', 'Timestamp': datetime.datetime(2022, 2, 17, 16, 30, 13, tzinfo=datetime.timezone.utc)}, {'Tweet': 'Meanwhile #GOLD #XAUUSD is eyeing the $2400 mark on this cup and handle formation. \\u2066@PeterSchiff\\u2069 must be buzzing r… https://t.co/ttgdRpiXTg', 'Timestamp': datetime.datetime(2022, 2, 17, 16, 27, 32, tzinfo=datetime.timezone.utc)}, {'Tweet': 'Bekijk dit Instagram-bericht van @beurspronl https://t.co/aVOF9G5zSx #beurspro #aex #dax #ftse #us30 #xauusd #gold… https://t.co/FAezPP2bYf', 'Timestamp': datetime.datetime(2022, 2, 17, 16, 27, 29, tzinfo=datetime.timezone.utc)}, {'Tweet': '500 #pips profit from #Gold #XAUUSD #Xau #goldin our upside view\\n#Traders #commodities #metals #commodity  #trading… https://t.co/jgFDJLSefS', 'Timestamp': datetime.datetime(2022, 2, 17, 16, 27, 9, tzinfo=datetime.timezone.utc)}, {'Tweet': \"The following is today's Gold Price in Rupiah denomination:\\n#hargaemashariini #goldprice #XAUUSD #xau #Gold\\nhttps://t.co/goKvmkjeqI\", 'Timestamp': datetime.datetime(2022, 2, 17, 16, 22, 34, tzinfo=datetime.timezone.utc)}, {'Tweet': 'In golden age Lily takes you to make profit Need accurate trading signals add my Whatsapp: https://t.co/4ymfKBhp1j… https://t.co/o1u65yUQh2', 'Timestamp': datetime.datetime(2022, 2, 17, 16, 21, 33, tzinfo=datetime.timezone.utc)}, {'Tweet': 'My body is ready for $1,900 #Gold  ... \\n\\n$XAUUSD #goud #beleggen #traden #investeren #aandelen #beurs… https://t.co/8M8wTwdoeX', 'Timestamp': datetime.datetime(2022, 2, 17, 16, 19, 53, tzinfo=datetime.timezone.utc)}, {'Tweet': \"@graddhybpc @Sheldon08638921 $GS @GoldmanSachs calls for 2150 #GOLD which means they're looking for another touch o… https://t.co/AAZmZb5Nrz\", 'Timestamp': datetime.datetime(2022, 2, 17, 16, 18, 25, tzinfo=datetime.timezone.utc)}, {'Tweet': 'Gold XAU-USD \\nThursday February 17, 2022\\n\\nSupport &amp; Resistance Level\\nTechnicall Confluences Detector\\n4-Hour \\n\\n#gold… https://t.co/Fuprucj6bx', 'Timestamp': datetime.datetime(2022, 2, 17, 16, 17, 15, tzinfo=datetime.timezone.utc)}, {'Tweet': 'The support and resistance are converted into the 1879-1877 area, and the defensive starting point is 1875 as the b… https://t.co/wRgb2E54Ks', 'Timestamp': datetime.datetime(2022, 2, 17, 16, 16, 39, tzinfo=datetime.timezone.utc)}, {'Tweet': 'gold price action #trading #XAUUSD #gold #forex https://t.co/hdlA0dXQhi', 'Timestamp': datetime.datetime(2022, 2, 17, 16, 16, 5, tzinfo=datetime.timezone.utc)}, {'Tweet': 'RT @skorkmaz_79: @hvandrie #XAUUSD #GOLD #onsaltin #forex #viop30 you only have one choice https://t.co/liOAv0Artk', 'Timestamp': datetime.datetime(2022, 2, 17, 16, 11, 9, tzinfo=datetime.timezone.utc)}, {'Tweet': 'RT @scalper432: 1930\\n1920\\n1900\\n\\n#xauusd #gold #UN #BANKING #MOSCOW #KREMLIN \\n\\nexited sell positions and offers raised', 'Timestamp': datetime.datetime(2022, 2, 17, 16, 9, 20, tzinfo=datetime.timezone.utc)}, {'Tweet': 'XAUUSD (Gold) Next Possible Movement.\\n\\nSignal with Proper SL and TP are Posted on Our Telegram Channel :… https://t.co/ReLhLfIMbK', 'Timestamp': datetime.datetime(2022, 2, 17, 16, 7, 40, tzinfo=datetime.timezone.utc)}, {'Tweet': 'RT @saser0101: #Gold #XAUUSD #BTC #BITCOIN \\n\\nOro en semanal.\\n\\nEn momentos así sube mientras BTC cae.\\n\\nCreo que se va entendiendo el tema de…', 'Timestamp': datetime.datetime(2022, 2, 17, 16, 7, 35, tzinfo=datetime.timezone.utc)}, {'Tweet': 'RT @xtradering: Gold \\nShortçulara selam olsun 1950 üstü kapanışlar 2400 2700 3000 gösterir  \\n12 aydır taşıdığım pozlar uğruna az daha sabır…', 'Timestamp': datetime.datetime(2022, 2, 17, 16, 6, 20, tzinfo=datetime.timezone.utc)}, {'Tweet': '#Gold chart analysis #xauusd https://t.co/RomZHGdUv2 via @YouTube', 'Timestamp': datetime.datetime(2022, 2, 17, 16, 5, 41, tzinfo=datetime.timezone.utc)}, {'Tweet': 'Spot #Gold advanced 1.4% on Thursday and hit new 8-month high, as renewed tensions over Ukraine and less hawkish th… https://t.co/CLeDVxC8eO', 'Timestamp': datetime.datetime(2022, 2, 17, 16, 5, 7, tzinfo=datetime.timezone.utc)}, {'Tweet': '#Gold #altın #xauusd #ons sell pozisyonu alındı https://t.co/Sj6HAh5lLr', 'Timestamp': datetime.datetime(2022, 2, 17, 16, 3, 23, tzinfo=datetime.timezone.utc)}, {'Tweet': 'Gold is $1892.94/ozt @ 16:00 UTC.\\n\\n24H change: +$31.30 (+1.68%)\\n30D change: +$75.85 (+4.17%)\\n\\n#GOLD $XAU $XAUUSD', 'Timestamp': datetime.datetime(2022, 2, 17, 16, 0, 6, tzinfo=datetime.timezone.utc)}, {'Tweet': '1930\\n1920\\n1900\\n\\n#xauusd #gold #UN #BANKING #MOSCOW #KREMLIN \\n\\nexited sell positions and offers raised', 'Timestamp': datetime.datetime(2022, 2, 17, 15, 58, 38, tzinfo=datetime.timezone.utc)}, {'Tweet': '#investors run to safe-havens. #Gold $XAUUSD prepares to break through $1,900 on the #RussiaUkraineCrisis rally.… https://t.co/if7FGAxg44', 'Timestamp': datetime.datetime(2022, 2, 17, 15, 57, 18, tzinfo=datetime.timezone.utc)}, {'Tweet': '#Gold #XAUUSD #BTC #BITCOIN \\n\\nOro en semanal.\\n\\nEn momentos así sube mientras BTC cae.\\n\\nCreo que se va entendiendo e… https://t.co/kQrlBi0DMy', 'Timestamp': datetime.datetime(2022, 2, 17, 15, 55, 7, tzinfo=datetime.timezone.utc)}, {'Tweet': '通貨強弱のインジしか見てない\\nhttps://t.co/hHhPdQfgE7\\n\\n#FX #FOREX #BTC #Crypto #GOLD #XAUUSD #LN #XRP #ETH #NFT #FOMC', 'Timestamp': datetime.datetime(2022, 2, 17, 15, 54, tzinfo=datetime.timezone.utc)}, {'Tweet': '$XAUUSD $GLD #Gold Finalmente después de tanto esperar, el oro rompió la resistencia con un volumen masivo. Ya haci… https://t.co/NmBvK77p53', 'Timestamp': datetime.datetime(2022, 2, 17, 15, 52, 31, tzinfo=datetime.timezone.utc)}, {'Tweet': '#todaysgoldfact\\n#todaysgoldfact\\n\\nOut of the 92 naturally occurring elements, gold ranks 58th in rarity. The rarest… https://t.co/JmCGSJFkZM', 'Timestamp': datetime.datetime(2022, 2, 17, 15, 52, tzinfo=datetime.timezone.utc)}, {'Tweet': 'まだまだ上げても大丈夫➿\\n\\n初心者兼業トレードにはしょぼトレが合っている説😋\\n\\nししゃもさんのサロン講師のカラスさんとしさとさんの元で資金管理を学んでからメンタルに優しいトレードができるようになった🙌\\nまだまだ勉強中です🙏… https://t.co/4yZYsddqWB', 'Timestamp': datetime.datetime(2022, 2, 17, 15, 50, 46, tzinfo=datetime.timezone.utc)}, {'Tweet': 'RT @DadoRTMS: Managed account service now available, 12 weeks, double your account.\\n\\n*DM for details*\\n\\n$GOLD #GOLD $XAUUSD #XAUUSD $SILVER…', 'Timestamp': datetime.datetime(2022, 2, 17, 15, 48, 3, tzinfo=datetime.timezone.utc)}, {'Tweet': 'RT @UFXstrategy: #xauusd #forexsignals #forextrader #forextrading\\nShort term scalping. #GOLD #accountingservices #ultimatefx #ufxs\\nFor more…', 'Timestamp': datetime.datetime(2022, 2, 17, 15, 44, 48, tzinfo=datetime.timezone.utc)}, {'Tweet': 'RT @UFXstrategy: #xauusd what world see is not important, what you see is important. Listen to your consciousness, he knows you better than…', 'Timestamp': datetime.datetime(2022, 2, 17, 15, 44, 41, tzinfo=datetime.timezone.utc)}, {'Tweet': 'RT @UFXstrategy: #xauusd #forexsignals morning signal.\\n 9:32Am.\\n#GOLD hit all tp.\\n#GOLD #forexsignals #forextrader #forextrading\\nTrading wi…', 'Timestamp': datetime.datetime(2022, 2, 17, 15, 44, 33, tzinfo=datetime.timezone.utc)}, {'Tweet': 'GOLD BULL RUNNING....🚀🚀\\n✅Concerns about Russia vs Ukraine 💣💣\\n\\n❤️❤️I have Idea for gold  best support  H4 range &amp; Da… https://t.co/KeN8O4gtzL', 'Timestamp': datetime.datetime(2022, 2, 17, 15, 41, 21, tzinfo=datetime.timezone.utc)}, {'Tweet': 'RT @scalper432: Цена золотого металла в размере 1930 долларов США — это следующая цена, на которой следует подождать, прежде чем рассматрив…', 'Timestamp': datetime.datetime(2022, 2, 17, 15, 36, 2, tzinfo=datetime.timezone.utc)}, {'Tweet': '$GOLD $XAUUSD BUY @ 1893.20 -1890.20\\n\\nTP1 : 1894.20\\nTP2 : 1896.20\\nTP3 : 1898.20\\n\\nSL : 1888.20\\n\\n#GOLD #XAUUSD', 'Timestamp': datetime.datetime(2022, 2, 17, 15, 35, 37, tzinfo=datetime.timezone.utc)}, {'Tweet': 'XAU/USD 1D : Bullish 📈\\n\\nOther Platforms👉 \\nhttps://t.co/uRae1AVK0i\\n\\n#priceactiontrading #elliottwave #tradingview… https://t.co/VVhuYkkhuN', 'Timestamp': datetime.datetime(2022, 2, 17, 15, 35, 34, tzinfo=datetime.timezone.utc)}, {'Tweet': 'Sell gold 1900-1906 sl 1907\\n(Put sl to the break even when it give you some profit) #gold #XAUUSD #เทรดทอง #เทรดทองคำ', 'Timestamp': datetime.datetime(2022, 2, 17, 15, 32, 32, tzinfo=datetime.timezone.utc)}, {'Tweet': '#ons #xauusd #altın #gold ne yazmışız, fed faiz artiracak olmaz falan diyenler nerede. Ancak bu atesi biraz sönecek… https://t.co/QQfLF8NLBi', 'Timestamp': datetime.datetime(2022, 2, 17, 15, 30, 38, tzinfo=datetime.timezone.utc)}, {'Tweet': '#OjoVivo\\nComo un volador #ORO ¡Genial!  ¡Que cuento de #criptomonedas ni que nada!\\n¡Refugio es refugio!\\n#XAUUSD… https://t.co/bcTJsbwdop', 'Timestamp': datetime.datetime(2022, 2, 17, 15, 30, 28, tzinfo=datetime.timezone.utc)}, {'Tweet': 'RT @malak200a: #تداول #فوركس #تحليل #الدهب #الدولار\\n#forextrader #gold #XAUUSD #DXY \\nبفضل الله قبل وبعد صفقتنا علي القناه يوم 14/2 واليوم ت…', 'Timestamp': datetime.datetime(2022, 2, 17, 15, 29, 23, tzinfo=datetime.timezone.utc)}, {'Tweet': 'Bought 0.05 Lots EURUSD 1.13607 TP 1.13778 I trade: $XAUUSD #gold $USDJPY $EURUSD Stats: https://t.co/xegDJUg5XM', 'Timestamp': datetime.datetime(2022, 2, 17, 15, 29, 17, tzinfo=datetime.timezone.utc)}, {'Tweet': 'RT @malak200a: #تداول #فوركس #تحليل #الدهب \\n#forextrader #gold #XAUUSD \\nالدهب مع المنطقة المحورية حتي الان \\nتابعوني على قناتي\\nhttps://t.co/…', 'Timestamp': datetime.datetime(2022, 2, 17, 15, 28, 50, tzinfo=datetime.timezone.utc)}, {'Tweet': 'RT @malak200a: #تداول #فوركس #تحليل #الدهب #الدولار\\n#forextrader #gold #XAUUSD #DXY \\nمع #استراتيجية_توبي  علي الدهب والدولار  اهم شي المستو…', 'Timestamp': datetime.datetime(2022, 2, 17, 15, 28, 37, tzinfo=datetime.timezone.utc)}, {'Tweet': 'RT @malak200a: #تداول #فوركس #تحليل #الدهب \\n#forextrader #gold #XAUUSD \\nبيفوت يومي واسبوعي وشهري علي الاكسيل والشارت \\nالمستويات في الدائرة…', 'Timestamp': datetime.datetime(2022, 2, 17, 15, 28, 28, tzinfo=datetime.timezone.utc)}, {'Tweet': 'RT @malak200a: #تداول #فوركس #تحليل #الدهب #الدولار\\n#forextrader #gold #XAUUSD #DXY \\nالدهب والدولار  ووضع شموع اليوم مع التوبي حتي الان  \\nت…', 'Timestamp': datetime.datetime(2022, 2, 17, 15, 28, 20, tzinfo=datetime.timezone.utc)}, {'Tweet': 'RT @malak200a: #تداول #فوركس #تحليل #الدهب #الدولار\\n#forextrader #gold #XAUUSD #DXY \\nمع #استراتيجية_توبي  علي الدهب\\nقبل وبعد والدهب 1890 بف…', 'Timestamp': datetime.datetime(2022, 2, 17, 15, 28, 16, tzinfo=datetime.timezone.utc)}, {'Tweet': 'RT @malak200a: #تداول #فوركس #تحليل #الدهب \\n#forextrader #gold #XAUUSD \\nالدهب مع المنطقة المحورية حتي الان \\n\\n يوضح ليكم لماذا حتي الان لم ن…', 'Timestamp': datetime.datetime(2022, 2, 17, 15, 28, 6, tzinfo=datetime.timezone.utc)}, {'Tweet': 'RT @malak200a: #تداول #فوركس #تحليل #الدهب\\n#forextrader #gold #XAUUSD \\nبعد انتهاء شمعه امس ياتري شايف ايه لشمعه اليوم بامر الله \\nاعتقد ان ش…', 'Timestamp': datetime.datetime(2022, 2, 17, 15, 28, 2, tzinfo=datetime.timezone.utc)}, {'Tweet': '#Gold  was always going to be a beneficiary of a worsening of the Russia crisis - \\n\\nHere is what I wrote to start t… https://t.co/AuW6scjJoF', 'Timestamp': datetime.datetime(2022, 2, 17, 15, 27, 54, tzinfo=datetime.timezone.utc)}, {'Tweet': 'RT @malak200a: #تداول #فوركس #تحليل #الدهب \\n#forextrader #gold #XAUUSD \\nدي تخيل للحركة في حاله فشل في اخترق البيفوت اليومي  هينزل يفعل الوت…', 'Timestamp': datetime.datetime(2022, 2, 17, 15, 27, 51, tzinfo=datetime.timezone.utc)}, {'Tweet': 'RT @malak200a: #تداول #فوركس #تحليل #الدهب \\n#forextrader #gold #XAUUSD \\nبيفوت يومي واسبوعي وشهري علي الاكسيل والشارت \\nاليوم نبدا فوق محورية…', 'Timestamp': datetime.datetime(2022, 2, 17, 15, 27, 43, tzinfo=datetime.timezone.utc)}, {'Tweet': 'RT @malak200a: #تداول #فوركس #تحليل #الدهب \\n#forextrader #gold #XAUUSD \\nكما يظهر امامكم لم يكمل حركته واكتف بالوقف عند البيفوت اليومي 1859…', 'Timestamp': datetime.datetime(2022, 2, 17, 15, 27, 38, tzinfo=datetime.timezone.utc)}, {'Tweet': 'RT @malak200a: #تداول #فوركس #تحليل #الدهب\\n#forextrader #gold #XAUUSD\\nمبروك ١٨٧٠ بفضل الله\\nوتكون استفدت من اللايف أرقام الخبر  القادم\\nتابعو…', 'Timestamp': datetime.datetime(2022, 2, 17, 15, 27, 32, tzinfo=datetime.timezone.utc)}, {'Tweet': 'RT @Magicbullindia: #GOLD #XAUUSD\\n\\n𝗕𝗹𝗮𝘀𝘁 𝗼𝗳𝗳 𝘁𝗼 𝗠𝗮𝗿𝘀 𝗮𝘄𝗮𝗶𝘁𝗲𝗱 !!!!\\n\\nRemember us at 1900 ++ Levels ::\\n\\nBut We are telling this rally will be…', 'Timestamp': datetime.datetime(2022, 2, 17, 15, 26, 20, tzinfo=datetime.timezone.utc)}, {'Tweet': 'Bought 0.02 Lots EURUSD 1.13645 TP 1.13797 I trade: $XAUUSD #gold $USDJPY $EURUSD Stats: https://t.co/5Ou2LImMmB', 'Timestamp': datetime.datetime(2022, 2, 17, 15, 25, 30, tzinfo=datetime.timezone.utc)}, {'Tweet': 'The price of #gold is headed towards the previous swing peak. Is it time for another #bearish correction? Find out… https://t.co/rqXzJQ3tJF', 'Timestamp': datetime.datetime(2022, 2, 17, 15, 25, 14, tzinfo=datetime.timezone.utc)}, {'Tweet': \"This concludes today's trading tips\\n#Gold rises sharply due to sudden change in Russia-Ukraine situation\\nCaused the… https://t.co/be7hNrt8NF\", 'Timestamp': datetime.datetime(2022, 2, 17, 15, 21, 33, tzinfo=datetime.timezone.utc)}, {'Tweet': 'If global #tensions ease, attention may return to central banks, but with bond rates still hovering near multiyear… https://t.co/AjajraM8UP', 'Timestamp': datetime.datetime(2022, 2, 17, 15, 21, 24, tzinfo=datetime.timezone.utc)}, {'Tweet': 'メテオブラストちゃん綺麗にノーポジでございます👽\\nもはや見慣れてきました👽\\n日利は既に4万円越え㊗️\\nMAXは3ナンピン、余裕のトレードです\\n\\n#ゴールド\\n#GOLD\\n#ゴールドEA\\n#XAUUSD', 'Timestamp': datetime.datetime(2022, 2, 17, 15, 19, 47, tzinfo=datetime.timezone.utc)}, {'Tweet': 'GOLD PRICE FORECAST: XAU/USD RALLIES TO MULTI-MONTH HIGH, EYEING $1,900 AMID GEOPOLITICAL TENSIONS\\nThursday Februar… https://t.co/b0W5cLZFRe', 'Timestamp': datetime.datetime(2022, 2, 17, 15, 19, 29, tzinfo=datetime.timezone.utc)}, {'Tweet': '#gold #rsistudy #eurusd #forex #gold #xauusd - Message for someone reading my post for 1st time\\n#sharemarket… https://t.co/N5bSjzM7Ts', 'Timestamp': datetime.datetime(2022, 2, 17, 15, 19, 27, tzinfo=datetime.timezone.utc)}, {'Tweet': '逆張りショートのチャ〜ンス😏\\n\\n#XAUUSD #gold https://t.co/u6oSRmlXO0', 'Timestamp': datetime.datetime(2022, 2, 17, 15, 18, 8, tzinfo=datetime.timezone.utc)}, {'Tweet': '#Inflationary concerns could build up further and benefit the #metal if energy #prices keep rising due to… https://t.co/tlIe9gdVYI', 'Timestamp': datetime.datetime(2022, 2, 17, 15, 16, 54, tzinfo=datetime.timezone.utc)}, {'Tweet': \"RT @MBForex: #Gold Breakout!\\n\\n$XAUUSD Daily\\n\\nUpdate to yesterday's Gold Outlook-\\nhttps://t.co/rVZpEU6G5B https://t.co/9SGpjqYDpd\", 'Timestamp': datetime.datetime(2022, 2, 17, 15, 16, 41, tzinfo=datetime.timezone.utc)}, {'Tweet': 'Bought 0.02 Lots EURUSD 1.13748 TP 1.13848 I trade: $XAUUSD #gold $USDJPY $EURUSD Stats: https://t.co/5Ou2LImMmB', 'Timestamp': datetime.datetime(2022, 2, 17, 15, 15, 9, tzinfo=datetime.timezone.utc)}, {'Tweet': '$WPM #Gold #Silver #XAUUSD Big breakout in WPM out of a wedge of more than 80 weeks https://t.co/l7t1HoUTBD', 'Timestamp': datetime.datetime(2022, 2, 17, 15, 15, 8, tzinfo=datetime.timezone.utc)}, {'Tweet': 'Bought 0.05 Lots EURUSD 1.13748 TP 1.13848 I trade: $XAUUSD #gold $USDJPY $EURUSD Stats: https://t.co/xegDJUg5XM', 'Timestamp': datetime.datetime(2022, 2, 17, 15, 14, 10, tzinfo=datetime.timezone.utc)}, {'Tweet': \"#Gold Breakout!\\n\\n$XAUUSD Daily\\n\\nUpdate to yesterday's Gold Outlook-\\nhttps://t.co/rVZpEU6G5B https://t.co/9SGpjqYDpd\", 'Timestamp': datetime.datetime(2022, 2, 17, 15, 10, 21, tzinfo=datetime.timezone.utc)}, {'Tweet': 'Sold 0.05 Lots EURUSD 1.13702 TP 1.13542 I trade: $XAUUSD #gold $USDJPY $EURUSD Stats: https://t.co/xegDJUg5XM', 'Timestamp': datetime.datetime(2022, 2, 17, 15, 10, 4, tzinfo=datetime.timezone.utc)}, {'Tweet': 'The market broke through the previous high of 1880, and the pressure was measured to around 1893. After that, the m… https://t.co/69UU0DmKRn', 'Timestamp': datetime.datetime(2022, 2, 17, 15, 9, 4, tzinfo=datetime.timezone.utc)}, {'Tweet': 'I LOVE THIS 💞😍\\n\\n#XAUUSD\\n#Gold \\n#trading #trade\\n#MONEY https://t.co/6mj1Q2zxsQ', 'Timestamp': datetime.datetime(2022, 2, 17, 15, 6, 27, tzinfo=datetime.timezone.utc)}, {'Tweet': '#xauusd\\n#GOLD\\n #frontpage_app https://t.co/FMM5PUcHCj', 'Timestamp': datetime.datetime(2022, 2, 17, 15, 5, 25, tzinfo=datetime.timezone.utc)}, {'Tweet': 'Earn $5 Just For Enrolling! When you complete enrollment and link an active payment account with Paypal, Payoneer o… https://t.co/QXxwJDMCq3', 'Timestamp': datetime.datetime(2022, 2, 17, 15, 2, 52, tzinfo=datetime.timezone.utc)}, {'Tweet': 'RT @scalper432: мы также закрыли наши позиции на покупку золотого металла. риск заключается в том, что цена упадет ниже 1880 \\n#xauusd #gold…', 'Timestamp': datetime.datetime(2022, 2, 17, 15, 0, 16, tzinfo=datetime.timezone.utc)}, {'Tweet': 'Gold is $1892.34/ozt @ 15:00 UTC.\\n\\n24H change: +$29.89 (+1.60%)\\n30D change: +$75.48 (+4.15%)\\n\\n#GOLD $XAU $XAUUSD', 'Timestamp': datetime.datetime(2022, 2, 17, 15, 0, 5, tzinfo=datetime.timezone.utc)}, {'Tweet': '#TheMostProfitable \\n\\nDuring the day, 100 of our investors who traded on this instrument #GOLD TOTAL OF $250000 WON!… https://t.co/WoDukTnlB7', 'Timestamp': datetime.datetime(2022, 2, 17, 15, 0, 1, tzinfo=datetime.timezone.utc)}, {'Tweet': '$GOLD $XAUUSD BUY @ 1893.60 -1890.60\\n\\nTP1 : 1894.60\\nTP2 : 1896.60\\nTP3 : 1898.60\\n\\nSL : 1888.60\\n\\n#GOLD #XAUUSD', 'Timestamp': datetime.datetime(2022, 2, 17, 14, 59, 1, tzinfo=datetime.timezone.utc)}, {'Tweet': '$XAUUSD #GOLD - 1H: GOLD - USD presenta una tendenza rialzista molto forte. I trader potrebbero valutare di tradare… https://t.co/XI1LAin4TC', 'Timestamp': datetime.datetime(2022, 2, 17, 14, 55, 53, tzinfo=datetime.timezone.utc)}, {'Tweet': '$XAUUSD #GOLD - 1H: GOLD - USD presenta una tendenza rialzista molto forte. I trader potrebbero valutare di tradare… https://t.co/Qb0a9Uce2n', 'Timestamp': datetime.datetime(2022, 2, 17, 14, 55, 53, tzinfo=datetime.timezone.utc)}, {'Tweet': 'RT @bdfx10: 【#FXのすゝめ2022】\\n\\n引用元ツイートの話。\\n\\n自分がわかるところだけに集中するんです。それだけでいい。\\n\\n１枚目：目指すポイント\\n２枚目：実際のチャート\\n３枚目：結果\\n\\n添付写真の通り1858で下落はとりあえず反発して止まってる。今現在は。\\n\\n#…', 'Timestamp': datetime.datetime(2022, 2, 17, 14, 55, 43, tzinfo=datetime.timezone.utc)}, {'Tweet': 'RT @DailyFXTeam: Gold continues to push higher as geopolitical risk remains elevated \\n\\n$XAUUSD #Gold https://t.co/93G3l2lcIf', 'Timestamp': datetime.datetime(2022, 2, 17, 14, 54, 26, tzinfo=datetime.timezone.utc)}, {'Tweet': 'RT @Eightcap_aufx: #Gold bounces back for a 2nd session, buyers hitting 1886 and new weekly highs. \\n\\n#xauusd #trading https://t.co/Y72jFUsx…', 'Timestamp': datetime.datetime(2022, 2, 17, 14, 53, 54, tzinfo=datetime.timezone.utc)}, {'Tweet': 'الذهب يحوم قرب ذروة 8 أشهر مع عودة المخاوف بشأن أوكرانيا\\n\\nGold hovers near 8-month peak as concerns over Ukraine return\\n\\n#Gold \\n#xauusd', 'Timestamp': datetime.datetime(2022, 2, 17, 14, 52, 46, tzinfo=datetime.timezone.utc)}, {'Tweet': '$XAUUSD #GOLD - Giornaliero: GOLD - USD presenta una tendenza rialzista molto forte. I trader potrebbero valutare d… https://t.co/6rnDO6abBU', 'Timestamp': datetime.datetime(2022, 2, 17, 14, 49, 25, tzinfo=datetime.timezone.utc)}, {'Tweet': '$XAUUSD #GOLD - Giornaliero: GOLD - USD presenta una tendenza rialzista molto forte. I trader potrebbero valutare d… https://t.co/AN6j2k8YKb', 'Timestamp': datetime.datetime(2022, 2, 17, 14, 49, 24, tzinfo=datetime.timezone.utc)}, {'Tweet': 'スローストキャス パラメータ設定5.3.3 4時間足で80超折り返しでS、20超折り返しでL\\nhttps://t.co/RcRRweYxe3\\n\\n#FX #FOREX #BTC #Crypto #GOLD #XAUUSD #LN #XRP #ETH #NFT #FOMC', 'Timestamp': datetime.datetime(2022, 2, 17, 14, 49, tzinfo=datetime.timezone.utc)}, {'Tweet': 'RT @jfhksar88: This is why backtests should be embraced, not feared. Very clear trend / clean pattern in this #GOLD CFDs $XAUUSD move. http…', 'Timestamp': datetime.datetime(2022, 2, 17, 14, 48, 30, tzinfo=datetime.timezone.utc)}, {'Tweet': '#Gold #RussiaUkraineCrisis\\n#Russia #XAUUSD #Investment\\nNot a financial recommendation\\nEverything is clear on the ch… https://t.co/pZo03l8wNB', 'Timestamp': datetime.datetime(2022, 2, 17, 14, 48, 13, tzinfo=datetime.timezone.utc)}, {'Tweet': \"Today's, profit and running layers are still pending to be smashed.\\nFor more about signals and account management y… https://t.co/c2EpH7mfEu\", 'Timestamp': datetime.datetime(2022, 2, 17, 14, 47, 59, tzinfo=datetime.timezone.utc)}, {'Tweet': '#gold #rsistudy #eurusd #forex #gold #xauusd - My view is the the Price &amp; Momentum ND BO will hold in Weekly/ Daily… https://t.co/IJV1NWgQdp', 'Timestamp': datetime.datetime(2022, 2, 17, 14, 47, 39, tzinfo=datetime.timezone.utc)}, {'Tweet': '今日のトレード。今日で自己資金を倍にしたぞ。\\n\\n今日はゲムボが当たったこらGEMなんやで。\\n\\n固定ツイに口座開設の案内してるから是非開設してくださいね。\\n\\nおやすみなさい😴💤🌙\\n\\n#fx #GBPJPY #XAUUSD #gold… https://t.co/Q7uEn7gETv', 'Timestamp': datetime.datetime(2022, 2, 17, 14, 47, 30, tzinfo=datetime.timezone.utc)}, {'Tweet': 'мы также закрыли наши позиции на покупку золотого металла. риск заключается в том, что цена упадет ниже 1880… https://t.co/DhwgGKUNB2', 'Timestamp': datetime.datetime(2022, 2, 17, 14, 46, 55, tzinfo=datetime.timezone.utc)}, {'Tweet': 'Buy at 1892. 50\\nTp at 1897.50\\n\\n#XAUUSD #GOLD #gold $gold $xauusd $Gold', 'Timestamp': datetime.datetime(2022, 2, 17, 14, 46, 39, tzinfo=datetime.timezone.utc)}, {'Tweet': '昼から夕方にかけてGOLDの波に乗れたので夜は見てるだけで閉店  (｜・ω・)｜ｶﾞﾗｶﾞﾗ\\nロットが小さいので何十万も取れないけど自分には充分な利益😉\\n #XAUUSD \\n #Gold \\n #FX\\n #トレード https://t.co/i3TjEjlCKD', 'Timestamp': datetime.datetime(2022, 2, 17, 14, 44, 4, tzinfo=datetime.timezone.utc)}, {'Tweet': 'RT @xtradering: Gold \\nShortçulara selam olsun 1950 üstü kapanışlar 2400 2700 3000 gösterir  \\n12 aydır taşıdığım pozlar uğruna az daha sabır…', 'Timestamp': datetime.datetime(2022, 2, 17, 14, 41, 21, tzinfo=datetime.timezone.utc)}, {'Tweet': '#xauusd #forexsignals morning signal.\\n 9:32Am.\\n#GOLD hit all tp.\\n#GOLD #forexsignals #forextrader #forextrading\\nTra… https://t.co/pHinxIDD1Z', 'Timestamp': datetime.datetime(2022, 2, 17, 14, 39, 36, tzinfo=datetime.timezone.utc)}, {'Tweet': 'RT @Vozgur2: Bu da 1 ay vadeli opsiyonlarda 17 Şubat, 10 Şubat ve 17 Ocak tarihlerinde Delta ölçeğinde volatilite eğrisi. 1 ay öncesine ve…', 'Timestamp': datetime.datetime(2022, 2, 17, 14, 39, 25, tzinfo=datetime.timezone.utc)}, {'Tweet': 'At present, the gold price has stood above the 1890 mark, and the sword is pointing to the 1900 mark. It is not rul… https://t.co/O2ma6q2gYp', 'Timestamp': datetime.datetime(2022, 2, 17, 14, 37, 12, tzinfo=datetime.timezone.utc)}, {'Tweet': '#XauUsd Güncelleme \\n\\n#Gold #Altın #Ounce #OnsAltın https://t.co/Hw9sYmIJSl https://t.co/qRwUQl5EE4', 'Timestamp': datetime.datetime(2022, 2, 17, 14, 29, 2, tzinfo=datetime.timezone.utc)}, {'Tweet': 'RT @DadoRTMS: Managed account service now available, 12 weeks, double your account.\\n\\n*DM for details*\\n\\n$GOLD #GOLD $XAUUSD #XAUUSD $SILVER…', 'Timestamp': datetime.datetime(2022, 2, 17, 14, 27, 23, tzinfo=datetime.timezone.utc)}, {'Tweet': 'Spot gold rose by $5 in a short-term and is now at 1891.57\\n\\n#xauusd #gold', 'Timestamp': datetime.datetime(2022, 2, 17, 14, 24, 24, tzinfo=datetime.timezone.utc)}, {'Tweet': 'RT @uchuujin_fx: 2/16実績\\n\\n金曜日からの地獄のようなGOLD相場を完璧に捌き切ってずーっとノーダージ！\\n平然と大きな利益を出し続けてます㊗️\\nメテオブラスト強すぎ\\n\\n導入はこちらから👇\\nhttps://t.co/fwj9W33Mmj\\n\\nオプチャに公開口座あ…', 'Timestamp': datetime.datetime(2022, 2, 17, 14, 24, 13, tzinfo=datetime.timezone.utc)}, {'Tweet': 'RT @uchuujin_fx: メテオブラスト今回のゴールド相場も爆益㊗️\\nしかも現在のポジションは含み益を持った1ポジのみ！👽\\n先週の金曜から幾度となくゴールド激しく動いてますが全て無傷で利益しか残してないです👽👍\\n#ゴールドEA\\n#ゴールド\\n#GOLD\\n#XAUUSD h…', 'Timestamp': datetime.datetime(2022, 2, 17, 14, 24, 2, tzinfo=datetime.timezone.utc)}, {'Tweet': 'RT @uchuujin_fx: 2/15メテオブラスト実績\\n\\n先週金曜日から普段通りのぶん回してノーダメージ爆益です㊗️\\n(勿論ちゃんとリスクヘッジのoffは推奨してます👍)\\n\\n導入はこちらから👇\\nhttps://t.co/fwj9W33Mmj\\n\\nオプチャに公開口座あります👇…', 'Timestamp': datetime.datetime(2022, 2, 17, 14, 23, 57, tzinfo=datetime.timezone.utc)}, {'Tweet': 'RT @uchuujin_fx: 2/14 メテオブラスト実績\\n\\n先週金曜日からの2回の急激な上昇相場と先程の急落も完璧に検知し、ノーダージで経過しています㊗️\\n\\n気になる方は気軽にLINEください👇\\nhttps://t.co/fwj9W33Mmj\\n\\nオプチャはこちら👇\\n公開口…', 'Timestamp': datetime.datetime(2022, 2, 17, 14, 23, 49, tzinfo=datetime.timezone.utc)}, {'Tweet': 'RT @uchuujin_fx: ゴールド爆下がりしてますけど、やっぱりメテオブラストはノーダメージです！笑👽\\n金曜日からの大きな値動き全て完璧に検知して完璧に捌いてます！㊗️\\n#ゴールドEA\\n#ゴールド\\n#GOLD\\n#XAUUSD https://t.co/Jr9h5NRRdm', 'Timestamp': datetime.datetime(2022, 2, 17, 14, 23, 34, tzinfo=datetime.timezone.utc)}, {'Tweet': 'RT @DadoRTMS: Managed account service now available, 12 weeks, double your account.\\n\\n*DM for details*\\n\\n$GOLD #GOLD $XAUUSD #XAUUSD $SILVER…', 'Timestamp': datetime.datetime(2022, 2, 17, 14, 23, 31, tzinfo=datetime.timezone.utc)}, {'Tweet': 'RT @uchuujin_fx: オハヨウゴザイマス👽\\nゴールド地獄の相場になってますが、\\nメテオブラストは余裕の爆益でした☺️\\n昨日だけで5万円近くの利益を出して現在ロング1ポジのみ☺️100万円運用で800円ほどの含み益👽\\n\\n#ゴールドEA\\n#XAUUSD\\n#GOLD\\n#ゴ…', 'Timestamp': datetime.datetime(2022, 2, 17, 14, 23, 24, tzinfo=datetime.timezone.utc)}, {'Tweet': 'RT @uchuujin_fx: メテオブラストしっかり利確してノーポジです👽👍\\n#ゴールドEA\\n#XAUUSD\\n#GOLD\\n#ゴールド https://t.co/SVVyFVjbxO', 'Timestamp': datetime.datetime(2022, 2, 17, 14, 23, 22, tzinfo=datetime.timezone.utc)}, {'Tweet': 'RT @uchuujin_fx: ゴールド不気味なほど動きがないですが、\\nメテオブラストなんやかんやでしっかり利益の出してます(持ち越しポジとかではなく全て今日の新規ポジ👽)\\n#ゴールド\\n#ゴールドEA\\n#GOLD\\n#XAUUSD https://t.co/wrwfVWlcDS', 'Timestamp': datetime.datetime(2022, 2, 17, 14, 23, 17, tzinfo=datetime.timezone.utc)}, {'Tweet': 'ゴールドめ、あの手この手でEAの性能を試してきやがる！笑\\nメテオブラストは平然と利益を積み重ねてます👽👍\\n是非公開口座見にきてくださいね🛸\\n\\n導入はこちらから👇\\nhttps://t.co/fwj9W33Mmj\\n\\nオプチャに公開口座… https://t.co/OujMy1KknK', 'Timestamp': datetime.datetime(2022, 2, 17, 14, 22, 15, tzinfo=datetime.timezone.utc)}, {'Tweet': 'GOLD - BUY OR SELL EXPLAINED #APEXBULL #GOLD #FOREX - #XAUUSD chart on @TradingView https://t.co/fF19rvNlhH', 'Timestamp': datetime.datetime(2022, 2, 17, 14, 22, 14, tzinfo=datetime.timezone.utc)}, {'Tweet': 'RT @bdfx10: 【#FXのすゝめ2022】\\n\\n引用元ツイートの話。\\n\\n自分がわかるところだけに集中するんです。それだけでいい。\\n\\n１枚目：目指すポイント\\n２枚目：実際のチャート\\n３枚目：結果\\n\\n添付写真の通り1858で下落はとりあえず反発して止まってる。今現在は。\\n\\n#…', 'Timestamp': datetime.datetime(2022, 2, 17, 14, 21, 18, tzinfo=datetime.timezone.utc)}, {'Tweet': '#Gold #goldprice #XAUUSD \\n\\nWhole world is going Gaga over gold now..check the pic attached \\n\\n&amp; and u heard it first… https://t.co/wcRX7K2elE', 'Timestamp': datetime.datetime(2022, 2, 17, 14, 20, 15, tzinfo=datetime.timezone.utc)}, {'Tweet': 'Too steep, I’m gonna end up burnt if tried or maybe I could take a bite but the trade would make a bad habit #XAUUSD #gold #ハイレバ', 'Timestamp': datetime.datetime(2022, 2, 17, 14, 13, 47, tzinfo=datetime.timezone.utc)}, {'Tweet': '↗️#XAUUSD $XAUUSD #Gold #GOLDS Intraday\\nBiais Haussier:\\nHaussier au-dessus pivot-support 1879\\nCibles 1894 &amp; 1900\\nGr… https://t.co/jbSKD47crm', 'Timestamp': datetime.datetime(2022, 2, 17, 14, 11, 37, tzinfo=datetime.timezone.utc)}, {'Tweet': 'RT @xtradering: Gold \\nShortçulara selam olsun 1950 üstü kapanışlar 2400 2700 3000 gösterir  \\n12 aydır taşıdığım pozlar uğruna az daha sabır…', 'Timestamp': datetime.datetime(2022, 2, 17, 14, 10, 12, tzinfo=datetime.timezone.utc)}, {'Tweet': 'All Target Hit and Book $550 Profit. Hope my followers take advantage and made a good Profit. \\n\\nFollow and message… https://t.co/eTnXK3b2M1', 'Timestamp': datetime.datetime(2022, 2, 17, 14, 9, 24, tzinfo=datetime.timezone.utc)}, {'Tweet': '1900円位までは売り目線継続で攻めようかと思う🦍\\n・\\n・\\n・\\n・\\n・\\nでも建値slの安全運転は忘れずに。\\n#FX初心者 #投資家さんと繋がりたい #投資初心者と繋がりたい #XAUUSD #Gold https://t.co/6Gw3YBwko1', 'Timestamp': datetime.datetime(2022, 2, 17, 14, 7, 50, tzinfo=datetime.timezone.utc)}, {'Tweet': '#Gold #XAUUSD #ALTIN \\n\\nBu kırılım 2.300 bölgesine yükseliş trendinin başlangıcı olabilir..\\n\\nHafta sonu video analiz… https://t.co/8QAUDKgZ3E', 'Timestamp': datetime.datetime(2022, 2, 17, 14, 6, 33, tzinfo=datetime.timezone.utc)}, {'Tweet': 'I mean….😈\\n.\\nCaught so many buys in this since it was too large to hold lol! \\n.\\nPATTERNS INTO PROFITS…. LETS FUCKING… https://t.co/cvWi9XQnqD', 'Timestamp': datetime.datetime(2022, 2, 17, 14, 5, 55, tzinfo=datetime.timezone.utc)}]\n"
     ]
    }
   ],
   "source": [
    "#hashtag = \"#presidentialdebate\"\n",
    "hashtag = \"#GOLD XAUUSD\"\n",
    "query = tw.Cursor(api.search_tweets, q=hashtag).items(1000)\n",
    "tweets = [{'Tweet':tweet.text, 'Timestamp':tweet.created_at} for tweet in query]\n",
    "print(tweets)"
   ]
  },
  {
   "cell_type": "code",
   "execution_count": 255,
   "id": "96097438",
   "metadata": {},
   "outputs": [
    {
     "data": {
      "text/html": [
       "<div>\n",
       "<style scoped>\n",
       "    .dataframe tbody tr th:only-of-type {\n",
       "        vertical-align: middle;\n",
       "    }\n",
       "\n",
       "    .dataframe tbody tr th {\n",
       "        vertical-align: top;\n",
       "    }\n",
       "\n",
       "    .dataframe thead th {\n",
       "        text-align: right;\n",
       "    }\n",
       "</style>\n",
       "<table border=\"1\" class=\"dataframe\">\n",
       "  <thead>\n",
       "    <tr style=\"text-align: right;\">\n",
       "      <th></th>\n",
       "      <th>Tweet</th>\n",
       "      <th>Timestamp</th>\n",
       "    </tr>\n",
       "  </thead>\n",
       "  <tbody>\n",
       "    <tr>\n",
       "      <th>0</th>\n",
       "      <td>Gold is $1894.09/ozt @ 20:00 UTC.\\n\\n24H chang...</td>\n",
       "      <td>2022-02-18 20:00:05+00:00</td>\n",
       "    </tr>\n",
       "    <tr>\n",
       "      <th>1</th>\n",
       "      <td>Gold signal running deep profits on the free t...</td>\n",
       "      <td>2022-02-18 19:58:34+00:00</td>\n",
       "    </tr>\n",
       "    <tr>\n",
       "      <th>2</th>\n",
       "      <td>#XAUUSD SELL\\nENTRY:  1895.8\\nSL:  1902\\nTP:  ...</td>\n",
       "      <td>2022-02-18 19:48:07+00:00</td>\n",
       "    </tr>\n",
       "    <tr>\n",
       "      <th>3</th>\n",
       "      <td>Check out my #XAUUSD analysis on @TradingView:...</td>\n",
       "      <td>2022-02-18 19:28:27+00:00</td>\n",
       "    </tr>\n",
       "    <tr>\n",
       "      <th>4</th>\n",
       "      <td>勝ってる奴の大半が感覚的な裁量トレーダーな理由はこれ\\nhttps://t.co/4hkXE...</td>\n",
       "      <td>2022-02-18 19:28:00+00:00</td>\n",
       "    </tr>\n",
       "    <tr>\n",
       "      <th>...</th>\n",
       "      <td>...</td>\n",
       "      <td>...</td>\n",
       "    </tr>\n",
       "    <tr>\n",
       "      <th>995</th>\n",
       "      <td>RT @xtradering: Gold \\nShortçulara selam olsun...</td>\n",
       "      <td>2022-02-17 14:10:12+00:00</td>\n",
       "    </tr>\n",
       "    <tr>\n",
       "      <th>996</th>\n",
       "      <td>All Target Hit and Book $550 Profit. Hope my f...</td>\n",
       "      <td>2022-02-17 14:09:24+00:00</td>\n",
       "    </tr>\n",
       "    <tr>\n",
       "      <th>997</th>\n",
       "      <td>1900円位までは売り目線継続で攻めようかと思う🦍\\n・\\n・\\n・\\n・\\n・\\nでも建値...</td>\n",
       "      <td>2022-02-17 14:07:50+00:00</td>\n",
       "    </tr>\n",
       "    <tr>\n",
       "      <th>998</th>\n",
       "      <td>#Gold #XAUUSD #ALTIN \\n\\nBu kırılım 2.300 bölg...</td>\n",
       "      <td>2022-02-17 14:06:33+00:00</td>\n",
       "    </tr>\n",
       "    <tr>\n",
       "      <th>999</th>\n",
       "      <td>I mean….😈\\n.\\nCaught so many buys in this sinc...</td>\n",
       "      <td>2022-02-17 14:05:55+00:00</td>\n",
       "    </tr>\n",
       "  </tbody>\n",
       "</table>\n",
       "<p>1000 rows × 2 columns</p>\n",
       "</div>"
      ],
      "text/plain": [
       "                                                 Tweet  \\\n",
       "0    Gold is $1894.09/ozt @ 20:00 UTC.\\n\\n24H chang...   \n",
       "1    Gold signal running deep profits on the free t...   \n",
       "2    #XAUUSD SELL\\nENTRY:  1895.8\\nSL:  1902\\nTP:  ...   \n",
       "3    Check out my #XAUUSD analysis on @TradingView:...   \n",
       "4    勝ってる奴の大半が感覚的な裁量トレーダーな理由はこれ\\nhttps://t.co/4hkXE...   \n",
       "..                                                 ...   \n",
       "995  RT @xtradering: Gold \\nShortçulara selam olsun...   \n",
       "996  All Target Hit and Book $550 Profit. Hope my f...   \n",
       "997  1900円位までは売り目線継続で攻めようかと思う🦍\\n・\\n・\\n・\\n・\\n・\\nでも建値...   \n",
       "998  #Gold #XAUUSD #ALTIN \\n\\nBu kırılım 2.300 bölg...   \n",
       "999  I mean….😈\\n.\\nCaught so many buys in this sinc...   \n",
       "\n",
       "                    Timestamp  \n",
       "0   2022-02-18 20:00:05+00:00  \n",
       "1   2022-02-18 19:58:34+00:00  \n",
       "2   2022-02-18 19:48:07+00:00  \n",
       "3   2022-02-18 19:28:27+00:00  \n",
       "4   2022-02-18 19:28:00+00:00  \n",
       "..                        ...  \n",
       "995 2022-02-17 14:10:12+00:00  \n",
       "996 2022-02-17 14:09:24+00:00  \n",
       "997 2022-02-17 14:07:50+00:00  \n",
       "998 2022-02-17 14:06:33+00:00  \n",
       "999 2022-02-17 14:05:55+00:00  \n",
       "\n",
       "[1000 rows x 2 columns]"
      ]
     },
     "execution_count": 255,
     "metadata": {},
     "output_type": "execute_result"
    }
   ],
   "source": [
    "df_twitter = pd.DataFrame.from_dict(tweets)\n",
    "df_twitter"
   ]
  },
  {
   "cell_type": "code",
   "execution_count": null,
   "id": "3d53ad4b",
   "metadata": {},
   "outputs": [],
   "source": []
  },
  {
   "cell_type": "markdown",
   "id": "15053315",
   "metadata": {},
   "source": [
    "# 1b. Fetch Data from Google News"
   ]
  },
  {
   "cell_type": "code",
   "execution_count": 281,
   "id": "40637adc",
   "metadata": {},
   "outputs": [],
   "source": [
    "          \n",
    "googlenews = GoogleNews(lang='en', region='US', period = '2d')"
   ]
  },
  {
   "cell_type": "code",
   "execution_count": 333,
   "id": "afbb108f",
   "metadata": {},
   "outputs": [],
   "source": [
    "googlenews.clear()"
   ]
  },
  {
   "cell_type": "code",
   "execution_count": 334,
   "id": "ee14f633",
   "metadata": {},
   "outputs": [
    {
     "data": {
      "text/plain": [
       "(20, 7)"
      ]
     },
     "execution_count": 334,
     "metadata": {},
     "output_type": "execute_result"
    }
   ],
   "source": [
    "googlenews.search('XAUUSD')\n",
    "googlenews.getpage(3)\n",
    "result = googlenews.result()\n",
    "df_gnews=pd.DataFrame(result)\n",
    "df_gnews.shape"
   ]
  },
  {
   "cell_type": "code",
   "execution_count": 335,
   "id": "efcfc668",
   "metadata": {},
   "outputs": [
    {
     "data": {
      "text/html": [
       "<div>\n",
       "<style scoped>\n",
       "    .dataframe tbody tr th:only-of-type {\n",
       "        vertical-align: middle;\n",
       "    }\n",
       "\n",
       "    .dataframe tbody tr th {\n",
       "        vertical-align: top;\n",
       "    }\n",
       "\n",
       "    .dataframe thead th {\n",
       "        text-align: right;\n",
       "    }\n",
       "</style>\n",
       "<table border=\"1\" class=\"dataframe\">\n",
       "  <thead>\n",
       "    <tr style=\"text-align: right;\">\n",
       "      <th></th>\n",
       "      <th>title</th>\n",
       "      <th>media</th>\n",
       "      <th>date</th>\n",
       "      <th>datetime</th>\n",
       "      <th>desc</th>\n",
       "      <th>link</th>\n",
       "      <th>img</th>\n",
       "    </tr>\n",
       "  </thead>\n",
       "  <tbody>\n",
       "    <tr>\n",
       "      <th>0</th>\n",
       "      <td>Gold Price Technical Forecast: The War Bid Tak...</td>\n",
       "      <td>DailyFX</td>\n",
       "      <td>1 hour ago</td>\n",
       "      <td>2022-02-19 04:18:37.766778</td>\n",
       "      <td>Gold has jumped up to a fresh eight-month-high...</td>\n",
       "      <td>https://www.dailyfx.com/forex/technical/articl...</td>\n",
       "      <td>data:image/gif;base64,R0lGODlhAQABAIAAAP//////...</td>\n",
       "    </tr>\n",
       "    <tr>\n",
       "      <th>1</th>\n",
       "      <td>Gold Price Forecast: XAU/USD to target $1,925 ...</td>\n",
       "      <td>FXStreet</td>\n",
       "      <td>5 hours ago</td>\n",
       "      <td>2022-02-19 00:18:37.773696</td>\n",
       "      <td>Gold capitalized on safe-haven flows throughou...</td>\n",
       "      <td>https://www.fxstreet.com/news/gold-price-forec...</td>\n",
       "      <td>data:image/gif;base64,R0lGODlhAQABAIAAAP//////...</td>\n",
       "    </tr>\n",
       "    <tr>\n",
       "      <th>2</th>\n",
       "      <td>Gold Price Analysis: XAU/USD falls back from $...</td>\n",
       "      <td>FXStreet</td>\n",
       "      <td>8 hours ago</td>\n",
       "      <td>2022-02-18 21:18:37.781272</td>\n",
       "      <td>Having failed to break convincingly above the ...</td>\n",
       "      <td>https://www.fxstreet.com/news/gold-price-analy...</td>\n",
       "      <td>data:image/gif;base64,R0lGODlhAQABAIAAAP//////...</td>\n",
       "    </tr>\n",
       "    <tr>\n",
       "      <th>3</th>\n",
       "      <td>Gold Price Forecast: XAU/USD bulls keep eyes o...</td>\n",
       "      <td>FXStreet</td>\n",
       "      <td>2 hours ago</td>\n",
       "      <td>2022-02-19 03:18:37.782303</td>\n",
       "      <td>Gold price remains at the mercy of the geopoli...</td>\n",
       "      <td>https://www.fxstreet.com/news/gold-price-forec...</td>\n",
       "      <td>data:image/gif;base64,R0lGODlhAQABAIAAAP//////...</td>\n",
       "    </tr>\n",
       "    <tr>\n",
       "      <th>4</th>\n",
       "      <td>Gold Price Forecast: Rate hikes no concern for...</td>\n",
       "      <td>FXStreet</td>\n",
       "      <td>3 hours ago</td>\n",
       "      <td>2022-02-19 02:18:37.783314</td>\n",
       "      <td>Popular opinion is that interest rate hikes ar...</td>\n",
       "      <td>https://www.fxstreet.com/news/gold-price-forec...</td>\n",
       "      <td>data:image/gif;base64,R0lGODlhAQABAIAAAP//////...</td>\n",
       "    </tr>\n",
       "    <tr>\n",
       "      <th>5</th>\n",
       "      <td>Gold Price Forecast: XAU/USD keeps bullish bia...</td>\n",
       "      <td>FXStreet</td>\n",
       "      <td>4 hours ago</td>\n",
       "      <td>2022-02-19 01:18:37.784311</td>\n",
       "      <td>Gold price retreats from above $1900 on hopes ...</td>\n",
       "      <td>https://www.fxstreet.com/news/gold-price-forec...</td>\n",
       "      <td>data:image/gif;base64,R0lGODlhAQABAIAAAP//////...</td>\n",
       "    </tr>\n",
       "    <tr>\n",
       "      <th>6</th>\n",
       "      <td>Gold Price Forecast: XAU/USD corrects from mul...</td>\n",
       "      <td>FXStreet</td>\n",
       "      <td>5 hours ago</td>\n",
       "      <td>2022-02-19 00:18:37.786227</td>\n",
       "      <td>Gold struggled to find acceptance above the $1...</td>\n",
       "      <td>https://www.fxstreet.com/news/gold-price-forec...</td>\n",
       "      <td>data:image/gif;base64,R0lGODlhAQABAIAAAP//////...</td>\n",
       "    </tr>\n",
       "    <tr>\n",
       "      <th>7</th>\n",
       "      <td>Gold Price Forecast: XAU/USD remains a ‘buy th...</td>\n",
       "      <td>FXStreet</td>\n",
       "      <td>7 hours ago</td>\n",
       "      <td>2022-02-18 22:18:37.787323</td>\n",
       "      <td>Gold price is receding in tandem with the risk...</td>\n",
       "      <td>https://www.fxstreet.com/analysis/gold-price-f...</td>\n",
       "      <td>data:image/gif;base64,R0lGODlhAQABAIAAAP//////...</td>\n",
       "    </tr>\n",
       "    <tr>\n",
       "      <th>8</th>\n",
       "      <td>Gold Price Forecast: XAU/USD eases from eight-...</td>\n",
       "      <td>FXStreet</td>\n",
       "      <td>9 hours ago</td>\n",
       "      <td>2022-02-18 20:18:37.787323</td>\n",
       "      <td>Gold holds near the fresh cycle highs of $1,90...</td>\n",
       "      <td>https://www.fxstreet.com/news/gold-price-forec...</td>\n",
       "      <td>data:image/gif;base64,R0lGODlhAQABAIAAAP//////...</td>\n",
       "    </tr>\n",
       "    <tr>\n",
       "      <th>9</th>\n",
       "      <td>Gold Price Forecast: Bullish breakout as immin...</td>\n",
       "      <td>FXStreet</td>\n",
       "      <td>1 day ago</td>\n",
       "      <td>2022-02-18 05:18:37.794228</td>\n",
       "      <td>Spot gold flirts with the $1900 threshold amid...</td>\n",
       "      <td>https://www.fxstreet.com/analysis/gold-price-f...</td>\n",
       "      <td>data:image/gif;base64,R0lGODlhAQABAIAAAP//////...</td>\n",
       "    </tr>\n",
       "    <tr>\n",
       "      <th>10</th>\n",
       "      <td>Gold Price Analysis: XAU/USD is lacking direct...</td>\n",
       "      <td>FXStreet</td>\n",
       "      <td>2 days ago</td>\n",
       "      <td>2022-02-17 05:18:38.186919</td>\n",
       "      <td>Spot gold found good support in the $1850 area...</td>\n",
       "      <td>https://www.fxstreet.com/news/gold-price-analy...</td>\n",
       "      <td>data:image/gif;base64,R0lGODlhAQABAIAAAP//////...</td>\n",
       "    </tr>\n",
       "    <tr>\n",
       "      <th>11</th>\n",
       "      <td>Gold Price Forecast: Resuming the advance ahea...</td>\n",
       "      <td>FXStreet</td>\n",
       "      <td>2 days ago</td>\n",
       "      <td>2022-02-17 05:18:38.193956</td>\n",
       "      <td>Spot gold trades with m gains around $1863 a t...</td>\n",
       "      <td>https://www.fxstreet.com/analysis/gold-price-f...</td>\n",
       "      <td>data:image/gif;base64,R0lGODlhAQABAIAAAP//////...</td>\n",
       "    </tr>\n",
       "    <tr>\n",
       "      <th>12</th>\n",
       "      <td>Gold Price Technical Outlook: Gold Rally at Ri...</td>\n",
       "      <td>DailyFX</td>\n",
       "      <td>2 days ago</td>\n",
       "      <td>2022-02-17 05:18:38.201025</td>\n",
       "      <td>Gold prices surged more than 5.5% off the Janu...</td>\n",
       "      <td>https://www.dailyfx.com/forex/technical/home/a...</td>\n",
       "      <td>data:image/gif;base64,R0lGODlhAQABAIAAAP//////...</td>\n",
       "    </tr>\n",
       "    <tr>\n",
       "      <th>13</th>\n",
       "      <td>Gold Price Forecast: XAU/USD to target $1,917 ...</td>\n",
       "      <td>FXStreet</td>\n",
       "      <td>2 days ago</td>\n",
       "      <td>2022-02-17 05:18:38.207117</td>\n",
       "      <td>Gold continues to improve, but still has more ...</td>\n",
       "      <td>https://www.fxstreet.com/news/gold-price-forec...</td>\n",
       "      <td>data:image/gif;base64,R0lGODlhAQABAIAAAP//////...</td>\n",
       "    </tr>\n",
       "    <tr>\n",
       "      <th>14</th>\n",
       "      <td>Gold Price Forecast: XAU/USD bulls await US Re...</td>\n",
       "      <td>FXStreet</td>\n",
       "      <td>2 days ago</td>\n",
       "      <td>2022-02-17 05:18:38.213563</td>\n",
       "      <td>Gold attracted some dip-buying near the $1850 ...</td>\n",
       "      <td>https://www.fxstreet.com/news/gold-price-forec...</td>\n",
       "      <td>data:image/gif;base64,R0lGODlhAQABAIAAAP//////...</td>\n",
       "    </tr>\n",
       "    <tr>\n",
       "      <th>15</th>\n",
       "      <td>XAU/USD Seeks Support</td>\n",
       "      <td>Action Forex</td>\n",
       "      <td>2 days ago</td>\n",
       "      <td>2022-02-17 05:18:38.221826</td>\n",
       "      <td>Gold drifts lower on signs of de-escalation in...</td>\n",
       "      <td>https://www.actionforex.com/contributors/techn...</td>\n",
       "      <td>data:image/gif;base64,R0lGODlhAQABAIAAAP//////...</td>\n",
       "    </tr>\n",
       "    <tr>\n",
       "      <th>16</th>\n",
       "      <td>Gold Price Forecast: XAU/USD points to the ups...</td>\n",
       "      <td>FXStreet</td>\n",
       "      <td>2 days ago</td>\n",
       "      <td>2022-02-17 05:18:38.228213</td>\n",
       "      <td>Gold price is treading waters while consolidat...</td>\n",
       "      <td>https://www.fxstreet.com/news/gold-price-forec...</td>\n",
       "      <td>data:image/gif;base64,R0lGODlhAQABAIAAAP//////...</td>\n",
       "    </tr>\n",
       "    <tr>\n",
       "      <th>17</th>\n",
       "      <td>Gold Price Forecast: XAU/USD’s downside appear...</td>\n",
       "      <td>FXStreet</td>\n",
       "      <td>2 days ago</td>\n",
       "      <td>2022-02-17 05:18:38.236519</td>\n",
       "      <td>The week so far has been quite overwhelming fo...</td>\n",
       "      <td>https://www.fxstreet.com/news/gold-price-forec...</td>\n",
       "      <td>data:image/gif;base64,R0lGODlhAQABAIAAAP//////...</td>\n",
       "    </tr>\n",
       "    <tr>\n",
       "      <th>18</th>\n",
       "      <td>Gold Price Forecast: XAU/USD bulls giving way ...</td>\n",
       "      <td>FXStreet</td>\n",
       "      <td>2 days ago</td>\n",
       "      <td>2022-02-17 05:18:38.243537</td>\n",
       "      <td>Gold (XAU/USD) seeks fresh clues while taking ...</td>\n",
       "      <td>https://www.fxstreet.com/news/gold-price-forec...</td>\n",
       "      <td>data:image/gif;base64,R0lGODlhAQABAIAAAP//////...</td>\n",
       "    </tr>\n",
       "    <tr>\n",
       "      <th>19</th>\n",
       "      <td>COMMODITY REPORT: XAUUSD Gold Price Forecast: ...</td>\n",
       "      <td></td>\n",
       "      <td>2 days ago</td>\n",
       "      <td>2022-02-17 05:18:38.252197</td>\n",
       "      <td>JOIN THE LIVE TRADING ROOM HERE ▷ http://www.j...</td>\n",
       "      <td>https://www.youtube.com/watch?v=v-EyHas0JmU</td>\n",
       "      <td>data:image/gif;base64,R0lGODlhAQABAIAAAP//////...</td>\n",
       "    </tr>\n",
       "  </tbody>\n",
       "</table>\n",
       "</div>"
      ],
      "text/plain": [
       "                                                title         media  \\\n",
       "0   Gold Price Technical Forecast: The War Bid Tak...       DailyFX   \n",
       "1   Gold Price Forecast: XAU/USD to target $1,925 ...      FXStreet   \n",
       "2   Gold Price Analysis: XAU/USD falls back from $...      FXStreet   \n",
       "3   Gold Price Forecast: XAU/USD bulls keep eyes o...      FXStreet   \n",
       "4   Gold Price Forecast: Rate hikes no concern for...      FXStreet   \n",
       "5   Gold Price Forecast: XAU/USD keeps bullish bia...      FXStreet   \n",
       "6   Gold Price Forecast: XAU/USD corrects from mul...      FXStreet   \n",
       "7   Gold Price Forecast: XAU/USD remains a ‘buy th...      FXStreet   \n",
       "8   Gold Price Forecast: XAU/USD eases from eight-...      FXStreet   \n",
       "9   Gold Price Forecast: Bullish breakout as immin...      FXStreet   \n",
       "10  Gold Price Analysis: XAU/USD is lacking direct...      FXStreet   \n",
       "11  Gold Price Forecast: Resuming the advance ahea...      FXStreet   \n",
       "12  Gold Price Technical Outlook: Gold Rally at Ri...       DailyFX   \n",
       "13  Gold Price Forecast: XAU/USD to target $1,917 ...      FXStreet   \n",
       "14  Gold Price Forecast: XAU/USD bulls await US Re...      FXStreet   \n",
       "15                              XAU/USD Seeks Support  Action Forex   \n",
       "16  Gold Price Forecast: XAU/USD points to the ups...      FXStreet   \n",
       "17  Gold Price Forecast: XAU/USD’s downside appear...      FXStreet   \n",
       "18  Gold Price Forecast: XAU/USD bulls giving way ...      FXStreet   \n",
       "19  COMMODITY REPORT: XAUUSD Gold Price Forecast: ...                 \n",
       "\n",
       "           date                   datetime  \\\n",
       "0    1 hour ago 2022-02-19 04:18:37.766778   \n",
       "1   5 hours ago 2022-02-19 00:18:37.773696   \n",
       "2   8 hours ago 2022-02-18 21:18:37.781272   \n",
       "3   2 hours ago 2022-02-19 03:18:37.782303   \n",
       "4   3 hours ago 2022-02-19 02:18:37.783314   \n",
       "5   4 hours ago 2022-02-19 01:18:37.784311   \n",
       "6   5 hours ago 2022-02-19 00:18:37.786227   \n",
       "7   7 hours ago 2022-02-18 22:18:37.787323   \n",
       "8   9 hours ago 2022-02-18 20:18:37.787323   \n",
       "9     1 day ago 2022-02-18 05:18:37.794228   \n",
       "10   2 days ago 2022-02-17 05:18:38.186919   \n",
       "11   2 days ago 2022-02-17 05:18:38.193956   \n",
       "12   2 days ago 2022-02-17 05:18:38.201025   \n",
       "13   2 days ago 2022-02-17 05:18:38.207117   \n",
       "14   2 days ago 2022-02-17 05:18:38.213563   \n",
       "15   2 days ago 2022-02-17 05:18:38.221826   \n",
       "16   2 days ago 2022-02-17 05:18:38.228213   \n",
       "17   2 days ago 2022-02-17 05:18:38.236519   \n",
       "18   2 days ago 2022-02-17 05:18:38.243537   \n",
       "19   2 days ago 2022-02-17 05:18:38.252197   \n",
       "\n",
       "                                                 desc  \\\n",
       "0   Gold has jumped up to a fresh eight-month-high...   \n",
       "1   Gold capitalized on safe-haven flows throughou...   \n",
       "2   Having failed to break convincingly above the ...   \n",
       "3   Gold price remains at the mercy of the geopoli...   \n",
       "4   Popular opinion is that interest rate hikes ar...   \n",
       "5   Gold price retreats from above $1900 on hopes ...   \n",
       "6   Gold struggled to find acceptance above the $1...   \n",
       "7   Gold price is receding in tandem with the risk...   \n",
       "8   Gold holds near the fresh cycle highs of $1,90...   \n",
       "9   Spot gold flirts with the $1900 threshold amid...   \n",
       "10  Spot gold found good support in the $1850 area...   \n",
       "11  Spot gold trades with m gains around $1863 a t...   \n",
       "12  Gold prices surged more than 5.5% off the Janu...   \n",
       "13  Gold continues to improve, but still has more ...   \n",
       "14  Gold attracted some dip-buying near the $1850 ...   \n",
       "15  Gold drifts lower on signs of de-escalation in...   \n",
       "16  Gold price is treading waters while consolidat...   \n",
       "17  The week so far has been quite overwhelming fo...   \n",
       "18  Gold (XAU/USD) seeks fresh clues while taking ...   \n",
       "19  JOIN THE LIVE TRADING ROOM HERE ▷ http://www.j...   \n",
       "\n",
       "                                                 link  \\\n",
       "0   https://www.dailyfx.com/forex/technical/articl...   \n",
       "1   https://www.fxstreet.com/news/gold-price-forec...   \n",
       "2   https://www.fxstreet.com/news/gold-price-analy...   \n",
       "3   https://www.fxstreet.com/news/gold-price-forec...   \n",
       "4   https://www.fxstreet.com/news/gold-price-forec...   \n",
       "5   https://www.fxstreet.com/news/gold-price-forec...   \n",
       "6   https://www.fxstreet.com/news/gold-price-forec...   \n",
       "7   https://www.fxstreet.com/analysis/gold-price-f...   \n",
       "8   https://www.fxstreet.com/news/gold-price-forec...   \n",
       "9   https://www.fxstreet.com/analysis/gold-price-f...   \n",
       "10  https://www.fxstreet.com/news/gold-price-analy...   \n",
       "11  https://www.fxstreet.com/analysis/gold-price-f...   \n",
       "12  https://www.dailyfx.com/forex/technical/home/a...   \n",
       "13  https://www.fxstreet.com/news/gold-price-forec...   \n",
       "14  https://www.fxstreet.com/news/gold-price-forec...   \n",
       "15  https://www.actionforex.com/contributors/techn...   \n",
       "16  https://www.fxstreet.com/news/gold-price-forec...   \n",
       "17  https://www.fxstreet.com/news/gold-price-forec...   \n",
       "18  https://www.fxstreet.com/news/gold-price-forec...   \n",
       "19        https://www.youtube.com/watch?v=v-EyHas0JmU   \n",
       "\n",
       "                                                  img  \n",
       "0   data:image/gif;base64,R0lGODlhAQABAIAAAP//////...  \n",
       "1   data:image/gif;base64,R0lGODlhAQABAIAAAP//////...  \n",
       "2   data:image/gif;base64,R0lGODlhAQABAIAAAP//////...  \n",
       "3   data:image/gif;base64,R0lGODlhAQABAIAAAP//////...  \n",
       "4   data:image/gif;base64,R0lGODlhAQABAIAAAP//////...  \n",
       "5   data:image/gif;base64,R0lGODlhAQABAIAAAP//////...  \n",
       "6   data:image/gif;base64,R0lGODlhAQABAIAAAP//////...  \n",
       "7   data:image/gif;base64,R0lGODlhAQABAIAAAP//////...  \n",
       "8   data:image/gif;base64,R0lGODlhAQABAIAAAP//////...  \n",
       "9   data:image/gif;base64,R0lGODlhAQABAIAAAP//////...  \n",
       "10  data:image/gif;base64,R0lGODlhAQABAIAAAP//////...  \n",
       "11  data:image/gif;base64,R0lGODlhAQABAIAAAP//////...  \n",
       "12  data:image/gif;base64,R0lGODlhAQABAIAAAP//////...  \n",
       "13  data:image/gif;base64,R0lGODlhAQABAIAAAP//////...  \n",
       "14  data:image/gif;base64,R0lGODlhAQABAIAAAP//////...  \n",
       "15  data:image/gif;base64,R0lGODlhAQABAIAAAP//////...  \n",
       "16  data:image/gif;base64,R0lGODlhAQABAIAAAP//////...  \n",
       "17  data:image/gif;base64,R0lGODlhAQABAIAAAP//////...  \n",
       "18  data:image/gif;base64,R0lGODlhAQABAIAAAP//////...  \n",
       "19  data:image/gif;base64,R0lGODlhAQABAIAAAP//////...  "
      ]
     },
     "execution_count": 335,
     "metadata": {},
     "output_type": "execute_result"
    }
   ],
   "source": [
    "df_gnews"
   ]
  },
  {
   "cell_type": "code",
   "execution_count": 312,
   "id": "1bbdbfd1",
   "metadata": {},
   "outputs": [],
   "source": [
    "df_gnews.to_csv(r'./gnews.csv', index = False)"
   ]
  },
  {
   "cell_type": "markdown",
   "id": "d597bc11",
   "metadata": {},
   "source": [
    "# 2a. Preprocessing Twitter"
   ]
  },
  {
   "cell_type": "code",
   "execution_count": 256,
   "id": "a0d183a2",
   "metadata": {},
   "outputs": [],
   "source": [
    "# Import stopwords\n",
    "import nltk     # Natural Language Toolkit\n",
    "from nltk.corpus import stopwords\n",
    "# Import textblob\n",
    "from textblob import Word, TextBlob\n",
    "import re"
   ]
  },
  {
   "cell_type": "code",
   "execution_count": 257,
   "id": "a7d42147",
   "metadata": {},
   "outputs": [
    {
     "name": "stderr",
     "output_type": "stream",
     "text": [
      "[nltk_data] Downloading package stopwords to\n",
      "[nltk_data]     C:\\Users\\dylan\\AppData\\Roaming\\nltk_data...\n",
      "[nltk_data]   Package stopwords is already up-to-date!\n",
      "[nltk_data] Downloading package wordnet to\n",
      "[nltk_data]     C:\\Users\\dylan\\AppData\\Roaming\\nltk_data...\n",
      "[nltk_data]   Package wordnet is already up-to-date!\n"
     ]
    }
   ],
   "source": [
    "nltk.download('stopwords')\n",
    "nltk.download('wordnet')\n",
    "stop_words = stopwords.words('english')"
   ]
  },
  {
   "cell_type": "code",
   "execution_count": 260,
   "id": "c753614a",
   "metadata": {},
   "outputs": [
    {
     "data": {
      "text/html": [
       "<div>\n",
       "<style scoped>\n",
       "    .dataframe tbody tr th:only-of-type {\n",
       "        vertical-align: middle;\n",
       "    }\n",
       "\n",
       "    .dataframe tbody tr th {\n",
       "        vertical-align: top;\n",
       "    }\n",
       "\n",
       "    .dataframe thead th {\n",
       "        text-align: right;\n",
       "    }\n",
       "</style>\n",
       "<table border=\"1\" class=\"dataframe\">\n",
       "  <thead>\n",
       "    <tr style=\"text-align: right;\">\n",
       "      <th></th>\n",
       "      <th>Tweet</th>\n",
       "      <th>Timestamp</th>\n",
       "      <th>Processed Tweet</th>\n",
       "    </tr>\n",
       "  </thead>\n",
       "  <tbody>\n",
       "    <tr>\n",
       "      <th>0</th>\n",
       "      <td>Gold is $1894.09/ozt @ 20:00 UTC.\\n\\n24H chang...</td>\n",
       "      <td>2022-02-18 20:00:05+00:00</td>\n",
       "      <td>Gold ozt UTC H change D change GOLD XAU XAUUSD</td>\n",
       "    </tr>\n",
       "    <tr>\n",
       "      <th>1</th>\n",
       "      <td>Gold signal running deep profits on the free t...</td>\n",
       "      <td>2022-02-18 19:58:34+00:00</td>\n",
       "      <td>Gold signal running deep profit free telegram ...</td>\n",
       "    </tr>\n",
       "    <tr>\n",
       "      <th>2</th>\n",
       "      <td>#XAUUSD SELL\\nENTRY:  1895.8\\nSL:  1902\\nTP:  ...</td>\n",
       "      <td>2022-02-18 19:48:07+00:00</td>\n",
       "      <td>XAUUSD SELL ENTRY SL TP TP TP TP Open Dm http ...</td>\n",
       "    </tr>\n",
       "    <tr>\n",
       "      <th>3</th>\n",
       "      <td>Check out my #XAUUSD analysis on @TradingView:...</td>\n",
       "      <td>2022-02-18 19:28:27+00:00</td>\n",
       "      <td>Check XAUUSD analysis TradingView http co QJn ...</td>\n",
       "    </tr>\n",
       "    <tr>\n",
       "      <th>4</th>\n",
       "      <td>勝ってる奴の大半が感覚的な裁量トレーダーな理由はこれ\\nhttps://t.co/4hkXE...</td>\n",
       "      <td>2022-02-18 19:28:00+00:00</td>\n",
       "      <td>http co hkXEsLF N FX FOREX BTC Crypto GOLD XAU...</td>\n",
       "    </tr>\n",
       "  </tbody>\n",
       "</table>\n",
       "</div>"
      ],
      "text/plain": [
       "                                               Tweet  \\\n",
       "0  Gold is $1894.09/ozt @ 20:00 UTC.\\n\\n24H chang...   \n",
       "1  Gold signal running deep profits on the free t...   \n",
       "2  #XAUUSD SELL\\nENTRY:  1895.8\\nSL:  1902\\nTP:  ...   \n",
       "3  Check out my #XAUUSD analysis on @TradingView:...   \n",
       "4  勝ってる奴の大半が感覚的な裁量トレーダーな理由はこれ\\nhttps://t.co/4hkXE...   \n",
       "\n",
       "                  Timestamp                                    Processed Tweet  \n",
       "0 2022-02-18 20:00:05+00:00     Gold ozt UTC H change D change GOLD XAU XAUUSD  \n",
       "1 2022-02-18 19:58:34+00:00  Gold signal running deep profit free telegram ...  \n",
       "2 2022-02-18 19:48:07+00:00  XAUUSD SELL ENTRY SL TP TP TP TP Open Dm http ...  \n",
       "3 2022-02-18 19:28:27+00:00  Check XAUUSD analysis TradingView http co QJn ...  \n",
       "4 2022-02-18 19:28:00+00:00  http co hkXEsLF N FX FOREX BTC Crypto GOLD XAU...  "
      ]
     },
     "execution_count": 260,
     "metadata": {},
     "output_type": "execute_result"
    }
   ],
   "source": [
    "def datacleaning(tweet):\n",
    "    cleaned_sentence = tweet\n",
    "    cleaned_sentence.replace('[^\\w\\s]', '')\n",
    "    cleaned_sentence = ' '.join(re.split('[^a-zA-Z]', cleaned_sentence))\n",
    "    cleaned_sentence = \" \".join(word for word in cleaned_sentence.split() if word not in stop_words)     # Remove Stopwords\n",
    "    cleaned_sentence = \" \".join(Word(word).lemmatize() for word in cleaned_sentence.split())\n",
    "    return(cleaned_sentence)\n",
    "\n",
    "df_twitter['Processed Tweet'] = df_twitter['Tweet'].apply(lambda x: datacleaning(x))\n",
    "df_twitter.head()"
   ]
  },
  {
   "cell_type": "code",
   "execution_count": 258,
   "id": "ecbd9c49",
   "metadata": {},
   "outputs": [
    {
     "data": {
      "text/html": [
       "<div>\n",
       "<style scoped>\n",
       "    .dataframe tbody tr th:only-of-type {\n",
       "        vertical-align: middle;\n",
       "    }\n",
       "\n",
       "    .dataframe tbody tr th {\n",
       "        vertical-align: top;\n",
       "    }\n",
       "\n",
       "    .dataframe thead th {\n",
       "        text-align: right;\n",
       "    }\n",
       "</style>\n",
       "<table border=\"1\" class=\"dataframe\">\n",
       "  <thead>\n",
       "    <tr style=\"text-align: right;\">\n",
       "      <th></th>\n",
       "      <th>Tweet</th>\n",
       "      <th>Timestamp</th>\n",
       "      <th>Processed Tweet</th>\n",
       "    </tr>\n",
       "  </thead>\n",
       "  <tbody>\n",
       "    <tr>\n",
       "      <th>0</th>\n",
       "      <td>Gold is $1894.09/ozt @ 20:00 UTC.\\n\\n24H chang...</td>\n",
       "      <td>2022-02-18 20:00:05+00:00</td>\n",
       "      <td>Gold ozt UTC H change D change GOLD XAU XAUUSD</td>\n",
       "    </tr>\n",
       "    <tr>\n",
       "      <th>1</th>\n",
       "      <td>Gold signal running deep profits on the free t...</td>\n",
       "      <td>2022-02-18 19:58:34+00:00</td>\n",
       "      <td>Gold signal running deep profit free telegram ...</td>\n",
       "    </tr>\n",
       "    <tr>\n",
       "      <th>2</th>\n",
       "      <td>#XAUUSD SELL\\nENTRY:  1895.8\\nSL:  1902\\nTP:  ...</td>\n",
       "      <td>2022-02-18 19:48:07+00:00</td>\n",
       "      <td>XAUUSD SELL ENTRY SL TP TP TP TP Open Dm http ...</td>\n",
       "    </tr>\n",
       "    <tr>\n",
       "      <th>3</th>\n",
       "      <td>Check out my #XAUUSD analysis on @TradingView:...</td>\n",
       "      <td>2022-02-18 19:28:27+00:00</td>\n",
       "      <td>Check XAUUSD analysis TradingView http co QJn ...</td>\n",
       "    </tr>\n",
       "    <tr>\n",
       "      <th>4</th>\n",
       "      <td>勝ってる奴の大半が感覚的な裁量トレーダーな理由はこれ\\nhttps://t.co/4hkXE...</td>\n",
       "      <td>2022-02-18 19:28:00+00:00</td>\n",
       "      <td>http co hkXEsLF N FX FOREX BTC Crypto GOLD XAU...</td>\n",
       "    </tr>\n",
       "  </tbody>\n",
       "</table>\n",
       "</div>"
      ],
      "text/plain": [
       "                                               Tweet  \\\n",
       "0  Gold is $1894.09/ozt @ 20:00 UTC.\\n\\n24H chang...   \n",
       "1  Gold signal running deep profits on the free t...   \n",
       "2  #XAUUSD SELL\\nENTRY:  1895.8\\nSL:  1902\\nTP:  ...   \n",
       "3  Check out my #XAUUSD analysis on @TradingView:...   \n",
       "4  勝ってる奴の大半が感覚的な裁量トレーダーな理由はこれ\\nhttps://t.co/4hkXE...   \n",
       "\n",
       "                  Timestamp                                    Processed Tweet  \n",
       "0 2022-02-18 20:00:05+00:00     Gold ozt UTC H change D change GOLD XAU XAUUSD  \n",
       "1 2022-02-18 19:58:34+00:00  Gold signal running deep profit free telegram ...  \n",
       "2 2022-02-18 19:48:07+00:00  XAUUSD SELL ENTRY SL TP TP TP TP Open Dm http ...  \n",
       "3 2022-02-18 19:28:27+00:00  Check XAUUSD analysis TradingView http co QJn ...  \n",
       "4 2022-02-18 19:28:00+00:00  http co hkXEsLF N FX FOREX BTC Crypto GOLD XAU...  "
      ]
     },
     "execution_count": 258,
     "metadata": {},
     "output_type": "execute_result"
    }
   ],
   "source": [
    "'''\n",
    "def preprocess_tweets(tweet):\n",
    "    processed_tweet = tweet\n",
    "    processed_tweet.replace('[^\\w\\s]', '')\n",
    "    processed_tweet = ' '.join(re.split('[^a-zA-Z]', processed_tweet))\n",
    "    processed_tweet = \" \".join(word for word in processed_tweet.split() if word not in stop_words)     # Remove Stopwords\n",
    "    processed_tweet = \" \".join(Word(word).lemmatize() for word in processed_tweet.split())\n",
    "    return(processed_tweet)\n",
    "'''\n"
   ]
  },
  {
   "cell_type": "code",
   "execution_count": 193,
   "id": "951cf1ab",
   "metadata": {},
   "outputs": [
    {
     "name": "stdout",
     "output_type": "stream",
     "text": [
      "Base review\n",
      " $XAUUSD #GOLD - 15 min.: Sur cette unité de temps, la tendance de fond est faiblement haussière et le court terme e… https://t.co/w1iRFlZoPk\n",
      "\n",
      "------------------------------------\n",
      "\n",
      "Cleaned and lemmatized review\n",
      " XAUUSD GOLD min Sur cette unit de temp la tendance de fond est faiblement haussi et le court terme e http co w iRFlZoPk\n"
     ]
    }
   ],
   "source": [
    "print('Base review\\n', df_twitter['Tweet'][0])\n",
    "print('\\n------------------------------------\\n')\n",
    "print('Cleaned and lemmatized review\\n', df_twitter['Processed Tweet'][0])"
   ]
  },
  {
   "cell_type": "code",
   "execution_count": 194,
   "id": "4b967305",
   "metadata": {},
   "outputs": [
    {
     "data": {
      "text/html": [
       "<div>\n",
       "<style scoped>\n",
       "    .dataframe tbody tr th:only-of-type {\n",
       "        vertical-align: middle;\n",
       "    }\n",
       "\n",
       "    .dataframe tbody tr th {\n",
       "        vertical-align: top;\n",
       "    }\n",
       "\n",
       "    .dataframe thead th {\n",
       "        text-align: right;\n",
       "    }\n",
       "</style>\n",
       "<table border=\"1\" class=\"dataframe\">\n",
       "  <thead>\n",
       "    <tr style=\"text-align: right;\">\n",
       "      <th></th>\n",
       "      <th>Processed Tweet</th>\n",
       "    </tr>\n",
       "  </thead>\n",
       "  <tbody>\n",
       "    <tr>\n",
       "      <th>0</th>\n",
       "      <td>XAUUSD GOLD min Sur cette unit de temp la tend...</td>\n",
       "    </tr>\n",
       "    <tr>\n",
       "      <th>1</th>\n",
       "      <td>XAUUSD GOLD min Sur cette unit de temp la tend...</td>\n",
       "    </tr>\n",
       "    <tr>\n",
       "      <th>2</th>\n",
       "      <td>JIASBOT JIASGOLD th order Gold booked loss Net...</td>\n",
       "    </tr>\n",
       "    <tr>\n",
       "      <th>3</th>\n",
       "      <td>XAUUSD BUY NOW XAUUSD GOLD GOLD sl tp tp tp op...</td>\n",
       "    </tr>\n",
       "    <tr>\n",
       "      <th>4</th>\n",
       "      <td>RT bdfx FX fx</td>\n",
       "    </tr>\n",
       "    <tr>\n",
       "      <th>...</th>\n",
       "      <td>...</td>\n",
       "    </tr>\n",
       "    <tr>\n",
       "      <th>995</th>\n",
       "      <td>Gold Price Forecast XAU USD set floor amid wid...</td>\n",
       "    </tr>\n",
       "    <tr>\n",
       "      <th>996</th>\n",
       "      <td>XAUUSD GOLD MIN MA SL PIP http co MUrI gches h...</td>\n",
       "    </tr>\n",
       "    <tr>\n",
       "      <th>997</th>\n",
       "      <td>Gold stand mark next target Gold XAUUSD</td>\n",
       "    </tr>\n",
       "    <tr>\n",
       "      <th>998</th>\n",
       "      <td>RT bdfx FX FX FX XAUUSD GOLD http co mtnfl Ygqq</td>\n",
       "    </tr>\n",
       "    <tr>\n",
       "      <th>999</th>\n",
       "      <td>SONDAK KA Baz Rus birlikleri Ukrayna n r na ya...</td>\n",
       "    </tr>\n",
       "  </tbody>\n",
       "</table>\n",
       "<p>1000 rows × 1 columns</p>\n",
       "</div>"
      ],
      "text/plain": [
       "                                       Processed Tweet\n",
       "0    XAUUSD GOLD min Sur cette unit de temp la tend...\n",
       "1    XAUUSD GOLD min Sur cette unit de temp la tend...\n",
       "2    JIASBOT JIASGOLD th order Gold booked loss Net...\n",
       "3    XAUUSD BUY NOW XAUUSD GOLD GOLD sl tp tp tp op...\n",
       "4                                        RT bdfx FX fx\n",
       "..                                                 ...\n",
       "995  Gold Price Forecast XAU USD set floor amid wid...\n",
       "996  XAUUSD GOLD MIN MA SL PIP http co MUrI gches h...\n",
       "997            Gold stand mark next target Gold XAUUSD\n",
       "998    RT bdfx FX FX FX XAUUSD GOLD http co mtnfl Ygqq\n",
       "999  SONDAK KA Baz Rus birlikleri Ukrayna n r na ya...\n",
       "\n",
       "[1000 rows x 1 columns]"
      ]
     },
     "execution_count": 194,
     "metadata": {},
     "output_type": "execute_result"
    }
   ],
   "source": [
    "df_twitter = df_twitter.drop(columns=['Tweet','Timestamp'])\n",
    "df_twitter"
   ]
  },
  {
   "cell_type": "markdown",
   "id": "6fb343ce",
   "metadata": {},
   "source": [
    "# 2b. Preprocessing Google News"
   ]
  },
  {
   "cell_type": "code",
   "execution_count": 336,
   "id": "b2837201",
   "metadata": {},
   "outputs": [
    {
     "data": {
      "text/html": [
       "<div>\n",
       "<style scoped>\n",
       "    .dataframe tbody tr th:only-of-type {\n",
       "        vertical-align: middle;\n",
       "    }\n",
       "\n",
       "    .dataframe tbody tr th {\n",
       "        vertical-align: top;\n",
       "    }\n",
       "\n",
       "    .dataframe thead th {\n",
       "        text-align: right;\n",
       "    }\n",
       "</style>\n",
       "<table border=\"1\" class=\"dataframe\">\n",
       "  <thead>\n",
       "    <tr style=\"text-align: right;\">\n",
       "      <th></th>\n",
       "      <th>title</th>\n",
       "      <th>media</th>\n",
       "      <th>date</th>\n",
       "      <th>datetime</th>\n",
       "      <th>desc</th>\n",
       "      <th>link</th>\n",
       "      <th>img</th>\n",
       "      <th>processed title</th>\n",
       "      <th>processed desc</th>\n",
       "    </tr>\n",
       "  </thead>\n",
       "  <tbody>\n",
       "    <tr>\n",
       "      <th>0</th>\n",
       "      <td>Gold Price Technical Forecast: The War Bid Tak...</td>\n",
       "      <td>DailyFX</td>\n",
       "      <td>1 hour ago</td>\n",
       "      <td>2022-02-19 04:18:37.766778</td>\n",
       "      <td>Gold has jumped up to a fresh eight-month-high...</td>\n",
       "      <td>https://www.dailyfx.com/forex/technical/articl...</td>\n",
       "      <td>data:image/gif;base64,R0lGODlhAQABAIAAAP//////...</td>\n",
       "      <td>Gold Price Technical Forecast The War Bid Take...</td>\n",
       "      <td>Gold jumped fresh eight month high week may do...</td>\n",
       "    </tr>\n",
       "    <tr>\n",
       "      <th>1</th>\n",
       "      <td>Gold Price Forecast: XAU/USD to target $1,925 ...</td>\n",
       "      <td>FXStreet</td>\n",
       "      <td>5 hours ago</td>\n",
       "      <td>2022-02-19 00:18:37.773696</td>\n",
       "      <td>Gold capitalized on safe-haven flows throughou...</td>\n",
       "      <td>https://www.fxstreet.com/news/gold-price-forec...</td>\n",
       "      <td>data:image/gif;base64,R0lGODlhAQABAIAAAP//////...</td>\n",
       "      <td>Gold Price Forecast XAU USD target daily close</td>\n",
       "      <td>Gold capitalized safe flow throughout week A d...</td>\n",
       "    </tr>\n",
       "    <tr>\n",
       "      <th>2</th>\n",
       "      <td>Gold Price Analysis: XAU/USD falls back from $...</td>\n",
       "      <td>FXStreet</td>\n",
       "      <td>8 hours ago</td>\n",
       "      <td>2022-02-18 21:18:37.781272</td>\n",
       "      <td>Having failed to break convincingly above the ...</td>\n",
       "      <td>https://www.fxstreet.com/news/gold-price-analy...</td>\n",
       "      <td>data:image/gif;base64,R0lGODlhAQABAIAAAP//////...</td>\n",
       "      <td>Gold Price Analysis XAU USD fall back level am...</td>\n",
       "      <td>Having failed break convincingly level late Th...</td>\n",
       "    </tr>\n",
       "    <tr>\n",
       "      <th>3</th>\n",
       "      <td>Gold Price Forecast: XAU/USD bulls keep eyes o...</td>\n",
       "      <td>FXStreet</td>\n",
       "      <td>2 hours ago</td>\n",
       "      <td>2022-02-19 03:18:37.782303</td>\n",
       "      <td>Gold price remains at the mercy of the geopoli...</td>\n",
       "      <td>https://www.fxstreet.com/news/gold-price-forec...</td>\n",
       "      <td>data:image/gif;base64,R0lGODlhAQABAIAAAP//////...</td>\n",
       "      <td>Gold Price Forecast XAU USD bull keep eye amid...</td>\n",
       "      <td>Gold price remains mercy geopolitical developm...</td>\n",
       "    </tr>\n",
       "    <tr>\n",
       "      <th>4</th>\n",
       "      <td>Gold Price Forecast: Rate hikes no concern for...</td>\n",
       "      <td>FXStreet</td>\n",
       "      <td>3 hours ago</td>\n",
       "      <td>2022-02-19 02:18:37.783314</td>\n",
       "      <td>Popular opinion is that interest rate hikes ar...</td>\n",
       "      <td>https://www.fxstreet.com/news/gold-price-forec...</td>\n",
       "      <td>data:image/gif;base64,R0lGODlhAQABAIAAAP//////...</td>\n",
       "      <td>Gold Price Forecast Rate hike concern XAU USD ANZ</td>\n",
       "      <td>Popular opinion interest rate hike bearish gol...</td>\n",
       "    </tr>\n",
       "  </tbody>\n",
       "</table>\n",
       "</div>"
      ],
      "text/plain": [
       "                                               title     media         date  \\\n",
       "0  Gold Price Technical Forecast: The War Bid Tak...   DailyFX   1 hour ago   \n",
       "1  Gold Price Forecast: XAU/USD to target $1,925 ...  FXStreet  5 hours ago   \n",
       "2  Gold Price Analysis: XAU/USD falls back from $...  FXStreet  8 hours ago   \n",
       "3  Gold Price Forecast: XAU/USD bulls keep eyes o...  FXStreet  2 hours ago   \n",
       "4  Gold Price Forecast: Rate hikes no concern for...  FXStreet  3 hours ago   \n",
       "\n",
       "                    datetime  \\\n",
       "0 2022-02-19 04:18:37.766778   \n",
       "1 2022-02-19 00:18:37.773696   \n",
       "2 2022-02-18 21:18:37.781272   \n",
       "3 2022-02-19 03:18:37.782303   \n",
       "4 2022-02-19 02:18:37.783314   \n",
       "\n",
       "                                                desc  \\\n",
       "0  Gold has jumped up to a fresh eight-month-high...   \n",
       "1  Gold capitalized on safe-haven flows throughou...   \n",
       "2  Having failed to break convincingly above the ...   \n",
       "3  Gold price remains at the mercy of the geopoli...   \n",
       "4  Popular opinion is that interest rate hikes ar...   \n",
       "\n",
       "                                                link  \\\n",
       "0  https://www.dailyfx.com/forex/technical/articl...   \n",
       "1  https://www.fxstreet.com/news/gold-price-forec...   \n",
       "2  https://www.fxstreet.com/news/gold-price-analy...   \n",
       "3  https://www.fxstreet.com/news/gold-price-forec...   \n",
       "4  https://www.fxstreet.com/news/gold-price-forec...   \n",
       "\n",
       "                                                 img  \\\n",
       "0  data:image/gif;base64,R0lGODlhAQABAIAAAP//////...   \n",
       "1  data:image/gif;base64,R0lGODlhAQABAIAAAP//////...   \n",
       "2  data:image/gif;base64,R0lGODlhAQABAIAAAP//////...   \n",
       "3  data:image/gif;base64,R0lGODlhAQABAIAAAP//////...   \n",
       "4  data:image/gif;base64,R0lGODlhAQABAIAAAP//////...   \n",
       "\n",
       "                                     processed title  \\\n",
       "0  Gold Price Technical Forecast The War Bid Take...   \n",
       "1     Gold Price Forecast XAU USD target daily close   \n",
       "2  Gold Price Analysis XAU USD fall back level am...   \n",
       "3  Gold Price Forecast XAU USD bull keep eye amid...   \n",
       "4  Gold Price Forecast Rate hike concern XAU USD ANZ   \n",
       "\n",
       "                                      processed desc  \n",
       "0  Gold jumped fresh eight month high week may do...  \n",
       "1  Gold capitalized safe flow throughout week A d...  \n",
       "2  Having failed break convincingly level late Th...  \n",
       "3  Gold price remains mercy geopolitical developm...  \n",
       "4  Popular opinion interest rate hike bearish gol...  "
      ]
     },
     "execution_count": 336,
     "metadata": {},
     "output_type": "execute_result"
    }
   ],
   "source": [
    "df_gnews['processed title'] = df_gnews['title'].apply(lambda x: datacleaning(x))\n",
    "df_gnews['processed desc'] = df_gnews['desc'].apply(lambda x: datacleaning(x))\n",
    "df_gnews.head()"
   ]
  },
  {
   "cell_type": "code",
   "execution_count": 337,
   "id": "43255598",
   "metadata": {},
   "outputs": [],
   "source": [
    "df_gnews = df_gnews.drop(columns=['media','date','datetime','link','img'])\n",
    "df_gnews['processed'] = df_gnews['processed title']+df_gnews['processed desc']"
   ]
  },
  {
   "cell_type": "markdown",
   "id": "289c4abd",
   "metadata": {},
   "source": [
    "# 2a. Calculate Twitter Sentiment"
   ]
  },
  {
   "cell_type": "code",
   "execution_count": 325,
   "id": "26f3c580",
   "metadata": {},
   "outputs": [],
   "source": [
    "def MarketSentiment(sentence):\n",
    "    value = 0\n",
    "    positivewords = ['buy', 'long', 'bulls', 'bullish', 'upside', 'support', 'rise', 'rises', 'high', 'highs', 'higher', 'bottom', 'win']\n",
    "    negativewords = ['sell', 'short', 'bears', 'bearish', 'downside', 'resistance', 'low', 'lows', 'fall', 'falls', 'lower', 'top', 'lose', 'war', 'inflation']\n",
    "       \n",
    "    for word in sentence.split():\n",
    "        if word.lower() in positivewords:\n",
    "            value = value + 1\n",
    "        elif word.lower() in negativewords:\n",
    "            value = value - 1\n",
    "    \n",
    "    if value > 0: \n",
    "        value = 1\n",
    "    elif value < 0: \n",
    "        value = -1\n",
    "        \n",
    "    return(value)"
   ]
  },
  {
   "cell_type": "code",
   "execution_count": 326,
   "id": "c7793e7b",
   "metadata": {},
   "outputs": [],
   "source": [
    "df_twitter['polarity'] = df_twitter['Processed Tweet'].apply(lambda x: MarketSentiment(x))"
   ]
  },
  {
   "cell_type": "code",
   "execution_count": 327,
   "id": "c3b7312f",
   "metadata": {},
   "outputs": [],
   "source": [
    "df_twitter.to_csv(r'./twitter.csv', index = False)"
   ]
  },
  {
   "cell_type": "code",
   "execution_count": 202,
   "id": "a7369b8c",
   "metadata": {},
   "outputs": [
    {
     "data": {
      "text/html": [
       "<div>\n",
       "<style scoped>\n",
       "    .dataframe tbody tr th:only-of-type {\n",
       "        vertical-align: middle;\n",
       "    }\n",
       "\n",
       "    .dataframe tbody tr th {\n",
       "        vertical-align: top;\n",
       "    }\n",
       "\n",
       "    .dataframe thead th {\n",
       "        text-align: right;\n",
       "    }\n",
       "</style>\n",
       "<table border=\"1\" class=\"dataframe\">\n",
       "  <thead>\n",
       "    <tr style=\"text-align: right;\">\n",
       "      <th></th>\n",
       "      <th>Processed Tweet</th>\n",
       "      <th>polarity</th>\n",
       "    </tr>\n",
       "  </thead>\n",
       "  <tbody>\n",
       "    <tr>\n",
       "      <th>0</th>\n",
       "      <td>XAUUSD GOLD min Sur cette unit de temp la tend...</td>\n",
       "      <td>0</td>\n",
       "    </tr>\n",
       "    <tr>\n",
       "      <th>1</th>\n",
       "      <td>XAUUSD GOLD min Sur cette unit de temp la tend...</td>\n",
       "      <td>0</td>\n",
       "    </tr>\n",
       "    <tr>\n",
       "      <th>2</th>\n",
       "      <td>JIASBOT JIASGOLD th order Gold booked loss Net...</td>\n",
       "      <td>1</td>\n",
       "    </tr>\n",
       "    <tr>\n",
       "      <th>3</th>\n",
       "      <td>XAUUSD BUY NOW XAUUSD GOLD GOLD sl tp tp tp op...</td>\n",
       "      <td>1</td>\n",
       "    </tr>\n",
       "    <tr>\n",
       "      <th>4</th>\n",
       "      <td>RT bdfx FX fx</td>\n",
       "      <td>0</td>\n",
       "    </tr>\n",
       "    <tr>\n",
       "      <th>...</th>\n",
       "      <td>...</td>\n",
       "      <td>...</td>\n",
       "    </tr>\n",
       "    <tr>\n",
       "      <th>995</th>\n",
       "      <td>Gold Price Forecast XAU USD set floor amid wid...</td>\n",
       "      <td>0</td>\n",
       "    </tr>\n",
       "    <tr>\n",
       "      <th>996</th>\n",
       "      <td>XAUUSD GOLD MIN MA SL PIP http co MUrI gches h...</td>\n",
       "      <td>0</td>\n",
       "    </tr>\n",
       "    <tr>\n",
       "      <th>997</th>\n",
       "      <td>Gold stand mark next target Gold XAUUSD</td>\n",
       "      <td>0</td>\n",
       "    </tr>\n",
       "    <tr>\n",
       "      <th>998</th>\n",
       "      <td>RT bdfx FX FX FX XAUUSD GOLD http co mtnfl Ygqq</td>\n",
       "      <td>0</td>\n",
       "    </tr>\n",
       "    <tr>\n",
       "      <th>999</th>\n",
       "      <td>SONDAK KA Baz Rus birlikleri Ukrayna n r na ya...</td>\n",
       "      <td>0</td>\n",
       "    </tr>\n",
       "  </tbody>\n",
       "</table>\n",
       "<p>1000 rows × 2 columns</p>\n",
       "</div>"
      ],
      "text/plain": [
       "                                       Processed Tweet  polarity\n",
       "0    XAUUSD GOLD min Sur cette unit de temp la tend...         0\n",
       "1    XAUUSD GOLD min Sur cette unit de temp la tend...         0\n",
       "2    JIASBOT JIASGOLD th order Gold booked loss Net...         1\n",
       "3    XAUUSD BUY NOW XAUUSD GOLD GOLD sl tp tp tp op...         1\n",
       "4                                        RT bdfx FX fx         0\n",
       "..                                                 ...       ...\n",
       "995  Gold Price Forecast XAU USD set floor amid wid...         0\n",
       "996  XAUUSD GOLD MIN MA SL PIP http co MUrI gches h...         0\n",
       "997            Gold stand mark next target Gold XAUUSD         0\n",
       "998    RT bdfx FX FX FX XAUUSD GOLD http co mtnfl Ygqq         0\n",
       "999  SONDAK KA Baz Rus birlikleri Ukrayna n r na ya...         0\n",
       "\n",
       "[1000 rows x 2 columns]"
      ]
     },
     "execution_count": 202,
     "metadata": {},
     "output_type": "execute_result"
    }
   ],
   "source": [
    "df_twitter"
   ]
  },
  {
   "cell_type": "markdown",
   "id": "972a4b48",
   "metadata": {},
   "source": [
    "# 2b. Calculate GoogleNews Sentiment"
   ]
  },
  {
   "cell_type": "code",
   "execution_count": 338,
   "id": "e7708488",
   "metadata": {},
   "outputs": [],
   "source": [
    "df_gnews['polarity'] = df_gnews['processed'].apply(lambda x: MarketSentiment(x))"
   ]
  },
  {
   "cell_type": "code",
   "execution_count": 339,
   "id": "43ac9b36",
   "metadata": {},
   "outputs": [
    {
     "data": {
      "text/plain": [
       "0     0\n",
       "1     0\n",
       "2    -1\n",
       "3     0\n",
       "4    -1\n",
       "5     1\n",
       "6     0\n",
       "7     1\n",
       "8     1\n",
       "9     1\n",
       "10    1\n",
       "11    0\n",
       "12   -1\n",
       "13    1\n",
       "14   -1\n",
       "15    0\n",
       "16    1\n",
       "17   -1\n",
       "18    0\n",
       "19    0\n",
       "Name: polarity, dtype: int64"
      ]
     },
     "execution_count": 339,
     "metadata": {},
     "output_type": "execute_result"
    }
   ],
   "source": [
    "df_gnews['polarity']"
   ]
  },
  {
   "cell_type": "code",
   "execution_count": null,
   "id": "f85f1cd8",
   "metadata": {},
   "outputs": [],
   "source": []
  },
  {
   "cell_type": "markdown",
   "id": "ed7f3185",
   "metadata": {},
   "source": [
    "# 3a. Visualize Market Sentiment"
   ]
  },
  {
   "cell_type": "code",
   "execution_count": 348,
   "id": "c5c32120",
   "metadata": {},
   "outputs": [
    {
     "data": {
      "text/plain": [
       " 0    781\n",
       " 1    130\n",
       "-1     89\n",
       "Name: polarity, dtype: int64"
      ]
     },
     "execution_count": 348,
     "metadata": {},
     "output_type": "execute_result"
    }
   ],
   "source": [
    "df_twitter['polarity'].value_counts()"
   ]
  },
  {
   "cell_type": "code",
   "execution_count": 346,
   "id": "ac37eb18",
   "metadata": {},
   "outputs": [
    {
     "data": {
      "text/plain": [
       "<AxesSubplot:title={'center':'Market Analysis for Twitter'}>"
      ]
     },
     "execution_count": 346,
     "metadata": {},
     "output_type": "execute_result"
    },
    {
     "data": {
      "image/png": "[encoded data removed]",
      "text/plain": [
       "<Figure size 432x288 with 1 Axes>"
      ]
     },
     "metadata": {
      "needs_background": "light"
     },
     "output_type": "display_data"
    }
   ],
   "source": [
    "# Twitter\n",
    "df_twitter['polarity'].value_counts()[:20].plot(kind='barh', title='Market Analysis for Twitter')"
   ]
  },
  {
   "cell_type": "code",
   "execution_count": 349,
   "id": "857c740d",
   "metadata": {},
   "outputs": [
    {
     "data": {
      "text/plain": [
       " 0    8\n",
       " 1    7\n",
       "-1    5\n",
       "Name: polarity, dtype: int64"
      ]
     },
     "execution_count": 349,
     "metadata": {},
     "output_type": "execute_result"
    }
   ],
   "source": [
    "df_gnews['polarity'].value_counts()"
   ]
  },
  {
   "cell_type": "code",
   "execution_count": 347,
   "id": "b33f9979",
   "metadata": {},
   "outputs": [
    {
     "data": {
      "text/plain": [
       "<AxesSubplot:title={'center':'Market Analysis for Google News'}>"
      ]
     },
     "execution_count": 347,
     "metadata": {},
     "output_type": "execute_result"
    },
    {
     "data": {
      "image/png": "[encoded data removed]",
      "text/plain": [
       "<Figure size 432x288 with 1 Axes>"
      ]
     },
     "metadata": {
      "needs_background": "light"
     },
     "output_type": "display_data"
    }
   ],
   "source": [
    "# Google News\n",
    "df_gnews['polarity'].value_counts()[:20].plot(kind='barh', title='Market Analysis for Google News')"
   ]
  },
  {
   "cell_type": "code",
   "execution_count": 341,
   "id": "74f12b01",
   "metadata": {},
   "outputs": [
    {
     "data": {
      "image/png": "[encoded data removed]",
      "text/plain": [
       "<Figure size 432x288 with 1 Axes>"
      ]
     },
     "metadata": {},
     "output_type": "display_data"
    }
   ],
   "source": [
    "# Twitter\n",
    "neutral, positive, negative = df_twitter['polarity'].value_counts()\n",
    "\n",
    "# Pie chart, where the slices will be ordered and plotted counter-clockwise:\n",
    "labels = 'Positive', 'Negative', 'Neutral'\n",
    "sizes = [positive, negative, neutral]\n",
    "explode = (0.1, 0, 0.1)  # only \"explode\" the 2nd slice (i.e. 'Hogs')\n",
    "\n",
    "fig1, ax1 = plt.subplots()\n",
    "ax1.pie(sizes, explode=explode, labels=labels, autopct='%1.1f%%', shadow=True, startangle=90)\n",
    "ax1.axis('equal')  # Equal aspect ratio ensures that pie is drawn as a circle.\n",
    "\n",
    "plt.show()"
   ]
  },
  {
   "cell_type": "code",
   "execution_count": 342,
   "id": "58189dd8",
   "metadata": {},
   "outputs": [
    {
     "data": {
      "image/png": "[encoded data removed]",
      "text/plain": [
       "<Figure size 432x288 with 1 Axes>"
      ]
     },
     "metadata": {},
     "output_type": "display_data"
    }
   ],
   "source": [
    "# Google News\n",
    "neutral, positive, negative = df_gnews['polarity'].value_counts()\n",
    "\n",
    "# Pie chart, where the slices will be ordered and plotted counter-clockwise:\n",
    "labels = 'Positive', 'Negative', 'Neutral'\n",
    "sizes = [positive, negative, neutral]\n",
    "explode = (0.1, 0, 0.1)  # only \"explode\" the 2nd slice (i.e. 'Hogs')\n",
    "\n",
    "fig1, ax1 = plt.subplots()\n",
    "ax1.pie(sizes, explode=explode, labels=labels, autopct='%1.1f%%', shadow=True, startangle=90)\n",
    "ax1.axis('equal')  # Equal aspect ratio ensures that pie is drawn as a circle.\n",
    "\n",
    "plt.show()"
   ]
  },
  {
   "cell_type": "markdown",
   "id": "1592dd50",
   "metadata": {},
   "source": [
    "# Text Classification\n",
    "\n",
    "Now we try to import the Twitter results back to the system for Text Classification"
   ]
  },
  {
   "cell_type": "code",
   "execution_count": 377,
   "id": "278d2d9b",
   "metadata": {},
   "outputs": [
    {
     "data": {
      "text/html": [
       "<div>\n",
       "<style scoped>\n",
       "    .dataframe tbody tr th:only-of-type {\n",
       "        vertical-align: middle;\n",
       "    }\n",
       "\n",
       "    .dataframe tbody tr th {\n",
       "        vertical-align: top;\n",
       "    }\n",
       "\n",
       "    .dataframe thead th {\n",
       "        text-align: right;\n",
       "    }\n",
       "</style>\n",
       "<table border=\"1\" class=\"dataframe\">\n",
       "  <thead>\n",
       "    <tr style=\"text-align: right;\">\n",
       "      <th></th>\n",
       "      <th>text</th>\n",
       "      <th>label</th>\n",
       "    </tr>\n",
       "  </thead>\n",
       "  <tbody>\n",
       "    <tr>\n",
       "      <th>0</th>\n",
       "      <td>Gold ozt UTC H change D change GOLD XAU XAUUSD</td>\n",
       "      <td>0</td>\n",
       "    </tr>\n",
       "    <tr>\n",
       "      <th>1</th>\n",
       "      <td>Gold signal running deep profit free telegram ...</td>\n",
       "      <td>0</td>\n",
       "    </tr>\n",
       "    <tr>\n",
       "      <th>2</th>\n",
       "      <td>XAUUSD SELL ENTRY SL TP TP TP TP Open Dm http ...</td>\n",
       "      <td>-1</td>\n",
       "    </tr>\n",
       "    <tr>\n",
       "      <th>3</th>\n",
       "      <td>Check XAUUSD analysis TradingView http co QJn ...</td>\n",
       "      <td>-1</td>\n",
       "    </tr>\n",
       "    <tr>\n",
       "      <th>4</th>\n",
       "      <td>http co hkXEsLF N FX FOREX BTC Crypto GOLD XAU...</td>\n",
       "      <td>0</td>\n",
       "    </tr>\n",
       "    <tr>\n",
       "      <th>...</th>\n",
       "      <td>...</td>\n",
       "      <td>...</td>\n",
       "    </tr>\n",
       "    <tr>\n",
       "      <th>995</th>\n",
       "      <td>RT xtradering Gold Short ulara selam olsun st ...</td>\n",
       "      <td>-1</td>\n",
       "    </tr>\n",
       "    <tr>\n",
       "      <th>996</th>\n",
       "      <td>All Target Hit Book Profit Hope follower take ...</td>\n",
       "      <td>0</td>\n",
       "    </tr>\n",
       "    <tr>\n",
       "      <th>997</th>\n",
       "      <td>sl FX XAUUSD Gold http co Gw YBwko</td>\n",
       "      <td>0</td>\n",
       "    </tr>\n",
       "    <tr>\n",
       "      <th>998</th>\n",
       "      <td>Gold XAUUSD ALTIN Bu k r l b lgesine kseli tre...</td>\n",
       "      <td>0</td>\n",
       "    </tr>\n",
       "    <tr>\n",
       "      <th>999</th>\n",
       "      <td>I mean Caught many buy since large hold lol PA...</td>\n",
       "      <td>1</td>\n",
       "    </tr>\n",
       "  </tbody>\n",
       "</table>\n",
       "<p>1000 rows × 2 columns</p>\n",
       "</div>"
      ],
      "text/plain": [
       "                                                  text  label\n",
       "0       Gold ozt UTC H change D change GOLD XAU XAUUSD      0\n",
       "1    Gold signal running deep profit free telegram ...      0\n",
       "2    XAUUSD SELL ENTRY SL TP TP TP TP Open Dm http ...     -1\n",
       "3    Check XAUUSD analysis TradingView http co QJn ...     -1\n",
       "4    http co hkXEsLF N FX FOREX BTC Crypto GOLD XAU...      0\n",
       "..                                                 ...    ...\n",
       "995  RT xtradering Gold Short ulara selam olsun st ...     -1\n",
       "996  All Target Hit Book Profit Hope follower take ...      0\n",
       "997                 sl FX XAUUSD Gold http co Gw YBwko      0\n",
       "998  Gold XAUUSD ALTIN Bu k r l b lgesine kseli tre...      0\n",
       "999  I mean Caught many buy since large hold lol PA...      1\n",
       "\n",
       "[1000 rows x 2 columns]"
      ]
     },
     "execution_count": 377,
     "metadata": {},
     "output_type": "execute_result"
    }
   ],
   "source": [
    "df = pd.read_csv('./twitter.csv')\n",
    "df = df.drop(columns=['Tweet','Timestamp'])\n",
    "\n",
    "trainDF = df\n",
    "trainDF = trainDF.rename(columns={'Processed Tweet': 'text','polarity': 'label'})\n",
    "trainDF"
   ]
  },
  {
   "cell_type": "code",
   "execution_count": null,
   "id": "b40c671d",
   "metadata": {},
   "outputs": [],
   "source": []
  },
  {
   "cell_type": "code",
   "execution_count": 355,
   "id": "1244d327",
   "metadata": {},
   "outputs": [],
   "source": [
    "## split the dataset\n",
    "from sklearn.model_selection import train_test_split\n",
    "X = df['Processed Tweet']\n",
    "y = df['polarity']\n",
    "X_train, X_test, y_train, y_test = train_test_split(X, y, test_size=0.2, random_state=42)"
   ]
  },
  {
   "cell_type": "code",
   "execution_count": 378,
   "id": "0f416b89",
   "metadata": {},
   "outputs": [],
   "source": [
    "from sklearn.feature_extraction.text import CountVectorizer\n",
    "\n",
    "# create a count vectorizer object\n",
    "count_vect = CountVectorizer(token_pattern = r'\\w{1,}')\n",
    "# Learn a vocabulary dictionary of all tokens in the raw documents\n",
    "count_vect.fit(trainDF['text'])\n",
    "# Transform documents to document-term matrix.\n",
    "X_train_count = count_vect.transform(X_train)\n",
    "X_test_count = count_vect.transform(X_test)"
   ]
  },
  {
   "cell_type": "code",
   "execution_count": 379,
   "id": "c5427a27",
   "metadata": {},
   "outputs": [
    {
     "data": {
      "text/plain": [
       "<800x2822 sparse matrix of type '<class 'numpy.int64'>'\n",
       "\twith 10401 stored elements in Compressed Sparse Row format>"
      ]
     },
     "execution_count": 379,
     "metadata": {},
     "output_type": "execute_result"
    }
   ],
   "source": [
    "X_train_count"
   ]
  },
  {
   "cell_type": "markdown",
   "id": "77bd1dfa",
   "metadata": {},
   "source": [
    "# WORD LEVEL"
   ]
  },
  {
   "cell_type": "code",
   "execution_count": 380,
   "id": "9d743707",
   "metadata": {},
   "outputs": [
    {
     "name": "stdout",
     "output_type": "stream",
     "text": [
      "TfidfVectorizer(max_features=5000, token_pattern='\\\\w{1,}')\n",
      "Wall time: 30.9 ms\n"
     ]
    }
   ],
   "source": [
    "%%time\n",
    "from sklearn.feature_extraction.text import TfidfVectorizer\n",
    "# word level tf-idf\n",
    "tfidf_vect = TfidfVectorizer(analyzer = 'word',\n",
    "                             token_pattern = r'\\w{1,}',\n",
    "                             max_features = 5000)\n",
    "print(tfidf_vect)\n",
    "\n",
    "tfidf_vect.fit(trainDF['text'])\n",
    "X_train_tfidf = tfidf_vect.transform(X_train)\n",
    "X_test_tfidf  = tfidf_vect.transform(X_test)"
   ]
  },
  {
   "cell_type": "code",
   "execution_count": 381,
   "id": "b59750e5",
   "metadata": {},
   "outputs": [
    {
     "data": {
      "text/plain": [
       "<800x2822 sparse matrix of type '<class 'numpy.float64'>'\n",
       "\twith 10401 stored elements in Compressed Sparse Row format>"
      ]
     },
     "execution_count": 381,
     "metadata": {},
     "output_type": "execute_result"
    }
   ],
   "source": [
    "X_train_tfidf"
   ]
  },
  {
   "cell_type": "markdown",
   "id": "a36fc4cb",
   "metadata": {},
   "source": [
    "# N-GRAM LEVEL"
   ]
  },
  {
   "cell_type": "code",
   "execution_count": 382,
   "id": "cd2cf1be",
   "metadata": {},
   "outputs": [
    {
     "name": "stdout",
     "output_type": "stream",
     "text": [
      "TfidfVectorizer(max_features=5000, ngram_range=(2, 3), token_pattern='\\\\w{1,}')\n",
      "Wall time: 69.3 ms\n"
     ]
    }
   ],
   "source": [
    "%%time\n",
    "# ngram level tf-idf\n",
    "tfidf_vect_ngram = TfidfVectorizer(analyzer = 'word',\n",
    "                                   token_pattern = r'\\w{1,}',\n",
    "                                   ngram_range = (2, 3),\n",
    "                                   max_features = 5000)\n",
    "print(tfidf_vect_ngram)\n",
    "\n",
    "tfidf_vect_ngram.fit(trainDF['text'])\n",
    "X_train_tfidf_ngram = tfidf_vect_ngram.transform(X_train)\n",
    "X_test_tfidf_ngram  = tfidf_vect_ngram.transform(X_test)"
   ]
  },
  {
   "cell_type": "code",
   "execution_count": 383,
   "id": "8bca32d4",
   "metadata": {},
   "outputs": [
    {
     "data": {
      "text/plain": [
       "<800x5000 sparse matrix of type '<class 'numpy.float64'>'\n",
       "\twith 14300 stored elements in Compressed Sparse Row format>"
      ]
     },
     "execution_count": 383,
     "metadata": {},
     "output_type": "execute_result"
    }
   ],
   "source": [
    "X_train_tfidf_ngram"
   ]
  },
  {
   "cell_type": "markdown",
   "id": "f8e320c5",
   "metadata": {},
   "source": [
    "# CHARACTERS LEVEL"
   ]
  },
  {
   "cell_type": "code",
   "execution_count": 384,
   "id": "34052b44",
   "metadata": {},
   "outputs": [
    {
     "name": "stdout",
     "output_type": "stream",
     "text": [
      "TfidfVectorizer(analyzer='char', max_features=5000, ngram_range=(2, 3),\n",
      "                token_pattern='\\\\w{1,}')\n",
      "Wall time: 163 ms\n"
     ]
    },
    {
     "name": "stderr",
     "output_type": "stream",
     "text": [
      "C:\\ProgramData\\Anaconda3\\lib\\site-packages\\sklearn\\feature_extraction\\text.py:506: UserWarning: The parameter 'token_pattern' will not be used since 'analyzer' != 'word'\n",
      "  warnings.warn(\"The parameter 'token_pattern' will not be used\"\n"
     ]
    }
   ],
   "source": [
    "%%time\n",
    "# characters level tf-idf\n",
    "tfidf_vect_ngram_chars = TfidfVectorizer(analyzer = 'char',\n",
    "                                         token_pattern = r'\\w{1,}',\n",
    "                                         ngram_range = (2, 3),\n",
    "                                         max_features = 5000)\n",
    "print(tfidf_vect_ngram_chars)\n",
    "\n",
    "tfidf_vect_ngram_chars.fit(trainDF['text'])\n",
    "X_train_tfidf_ngram_chars = tfidf_vect_ngram_chars.transform(X_train)\n",
    "X_test_tfidf_ngram_chars  = tfidf_vect_ngram_chars.transform(X_test)"
   ]
  },
  {
   "cell_type": "code",
   "execution_count": 385,
   "id": "1e321e30",
   "metadata": {},
   "outputs": [
    {
     "data": {
      "text/plain": [
       "<800x5000 sparse matrix of type '<class 'numpy.float64'>'\n",
       "\twith 98472 stored elements in Compressed Sparse Row format>"
      ]
     },
     "execution_count": 385,
     "metadata": {},
     "output_type": "execute_result"
    }
   ],
   "source": [
    "X_train_tfidf_ngram_chars"
   ]
  },
  {
   "cell_type": "markdown",
   "id": "95b5450d",
   "metadata": {},
   "source": [
    "## Text / NLP based features"
   ]
  },
  {
   "cell_type": "code",
   "execution_count": 386,
   "id": "e541e087",
   "metadata": {},
   "outputs": [
    {
     "data": {
      "text/html": [
       "<div>\n",
       "<style scoped>\n",
       "    .dataframe tbody tr th:only-of-type {\n",
       "        vertical-align: middle;\n",
       "    }\n",
       "\n",
       "    .dataframe tbody tr th {\n",
       "        vertical-align: top;\n",
       "    }\n",
       "\n",
       "    .dataframe thead th {\n",
       "        text-align: right;\n",
       "    }\n",
       "</style>\n",
       "<table border=\"1\" class=\"dataframe\">\n",
       "  <thead>\n",
       "    <tr style=\"text-align: right;\">\n",
       "      <th></th>\n",
       "      <th>text</th>\n",
       "      <th>label</th>\n",
       "    </tr>\n",
       "  </thead>\n",
       "  <tbody>\n",
       "    <tr>\n",
       "      <th>0</th>\n",
       "      <td>Gold ozt UTC H change D change GOLD XAU XAUUSD</td>\n",
       "      <td>0</td>\n",
       "    </tr>\n",
       "    <tr>\n",
       "      <th>1</th>\n",
       "      <td>Gold signal running deep profit free telegram ...</td>\n",
       "      <td>0</td>\n",
       "    </tr>\n",
       "    <tr>\n",
       "      <th>2</th>\n",
       "      <td>XAUUSD SELL ENTRY SL TP TP TP TP Open Dm http ...</td>\n",
       "      <td>-1</td>\n",
       "    </tr>\n",
       "    <tr>\n",
       "      <th>3</th>\n",
       "      <td>Check XAUUSD analysis TradingView http co QJn ...</td>\n",
       "      <td>-1</td>\n",
       "    </tr>\n",
       "    <tr>\n",
       "      <th>4</th>\n",
       "      <td>http co hkXEsLF N FX FOREX BTC Crypto GOLD XAU...</td>\n",
       "      <td>0</td>\n",
       "    </tr>\n",
       "    <tr>\n",
       "      <th>...</th>\n",
       "      <td>...</td>\n",
       "      <td>...</td>\n",
       "    </tr>\n",
       "    <tr>\n",
       "      <th>995</th>\n",
       "      <td>RT xtradering Gold Short ulara selam olsun st ...</td>\n",
       "      <td>-1</td>\n",
       "    </tr>\n",
       "    <tr>\n",
       "      <th>996</th>\n",
       "      <td>All Target Hit Book Profit Hope follower take ...</td>\n",
       "      <td>0</td>\n",
       "    </tr>\n",
       "    <tr>\n",
       "      <th>997</th>\n",
       "      <td>sl FX XAUUSD Gold http co Gw YBwko</td>\n",
       "      <td>0</td>\n",
       "    </tr>\n",
       "    <tr>\n",
       "      <th>998</th>\n",
       "      <td>Gold XAUUSD ALTIN Bu k r l b lgesine kseli tre...</td>\n",
       "      <td>0</td>\n",
       "    </tr>\n",
       "    <tr>\n",
       "      <th>999</th>\n",
       "      <td>I mean Caught many buy since large hold lol PA...</td>\n",
       "      <td>1</td>\n",
       "    </tr>\n",
       "  </tbody>\n",
       "</table>\n",
       "<p>1000 rows × 2 columns</p>\n",
       "</div>"
      ],
      "text/plain": [
       "                                                  text  label\n",
       "0       Gold ozt UTC H change D change GOLD XAU XAUUSD      0\n",
       "1    Gold signal running deep profit free telegram ...      0\n",
       "2    XAUUSD SELL ENTRY SL TP TP TP TP Open Dm http ...     -1\n",
       "3    Check XAUUSD analysis TradingView http co QJn ...     -1\n",
       "4    http co hkXEsLF N FX FOREX BTC Crypto GOLD XAU...      0\n",
       "..                                                 ...    ...\n",
       "995  RT xtradering Gold Short ulara selam olsun st ...     -1\n",
       "996  All Target Hit Book Profit Hope follower take ...      0\n",
       "997                 sl FX XAUUSD Gold http co Gw YBwko      0\n",
       "998  Gold XAUUSD ALTIN Bu k r l b lgesine kseli tre...      0\n",
       "999  I mean Caught many buy since large hold lol PA...      1\n",
       "\n",
       "[1000 rows x 2 columns]"
      ]
     },
     "execution_count": 386,
     "metadata": {},
     "output_type": "execute_result"
    }
   ],
   "source": [
    "trainDF"
   ]
  },
  {
   "cell_type": "code",
   "execution_count": 391,
   "id": "bfccb758",
   "metadata": {},
   "outputs": [],
   "source": [
    "import string\n",
    "import spacy\n",
    "\n",
    "from collections import Counter\n",
    "\n",
    "from sklearn.decomposition import LatentDirichletAllocation\n",
    "from sklearn.ensemble import GradientBoostingClassifier\n",
    "from sklearn.ensemble import RandomForestClassifier\n",
    "\n",
    "from sklearn.linear_model import LogisticRegression\n",
    "from sklearn.metrics import accuracy_score\n",
    "from sklearn.model_selection import train_test_split\n",
    "from sklearn.naive_bayes import MultinomialNB\n",
    "from sklearn.svm import LinearSVC"
   ]
  },
  {
   "cell_type": "code",
   "execution_count": 389,
   "id": "dafd807b",
   "metadata": {},
   "outputs": [
    {
     "name": "stdout",
     "output_type": "stream",
     "text": [
      "Wall time: 19.5 ms\n"
     ]
    }
   ],
   "source": [
    "%%time\n",
    "# ANSWER\n",
    "trainDF['char_count']  = trainDF['text'].apply(len)\n",
    "trainDF['word_count']  = trainDF['text'].apply(lambda x: len(x.split()))\n",
    "trainDF['word_density']= trainDF['char_count']/(trainDF['word_count']+1)\n",
    "trainDF['punc_count']  = trainDF['text'].apply(lambda x: len(''.join(_ for _ in x if _ in string.punctuation)))\n",
    "trainDF['title_count'] = trainDF['text'].apply(lambda x: len([w for w in x.split() if w.istitle()]))\n",
    "trainDF['upper_count'] = trainDF['text'].apply(lambda x: len([w for w in x.split() if w.isupper()]))"
   ]
  },
  {
   "cell_type": "code",
   "execution_count": 392,
   "id": "190b2010",
   "metadata": {},
   "outputs": [
    {
     "data": {
      "text/html": [
       "<div>\n",
       "<style scoped>\n",
       "    .dataframe tbody tr th:only-of-type {\n",
       "        vertical-align: middle;\n",
       "    }\n",
       "\n",
       "    .dataframe tbody tr th {\n",
       "        vertical-align: top;\n",
       "    }\n",
       "\n",
       "    .dataframe thead th {\n",
       "        text-align: right;\n",
       "    }\n",
       "</style>\n",
       "<table border=\"1\" class=\"dataframe\">\n",
       "  <thead>\n",
       "    <tr style=\"text-align: right;\">\n",
       "      <th></th>\n",
       "      <th>text</th>\n",
       "      <th>label</th>\n",
       "      <th>char_count</th>\n",
       "      <th>word_count</th>\n",
       "      <th>word_density</th>\n",
       "      <th>punc_count</th>\n",
       "      <th>title_count</th>\n",
       "      <th>upper_count</th>\n",
       "    </tr>\n",
       "  </thead>\n",
       "  <tbody>\n",
       "    <tr>\n",
       "      <th>0</th>\n",
       "      <td>Gold ozt UTC H change D change GOLD XAU XAUUSD</td>\n",
       "      <td>0</td>\n",
       "      <td>46</td>\n",
       "      <td>10</td>\n",
       "      <td>4.181818</td>\n",
       "      <td>0</td>\n",
       "      <td>3</td>\n",
       "      <td>6</td>\n",
       "    </tr>\n",
       "    <tr>\n",
       "      <th>1</th>\n",
       "      <td>Gold signal running deep profit free telegram ...</td>\n",
       "      <td>0</td>\n",
       "      <td>87</td>\n",
       "      <td>17</td>\n",
       "      <td>4.833333</td>\n",
       "      <td>0</td>\n",
       "      <td>3</td>\n",
       "      <td>2</td>\n",
       "    </tr>\n",
       "    <tr>\n",
       "      <th>2</th>\n",
       "      <td>XAUUSD SELL ENTRY SL TP TP TP TP Open Dm http ...</td>\n",
       "      <td>-1</td>\n",
       "      <td>78</td>\n",
       "      <td>17</td>\n",
       "      <td>4.333333</td>\n",
       "      <td>0</td>\n",
       "      <td>2</td>\n",
       "      <td>8</td>\n",
       "    </tr>\n",
       "    <tr>\n",
       "      <th>3</th>\n",
       "      <td>Check XAUUSD analysis TradingView http co QJn ...</td>\n",
       "      <td>-1</td>\n",
       "      <td>91</td>\n",
       "      <td>16</td>\n",
       "      <td>5.352941</td>\n",
       "      <td>0</td>\n",
       "      <td>3</td>\n",
       "      <td>4</td>\n",
       "    </tr>\n",
       "    <tr>\n",
       "      <th>4</th>\n",
       "      <td>http co hkXEsLF N FX FOREX BTC Crypto GOLD XAU...</td>\n",
       "      <td>0</td>\n",
       "      <td>72</td>\n",
       "      <td>15</td>\n",
       "      <td>4.500000</td>\n",
       "      <td>0</td>\n",
       "      <td>2</td>\n",
       "      <td>10</td>\n",
       "    </tr>\n",
       "  </tbody>\n",
       "</table>\n",
       "</div>"
      ],
      "text/plain": [
       "                                                text  label  char_count  \\\n",
       "0     Gold ozt UTC H change D change GOLD XAU XAUUSD      0          46   \n",
       "1  Gold signal running deep profit free telegram ...      0          87   \n",
       "2  XAUUSD SELL ENTRY SL TP TP TP TP Open Dm http ...     -1          78   \n",
       "3  Check XAUUSD analysis TradingView http co QJn ...     -1          91   \n",
       "4  http co hkXEsLF N FX FOREX BTC Crypto GOLD XAU...      0          72   \n",
       "\n",
       "   word_count  word_density  punc_count  title_count  upper_count  \n",
       "0          10      4.181818           0            3            6  \n",
       "1          17      4.833333           0            3            2  \n",
       "2          17      4.333333           0            2            8  \n",
       "3          16      5.352941           0            3            4  \n",
       "4          15      4.500000           0            2           10  "
      ]
     },
     "execution_count": 392,
     "metadata": {},
     "output_type": "execute_result"
    }
   ],
   "source": [
    "trainDF.head()"
   ]
  },
  {
   "cell_type": "code",
   "execution_count": 393,
   "id": "0cfbf169",
   "metadata": {},
   "outputs": [
    {
     "data": {
      "text/html": [
       "<div>\n",
       "<style scoped>\n",
       "    .dataframe tbody tr th:only-of-type {\n",
       "        vertical-align: middle;\n",
       "    }\n",
       "\n",
       "    .dataframe tbody tr th {\n",
       "        vertical-align: top;\n",
       "    }\n",
       "\n",
       "    .dataframe thead th {\n",
       "        text-align: right;\n",
       "    }\n",
       "</style>\n",
       "<table border=\"1\" class=\"dataframe\">\n",
       "  <thead>\n",
       "    <tr style=\"text-align: right;\">\n",
       "      <th></th>\n",
       "      <th>text</th>\n",
       "      <th>label</th>\n",
       "      <th>char_count</th>\n",
       "      <th>word_count</th>\n",
       "      <th>word_density</th>\n",
       "      <th>punc_count</th>\n",
       "      <th>title_count</th>\n",
       "      <th>upper_count</th>\n",
       "    </tr>\n",
       "  </thead>\n",
       "  <tbody>\n",
       "    <tr>\n",
       "      <th>813</th>\n",
       "      <td>Breaking Gold hit Russia Ukraine NATO tension ...</td>\n",
       "      <td>0</td>\n",
       "      <td>108</td>\n",
       "      <td>18</td>\n",
       "      <td>5.684211</td>\n",
       "      <td>0</td>\n",
       "      <td>9</td>\n",
       "      <td>2</td>\n",
       "    </tr>\n",
       "    <tr>\n",
       "      <th>842</th>\n",
       "      <td>Arman Trading tradingview pip profit XAUUSD go...</td>\n",
       "      <td>1</td>\n",
       "      <td>110</td>\n",
       "      <td>18</td>\n",
       "      <td>5.789474</td>\n",
       "      <td>0</td>\n",
       "      <td>3</td>\n",
       "      <td>2</td>\n",
       "    </tr>\n",
       "    <tr>\n",
       "      <th>465</th>\n",
       "      <td>Gold XAUUSD hold near fresh cycle high driven ...</td>\n",
       "      <td>1</td>\n",
       "      <td>103</td>\n",
       "      <td>18</td>\n",
       "      <td>5.421053</td>\n",
       "      <td>0</td>\n",
       "      <td>3</td>\n",
       "      <td>2</td>\n",
       "    </tr>\n",
       "    <tr>\n",
       "      <th>742</th>\n",
       "      <td>RT Professoroffx G ne yine Professor fark yla ...</td>\n",
       "      <td>0</td>\n",
       "      <td>99</td>\n",
       "      <td>19</td>\n",
       "      <td>4.950000</td>\n",
       "      <td>0</td>\n",
       "      <td>3</td>\n",
       "      <td>2</td>\n",
       "    </tr>\n",
       "    <tr>\n",
       "      <th>596</th>\n",
       "      <td>RT bdfx FX fx</td>\n",
       "      <td>0</td>\n",
       "      <td>13</td>\n",
       "      <td>4</td>\n",
       "      <td>2.600000</td>\n",
       "      <td>0</td>\n",
       "      <td>0</td>\n",
       "      <td>2</td>\n",
       "    </tr>\n",
       "  </tbody>\n",
       "</table>\n",
       "</div>"
      ],
      "text/plain": [
       "                                                  text  label  char_count  \\\n",
       "813  Breaking Gold hit Russia Ukraine NATO tension ...      0         108   \n",
       "842  Arman Trading tradingview pip profit XAUUSD go...      1         110   \n",
       "465  Gold XAUUSD hold near fresh cycle high driven ...      1         103   \n",
       "742  RT Professoroffx G ne yine Professor fark yla ...      0          99   \n",
       "596                                      RT bdfx FX fx      0          13   \n",
       "\n",
       "     word_count  word_density  punc_count  title_count  upper_count  \n",
       "813          18      5.684211           0            9            2  \n",
       "842          18      5.789474           0            3            2  \n",
       "465          18      5.421053           0            3            2  \n",
       "742          19      4.950000           0            3            2  \n",
       "596           4      2.600000           0            0            2  "
      ]
     },
     "execution_count": 393,
     "metadata": {},
     "output_type": "execute_result"
    }
   ],
   "source": [
    "trainDF.sample(5)"
   ]
  },
  {
   "cell_type": "code",
   "execution_count": 394,
   "id": "199e5385",
   "metadata": {},
   "outputs": [],
   "source": [
    "## load spaCy\n",
    "import spacy\n",
    "'''# python -m spacy download en_core_web_sm'''\n",
    "nlp = spacy.load('en_core_web_sm')   "
   ]
  },
  {
   "cell_type": "code",
   "execution_count": 395,
   "id": "888285e6",
   "metadata": {},
   "outputs": [],
   "source": [
    "# Initialise some columns for feature's counts\n",
    "trainDF['adj_count'] = 0\n",
    "trainDF['adv_count'] = 0\n",
    "trainDF['noun_count'] = 0\n",
    "trainDF['num_count'] = 0\n",
    "trainDF['pron_count'] = 0\n",
    "trainDF['propn_count'] = 0\n",
    "trainDF['verb_count'] = 0"
   ]
  },
  {
   "cell_type": "code",
   "execution_count": 396,
   "id": "d570b757",
   "metadata": {},
   "outputs": [
    {
     "name": "stdout",
     "output_type": "stream",
     "text": [
      "Wall time: 6.69 s\n"
     ]
    }
   ],
   "source": [
    "%%time\n",
    "# ANSWER\n",
    "for i in range(trainDF.shape[0]):\n",
    "    # convert into a spaCy document\n",
    "    doc = nlp(trainDF.iloc[i]['text'])\n",
    "    # initialise feature counters\n",
    "    c = Counter([t.pos_ for t in doc])\n",
    "    \n",
    "    trainDF.at[i, 'adj_count'] = c['ADJ']\n",
    "    trainDF.at[i, 'adv_count'] = c['ADV']\n",
    "    trainDF.at[i, 'noun_count'] = c['NOUN']\n",
    "    trainDF.at[i, 'num_count'] = c['NUM']\n",
    "    trainDF.at[i, 'pron_count'] = c['PRON']\n",
    "    trainDF.at[i, 'propn_count'] = c['PROPN']\n",
    "    trainDF.at[i, 'verb_count'] = c['VERB']\n",
    "    "
   ]
  },
  {
   "cell_type": "code",
   "execution_count": 398,
   "id": "50113ed9",
   "metadata": {},
   "outputs": [
    {
     "data": {
      "text/html": [
       "<div>\n",
       "<style scoped>\n",
       "    .dataframe tbody tr th:only-of-type {\n",
       "        vertical-align: middle;\n",
       "    }\n",
       "\n",
       "    .dataframe tbody tr th {\n",
       "        vertical-align: top;\n",
       "    }\n",
       "\n",
       "    .dataframe thead th {\n",
       "        text-align: right;\n",
       "    }\n",
       "</style>\n",
       "<table border=\"1\" class=\"dataframe\">\n",
       "  <thead>\n",
       "    <tr style=\"text-align: right;\">\n",
       "      <th></th>\n",
       "      <th>char_count</th>\n",
       "      <th>word_count</th>\n",
       "      <th>word_density</th>\n",
       "      <th>adj_count</th>\n",
       "      <th>adv_count</th>\n",
       "      <th>noun_count</th>\n",
       "      <th>num_count</th>\n",
       "      <th>pron_count</th>\n",
       "      <th>propn_count</th>\n",
       "      <th>verb_count</th>\n",
       "    </tr>\n",
       "  </thead>\n",
       "  <tbody>\n",
       "    <tr>\n",
       "      <th>93</th>\n",
       "      <td>116</td>\n",
       "      <td>19</td>\n",
       "      <td>5.800000</td>\n",
       "      <td>3</td>\n",
       "      <td>1</td>\n",
       "      <td>6</td>\n",
       "      <td>0</td>\n",
       "      <td>0</td>\n",
       "      <td>3</td>\n",
       "      <td>3</td>\n",
       "    </tr>\n",
       "    <tr>\n",
       "      <th>741</th>\n",
       "      <td>100</td>\n",
       "      <td>17</td>\n",
       "      <td>5.555556</td>\n",
       "      <td>0</td>\n",
       "      <td>1</td>\n",
       "      <td>3</td>\n",
       "      <td>0</td>\n",
       "      <td>0</td>\n",
       "      <td>10</td>\n",
       "      <td>2</td>\n",
       "    </tr>\n",
       "    <tr>\n",
       "      <th>95</th>\n",
       "      <td>106</td>\n",
       "      <td>21</td>\n",
       "      <td>4.818182</td>\n",
       "      <td>0</td>\n",
       "      <td>0</td>\n",
       "      <td>7</td>\n",
       "      <td>0</td>\n",
       "      <td>0</td>\n",
       "      <td>14</td>\n",
       "      <td>0</td>\n",
       "    </tr>\n",
       "    <tr>\n",
       "      <th>669</th>\n",
       "      <td>112</td>\n",
       "      <td>25</td>\n",
       "      <td>4.307692</td>\n",
       "      <td>1</td>\n",
       "      <td>0</td>\n",
       "      <td>3</td>\n",
       "      <td>0</td>\n",
       "      <td>0</td>\n",
       "      <td>17</td>\n",
       "      <td>0</td>\n",
       "    </tr>\n",
       "    <tr>\n",
       "      <th>375</th>\n",
       "      <td>71</td>\n",
       "      <td>14</td>\n",
       "      <td>4.733333</td>\n",
       "      <td>1</td>\n",
       "      <td>0</td>\n",
       "      <td>3</td>\n",
       "      <td>0</td>\n",
       "      <td>0</td>\n",
       "      <td>10</td>\n",
       "      <td>0</td>\n",
       "    </tr>\n",
       "  </tbody>\n",
       "</table>\n",
       "</div>"
      ],
      "text/plain": [
       "     char_count  word_count  word_density  adj_count  adv_count  noun_count  \\\n",
       "93          116          19      5.800000          3          1           6   \n",
       "741         100          17      5.555556          0          1           3   \n",
       "95          106          21      4.818182          0          0           7   \n",
       "669         112          25      4.307692          1          0           3   \n",
       "375          71          14      4.733333          1          0           3   \n",
       "\n",
       "     num_count  pron_count  propn_count  verb_count  \n",
       "93           0           0            3           3  \n",
       "741          0           0           10           2  \n",
       "95           0           0           14           0  \n",
       "669          0           0           17           0  \n",
       "375          0           0           10           0  "
      ]
     },
     "execution_count": 398,
     "metadata": {},
     "output_type": "execute_result"
    }
   ],
   "source": [
    "cols = [\n",
    "    'char_count', 'word_count', 'word_density',\n",
    "    'adj_count',\n",
    "    'adv_count', 'noun_count', 'num_count',\n",
    "    'pron_count', 'propn_count', 'verb_count']\n",
    "#\"['punctuation_count', 'title_word_count', 'uppercase_word_count']\n",
    "\n",
    "trainDF[cols].sample(5)"
   ]
  },
  {
   "cell_type": "markdown",
   "id": "0eb1dd11",
   "metadata": {},
   "source": [
    "## Topic Models as features"
   ]
  },
  {
   "cell_type": "code",
   "execution_count": 400,
   "id": "7a0b09bc",
   "metadata": {},
   "outputs": [
    {
     "name": "stdout",
     "output_type": "stream",
     "text": [
      "Wall time: 1.58 s\n"
     ]
    }
   ],
   "source": [
    "%%time\n",
    "# train a LDA Model\n",
    "lda_model = LatentDirichletAllocation(n_components = 20, learning_method = 'online', max_iter = 20)\n",
    "\n",
    "X_topics = lda_model.fit_transform(X_train_count)\n",
    "topic_word = lda_model.components_ \n",
    "vocab = count_vect.get_feature_names()"
   ]
  },
  {
   "cell_type": "code",
   "execution_count": 401,
   "id": "8100bb4c",
   "metadata": {},
   "outputs": [
    {
     "name": "stdout",
     "output_type": "stream",
     "text": [
      "Group Top Words\n",
      "----- --------------------------------------------------------------------------------\n",
      "    0 n alt co http k ons r g b rusya\n",
      "    1 gold co http de xauusd l ne rt g yla\n",
      "    2 btc e da sp z na w du k rt\n",
      "    3 xu n onsaltin borsa rt pivot gramaltin hedefler zerinde kal\n",
      "    4 xauusd rt btcusd trading au le gold ratio un dans\n",
      "    5 russia ukraine situation account http the rt week three uncertainty\n",
      "    6 en oro el btc rt de que se sube mientras\n",
      "    7 the low support bullish http co high correction present continues\n",
      "    8 still if rt century fin near concern stay preventing rc\n",
      "    9 gold co http xauusd eurusd i trade usdjpy tp stats\n",
      "   10 gold xauusd co http rt fx tp forex buy signal\n",
      "   11 next start the service batch week co http monday rt\n",
      "   12 high weekly cycle reached mean another hold since higher new\n",
      "   13 gold ukraine us amid xauusd russia outlook rt week prices\n",
      "   14 mark position whastapp loss detail candice add take stop spot\n",
      "   15 s othhr roqj pivot r gold hnrt nf http concludes\n",
      "   16 taker stable move lower tension remain fx trading profit bdfx\n",
      "   17 gold change d xauusd h xau utc ozt haussier bakan\n",
      "   18 ancak atesi necek biraz yazm qqflf diyenler nerede olmaz falan\n",
      "   19 rose it safe rt xauusd the investor high global jumped\n"
     ]
    }
   ],
   "source": [
    "# view the topic models\n",
    "n_top_words = 10\n",
    "topic_summaries = []\n",
    "print('Group Top Words')\n",
    "print('-----', '-'*80)\n",
    "for i, topic_dist in enumerate(topic_word):\n",
    "    topic_words = np.array(vocab)[np.argsort(topic_dist)][:-(n_top_words+1):-1]\n",
    "    top_words = ' '.join(topic_words)\n",
    "    topic_summaries.append(top_words)\n",
    "    print('  %3d %s' % (i, top_words))"
   ]
  },
  {
   "cell_type": "markdown",
   "id": "a1817df8",
   "metadata": {},
   "source": [
    "# Modelling"
   ]
  },
  {
   "cell_type": "code",
   "execution_count": 402,
   "id": "7366ceb1",
   "metadata": {},
   "outputs": [],
   "source": [
    "## helper function\n",
    "\n",
    "def train_model(classifier, feature_vector_train, label, feature_vector_valid):\n",
    "    # fit the training dataset on the classifier\n",
    "    classifier.fit(feature_vector_train, label)\n",
    "\n",
    "    # predict the labels on validation dataset\n",
    "    predictions = classifier.predict(feature_vector_valid)\n",
    "\n",
    "    return accuracy_score(predictions, y_test)"
   ]
  },
  {
   "cell_type": "code",
   "execution_count": 403,
   "id": "7e1407d3",
   "metadata": {},
   "outputs": [],
   "source": [
    "# Keep the results in a dataframe\n",
    "results = pd.DataFrame(columns = ['Count Vectors',\n",
    "                                  'WordLevel TF-IDF',\n",
    "                                  'N-Gram Vectors',\n",
    "                                  'CharLevel Vectors'])"
   ]
  },
  {
   "cell_type": "markdown",
   "id": "4f3d327f",
   "metadata": {},
   "source": [
    "## Naive Bayes Classifier"
   ]
  },
  {
   "cell_type": "code",
   "execution_count": 404,
   "id": "269b550c",
   "metadata": {},
   "outputs": [
    {
     "name": "stdout",
     "output_type": "stream",
     "text": [
      "NB, Count Vectors    : 0.8350\n",
      "\n",
      "Wall time: 6.24 ms\n"
     ]
    }
   ],
   "source": [
    "%%time\n",
    "# Naive Bayes on Count Vectors\n",
    "accuracy1 = train_model(MultinomialNB(), X_train_count, y_train, X_test_count)\n",
    "print('NB, Count Vectors    : %.4f\\n' % accuracy1)"
   ]
  },
  {
   "cell_type": "code",
   "execution_count": 405,
   "id": "e77c66e8",
   "metadata": {},
   "outputs": [
    {
     "name": "stdout",
     "output_type": "stream",
     "text": [
      "NB, WordLevel TF-IDF : 0.7950\n",
      "\n",
      "Wall time: 3.02 ms\n"
     ]
    }
   ],
   "source": [
    "%%time\n",
    "# Naive Bayes on Word Level TF IDF Vectors\n",
    "accuracy2 = train_model(MultinomialNB(), X_train_tfidf, y_train, X_test_tfidf)\n",
    "print('NB, WordLevel TF-IDF : %.4f\\n' % accuracy2)"
   ]
  },
  {
   "cell_type": "code",
   "execution_count": 406,
   "id": "2b7e4724",
   "metadata": {},
   "outputs": [
    {
     "name": "stdout",
     "output_type": "stream",
     "text": [
      "NB, N-Gram Vectors   : 0.8700\n",
      "\n",
      "Wall time: 3 ms\n"
     ]
    }
   ],
   "source": [
    "%%time\n",
    "# Naive Bayes on Ngram Level TF IDF Vectors\n",
    "accuracy3 = train_model(MultinomialNB(), X_train_tfidf_ngram, y_train, X_test_tfidf_ngram)\n",
    "print('NB, N-Gram Vectors   : %.4f\\n' % accuracy3)"
   ]
  },
  {
   "cell_type": "code",
   "execution_count": 407,
   "id": "de388145",
   "metadata": {},
   "outputs": [
    {
     "name": "stdout",
     "output_type": "stream",
     "text": [
      "NB, CharLevel Vectors: 0.7550\n",
      "\n",
      "Wall time: 3.36 ms\n"
     ]
    }
   ],
   "source": [
    "%%time\n",
    "# # Naive Bayes on Character Level TF IDF Vectors\n",
    "accuracy4 = train_model(MultinomialNB(), X_train_tfidf_ngram_chars, y_train, X_test_tfidf_ngram_chars)\n",
    "print('NB, CharLevel Vectors: %.4f\\n' % accuracy4)"
   ]
  },
  {
   "cell_type": "code",
   "execution_count": 408,
   "id": "89860f6b",
   "metadata": {},
   "outputs": [],
   "source": [
    "results.loc['Naïve Bayes'] = {\n",
    "    'Count Vectors': accuracy1,\n",
    "    'WordLevel TF-IDF': accuracy2,\n",
    "    'N-Gram Vectors': accuracy3,\n",
    "    'CharLevel Vectors': accuracy4}"
   ]
  },
  {
   "cell_type": "markdown",
   "id": "9fa06c5b",
   "metadata": {},
   "source": [
    "## Linear Classifier"
   ]
  },
  {
   "cell_type": "code",
   "execution_count": 409,
   "id": "67db5b8c",
   "metadata": {},
   "outputs": [
    {
     "name": "stdout",
     "output_type": "stream",
     "text": [
      "LR, Count Vectors    : 0.9200\n",
      "\n",
      "Wall time: 106 ms\n"
     ]
    }
   ],
   "source": [
    "%%time\n",
    "# Linear Classifier on Count Vectors\n",
    "accuracy1 = train_model(LogisticRegression(solver = 'lbfgs', max_iter = 350), X_train_count, y_train, X_test_count)\n",
    "print('LR, Count Vectors    : %.4f\\n' % accuracy1)"
   ]
  },
  {
   "cell_type": "code",
   "execution_count": 410,
   "id": "b13ed115",
   "metadata": {},
   "outputs": [
    {
     "name": "stdout",
     "output_type": "stream",
     "text": [
      "LR, WordLevel TF-IDF : 0.8350\n",
      "\n",
      "Wall time: 68.9 ms\n"
     ]
    }
   ],
   "source": [
    "%%time\n",
    "# Linear Classifier on Word Level TF IDF Vectors\n",
    "accuracy2 = train_model(LogisticRegression(solver = 'lbfgs', max_iter = 100), X_train_tfidf, y_train, X_test_tfidf)\n",
    "print('LR, WordLevel TF-IDF : %.4f\\n' % accuracy2)"
   ]
  },
  {
   "cell_type": "code",
   "execution_count": 411,
   "id": "5d4e840c",
   "metadata": {},
   "outputs": [
    {
     "name": "stdout",
     "output_type": "stream",
     "text": [
      "LR, N-Gram Vectors   : 0.8100\n",
      "\n",
      "Wall time: 87.4 ms\n"
     ]
    }
   ],
   "source": [
    "%%time\n",
    "# Linear Classifier on Ngram Level TF IDF Vectors\n",
    "accuracy3 = train_model(LogisticRegression(solver = 'lbfgs', max_iter = 100), X_train_tfidf_ngram, y_train, X_test_tfidf_ngram)\n",
    "print('LR, N-Gram Vectors   : %.4f\\n' % accuracy3)"
   ]
  },
  {
   "cell_type": "code",
   "execution_count": 412,
   "id": "866b7b0d",
   "metadata": {},
   "outputs": [
    {
     "name": "stdout",
     "output_type": "stream",
     "text": [
      "LR, CharLevel Vectors: 0.8550\n",
      "\n",
      "Wall time: 160 ms\n"
     ]
    }
   ],
   "source": [
    "%%time\n",
    "# Linear Classifier on Character Level TF IDF Vectors\n",
    "accuracy4 = train_model(LogisticRegression(solver = 'lbfgs', max_iter = 100), X_train_tfidf_ngram_chars, y_train, X_test_tfidf_ngram_chars)\n",
    "print('LR, CharLevel Vectors: %.4f\\n' % accuracy4)"
   ]
  },
  {
   "cell_type": "code",
   "execution_count": 413,
   "id": "79418943",
   "metadata": {},
   "outputs": [],
   "source": [
    "results.loc['Logistic Regression'] = {\n",
    "    'Count Vectors': accuracy1,\n",
    "    'WordLevel TF-IDF': accuracy2,\n",
    "    'N-Gram Vectors': accuracy3,\n",
    "    'CharLevel Vectors': accuracy4}"
   ]
  },
  {
   "cell_type": "markdown",
   "id": "b43404a1",
   "metadata": {},
   "source": [
    "## Support Vector Machine"
   ]
  },
  {
   "cell_type": "code",
   "execution_count": 414,
   "id": "c83e5208",
   "metadata": {},
   "outputs": [
    {
     "name": "stdout",
     "output_type": "stream",
     "text": [
      "SVM, Count Vectors    : 0.9100\n",
      "\n",
      "Wall time: 29.4 ms\n"
     ]
    }
   ],
   "source": [
    "%%time\n",
    "# Support Vector Machine on Count Vectors\n",
    "accuracy1 = train_model(LinearSVC(), X_train_count, y_train, X_test_count)\n",
    "print('SVM, Count Vectors    : %.4f\\n' % accuracy1)"
   ]
  },
  {
   "cell_type": "code",
   "execution_count": 415,
   "id": "51cfc07a",
   "metadata": {},
   "outputs": [
    {
     "name": "stdout",
     "output_type": "stream",
     "text": [
      "SVM, WordLevel TF-IDF : 0.9250\n",
      "\n",
      "Wall time: 6 ms\n"
     ]
    }
   ],
   "source": [
    "%%time\n",
    "# Support Vector Machine on Word Level TF IDF Vectors\n",
    "accuracy2 = train_model(LinearSVC(), X_train_tfidf, y_train, X_test_tfidf)\n",
    "print('SVM, WordLevel TF-IDF : %.4f\\n' % accuracy2)"
   ]
  },
  {
   "cell_type": "code",
   "execution_count": 416,
   "id": "0689f01a",
   "metadata": {},
   "outputs": [
    {
     "name": "stdout",
     "output_type": "stream",
     "text": [
      "SVM, N-Gram Vectors   : 0.9150\n",
      "\n",
      "Wall time: 16.3 ms\n"
     ]
    }
   ],
   "source": [
    "%%time\n",
    "# Support Vector Machine on Ngram Level TF IDF Vectors\n",
    "accuracy3 = train_model(LinearSVC(), X_train_tfidf_ngram, y_train, X_test_tfidf_ngram)\n",
    "print('SVM, N-Gram Vectors   : %.4f\\n' % accuracy3)"
   ]
  },
  {
   "cell_type": "code",
   "execution_count": 417,
   "id": "d2a1cf3c",
   "metadata": {},
   "outputs": [
    {
     "name": "stdout",
     "output_type": "stream",
     "text": [
      "SVM, CharLevel Vectors: 0.9250\n",
      "\n",
      "Wall time: 36.9 ms\n"
     ]
    }
   ],
   "source": [
    "%%time\n",
    "# Support Vector Machine on Character Level TF IDF Vectors\n",
    "accuracy4 = train_model(LinearSVC(), X_train_tfidf_ngram_chars, y_train, X_test_tfidf_ngram_chars)\n",
    "print('SVM, CharLevel Vectors: %.4f\\n' % accuracy4)"
   ]
  },
  {
   "cell_type": "code",
   "execution_count": 418,
   "id": "b3a0c222",
   "metadata": {},
   "outputs": [],
   "source": [
    "results.loc['Support Vector Machine'] = {\n",
    "    'Count Vectors': accuracy1,\n",
    "    'WordLevel TF-IDF': accuracy2,\n",
    "    'N-Gram Vectors': accuracy3,\n",
    "    'CharLevel Vectors': accuracy4}"
   ]
  },
  {
   "cell_type": "markdown",
   "id": "893aacf1",
   "metadata": {},
   "source": [
    "## Bagging Models"
   ]
  },
  {
   "cell_type": "code",
   "execution_count": 419,
   "id": "1da64f73",
   "metadata": {},
   "outputs": [
    {
     "name": "stdout",
     "output_type": "stream",
     "text": [
      "RF, Count Vectors    : 0.9350\n",
      "\n",
      "Wall time: 509 ms\n"
     ]
    }
   ],
   "source": [
    "%%time\n",
    "# Bagging (Random Forest) on Count Vectors\n",
    "accuracy1 = train_model(RandomForestClassifier(n_estimators = 100), X_train_count, y_train, X_test_count)\n",
    "print('RF, Count Vectors    : %.4f\\n' % accuracy1)"
   ]
  },
  {
   "cell_type": "code",
   "execution_count": 420,
   "id": "f3cda4c6",
   "metadata": {},
   "outputs": [
    {
     "name": "stdout",
     "output_type": "stream",
     "text": [
      "RF, WordLevel TF-IDF : 0.9300\n",
      "\n",
      "Wall time: 516 ms\n"
     ]
    }
   ],
   "source": [
    "%%time\n",
    "# Bagging (Random Forest) on Word Level TF IDF Vectors\n",
    "accuracy2 = train_model(RandomForestClassifier(n_estimators = 100), X_train_tfidf, y_train, X_test_tfidf)\n",
    "print('RF, WordLevel TF-IDF : %.4f\\n' % accuracy2)"
   ]
  },
  {
   "cell_type": "code",
   "execution_count": 421,
   "id": "3e149c43",
   "metadata": {},
   "outputs": [
    {
     "name": "stdout",
     "output_type": "stream",
     "text": [
      "RF, N-Gram Vectors   : 0.8900\n",
      "\n",
      "Wall time: 854 ms\n"
     ]
    }
   ],
   "source": [
    "%%time\n",
    "# Bagging (Random Forest) on Ngram Level TF IDF Vectors\n",
    "accuracy3 = train_model(RandomForestClassifier(n_estimators = 100), X_train_tfidf_ngram, y_train, X_test_tfidf_ngram)\n",
    "print('RF, N-Gram Vectors   : %.4f\\n' % accuracy3)"
   ]
  },
  {
   "cell_type": "code",
   "execution_count": 422,
   "id": "5a830b17",
   "metadata": {},
   "outputs": [
    {
     "name": "stdout",
     "output_type": "stream",
     "text": [
      "RF, CharLevel Vectors: 0.9150\n",
      "\n",
      "Wall time: 395 ms\n"
     ]
    }
   ],
   "source": [
    "%%time\n",
    "# Bagging (Random Forest) on Character Level TF IDF Vectors\n",
    "accuracy4 = train_model(RandomForestClassifier(n_estimators = 100), X_train_tfidf_ngram_chars, y_train, X_test_tfidf_ngram_chars)\n",
    "print('RF, CharLevel Vectors: %.4f\\n' % accuracy4)"
   ]
  },
  {
   "cell_type": "code",
   "execution_count": 423,
   "id": "e1f0f4a1",
   "metadata": {},
   "outputs": [],
   "source": [
    "results.loc['Random Forest'] = {\n",
    "    'Count Vectors': accuracy1,\n",
    "    'WordLevel TF-IDF': accuracy2,\n",
    "    'N-Gram Vectors': accuracy3,\n",
    "    'CharLevel Vectors': accuracy4}"
   ]
  },
  {
   "cell_type": "markdown",
   "id": "49618186",
   "metadata": {},
   "source": [
    "## Boosting Models"
   ]
  },
  {
   "cell_type": "code",
   "execution_count": 424,
   "id": "e5205ddf",
   "metadata": {},
   "outputs": [
    {
     "name": "stdout",
     "output_type": "stream",
     "text": [
      "GB, Count Vectors    : 0.9700\n",
      "\n",
      "Wall time: 2.46 s\n"
     ]
    }
   ],
   "source": [
    "%%time\n",
    "# Gradient Boosting on Count Vectors\n",
    "accuracy1 = train_model(GradientBoostingClassifier(), X_train_count, y_train, X_test_count)\n",
    "print('GB, Count Vectors    : %.4f\\n' % accuracy1)"
   ]
  },
  {
   "cell_type": "code",
   "execution_count": 425,
   "id": "bef349fe",
   "metadata": {},
   "outputs": [
    {
     "name": "stdout",
     "output_type": "stream",
     "text": [
      "GB, WordLevel TF-IDF : 0.9650\n",
      "\n",
      "Wall time: 2.37 s\n"
     ]
    }
   ],
   "source": [
    "%%time\n",
    "# Gradient Boosting on Word Level TF IDF Vectors\n",
    "accuracy2 = train_model(GradientBoostingClassifier(), X_train_tfidf, y_train, X_test_tfidf)\n",
    "print('GB, WordLevel TF-IDF : %.4f\\n' % accuracy2)"
   ]
  },
  {
   "cell_type": "code",
   "execution_count": 426,
   "id": "44db390e",
   "metadata": {},
   "outputs": [
    {
     "name": "stdout",
     "output_type": "stream",
     "text": [
      "GB, N-Gram Vectors   : 0.8800\n",
      "\n",
      "Wall time: 2.84 s\n"
     ]
    }
   ],
   "source": [
    "%%time\n",
    "# Gradient Boosting on Ngram Level TF IDF Vectors\n",
    "accuracy3 = train_model(GradientBoostingClassifier(), X_train_tfidf_ngram, y_train, X_test_tfidf_ngram)\n",
    "print('GB, N-Gram Vectors   : %.4f\\n' % accuracy3)"
   ]
  },
  {
   "cell_type": "code",
   "execution_count": 427,
   "id": "e292c383",
   "metadata": {},
   "outputs": [
    {
     "name": "stdout",
     "output_type": "stream",
     "text": [
      "GB, CharLevel Vectors: 0.9500\n",
      "\n",
      "Wall time: 12.3 s\n"
     ]
    }
   ],
   "source": [
    "%%time\n",
    "# Gradient Boosting on Character Level TF IDF Vectors\n",
    "accuracy4 = train_model(GradientBoostingClassifier(), X_train_tfidf_ngram_chars, y_train, X_test_tfidf_ngram_chars)\n",
    "print('GB, CharLevel Vectors: %.4f\\n' % accuracy4)"
   ]
  },
  {
   "cell_type": "code",
   "execution_count": 428,
   "id": "df607ba9",
   "metadata": {},
   "outputs": [],
   "source": [
    "results.loc['Gradient Boosting'] = {\n",
    "    'Count Vectors': accuracy1,\n",
    "    'WordLevel TF-IDF': accuracy2,\n",
    "    'N-Gram Vectors': accuracy3,\n",
    "    'CharLevel Vectors': accuracy4}"
   ]
  },
  {
   "cell_type": "code",
   "execution_count": 429,
   "id": "ae22657e",
   "metadata": {},
   "outputs": [
    {
     "data": {
      "text/html": [
       "<div>\n",
       "<style scoped>\n",
       "    .dataframe tbody tr th:only-of-type {\n",
       "        vertical-align: middle;\n",
       "    }\n",
       "\n",
       "    .dataframe tbody tr th {\n",
       "        vertical-align: top;\n",
       "    }\n",
       "\n",
       "    .dataframe thead th {\n",
       "        text-align: right;\n",
       "    }\n",
       "</style>\n",
       "<table border=\"1\" class=\"dataframe\">\n",
       "  <thead>\n",
       "    <tr style=\"text-align: right;\">\n",
       "      <th></th>\n",
       "      <th>Count Vectors</th>\n",
       "      <th>WordLevel TF-IDF</th>\n",
       "      <th>N-Gram Vectors</th>\n",
       "      <th>CharLevel Vectors</th>\n",
       "    </tr>\n",
       "  </thead>\n",
       "  <tbody>\n",
       "    <tr>\n",
       "      <th>Naïve Bayes</th>\n",
       "      <td>0.835</td>\n",
       "      <td>0.795</td>\n",
       "      <td>0.870</td>\n",
       "      <td>0.755</td>\n",
       "    </tr>\n",
       "    <tr>\n",
       "      <th>Logistic Regression</th>\n",
       "      <td>0.920</td>\n",
       "      <td>0.835</td>\n",
       "      <td>0.810</td>\n",
       "      <td>0.855</td>\n",
       "    </tr>\n",
       "    <tr>\n",
       "      <th>Support Vector Machine</th>\n",
       "      <td>0.910</td>\n",
       "      <td>0.925</td>\n",
       "      <td>0.915</td>\n",
       "      <td>0.925</td>\n",
       "    </tr>\n",
       "    <tr>\n",
       "      <th>Random Forest</th>\n",
       "      <td>0.935</td>\n",
       "      <td>0.930</td>\n",
       "      <td>0.890</td>\n",
       "      <td>0.915</td>\n",
       "    </tr>\n",
       "    <tr>\n",
       "      <th>Gradient Boosting</th>\n",
       "      <td>0.970</td>\n",
       "      <td>0.965</td>\n",
       "      <td>0.880</td>\n",
       "      <td>0.950</td>\n",
       "    </tr>\n",
       "  </tbody>\n",
       "</table>\n",
       "</div>"
      ],
      "text/plain": [
       "                        Count Vectors  WordLevel TF-IDF  N-Gram Vectors  \\\n",
       "Naïve Bayes                     0.835             0.795           0.870   \n",
       "Logistic Regression             0.920             0.835           0.810   \n",
       "Support Vector Machine          0.910             0.925           0.915   \n",
       "Random Forest                   0.935             0.930           0.890   \n",
       "Gradient Boosting               0.970             0.965           0.880   \n",
       "\n",
       "                        CharLevel Vectors  \n",
       "Naïve Bayes                         0.755  \n",
       "Logistic Regression                 0.855  \n",
       "Support Vector Machine              0.925  \n",
       "Random Forest                       0.915  \n",
       "Gradient Boosting                   0.950  "
      ]
     },
     "execution_count": 429,
     "metadata": {},
     "output_type": "execute_result"
    }
   ],
   "source": [
    "results"
   ]
  },
  {
   "cell_type": "code",
   "execution_count": null,
   "id": "30f3b25a",
   "metadata": {},
   "outputs": [],
   "source": [
    "# MODEL COMPARISON _ CONFUSION MATRIX"
   ]
  }
 ],
 "metadata": {
  "kernelspec": {
   "display_name": "Python 3 (ipykernel)",
   "language": "python",
   "name": "python3"
  },
  "language_info": {
   "codemirror_mode": {
    "name": "ipython",
    "version": 3
   },
   "file_extension": ".py",
   "mimetype": "text/x-python",
   "name": "python",
   "nbconvert_exporter": "python",
   "pygments_lexer": "ipython3",
   "version": "3.9.7"
  }
 },
 "nbformat": 4,
 "nbformat_minor": 5
}
