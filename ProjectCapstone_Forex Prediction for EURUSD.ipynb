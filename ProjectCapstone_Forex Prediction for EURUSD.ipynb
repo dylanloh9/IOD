{
 "cells": [
  {
   "cell_type": "markdown",
   "id": "c824dbf3",
   "metadata": {},
   "source": [
    "# Capstone Project - Forex Prediction for EURUSD\n",
    "\n",
    "# Description\n",
    "For this capstone project, we intend to use several methods to predict the market\n",
    "\n",
    "1) Economic Indicators\n",
    "\n",
    "2) Sentiment Analysis"
   ]
  },
  {
   "cell_type": "code",
   "execution_count": 1,
   "id": "dde1b41e",
   "metadata": {},
   "outputs": [],
   "source": [
    "# Import libraries\n",
    "import numpy as np\n",
    "import pandas as pd\n",
    "import matplotlib.pyplot as plt\n",
    "import seaborn as sns"
   ]
  },
  {
   "cell_type": "markdown",
   "id": "ebb90516",
   "metadata": {},
   "source": [
    "# 1) Using Economic Indicators\n",
    "\n",
    "For this method, we have self-compliled a dataset with 10 years of Economic Data and the respective result impact\n",
    "\n",
    "    ec1 = Fed Interest Rates\n",
    "    \n",
    "    ec2 = NonFarm Payroll\n",
    "    \n",
    "    ec3 = CPI (Inflation)\n",
    "    \n",
    "    ec4 = Retail Sales\n",
    "    \n",
    "    ec5 = GDP\n",
    "\n",
    "The respective result impact, refers to the closing Up/Down for the particular Date."
   ]
  },
  {
   "cell_type": "code",
   "execution_count": 2,
   "id": "139076be",
   "metadata": {},
   "outputs": [
    {
     "data": {
      "text/html": [
       "<div>\n",
       "<style scoped>\n",
       "    .dataframe tbody tr th:only-of-type {\n",
       "        vertical-align: middle;\n",
       "    }\n",
       "\n",
       "    .dataframe tbody tr th {\n",
       "        vertical-align: top;\n",
       "    }\n",
       "\n",
       "    .dataframe thead th {\n",
       "        text-align: right;\n",
       "    }\n",
       "</style>\n",
       "<table border=\"1\" class=\"dataframe\">\n",
       "  <thead>\n",
       "    <tr style=\"text-align: right;\">\n",
       "      <th></th>\n",
       "      <th>Date</th>\n",
       "      <th>EconomicIndicator</th>\n",
       "      <th>ResultDifference</th>\n",
       "      <th>Impact</th>\n",
       "      <th>PriceMove</th>\n",
       "    </tr>\n",
       "  </thead>\n",
       "  <tbody>\n",
       "    <tr>\n",
       "      <th>0</th>\n",
       "      <td>16/3/2022</td>\n",
       "      <td>ec1</td>\n",
       "      <td>-0.0025</td>\n",
       "      <td>NaN</td>\n",
       "      <td>NaN</td>\n",
       "    </tr>\n",
       "    <tr>\n",
       "      <th>1</th>\n",
       "      <td>26/1/2022</td>\n",
       "      <td>ec1</td>\n",
       "      <td>0.0000</td>\n",
       "      <td>DOWN</td>\n",
       "      <td>-58.3</td>\n",
       "    </tr>\n",
       "    <tr>\n",
       "      <th>2</th>\n",
       "      <td>15/12/2021</td>\n",
       "      <td>ec1</td>\n",
       "      <td>0.0000</td>\n",
       "      <td>UP</td>\n",
       "      <td>38.8</td>\n",
       "    </tr>\n",
       "    <tr>\n",
       "      <th>3</th>\n",
       "      <td>3/11/2021</td>\n",
       "      <td>ec1</td>\n",
       "      <td>0.0000</td>\n",
       "      <td>UP</td>\n",
       "      <td>34.0</td>\n",
       "    </tr>\n",
       "    <tr>\n",
       "      <th>4</th>\n",
       "      <td>22/9/2021</td>\n",
       "      <td>ec1</td>\n",
       "      <td>0.0000</td>\n",
       "      <td>DOWN</td>\n",
       "      <td>-37.3</td>\n",
       "    </tr>\n",
       "    <tr>\n",
       "      <th>...</th>\n",
       "      <td>...</td>\n",
       "      <td>...</td>\n",
       "      <td>...</td>\n",
       "      <td>...</td>\n",
       "      <td>...</td>\n",
       "    </tr>\n",
       "    <tr>\n",
       "      <th>625</th>\n",
       "      <td>26/5/2011</td>\n",
       "      <td>ec5</td>\n",
       "      <td>0.0000</td>\n",
       "      <td>NaN</td>\n",
       "      <td>NaN</td>\n",
       "    </tr>\n",
       "    <tr>\n",
       "      <th>626</th>\n",
       "      <td>28/4/2011</td>\n",
       "      <td>ec5</td>\n",
       "      <td>-0.0130</td>\n",
       "      <td>NaN</td>\n",
       "      <td>NaN</td>\n",
       "    </tr>\n",
       "    <tr>\n",
       "      <th>627</th>\n",
       "      <td>25/3/2011</td>\n",
       "      <td>ec5</td>\n",
       "      <td>0.0030</td>\n",
       "      <td>NaN</td>\n",
       "      <td>NaN</td>\n",
       "    </tr>\n",
       "    <tr>\n",
       "      <th>628</th>\n",
       "      <td>25/2/2011</td>\n",
       "      <td>ec5</td>\n",
       "      <td>-0.0040</td>\n",
       "      <td>NaN</td>\n",
       "      <td>NaN</td>\n",
       "    </tr>\n",
       "    <tr>\n",
       "      <th>629</th>\n",
       "      <td>28/1/2011</td>\n",
       "      <td>ec5</td>\n",
       "      <td>0.0060</td>\n",
       "      <td>NaN</td>\n",
       "      <td>NaN</td>\n",
       "    </tr>\n",
       "  </tbody>\n",
       "</table>\n",
       "<p>630 rows × 5 columns</p>\n",
       "</div>"
      ],
      "text/plain": [
       "           Date EconomicIndicator  ResultDifference Impact  PriceMove\n",
       "0     16/3/2022               ec1           -0.0025    NaN        NaN\n",
       "1     26/1/2022               ec1            0.0000   DOWN      -58.3\n",
       "2    15/12/2021               ec1            0.0000     UP       38.8\n",
       "3     3/11/2021               ec1            0.0000     UP       34.0\n",
       "4     22/9/2021               ec1            0.0000   DOWN      -37.3\n",
       "..          ...               ...               ...    ...        ...\n",
       "625   26/5/2011               ec5            0.0000    NaN        NaN\n",
       "626   28/4/2011               ec5           -0.0130    NaN        NaN\n",
       "627   25/3/2011               ec5            0.0030    NaN        NaN\n",
       "628   25/2/2011               ec5           -0.0040    NaN        NaN\n",
       "629   28/1/2011               ec5            0.0060    NaN        NaN\n",
       "\n",
       "[630 rows x 5 columns]"
      ]
     },
     "execution_count": 2,
     "metadata": {},
     "output_type": "execute_result"
    }
   ],
   "source": [
    "# IMPORT\n",
    "file = './ec.csv'\n",
    "df = pd.read_csv(file)\n",
    "df"
   ]
  },
  {
   "cell_type": "code",
   "execution_count": 3,
   "id": "f8e36b23",
   "metadata": {},
   "outputs": [
    {
     "data": {
      "text/html": [
       "<div>\n",
       "<style scoped>\n",
       "    .dataframe tbody tr th:only-of-type {\n",
       "        vertical-align: middle;\n",
       "    }\n",
       "\n",
       "    .dataframe tbody tr th {\n",
       "        vertical-align: top;\n",
       "    }\n",
       "\n",
       "    .dataframe thead th {\n",
       "        text-align: right;\n",
       "    }\n",
       "</style>\n",
       "<table border=\"1\" class=\"dataframe\">\n",
       "  <thead>\n",
       "    <tr style=\"text-align: right;\">\n",
       "      <th></th>\n",
       "      <th>Date</th>\n",
       "      <th>EconomicIndicator</th>\n",
       "      <th>ResultDifference</th>\n",
       "      <th>Impact</th>\n",
       "      <th>PriceMove</th>\n",
       "    </tr>\n",
       "  </thead>\n",
       "  <tbody>\n",
       "    <tr>\n",
       "      <th>1</th>\n",
       "      <td>26/1/2022</td>\n",
       "      <td>ec1</td>\n",
       "      <td>0.000</td>\n",
       "      <td>DOWN</td>\n",
       "      <td>-58.3</td>\n",
       "    </tr>\n",
       "    <tr>\n",
       "      <th>2</th>\n",
       "      <td>15/12/2021</td>\n",
       "      <td>ec1</td>\n",
       "      <td>0.000</td>\n",
       "      <td>UP</td>\n",
       "      <td>38.8</td>\n",
       "    </tr>\n",
       "    <tr>\n",
       "      <th>3</th>\n",
       "      <td>3/11/2021</td>\n",
       "      <td>ec1</td>\n",
       "      <td>0.000</td>\n",
       "      <td>UP</td>\n",
       "      <td>34.0</td>\n",
       "    </tr>\n",
       "    <tr>\n",
       "      <th>4</th>\n",
       "      <td>22/9/2021</td>\n",
       "      <td>ec1</td>\n",
       "      <td>0.000</td>\n",
       "      <td>DOWN</td>\n",
       "      <td>-37.3</td>\n",
       "    </tr>\n",
       "    <tr>\n",
       "      <th>5</th>\n",
       "      <td>28/7/2021</td>\n",
       "      <td>ec1</td>\n",
       "      <td>0.000</td>\n",
       "      <td>UP</td>\n",
       "      <td>25.7</td>\n",
       "    </tr>\n",
       "    <tr>\n",
       "      <th>...</th>\n",
       "      <td>...</td>\n",
       "      <td>...</td>\n",
       "      <td>...</td>\n",
       "      <td>...</td>\n",
       "      <td>...</td>\n",
       "    </tr>\n",
       "    <tr>\n",
       "      <th>611</th>\n",
       "      <td>27/7/2012</td>\n",
       "      <td>ec5</td>\n",
       "      <td>-0.005</td>\n",
       "      <td>UP</td>\n",
       "      <td>35.7</td>\n",
       "    </tr>\n",
       "    <tr>\n",
       "      <th>612</th>\n",
       "      <td>28/6/2012</td>\n",
       "      <td>ec5</td>\n",
       "      <td>0.000</td>\n",
       "      <td>DOWN</td>\n",
       "      <td>-24.7</td>\n",
       "    </tr>\n",
       "    <tr>\n",
       "      <th>613</th>\n",
       "      <td>31/5/2012</td>\n",
       "      <td>ec5</td>\n",
       "      <td>-0.003</td>\n",
       "      <td>NEUTRAL</td>\n",
       "      <td>-1.9</td>\n",
       "    </tr>\n",
       "    <tr>\n",
       "      <th>614</th>\n",
       "      <td>27/4/2012</td>\n",
       "      <td>ec5</td>\n",
       "      <td>-0.008</td>\n",
       "      <td>UP</td>\n",
       "      <td>31.0</td>\n",
       "    </tr>\n",
       "    <tr>\n",
       "      <th>615</th>\n",
       "      <td>29/3/2012</td>\n",
       "      <td>ec5</td>\n",
       "      <td>0.000</td>\n",
       "      <td>NEUTRAL</td>\n",
       "      <td>-15.0</td>\n",
       "    </tr>\n",
       "  </tbody>\n",
       "</table>\n",
       "<p>555 rows × 5 columns</p>\n",
       "</div>"
      ],
      "text/plain": [
       "           Date EconomicIndicator  ResultDifference   Impact  PriceMove\n",
       "1     26/1/2022               ec1             0.000     DOWN      -58.3\n",
       "2    15/12/2021               ec1             0.000       UP       38.8\n",
       "3     3/11/2021               ec1             0.000       UP       34.0\n",
       "4     22/9/2021               ec1             0.000     DOWN      -37.3\n",
       "5     28/7/2021               ec1             0.000       UP       25.7\n",
       "..          ...               ...               ...      ...        ...\n",
       "611   27/7/2012               ec5            -0.005       UP       35.7\n",
       "612   28/6/2012               ec5             0.000     DOWN      -24.7\n",
       "613   31/5/2012               ec5            -0.003  NEUTRAL       -1.9\n",
       "614   27/4/2012               ec5            -0.008       UP       31.0\n",
       "615   29/3/2012               ec5             0.000  NEUTRAL      -15.0\n",
       "\n",
       "[555 rows x 5 columns]"
      ]
     },
     "execution_count": 3,
     "metadata": {},
     "output_type": "execute_result"
    }
   ],
   "source": [
    "# DATA CLEANING\n",
    "df.dropna()"
   ]
  },
  {
   "cell_type": "code",
   "execution_count": 4,
   "id": "70f4f5b1",
   "metadata": {},
   "outputs": [
    {
     "data": {
      "text/plain": [
       "<AxesSubplot:xlabel='EconomicIndicator', ylabel='count'>"
      ]
     },
     "execution_count": 4,
     "metadata": {},
     "output_type": "execute_result"
    },
    {
     "data": {
      "image/png": "[encoded data removed]",
      "text/plain": [
       "<Figure size 864x432 with 1 Axes>"
      ]
     },
     "metadata": {
      "needs_background": "light"
     },
     "output_type": "display_data"
    }
   ],
   "source": [
    "# EDA\n",
    "# To display for each EC, how many are UP/Down/Neutral\n",
    "sns.set\n",
    "plt.figure(figsize=(12,6))\n",
    "sns.countplot(x='EconomicIndicator', hue='Impact', data=df, palette=\"Set1\")"
   ]
  },
  {
   "cell_type": "code",
   "execution_count": 6,
   "id": "10c40a77",
   "metadata": {},
   "outputs": [],
   "source": [
    "df_ec1 = df[(df.EconomicIndicator == 'ec1')]\n",
    "df_ec2 = df[(df.EconomicIndicator == 'ec2')]\n",
    "df_ec3 = df[(df.EconomicIndicator == 'ec3')]\n",
    "df_ec4 = df[(df.EconomicIndicator == 'ec4')]\n",
    "df_ec5 = df[(df.EconomicIndicator == 'ec5')]"
   ]
  },
  {
   "cell_type": "code",
   "execution_count": 8,
   "id": "6a5c25e6",
   "metadata": {},
   "outputs": [
    {
     "data": {
      "text/plain": [
       "Text(0.5, 1.0, 'Fed Interest Rate Decision')"
      ]
     },
     "execution_count": 8,
     "metadata": {},
     "output_type": "execute_result"
    },
    {
     "data": {
      "image/png": "[encoded data removed]",
      "text/plain": [
       "<Figure size 576x360 with 1 Axes>"
      ]
     },
     "metadata": {
      "needs_background": "light"
     },
     "output_type": "display_data"
    }
   ],
   "source": [
    "plt.figure(figsize=(8,5))\n",
    "sns.boxplot(x='Impact',y='ResultDifference',data=df_ec1, palette='rainbow')\n",
    "plt.title(\"Fed Interest Rate Decision\")"
   ]
  },
  {
   "cell_type": "code",
   "execution_count": 9,
   "id": "8e208128",
   "metadata": {},
   "outputs": [
    {
     "data": {
      "text/plain": [
       "Text(0.5, 1.0, 'NonFarm Payroll')"
      ]
     },
     "execution_count": 9,
     "metadata": {},
     "output_type": "execute_result"
    },
    {
     "data": {
      "image/png": "[encoded data removed]",
      "text/plain": [
       "<Figure size 576x360 with 1 Axes>"
      ]
     },
     "metadata": {
      "needs_background": "light"
     },
     "output_type": "display_data"
    }
   ],
   "source": [
    "plt.figure(figsize=(8,5))\n",
    "sns.boxplot(x='Impact',y='ResultDifference',data=df_ec2, palette='rainbow')\n",
    "plt.title(\"NonFarm Payroll\")"
   ]
  },
  {
   "cell_type": "code",
   "execution_count": 10,
   "id": "28f66670",
   "metadata": {},
   "outputs": [
    {
     "data": {
      "text/plain": [
       "Text(0.5, 1.0, 'CPI (Inflation)')"
      ]
     },
     "execution_count": 10,
     "metadata": {},
     "output_type": "execute_result"
    },
    {
     "data": {
      "image/png": "[encoded data removed]",
      "text/plain": [
       "<Figure size 576x360 with 1 Axes>"
      ]
     },
     "metadata": {
      "needs_background": "light"
     },
     "output_type": "display_data"
    }
   ],
   "source": [
    "plt.figure(figsize=(8,5))\n",
    "sns.boxplot(x='Impact',y='ResultDifference',data=df_ec3, palette='rainbow')\n",
    "plt.title(\"CPI (Inflation)\")"
   ]
  },
  {
   "cell_type": "code",
   "execution_count": 11,
   "id": "d91b5cf2",
   "metadata": {},
   "outputs": [
    {
     "data": {
      "text/plain": [
       "Text(0.5, 1.0, 'Retail Sales')"
      ]
     },
     "execution_count": 11,
     "metadata": {},
     "output_type": "execute_result"
    },
    {
     "data": {
      "image/png": "[encoded data removed]",
      "text/plain": [
       "<Figure size 576x360 with 1 Axes>"
      ]
     },
     "metadata": {
      "needs_background": "light"
     },
     "output_type": "display_data"
    }
   ],
   "source": [
    "plt.figure(figsize=(8,5))\n",
    "sns.boxplot(x='Impact',y='ResultDifference',data=df_ec4, palette='rainbow')\n",
    "plt.title(\"Retail Sales\")"
   ]
  },
  {
   "cell_type": "code",
   "execution_count": 12,
   "id": "723d2a76",
   "metadata": {},
   "outputs": [
    {
     "data": {
      "text/plain": [
       "Text(0.5, 1.0, 'GDP')"
      ]
     },
     "execution_count": 12,
     "metadata": {},
     "output_type": "execute_result"
    },
    {
     "data": {
      "image/png": "[encoded data removed]",
      "text/plain": [
       "<Figure size 576x360 with 1 Axes>"
      ]
     },
     "metadata": {
      "needs_background": "light"
     },
     "output_type": "display_data"
    }
   ],
   "source": [
    "plt.figure(figsize=(8,5))\n",
    "sns.boxplot(x='Impact',y='ResultDifference',data=df_ec5, palette='rainbow')\n",
    "plt.title(\"GDP\")"
   ]
  },
  {
   "cell_type": "markdown",
   "id": "33d9969e",
   "metadata": {},
   "source": [
    "Conclusion\n",
    "\n",
    "Cannot find the difference of the previous/current Economic Indicators that has made impact to the market direction."
   ]
  },
  {
   "cell_type": "markdown",
   "id": "e0606ad6",
   "metadata": {},
   "source": [
    "# 2) Using Technical Indicators\n",
    "\n",
    "For this method, we first use EURUSD Closing Price as Data.\n",
    "Then from the Closing Price, we create \n",
    "\n",
    "X (Features) = EURUSD Closing Price to convert to RSI, ClosingPrice Difference for 1Day, 2Day, 3Day and 4Day.\n",
    "y (Target) = EURUSD Closing Price to convert to Trend Direction."
   ]
  },
  {
   "cell_type": "code",
   "execution_count": 13,
   "id": "ef6bbe8c",
   "metadata": {},
   "outputs": [
    {
     "data": {
      "text/html": [
       "<div>\n",
       "<style scoped>\n",
       "    .dataframe tbody tr th:only-of-type {\n",
       "        vertical-align: middle;\n",
       "    }\n",
       "\n",
       "    .dataframe tbody tr th {\n",
       "        vertical-align: top;\n",
       "    }\n",
       "\n",
       "    .dataframe thead th {\n",
       "        text-align: right;\n",
       "    }\n",
       "</style>\n",
       "<table border=\"1\" class=\"dataframe\">\n",
       "  <thead>\n",
       "    <tr style=\"text-align: right;\">\n",
       "      <th></th>\n",
       "      <th>Open</th>\n",
       "      <th>High</th>\n",
       "      <th>Low</th>\n",
       "      <th>Close</th>\n",
       "    </tr>\n",
       "    <tr>\n",
       "      <th>Date</th>\n",
       "      <th></th>\n",
       "      <th></th>\n",
       "      <th></th>\n",
       "      <th></th>\n",
       "    </tr>\n",
       "  </thead>\n",
       "  <tbody>\n",
       "    <tr>\n",
       "      <th>23/3/2012</th>\n",
       "      <td>1.31994</td>\n",
       "      <td>1.32928</td>\n",
       "      <td>1.31898</td>\n",
       "      <td>1.32647</td>\n",
       "    </tr>\n",
       "    <tr>\n",
       "      <th>24/3/2012</th>\n",
       "      <td>1.32647</td>\n",
       "      <td>1.32647</td>\n",
       "      <td>1.32647</td>\n",
       "      <td>1.32647</td>\n",
       "    </tr>\n",
       "    <tr>\n",
       "      <th>25/3/2012</th>\n",
       "      <td>1.32677</td>\n",
       "      <td>1.32687</td>\n",
       "      <td>1.32595</td>\n",
       "      <td>1.32680</td>\n",
       "    </tr>\n",
       "    <tr>\n",
       "      <th>26/3/2012</th>\n",
       "      <td>1.32700</td>\n",
       "      <td>1.33670</td>\n",
       "      <td>1.31917</td>\n",
       "      <td>1.33580</td>\n",
       "    </tr>\n",
       "    <tr>\n",
       "      <th>27/3/2012</th>\n",
       "      <td>1.33583</td>\n",
       "      <td>1.33847</td>\n",
       "      <td>1.33120</td>\n",
       "      <td>1.33128</td>\n",
       "    </tr>\n",
       "    <tr>\n",
       "      <th>...</th>\n",
       "      <td>...</td>\n",
       "      <td>...</td>\n",
       "      <td>...</td>\n",
       "      <td>...</td>\n",
       "    </tr>\n",
       "    <tr>\n",
       "      <th>22/2/2022</th>\n",
       "      <td>1.13088</td>\n",
       "      <td>1.13662</td>\n",
       "      <td>1.12871</td>\n",
       "      <td>1.13254</td>\n",
       "    </tr>\n",
       "    <tr>\n",
       "      <th>23/2/2022</th>\n",
       "      <td>1.13217</td>\n",
       "      <td>1.13584</td>\n",
       "      <td>1.13005</td>\n",
       "      <td>1.13038</td>\n",
       "    </tr>\n",
       "    <tr>\n",
       "      <th>24/2/2022</th>\n",
       "      <td>1.13030</td>\n",
       "      <td>1.13080</td>\n",
       "      <td>1.11056</td>\n",
       "      <td>1.11928</td>\n",
       "    </tr>\n",
       "    <tr>\n",
       "      <th>25/2/2022</th>\n",
       "      <td>1.11903</td>\n",
       "      <td>1.12735</td>\n",
       "      <td>1.11651</td>\n",
       "      <td>1.12700</td>\n",
       "    </tr>\n",
       "    <tr>\n",
       "      <th>28/2/2022</th>\n",
       "      <td>1.11496</td>\n",
       "      <td>1.11876</td>\n",
       "      <td>1.11418</td>\n",
       "      <td>1.11785</td>\n",
       "    </tr>\n",
       "  </tbody>\n",
       "</table>\n",
       "<p>2656 rows × 4 columns</p>\n",
       "</div>"
      ],
      "text/plain": [
       "              Open     High      Low    Close\n",
       "Date                                         \n",
       "23/3/2012  1.31994  1.32928  1.31898  1.32647\n",
       "24/3/2012  1.32647  1.32647  1.32647  1.32647\n",
       "25/3/2012  1.32677  1.32687  1.32595  1.32680\n",
       "26/3/2012  1.32700  1.33670  1.31917  1.33580\n",
       "27/3/2012  1.33583  1.33847  1.33120  1.33128\n",
       "...            ...      ...      ...      ...\n",
       "22/2/2022  1.13088  1.13662  1.12871  1.13254\n",
       "23/2/2022  1.13217  1.13584  1.13005  1.13038\n",
       "24/2/2022  1.13030  1.13080  1.11056  1.11928\n",
       "25/2/2022  1.11903  1.12735  1.11651  1.12700\n",
       "28/2/2022  1.11496  1.11876  1.11418  1.11785\n",
       "\n",
       "[2656 rows x 4 columns]"
      ]
     },
     "execution_count": 13,
     "metadata": {},
     "output_type": "execute_result"
    }
   ],
   "source": [
    "# IMPORT\n",
    "file = './EURUSD.csv'\n",
    "df = pd.read_csv(file)\n",
    "df.set_index(['Date'])"
   ]
  },
  {
   "cell_type": "code",
   "execution_count": 14,
   "id": "bba7e5f2",
   "metadata": {},
   "outputs": [
    {
     "data": {
      "image/png": "[encoded data removed]",
      "text/plain": [
       "<Figure size 1080x504 with 1 Axes>"
      ]
     },
     "metadata": {
      "needs_background": "light"
     },
     "output_type": "display_data"
    }
   ],
   "source": [
    "df.Close.plot(figsize=(15,7))\n",
    "plt.xlabel('Date')\n",
    "plt.ylabel('Price')\n",
    "plt.title('EURUSD')\n",
    "plt.grid()\n",
    "plt.show()"
   ]
  },
  {
   "cell_type": "code",
   "execution_count": 15,
   "id": "b1e2a52d",
   "metadata": {},
   "outputs": [
    {
     "data": {
      "text/html": [
       "<div>\n",
       "<style scoped>\n",
       "    .dataframe tbody tr th:only-of-type {\n",
       "        vertical-align: middle;\n",
       "    }\n",
       "\n",
       "    .dataframe tbody tr th {\n",
       "        vertical-align: top;\n",
       "    }\n",
       "\n",
       "    .dataframe thead th {\n",
       "        text-align: right;\n",
       "    }\n",
       "</style>\n",
       "<table border=\"1\" class=\"dataframe\">\n",
       "  <thead>\n",
       "    <tr style=\"text-align: right;\">\n",
       "      <th></th>\n",
       "      <th>Date</th>\n",
       "      <th>Open</th>\n",
       "      <th>High</th>\n",
       "      <th>Low</th>\n",
       "      <th>Close</th>\n",
       "    </tr>\n",
       "  </thead>\n",
       "  <tbody>\n",
       "    <tr>\n",
       "      <th>0</th>\n",
       "      <td>23/3/2012</td>\n",
       "      <td>1.31994</td>\n",
       "      <td>1.32928</td>\n",
       "      <td>1.31898</td>\n",
       "      <td>1.32647</td>\n",
       "    </tr>\n",
       "    <tr>\n",
       "      <th>1</th>\n",
       "      <td>24/3/2012</td>\n",
       "      <td>1.32647</td>\n",
       "      <td>1.32647</td>\n",
       "      <td>1.32647</td>\n",
       "      <td>1.32647</td>\n",
       "    </tr>\n",
       "    <tr>\n",
       "      <th>2</th>\n",
       "      <td>25/3/2012</td>\n",
       "      <td>1.32677</td>\n",
       "      <td>1.32687</td>\n",
       "      <td>1.32595</td>\n",
       "      <td>1.32680</td>\n",
       "    </tr>\n",
       "    <tr>\n",
       "      <th>3</th>\n",
       "      <td>26/3/2012</td>\n",
       "      <td>1.32700</td>\n",
       "      <td>1.33670</td>\n",
       "      <td>1.31917</td>\n",
       "      <td>1.33580</td>\n",
       "    </tr>\n",
       "    <tr>\n",
       "      <th>4</th>\n",
       "      <td>27/3/2012</td>\n",
       "      <td>1.33583</td>\n",
       "      <td>1.33847</td>\n",
       "      <td>1.33120</td>\n",
       "      <td>1.33128</td>\n",
       "    </tr>\n",
       "    <tr>\n",
       "      <th>...</th>\n",
       "      <td>...</td>\n",
       "      <td>...</td>\n",
       "      <td>...</td>\n",
       "      <td>...</td>\n",
       "      <td>...</td>\n",
       "    </tr>\n",
       "    <tr>\n",
       "      <th>2651</th>\n",
       "      <td>22/2/2022</td>\n",
       "      <td>1.13088</td>\n",
       "      <td>1.13662</td>\n",
       "      <td>1.12871</td>\n",
       "      <td>1.13254</td>\n",
       "    </tr>\n",
       "    <tr>\n",
       "      <th>2652</th>\n",
       "      <td>23/2/2022</td>\n",
       "      <td>1.13217</td>\n",
       "      <td>1.13584</td>\n",
       "      <td>1.13005</td>\n",
       "      <td>1.13038</td>\n",
       "    </tr>\n",
       "    <tr>\n",
       "      <th>2653</th>\n",
       "      <td>24/2/2022</td>\n",
       "      <td>1.13030</td>\n",
       "      <td>1.13080</td>\n",
       "      <td>1.11056</td>\n",
       "      <td>1.11928</td>\n",
       "    </tr>\n",
       "    <tr>\n",
       "      <th>2654</th>\n",
       "      <td>25/2/2022</td>\n",
       "      <td>1.11903</td>\n",
       "      <td>1.12735</td>\n",
       "      <td>1.11651</td>\n",
       "      <td>1.12700</td>\n",
       "    </tr>\n",
       "    <tr>\n",
       "      <th>2655</th>\n",
       "      <td>28/2/2022</td>\n",
       "      <td>1.11496</td>\n",
       "      <td>1.11876</td>\n",
       "      <td>1.11418</td>\n",
       "      <td>1.11785</td>\n",
       "    </tr>\n",
       "  </tbody>\n",
       "</table>\n",
       "<p>2656 rows × 5 columns</p>\n",
       "</div>"
      ],
      "text/plain": [
       "           Date     Open     High      Low    Close\n",
       "0     23/3/2012  1.31994  1.32928  1.31898  1.32647\n",
       "1     24/3/2012  1.32647  1.32647  1.32647  1.32647\n",
       "2     25/3/2012  1.32677  1.32687  1.32595  1.32680\n",
       "3     26/3/2012  1.32700  1.33670  1.31917  1.33580\n",
       "4     27/3/2012  1.33583  1.33847  1.33120  1.33128\n",
       "...         ...      ...      ...      ...      ...\n",
       "2651  22/2/2022  1.13088  1.13662  1.12871  1.13254\n",
       "2652  23/2/2022  1.13217  1.13584  1.13005  1.13038\n",
       "2653  24/2/2022  1.13030  1.13080  1.11056  1.11928\n",
       "2654  25/2/2022  1.11903  1.12735  1.11651  1.12700\n",
       "2655  28/2/2022  1.11496  1.11876  1.11418  1.11785\n",
       "\n",
       "[2656 rows x 5 columns]"
      ]
     },
     "execution_count": 15,
     "metadata": {},
     "output_type": "execute_result"
    }
   ],
   "source": [
    "df"
   ]
  },
  {
   "cell_type": "code",
   "execution_count": 20,
   "id": "f561a652",
   "metadata": {},
   "outputs": [
    {
     "data": {
      "text/html": [
       "<div>\n",
       "<style scoped>\n",
       "    .dataframe tbody tr th:only-of-type {\n",
       "        vertical-align: middle;\n",
       "    }\n",
       "\n",
       "    .dataframe tbody tr th {\n",
       "        vertical-align: top;\n",
       "    }\n",
       "\n",
       "    .dataframe thead th {\n",
       "        text-align: right;\n",
       "    }\n",
       "</style>\n",
       "<table border=\"1\" class=\"dataframe\">\n",
       "  <thead>\n",
       "    <tr style=\"text-align: right;\">\n",
       "      <th></th>\n",
       "      <th>Date</th>\n",
       "      <th>Open</th>\n",
       "      <th>High</th>\n",
       "      <th>Low</th>\n",
       "      <th>Close</th>\n",
       "      <th>RSI</th>\n",
       "      <th>DIFF1</th>\n",
       "      <th>DIFF2</th>\n",
       "      <th>DIFF3</th>\n",
       "      <th>DIFF4</th>\n",
       "      <th>Trend</th>\n",
       "    </tr>\n",
       "  </thead>\n",
       "  <tbody>\n",
       "    <tr>\n",
       "      <th>2651</th>\n",
       "      <td>22/2/2022</td>\n",
       "      <td>1.13088</td>\n",
       "      <td>1.13662</td>\n",
       "      <td>1.12871</td>\n",
       "      <td>1.13254</td>\n",
       "      <td>48.021075</td>\n",
       "      <td>0.00164</td>\n",
       "      <td>0.00054</td>\n",
       "      <td>-0.00359</td>\n",
       "      <td>-0.00472</td>\n",
       "      <td>0</td>\n",
       "    </tr>\n",
       "    <tr>\n",
       "      <th>2652</th>\n",
       "      <td>23/2/2022</td>\n",
       "      <td>1.13217</td>\n",
       "      <td>1.13584</td>\n",
       "      <td>1.13005</td>\n",
       "      <td>1.13038</td>\n",
       "      <td>45.748745</td>\n",
       "      <td>-0.00216</td>\n",
       "      <td>-0.00052</td>\n",
       "      <td>-0.00162</td>\n",
       "      <td>-0.00575</td>\n",
       "      <td>0</td>\n",
       "    </tr>\n",
       "    <tr>\n",
       "      <th>2653</th>\n",
       "      <td>24/2/2022</td>\n",
       "      <td>1.13030</td>\n",
       "      <td>1.13080</td>\n",
       "      <td>1.11056</td>\n",
       "      <td>1.11928</td>\n",
       "      <td>36.254590</td>\n",
       "      <td>-0.01110</td>\n",
       "      <td>-0.01326</td>\n",
       "      <td>-0.01162</td>\n",
       "      <td>-0.01272</td>\n",
       "      <td>1</td>\n",
       "    </tr>\n",
       "    <tr>\n",
       "      <th>2654</th>\n",
       "      <td>25/2/2022</td>\n",
       "      <td>1.11903</td>\n",
       "      <td>1.12735</td>\n",
       "      <td>1.11651</td>\n",
       "      <td>1.12700</td>\n",
       "      <td>44.830072</td>\n",
       "      <td>0.00772</td>\n",
       "      <td>-0.00338</td>\n",
       "      <td>-0.00554</td>\n",
       "      <td>-0.00390</td>\n",
       "      <td>0</td>\n",
       "    </tr>\n",
       "    <tr>\n",
       "      <th>2655</th>\n",
       "      <td>28/2/2022</td>\n",
       "      <td>1.11496</td>\n",
       "      <td>1.11876</td>\n",
       "      <td>1.11418</td>\n",
       "      <td>1.11785</td>\n",
       "      <td>38.260349</td>\n",
       "      <td>-0.00915</td>\n",
       "      <td>-0.00143</td>\n",
       "      <td>-0.01253</td>\n",
       "      <td>-0.01469</td>\n",
       "      <td>0</td>\n",
       "    </tr>\n",
       "  </tbody>\n",
       "</table>\n",
       "</div>"
      ],
      "text/plain": [
       "           Date     Open     High      Low    Close        RSI    DIFF1  \\\n",
       "2651  22/2/2022  1.13088  1.13662  1.12871  1.13254  48.021075  0.00164   \n",
       "2652  23/2/2022  1.13217  1.13584  1.13005  1.13038  45.748745 -0.00216   \n",
       "2653  24/2/2022  1.13030  1.13080  1.11056  1.11928  36.254590 -0.01110   \n",
       "2654  25/2/2022  1.11903  1.12735  1.11651  1.12700  44.830072  0.00772   \n",
       "2655  28/2/2022  1.11496  1.11876  1.11418  1.11785  38.260349 -0.00915   \n",
       "\n",
       "        DIFF2    DIFF3    DIFF4  Trend  \n",
       "2651  0.00054 -0.00359 -0.00472      0  \n",
       "2652 -0.00052 -0.00162 -0.00575      0  \n",
       "2653 -0.01326 -0.01162 -0.01272      1  \n",
       "2654 -0.00338 -0.00554 -0.00390      0  \n",
       "2655 -0.00143 -0.01253 -0.01469      0  "
      ]
     },
     "execution_count": 20,
     "metadata": {},
     "output_type": "execute_result"
    }
   ],
   "source": [
    "# Create Predictors\n",
    "\n",
    "import talib as ta\n",
    "df['RSI'] = ta.RSI(df['Close'].values, timeperiod=14)\n",
    "df['DIFF1'] = df['Close'].diff().values  # Close Price Difference between today and yesterday\n",
    "df['DIFF2'] = df['Close'].diff(2).values # Close Price Difference between today and 2 days before\n",
    "df['DIFF3'] = df['Close'].diff(3).values # Close Price Difference between today and 3 days before\n",
    "df['DIFF4'] = df['Close'].diff(4).values # Close Price Difference between today and 4 days before\n",
    "\n",
    "df.tail()"
   ]
  },
  {
   "cell_type": "code",
   "execution_count": 21,
   "id": "8d4327e7",
   "metadata": {},
   "outputs": [
    {
     "data": {
      "text/html": [
       "<div>\n",
       "<style scoped>\n",
       "    .dataframe tbody tr th:only-of-type {\n",
       "        vertical-align: middle;\n",
       "    }\n",
       "\n",
       "    .dataframe tbody tr th {\n",
       "        vertical-align: top;\n",
       "    }\n",
       "\n",
       "    .dataframe thead th {\n",
       "        text-align: right;\n",
       "    }\n",
       "</style>\n",
       "<table border=\"1\" class=\"dataframe\">\n",
       "  <thead>\n",
       "    <tr style=\"text-align: right;\">\n",
       "      <th></th>\n",
       "      <th>Date</th>\n",
       "      <th>Open</th>\n",
       "      <th>High</th>\n",
       "      <th>Low</th>\n",
       "      <th>Close</th>\n",
       "      <th>RSI</th>\n",
       "      <th>DIFF1</th>\n",
       "      <th>DIFF2</th>\n",
       "      <th>DIFF3</th>\n",
       "      <th>DIFF4</th>\n",
       "      <th>Trend</th>\n",
       "    </tr>\n",
       "  </thead>\n",
       "  <tbody>\n",
       "    <tr>\n",
       "      <th>14</th>\n",
       "      <td>06/4/2012</td>\n",
       "      <td>1.30647</td>\n",
       "      <td>1.31118</td>\n",
       "      <td>1.30465</td>\n",
       "      <td>1.30914</td>\n",
       "      <td>NaN</td>\n",
       "      <td>NaN</td>\n",
       "      <td>NaN</td>\n",
       "      <td>NaN</td>\n",
       "      <td>NaN</td>\n",
       "      <td>0</td>\n",
       "    </tr>\n",
       "    <tr>\n",
       "      <th>15</th>\n",
       "      <td>07/4/2012</td>\n",
       "      <td>1.30887</td>\n",
       "      <td>1.30887</td>\n",
       "      <td>1.30887</td>\n",
       "      <td>1.30887</td>\n",
       "      <td>NaN</td>\n",
       "      <td>-0.00027</td>\n",
       "      <td>NaN</td>\n",
       "      <td>NaN</td>\n",
       "      <td>NaN</td>\n",
       "      <td>1</td>\n",
       "    </tr>\n",
       "    <tr>\n",
       "      <th>16</th>\n",
       "      <td>08/4/2012</td>\n",
       "      <td>1.30914</td>\n",
       "      <td>1.30988</td>\n",
       "      <td>1.30890</td>\n",
       "      <td>1.30979</td>\n",
       "      <td>NaN</td>\n",
       "      <td>0.00092</td>\n",
       "      <td>0.00065</td>\n",
       "      <td>NaN</td>\n",
       "      <td>NaN</td>\n",
       "      <td>1</td>\n",
       "    </tr>\n",
       "    <tr>\n",
       "      <th>17</th>\n",
       "      <td>09/4/2012</td>\n",
       "      <td>1.30975</td>\n",
       "      <td>1.31332</td>\n",
       "      <td>1.30330</td>\n",
       "      <td>1.31049</td>\n",
       "      <td>NaN</td>\n",
       "      <td>0.00070</td>\n",
       "      <td>0.00162</td>\n",
       "      <td>0.00135</td>\n",
       "      <td>NaN</td>\n",
       "      <td>0</td>\n",
       "    </tr>\n",
       "    <tr>\n",
       "      <th>18</th>\n",
       "      <td>10/4/2012</td>\n",
       "      <td>1.31046</td>\n",
       "      <td>1.31440</td>\n",
       "      <td>1.30538</td>\n",
       "      <td>1.30809</td>\n",
       "      <td>NaN</td>\n",
       "      <td>-0.00240</td>\n",
       "      <td>-0.00170</td>\n",
       "      <td>-0.00078</td>\n",
       "      <td>-0.00105</td>\n",
       "      <td>1</td>\n",
       "    </tr>\n",
       "    <tr>\n",
       "      <th>19</th>\n",
       "      <td>11/4/2012</td>\n",
       "      <td>1.30811</td>\n",
       "      <td>1.31562</td>\n",
       "      <td>1.30660</td>\n",
       "      <td>1.31087</td>\n",
       "      <td>NaN</td>\n",
       "      <td>0.00278</td>\n",
       "      <td>0.00038</td>\n",
       "      <td>0.00108</td>\n",
       "      <td>0.00200</td>\n",
       "      <td>1</td>\n",
       "    </tr>\n",
       "    <tr>\n",
       "      <th>20</th>\n",
       "      <td>12/4/2012</td>\n",
       "      <td>1.31089</td>\n",
       "      <td>1.32121</td>\n",
       "      <td>1.31018</td>\n",
       "      <td>1.31868</td>\n",
       "      <td>NaN</td>\n",
       "      <td>0.00781</td>\n",
       "      <td>0.01059</td>\n",
       "      <td>0.00819</td>\n",
       "      <td>0.00889</td>\n",
       "      <td>0</td>\n",
       "    </tr>\n",
       "    <tr>\n",
       "      <th>21</th>\n",
       "      <td>13/4/2012</td>\n",
       "      <td>1.31865</td>\n",
       "      <td>1.32004</td>\n",
       "      <td>1.30676</td>\n",
       "      <td>1.30724</td>\n",
       "      <td>NaN</td>\n",
       "      <td>-0.01144</td>\n",
       "      <td>-0.00363</td>\n",
       "      <td>-0.00085</td>\n",
       "      <td>-0.00325</td>\n",
       "      <td>0</td>\n",
       "    </tr>\n",
       "    <tr>\n",
       "      <th>22</th>\n",
       "      <td>14/4/2012</td>\n",
       "      <td>1.30724</td>\n",
       "      <td>1.30754</td>\n",
       "      <td>1.30724</td>\n",
       "      <td>1.30724</td>\n",
       "      <td>NaN</td>\n",
       "      <td>0.00000</td>\n",
       "      <td>-0.01144</td>\n",
       "      <td>-0.00363</td>\n",
       "      <td>-0.00085</td>\n",
       "      <td>0</td>\n",
       "    </tr>\n",
       "    <tr>\n",
       "      <th>23</th>\n",
       "      <td>15/4/2012</td>\n",
       "      <td>1.30774</td>\n",
       "      <td>1.30836</td>\n",
       "      <td>1.30583</td>\n",
       "      <td>1.30623</td>\n",
       "      <td>NaN</td>\n",
       "      <td>-0.00101</td>\n",
       "      <td>-0.00101</td>\n",
       "      <td>-0.01245</td>\n",
       "      <td>-0.00464</td>\n",
       "      <td>1</td>\n",
       "    </tr>\n",
       "    <tr>\n",
       "      <th>24</th>\n",
       "      <td>16/4/2012</td>\n",
       "      <td>1.30628</td>\n",
       "      <td>1.31472</td>\n",
       "      <td>1.29947</td>\n",
       "      <td>1.31410</td>\n",
       "      <td>NaN</td>\n",
       "      <td>0.00787</td>\n",
       "      <td>0.00686</td>\n",
       "      <td>0.00686</td>\n",
       "      <td>-0.00458</td>\n",
       "      <td>0</td>\n",
       "    </tr>\n",
       "    <tr>\n",
       "      <th>25</th>\n",
       "      <td>17/4/2012</td>\n",
       "      <td>1.31413</td>\n",
       "      <td>1.31720</td>\n",
       "      <td>1.30901</td>\n",
       "      <td>1.31257</td>\n",
       "      <td>NaN</td>\n",
       "      <td>-0.00153</td>\n",
       "      <td>0.00634</td>\n",
       "      <td>0.00533</td>\n",
       "      <td>0.00533</td>\n",
       "      <td>0</td>\n",
       "    </tr>\n",
       "    <tr>\n",
       "      <th>26</th>\n",
       "      <td>18/4/2012</td>\n",
       "      <td>1.31260</td>\n",
       "      <td>1.31407</td>\n",
       "      <td>1.30575</td>\n",
       "      <td>1.31221</td>\n",
       "      <td>NaN</td>\n",
       "      <td>-0.00036</td>\n",
       "      <td>-0.00189</td>\n",
       "      <td>0.00598</td>\n",
       "      <td>0.00497</td>\n",
       "      <td>1</td>\n",
       "    </tr>\n",
       "    <tr>\n",
       "      <th>27</th>\n",
       "      <td>19/4/2012</td>\n",
       "      <td>1.31223</td>\n",
       "      <td>1.31653</td>\n",
       "      <td>1.30691</td>\n",
       "      <td>1.31369</td>\n",
       "      <td>NaN</td>\n",
       "      <td>0.00148</td>\n",
       "      <td>0.00112</td>\n",
       "      <td>-0.00041</td>\n",
       "      <td>0.00746</td>\n",
       "      <td>1</td>\n",
       "    </tr>\n",
       "    <tr>\n",
       "      <th>28</th>\n",
       "      <td>20/4/2012</td>\n",
       "      <td>1.31367</td>\n",
       "      <td>1.32240</td>\n",
       "      <td>1.31284</td>\n",
       "      <td>1.32145</td>\n",
       "      <td>63.285128</td>\n",
       "      <td>0.00776</td>\n",
       "      <td>0.00924</td>\n",
       "      <td>0.00888</td>\n",
       "      <td>0.00735</td>\n",
       "      <td>0</td>\n",
       "    </tr>\n",
       "  </tbody>\n",
       "</table>\n",
       "</div>"
      ],
      "text/plain": [
       "         Date     Open     High      Low    Close        RSI    DIFF1  \\\n",
       "14  06/4/2012  1.30647  1.31118  1.30465  1.30914        NaN      NaN   \n",
       "15  07/4/2012  1.30887  1.30887  1.30887  1.30887        NaN -0.00027   \n",
       "16  08/4/2012  1.30914  1.30988  1.30890  1.30979        NaN  0.00092   \n",
       "17  09/4/2012  1.30975  1.31332  1.30330  1.31049        NaN  0.00070   \n",
       "18  10/4/2012  1.31046  1.31440  1.30538  1.30809        NaN -0.00240   \n",
       "19  11/4/2012  1.30811  1.31562  1.30660  1.31087        NaN  0.00278   \n",
       "20  12/4/2012  1.31089  1.32121  1.31018  1.31868        NaN  0.00781   \n",
       "21  13/4/2012  1.31865  1.32004  1.30676  1.30724        NaN -0.01144   \n",
       "22  14/4/2012  1.30724  1.30754  1.30724  1.30724        NaN  0.00000   \n",
       "23  15/4/2012  1.30774  1.30836  1.30583  1.30623        NaN -0.00101   \n",
       "24  16/4/2012  1.30628  1.31472  1.29947  1.31410        NaN  0.00787   \n",
       "25  17/4/2012  1.31413  1.31720  1.30901  1.31257        NaN -0.00153   \n",
       "26  18/4/2012  1.31260  1.31407  1.30575  1.31221        NaN -0.00036   \n",
       "27  19/4/2012  1.31223  1.31653  1.30691  1.31369        NaN  0.00148   \n",
       "28  20/4/2012  1.31367  1.32240  1.31284  1.32145  63.285128  0.00776   \n",
       "\n",
       "      DIFF2    DIFF3    DIFF4  Trend  \n",
       "14      NaN      NaN      NaN      0  \n",
       "15      NaN      NaN      NaN      1  \n",
       "16  0.00065      NaN      NaN      1  \n",
       "17  0.00162  0.00135      NaN      0  \n",
       "18 -0.00170 -0.00078 -0.00105      1  \n",
       "19  0.00038  0.00108  0.00200      1  \n",
       "20  0.01059  0.00819  0.00889      0  \n",
       "21 -0.00363 -0.00085 -0.00325      0  \n",
       "22 -0.01144 -0.00363 -0.00085      0  \n",
       "23 -0.00101 -0.01245 -0.00464      1  \n",
       "24  0.00686  0.00686 -0.00458      0  \n",
       "25  0.00634  0.00533  0.00533      0  \n",
       "26 -0.00189  0.00598  0.00497      1  \n",
       "27  0.00112 -0.00041  0.00746      1  \n",
       "28  0.00924  0.00888  0.00735      0  "
      ]
     },
     "execution_count": 21,
     "metadata": {},
     "output_type": "execute_result"
    }
   ],
   "source": [
    "# Creates Target\n",
    "\n",
    "df['Trend'] = np.where(df.Close.shift(-1) > df.Close, 1, 0)\n",
    "df.head(15)"
   ]
  },
  {
   "cell_type": "code",
   "execution_count": 18,
   "id": "7652975a",
   "metadata": {},
   "outputs": [
    {
     "data": {
      "text/plain": [
       "2651    0\n",
       "2652    0\n",
       "2653    1\n",
       "2654    0\n",
       "2655    0\n",
       "Name: Trend, dtype: int32"
      ]
     },
     "execution_count": 18,
     "metadata": {},
     "output_type": "execute_result"
    }
   ],
   "source": [
    "df.dropna(inplace=True)\n",
    "predictors_list = ['RSI','DIFF1','DIFF2','DIFF3','DIFF4']\n",
    "X = df[predictors_list]\n",
    "y = df.Trend\n",
    "\n",
    "y.tail()"
   ]
  },
  {
   "cell_type": "markdown",
   "id": "06195c1d",
   "metadata": {},
   "source": [
    "# Train-Test-Split"
   ]
  },
  {
   "cell_type": "code",
   "execution_count": 23,
   "id": "71c4caec",
   "metadata": {},
   "outputs": [
    {
     "name": "stdout",
     "output_type": "stream",
     "text": [
      "(1849, 5) (1849,)\n",
      "(793, 5) (793,)\n"
     ]
    }
   ],
   "source": [
    "from sklearn.model_selection import train_test_split\n",
    "X_train, X_test, y_train, y_test = train_test_split(X, y, test_size=0.3, random_state=42, stratify=y)\n",
    "\n",
    "print(X_train.shape, y_train.shape)\n",
    "print(X_test.shape, y_test.shape)"
   ]
  },
  {
   "cell_type": "markdown",
   "id": "8b142333",
   "metadata": {},
   "source": [
    "# 1) Naive Bayes"
   ]
  },
  {
   "cell_type": "code",
   "execution_count": 45,
   "id": "5f371621",
   "metadata": {},
   "outputs": [
    {
     "data": {
      "text/plain": [
       "0.5548549810844893"
      ]
     },
     "execution_count": 45,
     "metadata": {},
     "output_type": "execute_result"
    }
   ],
   "source": [
    "from sklearn.naive_bayes import GaussianNB\n",
    "gnb = GaussianNB()\n",
    "gnb.fit(X_train, y_train)\n",
    "gnb.score(X_test, y_test)"
   ]
  },
  {
   "cell_type": "code",
   "execution_count": 46,
   "id": "a7a85397",
   "metadata": {},
   "outputs": [],
   "source": [
    "y_pred = gnb.predict(X_test)"
   ]
  },
  {
   "cell_type": "code",
   "execution_count": 47,
   "id": "1c2bd9c4",
   "metadata": {},
   "outputs": [
    {
     "name": "stdout",
     "output_type": "stream",
     "text": [
      "Accuracy: 0.5548549810844893\n",
      "F1 score: 0.6073414905450502\n",
      "Recall: 0.7036082474226805\n",
      "Precision: 0.5342465753424658\n",
      "\n",
      " clasification report:\n",
      "               precision    recall  f1-score   support\n",
      "\n",
      "           0       0.59      0.41      0.49       405\n",
      "           1       0.53      0.70      0.61       388\n",
      "\n",
      "    accuracy                           0.55       793\n",
      "   macro avg       0.56      0.56      0.55       793\n",
      "weighted avg       0.56      0.55      0.55       793\n",
      "\n",
      "\n",
      " confussion matrix:\n",
      " [[167 238]\n",
      " [115 273]]\n"
     ]
    }
   ],
   "source": [
    "from sklearn.metrics import precision_score, \\\n",
    "    recall_score, confusion_matrix, classification_report, \\\n",
    "    accuracy_score, f1_score\n",
    "\n",
    "print ('Accuracy:', accuracy_score(y_test, y_pred))\n",
    "print ('F1 score:', f1_score(y_test, y_pred))\n",
    "print ('Recall:', recall_score(y_test, y_pred))\n",
    "print ('Precision:', precision_score(y_test, y_pred))\n",
    "print ('\\n clasification report:\\n', classification_report(y_test, y_pred))\n",
    "print ('\\n confussion matrix:\\n',confusion_matrix(y_test, y_pred))"
   ]
  },
  {
   "cell_type": "markdown",
   "id": "c92c10da",
   "metadata": {},
   "source": [
    "# 2) Decision Trees"
   ]
  },
  {
   "cell_type": "code",
   "execution_count": 48,
   "id": "0f36689d",
   "metadata": {},
   "outputs": [
    {
     "data": {
      "text/plain": [
       "DecisionTreeClassifier(max_depth=3, min_samples_leaf=5)"
      ]
     },
     "execution_count": 48,
     "metadata": {},
     "output_type": "execute_result"
    }
   ],
   "source": [
    "from sklearn.tree import DecisionTreeClassifier\n",
    "clf = DecisionTreeClassifier(criterion='gini', max_depth=3, min_samples_leaf=5)\n",
    "clf"
   ]
  },
  {
   "cell_type": "code",
   "execution_count": 49,
   "id": "14b51371",
   "metadata": {},
   "outputs": [],
   "source": [
    "clf = clf.fit(X_train, y_train)"
   ]
  },
  {
   "cell_type": "code",
   "execution_count": 50,
   "id": "414e3d1c",
   "metadata": {},
   "outputs": [
    {
     "data": {
      "text/plain": [
       "[Text(494.5909090909091, 332.955, 'X[4] <= 0.031\\ngini = 0.5\\nsamples = 1849\\nvalue = [944, 905]'),\n",
       " Text(304.3636363636364, 237.825, 'X[1] <= -0.009\\ngini = 0.5\\nsamples = 1838\\nvalue = [934, 904]'),\n",
       " Text(152.1818181818182, 142.695, 'X[2] <= -0.006\\ngini = 0.478\\nsamples = 101\\nvalue = [61, 40]'),\n",
       " Text(76.0909090909091, 47.565, 'gini = 0.45\\nsamples = 79\\nvalue = [52, 27]'),\n",
       " Text(228.27272727272728, 47.565, 'gini = 0.483\\nsamples = 22\\nvalue = [9, 13]'),\n",
       " Text(456.54545454545456, 142.695, 'X[1] <= -0.006\\ngini = 0.5\\nsamples = 1737\\nvalue = [873, 864]'),\n",
       " Text(380.4545454545455, 47.565, 'gini = 0.48\\nsamples = 110\\nvalue = [44, 66]'),\n",
       " Text(532.6363636363636, 47.565, 'gini = 0.5\\nsamples = 1627\\nvalue = [829, 798]'),\n",
       " Text(684.8181818181819, 237.825, 'X[0] <= 62.745\\ngini = 0.165\\nsamples = 11\\nvalue = [10, 1]'),\n",
       " Text(608.7272727272727, 142.695, 'gini = 0.32\\nsamples = 5\\nvalue = [4, 1]'),\n",
       " Text(760.909090909091, 142.695, 'gini = 0.0\\nsamples = 6\\nvalue = [6, 0]')]"
      ]
     },
     "execution_count": 50,
     "metadata": {},
     "output_type": "execute_result"
    },
    {
     "data": {
      "image/png": "[encoded data removed]",
      "text/plain": [
       "<Figure size 1080x504 with 1 Axes>"
      ]
     },
     "metadata": {
      "needs_background": "light"
     },
     "output_type": "display_data"
    }
   ],
   "source": [
    "from sklearn import tree\n",
    "plt.figure(figsize=(15,7))\n",
    "tree.plot_tree(clf)"
   ]
  },
  {
   "cell_type": "code",
   "execution_count": 51,
   "id": "f17a73de",
   "metadata": {},
   "outputs": [],
   "source": [
    "y_pred = clf.predict(X_test)"
   ]
  },
  {
   "cell_type": "code",
   "execution_count": 52,
   "id": "2302dec0",
   "metadata": {},
   "outputs": [
    {
     "name": "stdout",
     "output_type": "stream",
     "text": [
      "Accuracy: 0.5145018915510718\n",
      "F1 score: 0.12300683371298406\n",
      "Recall: 0.06958762886597938\n",
      "Precision: 0.5294117647058824\n",
      "\n",
      " clasification report:\n",
      "               precision    recall  f1-score   support\n",
      "\n",
      "           0       0.51      0.94      0.66       405\n",
      "           1       0.53      0.07      0.12       388\n",
      "\n",
      "    accuracy                           0.51       793\n",
      "   macro avg       0.52      0.51      0.39       793\n",
      "weighted avg       0.52      0.51      0.40       793\n",
      "\n",
      "\n",
      " confussion matrix:\n",
      " [[381  24]\n",
      " [361  27]]\n"
     ]
    }
   ],
   "source": [
    "from sklearn.metrics import precision_score, \\\n",
    "    recall_score, confusion_matrix, classification_report, \\\n",
    "    accuracy_score, f1_score\n",
    "\n",
    "print ('Accuracy:', accuracy_score(y_test, y_pred))\n",
    "print ('F1 score:', f1_score(y_test, y_pred))\n",
    "print ('Recall:', recall_score(y_test, y_pred))\n",
    "print ('Precision:', precision_score(y_test, y_pred))\n",
    "print ('\\n clasification report:\\n', classification_report(y_test, y_pred))\n",
    "print ('\\n confussion matrix:\\n',confusion_matrix(y_test, y_pred))"
   ]
  },
  {
   "cell_type": "markdown",
   "id": "7654db39",
   "metadata": {},
   "source": [
    "# 3) Random Forest"
   ]
  },
  {
   "cell_type": "code",
   "execution_count": 53,
   "id": "8921201e",
   "metadata": {},
   "outputs": [],
   "source": [
    "from sklearn.ensemble import RandomForestClassifier\n",
    "clf_rf = RandomForestClassifier(max_depth=2, random_state=0)"
   ]
  },
  {
   "cell_type": "code",
   "execution_count": 54,
   "id": "8bcb8f73",
   "metadata": {},
   "outputs": [
    {
     "data": {
      "text/plain": [
       "0.5271122320302648"
      ]
     },
     "execution_count": 54,
     "metadata": {},
     "output_type": "execute_result"
    }
   ],
   "source": [
    "clf_rf.fit(X_train, y_train)\n",
    "clf_rf.score(X_test, y_test)"
   ]
  },
  {
   "cell_type": "code",
   "execution_count": 55,
   "id": "03dfb1d3",
   "metadata": {},
   "outputs": [],
   "source": [
    "y_pred = clf_rf.predict(X_test)"
   ]
  },
  {
   "cell_type": "code",
   "execution_count": 56,
   "id": "dbbc47a7",
   "metadata": {},
   "outputs": [
    {
     "name": "stdout",
     "output_type": "stream",
     "text": [
      "Accuracy: 0.5271122320302648\n",
      "F1 score: 0.33628318584070793\n",
      "Recall: 0.24484536082474226\n",
      "Precision: 0.536723163841808\n",
      "\n",
      " clasification report:\n",
      "               precision    recall  f1-score   support\n",
      "\n",
      "           0       0.52      0.80      0.63       405\n",
      "           1       0.54      0.24      0.34       388\n",
      "\n",
      "    accuracy                           0.53       793\n",
      "   macro avg       0.53      0.52      0.48       793\n",
      "weighted avg       0.53      0.53      0.49       793\n",
      "\n",
      "\n",
      " confussion matrix:\n",
      " [[323  82]\n",
      " [293  95]]\n"
     ]
    }
   ],
   "source": [
    "from sklearn.metrics import precision_score, \\\n",
    "    recall_score, confusion_matrix, classification_report, \\\n",
    "    accuracy_score, f1_score\n",
    "\n",
    "print ('Accuracy:', accuracy_score(y_test, y_pred))\n",
    "print ('F1 score:', f1_score(y_test, y_pred))\n",
    "print ('Recall:', recall_score(y_test, y_pred))\n",
    "print ('Precision:', precision_score(y_test, y_pred))\n",
    "print ('\\n clasification report:\\n', classification_report(y_test, y_pred))\n",
    "print ('\\n confussion matrix:\\n',confusion_matrix(y_test, y_pred))"
   ]
  },
  {
   "cell_type": "code",
   "execution_count": null,
   "id": "9185cd17",
   "metadata": {},
   "outputs": [],
   "source": []
  }
 ],
 "metadata": {
  "kernelspec": {
   "display_name": "Python 3 (ipykernel)",
   "language": "python",
   "name": "python3"
  },
  "language_info": {
   "codemirror_mode": {
    "name": "ipython",
    "version": 3
   },
   "file_extension": ".py",
   "mimetype": "text/x-python",
   "name": "python",
   "nbconvert_exporter": "python",
   "pygments_lexer": "ipython3",
   "version": "3.9.7"
  }
 },
 "nbformat": 4,
 "nbformat_minor": 5
}
